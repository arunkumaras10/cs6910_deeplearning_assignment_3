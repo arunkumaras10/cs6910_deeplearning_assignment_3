{
  "nbformat": 4,
  "nbformat_minor": 0,
  "metadata": {
    "colab": {
      "name": "rnn_sweep.ipynb",
      "provenance": [],
      "collapsed_sections": []
    },
    "kernelspec": {
      "name": "python3",
      "display_name": "Python 3"
    },
    "language_info": {
      "name": "python"
    },
    "accelerator": "GPU",
    "widgets": {
      "application/vnd.jupyter.widget-state+json": {
        "ee224b739bac40fb977bfc9022c88b03": {
          "model_module": "@jupyter-widgets/controls",
          "model_name": "VBoxModel",
          "state": {
            "_view_name": "VBoxView",
            "_dom_classes": [],
            "_model_name": "VBoxModel",
            "_view_module": "@jupyter-widgets/controls",
            "_model_module_version": "1.5.0",
            "_view_count": null,
            "_view_module_version": "1.5.0",
            "box_style": "",
            "layout": "IPY_MODEL_cfeb54d42d224325839212c0cec1241d",
            "_model_module": "@jupyter-widgets/controls",
            "children": [
              "IPY_MODEL_5374c7f353af4d3986bce02922089c67",
              "IPY_MODEL_a49b4b21bdf44bdcbf2ecec830477bff"
            ]
          }
        },
        "cfeb54d42d224325839212c0cec1241d": {
          "model_module": "@jupyter-widgets/base",
          "model_name": "LayoutModel",
          "state": {
            "_view_name": "LayoutView",
            "grid_template_rows": null,
            "right": null,
            "justify_content": null,
            "_view_module": "@jupyter-widgets/base",
            "overflow": null,
            "_model_module_version": "1.2.0",
            "_view_count": null,
            "flex_flow": null,
            "width": null,
            "min_width": null,
            "border": null,
            "align_items": null,
            "bottom": null,
            "_model_module": "@jupyter-widgets/base",
            "top": null,
            "grid_column": null,
            "overflow_y": null,
            "overflow_x": null,
            "grid_auto_flow": null,
            "grid_area": null,
            "grid_template_columns": null,
            "flex": null,
            "_model_name": "LayoutModel",
            "justify_items": null,
            "grid_row": null,
            "max_height": null,
            "align_content": null,
            "visibility": null,
            "align_self": null,
            "height": null,
            "min_height": null,
            "padding": null,
            "grid_auto_rows": null,
            "grid_gap": null,
            "max_width": null,
            "order": null,
            "_view_module_version": "1.2.0",
            "grid_template_areas": null,
            "object_position": null,
            "object_fit": null,
            "grid_auto_columns": null,
            "margin": null,
            "display": null,
            "left": null
          }
        },
        "5374c7f353af4d3986bce02922089c67": {
          "model_module": "@jupyter-widgets/controls",
          "model_name": "LabelModel",
          "state": {
            "_view_name": "LabelView",
            "style": "IPY_MODEL_067e0ddd87b641f0bf8629d245b93339",
            "_dom_classes": [],
            "description": "",
            "_model_name": "LabelModel",
            "placeholder": "​",
            "_view_module": "@jupyter-widgets/controls",
            "_model_module_version": "1.5.0",
            "value": " 0.01MB of 0.01MB uploaded (0.00MB deduped)\r",
            "_view_count": null,
            "_view_module_version": "1.5.0",
            "description_tooltip": null,
            "_model_module": "@jupyter-widgets/controls",
            "layout": "IPY_MODEL_74ecd56f14974f13b4b6d929a500d4d4"
          }
        },
        "a49b4b21bdf44bdcbf2ecec830477bff": {
          "model_module": "@jupyter-widgets/controls",
          "model_name": "FloatProgressModel",
          "state": {
            "_view_name": "ProgressView",
            "style": "IPY_MODEL_08b7d9a6bb5846f2a264e2ec4f8d937f",
            "_dom_classes": [],
            "description": "",
            "_model_name": "FloatProgressModel",
            "bar_style": "",
            "max": 1,
            "_view_module": "@jupyter-widgets/controls",
            "_model_module_version": "1.5.0",
            "value": 1,
            "_view_count": null,
            "_view_module_version": "1.5.0",
            "orientation": "horizontal",
            "min": 0,
            "description_tooltip": null,
            "_model_module": "@jupyter-widgets/controls",
            "layout": "IPY_MODEL_0770c521ba1c4d4580f14251ff561b95"
          }
        },
        "067e0ddd87b641f0bf8629d245b93339": {
          "model_module": "@jupyter-widgets/controls",
          "model_name": "DescriptionStyleModel",
          "state": {
            "_view_name": "StyleView",
            "_model_name": "DescriptionStyleModel",
            "description_width": "",
            "_view_module": "@jupyter-widgets/base",
            "_model_module_version": "1.5.0",
            "_view_count": null,
            "_view_module_version": "1.2.0",
            "_model_module": "@jupyter-widgets/controls"
          }
        },
        "74ecd56f14974f13b4b6d929a500d4d4": {
          "model_module": "@jupyter-widgets/base",
          "model_name": "LayoutModel",
          "state": {
            "_view_name": "LayoutView",
            "grid_template_rows": null,
            "right": null,
            "justify_content": null,
            "_view_module": "@jupyter-widgets/base",
            "overflow": null,
            "_model_module_version": "1.2.0",
            "_view_count": null,
            "flex_flow": null,
            "width": null,
            "min_width": null,
            "border": null,
            "align_items": null,
            "bottom": null,
            "_model_module": "@jupyter-widgets/base",
            "top": null,
            "grid_column": null,
            "overflow_y": null,
            "overflow_x": null,
            "grid_auto_flow": null,
            "grid_area": null,
            "grid_template_columns": null,
            "flex": null,
            "_model_name": "LayoutModel",
            "justify_items": null,
            "grid_row": null,
            "max_height": null,
            "align_content": null,
            "visibility": null,
            "align_self": null,
            "height": null,
            "min_height": null,
            "padding": null,
            "grid_auto_rows": null,
            "grid_gap": null,
            "max_width": null,
            "order": null,
            "_view_module_version": "1.2.0",
            "grid_template_areas": null,
            "object_position": null,
            "object_fit": null,
            "grid_auto_columns": null,
            "margin": null,
            "display": null,
            "left": null
          }
        },
        "08b7d9a6bb5846f2a264e2ec4f8d937f": {
          "model_module": "@jupyter-widgets/controls",
          "model_name": "ProgressStyleModel",
          "state": {
            "_view_name": "StyleView",
            "_model_name": "ProgressStyleModel",
            "description_width": "",
            "_view_module": "@jupyter-widgets/base",
            "_model_module_version": "1.5.0",
            "_view_count": null,
            "_view_module_version": "1.2.0",
            "bar_color": null,
            "_model_module": "@jupyter-widgets/controls"
          }
        },
        "0770c521ba1c4d4580f14251ff561b95": {
          "model_module": "@jupyter-widgets/base",
          "model_name": "LayoutModel",
          "state": {
            "_view_name": "LayoutView",
            "grid_template_rows": null,
            "right": null,
            "justify_content": null,
            "_view_module": "@jupyter-widgets/base",
            "overflow": null,
            "_model_module_version": "1.2.0",
            "_view_count": null,
            "flex_flow": null,
            "width": null,
            "min_width": null,
            "border": null,
            "align_items": null,
            "bottom": null,
            "_model_module": "@jupyter-widgets/base",
            "top": null,
            "grid_column": null,
            "overflow_y": null,
            "overflow_x": null,
            "grid_auto_flow": null,
            "grid_area": null,
            "grid_template_columns": null,
            "flex": null,
            "_model_name": "LayoutModel",
            "justify_items": null,
            "grid_row": null,
            "max_height": null,
            "align_content": null,
            "visibility": null,
            "align_self": null,
            "height": null,
            "min_height": null,
            "padding": null,
            "grid_auto_rows": null,
            "grid_gap": null,
            "max_width": null,
            "order": null,
            "_view_module_version": "1.2.0",
            "grid_template_areas": null,
            "object_position": null,
            "object_fit": null,
            "grid_auto_columns": null,
            "margin": null,
            "display": null,
            "left": null
          }
        },
        "fdd24d2a0dbd4480b4043bc7295108b8": {
          "model_module": "@jupyter-widgets/controls",
          "model_name": "VBoxModel",
          "state": {
            "_view_name": "VBoxView",
            "_dom_classes": [],
            "_model_name": "VBoxModel",
            "_view_module": "@jupyter-widgets/controls",
            "_model_module_version": "1.5.0",
            "_view_count": null,
            "_view_module_version": "1.5.0",
            "box_style": "",
            "layout": "IPY_MODEL_b0ee4311da3a486489f097f2237730cf",
            "_model_module": "@jupyter-widgets/controls",
            "children": [
              "IPY_MODEL_ef36be6da0cd4b38b822b10c378067a0",
              "IPY_MODEL_7d291a0bfa0740218f676e36a48438ee"
            ]
          }
        },
        "b0ee4311da3a486489f097f2237730cf": {
          "model_module": "@jupyter-widgets/base",
          "model_name": "LayoutModel",
          "state": {
            "_view_name": "LayoutView",
            "grid_template_rows": null,
            "right": null,
            "justify_content": null,
            "_view_module": "@jupyter-widgets/base",
            "overflow": null,
            "_model_module_version": "1.2.0",
            "_view_count": null,
            "flex_flow": null,
            "width": null,
            "min_width": null,
            "border": null,
            "align_items": null,
            "bottom": null,
            "_model_module": "@jupyter-widgets/base",
            "top": null,
            "grid_column": null,
            "overflow_y": null,
            "overflow_x": null,
            "grid_auto_flow": null,
            "grid_area": null,
            "grid_template_columns": null,
            "flex": null,
            "_model_name": "LayoutModel",
            "justify_items": null,
            "grid_row": null,
            "max_height": null,
            "align_content": null,
            "visibility": null,
            "align_self": null,
            "height": null,
            "min_height": null,
            "padding": null,
            "grid_auto_rows": null,
            "grid_gap": null,
            "max_width": null,
            "order": null,
            "_view_module_version": "1.2.0",
            "grid_template_areas": null,
            "object_position": null,
            "object_fit": null,
            "grid_auto_columns": null,
            "margin": null,
            "display": null,
            "left": null
          }
        },
        "ef36be6da0cd4b38b822b10c378067a0": {
          "model_module": "@jupyter-widgets/controls",
          "model_name": "LabelModel",
          "state": {
            "_view_name": "LabelView",
            "style": "IPY_MODEL_a043107b6f354b1c88a8dcb2ab51e71c",
            "_dom_classes": [],
            "description": "",
            "_model_name": "LabelModel",
            "placeholder": "​",
            "_view_module": "@jupyter-widgets/controls",
            "_model_module_version": "1.5.0",
            "value": " 0.01MB of 0.01MB uploaded (0.00MB deduped)\r",
            "_view_count": null,
            "_view_module_version": "1.5.0",
            "description_tooltip": null,
            "_model_module": "@jupyter-widgets/controls",
            "layout": "IPY_MODEL_4ccaa99bb2f64577afd8360bf5a4355c"
          }
        },
        "7d291a0bfa0740218f676e36a48438ee": {
          "model_module": "@jupyter-widgets/controls",
          "model_name": "FloatProgressModel",
          "state": {
            "_view_name": "ProgressView",
            "style": "IPY_MODEL_97c079ae7a944e7793758adfa3d59645",
            "_dom_classes": [],
            "description": "",
            "_model_name": "FloatProgressModel",
            "bar_style": "",
            "max": 1,
            "_view_module": "@jupyter-widgets/controls",
            "_model_module_version": "1.5.0",
            "value": 1,
            "_view_count": null,
            "_view_module_version": "1.5.0",
            "orientation": "horizontal",
            "min": 0,
            "description_tooltip": null,
            "_model_module": "@jupyter-widgets/controls",
            "layout": "IPY_MODEL_87d727f8fc7f4d19a8f5f6bc201f7eb8"
          }
        },
        "a043107b6f354b1c88a8dcb2ab51e71c": {
          "model_module": "@jupyter-widgets/controls",
          "model_name": "DescriptionStyleModel",
          "state": {
            "_view_name": "StyleView",
            "_model_name": "DescriptionStyleModel",
            "description_width": "",
            "_view_module": "@jupyter-widgets/base",
            "_model_module_version": "1.5.0",
            "_view_count": null,
            "_view_module_version": "1.2.0",
            "_model_module": "@jupyter-widgets/controls"
          }
        },
        "4ccaa99bb2f64577afd8360bf5a4355c": {
          "model_module": "@jupyter-widgets/base",
          "model_name": "LayoutModel",
          "state": {
            "_view_name": "LayoutView",
            "grid_template_rows": null,
            "right": null,
            "justify_content": null,
            "_view_module": "@jupyter-widgets/base",
            "overflow": null,
            "_model_module_version": "1.2.0",
            "_view_count": null,
            "flex_flow": null,
            "width": null,
            "min_width": null,
            "border": null,
            "align_items": null,
            "bottom": null,
            "_model_module": "@jupyter-widgets/base",
            "top": null,
            "grid_column": null,
            "overflow_y": null,
            "overflow_x": null,
            "grid_auto_flow": null,
            "grid_area": null,
            "grid_template_columns": null,
            "flex": null,
            "_model_name": "LayoutModel",
            "justify_items": null,
            "grid_row": null,
            "max_height": null,
            "align_content": null,
            "visibility": null,
            "align_self": null,
            "height": null,
            "min_height": null,
            "padding": null,
            "grid_auto_rows": null,
            "grid_gap": null,
            "max_width": null,
            "order": null,
            "_view_module_version": "1.2.0",
            "grid_template_areas": null,
            "object_position": null,
            "object_fit": null,
            "grid_auto_columns": null,
            "margin": null,
            "display": null,
            "left": null
          }
        },
        "97c079ae7a944e7793758adfa3d59645": {
          "model_module": "@jupyter-widgets/controls",
          "model_name": "ProgressStyleModel",
          "state": {
            "_view_name": "StyleView",
            "_model_name": "ProgressStyleModel",
            "description_width": "",
            "_view_module": "@jupyter-widgets/base",
            "_model_module_version": "1.5.0",
            "_view_count": null,
            "_view_module_version": "1.2.0",
            "bar_color": null,
            "_model_module": "@jupyter-widgets/controls"
          }
        },
        "87d727f8fc7f4d19a8f5f6bc201f7eb8": {
          "model_module": "@jupyter-widgets/base",
          "model_name": "LayoutModel",
          "state": {
            "_view_name": "LayoutView",
            "grid_template_rows": null,
            "right": null,
            "justify_content": null,
            "_view_module": "@jupyter-widgets/base",
            "overflow": null,
            "_model_module_version": "1.2.0",
            "_view_count": null,
            "flex_flow": null,
            "width": null,
            "min_width": null,
            "border": null,
            "align_items": null,
            "bottom": null,
            "_model_module": "@jupyter-widgets/base",
            "top": null,
            "grid_column": null,
            "overflow_y": null,
            "overflow_x": null,
            "grid_auto_flow": null,
            "grid_area": null,
            "grid_template_columns": null,
            "flex": null,
            "_model_name": "LayoutModel",
            "justify_items": null,
            "grid_row": null,
            "max_height": null,
            "align_content": null,
            "visibility": null,
            "align_self": null,
            "height": null,
            "min_height": null,
            "padding": null,
            "grid_auto_rows": null,
            "grid_gap": null,
            "max_width": null,
            "order": null,
            "_view_module_version": "1.2.0",
            "grid_template_areas": null,
            "object_position": null,
            "object_fit": null,
            "grid_auto_columns": null,
            "margin": null,
            "display": null,
            "left": null
          }
        },
        "dd6df17b7fdd4794a205ae308bcb673e": {
          "model_module": "@jupyter-widgets/controls",
          "model_name": "VBoxModel",
          "state": {
            "_view_name": "VBoxView",
            "_dom_classes": [],
            "_model_name": "VBoxModel",
            "_view_module": "@jupyter-widgets/controls",
            "_model_module_version": "1.5.0",
            "_view_count": null,
            "_view_module_version": "1.5.0",
            "box_style": "",
            "layout": "IPY_MODEL_916287e948584eea88c341503cc1dd44",
            "_model_module": "@jupyter-widgets/controls",
            "children": [
              "IPY_MODEL_d81ee2eff38441f1afdb9a1c9860a0a9",
              "IPY_MODEL_42bc65c7e06a4fcdbe0b790b6a890915"
            ]
          }
        },
        "916287e948584eea88c341503cc1dd44": {
          "model_module": "@jupyter-widgets/base",
          "model_name": "LayoutModel",
          "state": {
            "_view_name": "LayoutView",
            "grid_template_rows": null,
            "right": null,
            "justify_content": null,
            "_view_module": "@jupyter-widgets/base",
            "overflow": null,
            "_model_module_version": "1.2.0",
            "_view_count": null,
            "flex_flow": null,
            "width": null,
            "min_width": null,
            "border": null,
            "align_items": null,
            "bottom": null,
            "_model_module": "@jupyter-widgets/base",
            "top": null,
            "grid_column": null,
            "overflow_y": null,
            "overflow_x": null,
            "grid_auto_flow": null,
            "grid_area": null,
            "grid_template_columns": null,
            "flex": null,
            "_model_name": "LayoutModel",
            "justify_items": null,
            "grid_row": null,
            "max_height": null,
            "align_content": null,
            "visibility": null,
            "align_self": null,
            "height": null,
            "min_height": null,
            "padding": null,
            "grid_auto_rows": null,
            "grid_gap": null,
            "max_width": null,
            "order": null,
            "_view_module_version": "1.2.0",
            "grid_template_areas": null,
            "object_position": null,
            "object_fit": null,
            "grid_auto_columns": null,
            "margin": null,
            "display": null,
            "left": null
          }
        },
        "d81ee2eff38441f1afdb9a1c9860a0a9": {
          "model_module": "@jupyter-widgets/controls",
          "model_name": "LabelModel",
          "state": {
            "_view_name": "LabelView",
            "style": "IPY_MODEL_74ade3b0c5454e208f77ee8a4ff1910c",
            "_dom_classes": [],
            "description": "",
            "_model_name": "LabelModel",
            "placeholder": "​",
            "_view_module": "@jupyter-widgets/controls",
            "_model_module_version": "1.5.0",
            "value": " 0.01MB of 0.01MB uploaded (0.00MB deduped)\r",
            "_view_count": null,
            "_view_module_version": "1.5.0",
            "description_tooltip": null,
            "_model_module": "@jupyter-widgets/controls",
            "layout": "IPY_MODEL_c2e37dd4b3f6414295bce027d72d2b89"
          }
        },
        "42bc65c7e06a4fcdbe0b790b6a890915": {
          "model_module": "@jupyter-widgets/controls",
          "model_name": "FloatProgressModel",
          "state": {
            "_view_name": "ProgressView",
            "style": "IPY_MODEL_53331df3469f44f5a4d13692a5d121ee",
            "_dom_classes": [],
            "description": "",
            "_model_name": "FloatProgressModel",
            "bar_style": "",
            "max": 1,
            "_view_module": "@jupyter-widgets/controls",
            "_model_module_version": "1.5.0",
            "value": 1,
            "_view_count": null,
            "_view_module_version": "1.5.0",
            "orientation": "horizontal",
            "min": 0,
            "description_tooltip": null,
            "_model_module": "@jupyter-widgets/controls",
            "layout": "IPY_MODEL_3b9156cf1de54bcd81d655b35c0b9cef"
          }
        },
        "74ade3b0c5454e208f77ee8a4ff1910c": {
          "model_module": "@jupyter-widgets/controls",
          "model_name": "DescriptionStyleModel",
          "state": {
            "_view_name": "StyleView",
            "_model_name": "DescriptionStyleModel",
            "description_width": "",
            "_view_module": "@jupyter-widgets/base",
            "_model_module_version": "1.5.0",
            "_view_count": null,
            "_view_module_version": "1.2.0",
            "_model_module": "@jupyter-widgets/controls"
          }
        },
        "c2e37dd4b3f6414295bce027d72d2b89": {
          "model_module": "@jupyter-widgets/base",
          "model_name": "LayoutModel",
          "state": {
            "_view_name": "LayoutView",
            "grid_template_rows": null,
            "right": null,
            "justify_content": null,
            "_view_module": "@jupyter-widgets/base",
            "overflow": null,
            "_model_module_version": "1.2.0",
            "_view_count": null,
            "flex_flow": null,
            "width": null,
            "min_width": null,
            "border": null,
            "align_items": null,
            "bottom": null,
            "_model_module": "@jupyter-widgets/base",
            "top": null,
            "grid_column": null,
            "overflow_y": null,
            "overflow_x": null,
            "grid_auto_flow": null,
            "grid_area": null,
            "grid_template_columns": null,
            "flex": null,
            "_model_name": "LayoutModel",
            "justify_items": null,
            "grid_row": null,
            "max_height": null,
            "align_content": null,
            "visibility": null,
            "align_self": null,
            "height": null,
            "min_height": null,
            "padding": null,
            "grid_auto_rows": null,
            "grid_gap": null,
            "max_width": null,
            "order": null,
            "_view_module_version": "1.2.0",
            "grid_template_areas": null,
            "object_position": null,
            "object_fit": null,
            "grid_auto_columns": null,
            "margin": null,
            "display": null,
            "left": null
          }
        },
        "53331df3469f44f5a4d13692a5d121ee": {
          "model_module": "@jupyter-widgets/controls",
          "model_name": "ProgressStyleModel",
          "state": {
            "_view_name": "StyleView",
            "_model_name": "ProgressStyleModel",
            "description_width": "",
            "_view_module": "@jupyter-widgets/base",
            "_model_module_version": "1.5.0",
            "_view_count": null,
            "_view_module_version": "1.2.0",
            "bar_color": null,
            "_model_module": "@jupyter-widgets/controls"
          }
        },
        "3b9156cf1de54bcd81d655b35c0b9cef": {
          "model_module": "@jupyter-widgets/base",
          "model_name": "LayoutModel",
          "state": {
            "_view_name": "LayoutView",
            "grid_template_rows": null,
            "right": null,
            "justify_content": null,
            "_view_module": "@jupyter-widgets/base",
            "overflow": null,
            "_model_module_version": "1.2.0",
            "_view_count": null,
            "flex_flow": null,
            "width": null,
            "min_width": null,
            "border": null,
            "align_items": null,
            "bottom": null,
            "_model_module": "@jupyter-widgets/base",
            "top": null,
            "grid_column": null,
            "overflow_y": null,
            "overflow_x": null,
            "grid_auto_flow": null,
            "grid_area": null,
            "grid_template_columns": null,
            "flex": null,
            "_model_name": "LayoutModel",
            "justify_items": null,
            "grid_row": null,
            "max_height": null,
            "align_content": null,
            "visibility": null,
            "align_self": null,
            "height": null,
            "min_height": null,
            "padding": null,
            "grid_auto_rows": null,
            "grid_gap": null,
            "max_width": null,
            "order": null,
            "_view_module_version": "1.2.0",
            "grid_template_areas": null,
            "object_position": null,
            "object_fit": null,
            "grid_auto_columns": null,
            "margin": null,
            "display": null,
            "left": null
          }
        },
        "b5c1e5701717482fb6c0a3522799a549": {
          "model_module": "@jupyter-widgets/controls",
          "model_name": "VBoxModel",
          "state": {
            "_view_name": "VBoxView",
            "_dom_classes": [],
            "_model_name": "VBoxModel",
            "_view_module": "@jupyter-widgets/controls",
            "_model_module_version": "1.5.0",
            "_view_count": null,
            "_view_module_version": "1.5.0",
            "box_style": "",
            "layout": "IPY_MODEL_1e3ab163242e45ff91021769316b0e34",
            "_model_module": "@jupyter-widgets/controls",
            "children": [
              "IPY_MODEL_057191c062754c34b4ec33f4ff1ec4f5",
              "IPY_MODEL_d3a82e40dd94485394c0b09698024d21"
            ]
          }
        },
        "1e3ab163242e45ff91021769316b0e34": {
          "model_module": "@jupyter-widgets/base",
          "model_name": "LayoutModel",
          "state": {
            "_view_name": "LayoutView",
            "grid_template_rows": null,
            "right": null,
            "justify_content": null,
            "_view_module": "@jupyter-widgets/base",
            "overflow": null,
            "_model_module_version": "1.2.0",
            "_view_count": null,
            "flex_flow": null,
            "width": null,
            "min_width": null,
            "border": null,
            "align_items": null,
            "bottom": null,
            "_model_module": "@jupyter-widgets/base",
            "top": null,
            "grid_column": null,
            "overflow_y": null,
            "overflow_x": null,
            "grid_auto_flow": null,
            "grid_area": null,
            "grid_template_columns": null,
            "flex": null,
            "_model_name": "LayoutModel",
            "justify_items": null,
            "grid_row": null,
            "max_height": null,
            "align_content": null,
            "visibility": null,
            "align_self": null,
            "height": null,
            "min_height": null,
            "padding": null,
            "grid_auto_rows": null,
            "grid_gap": null,
            "max_width": null,
            "order": null,
            "_view_module_version": "1.2.0",
            "grid_template_areas": null,
            "object_position": null,
            "object_fit": null,
            "grid_auto_columns": null,
            "margin": null,
            "display": null,
            "left": null
          }
        },
        "057191c062754c34b4ec33f4ff1ec4f5": {
          "model_module": "@jupyter-widgets/controls",
          "model_name": "LabelModel",
          "state": {
            "_view_name": "LabelView",
            "style": "IPY_MODEL_0997f9b7358c47a0b70ba23522166ead",
            "_dom_classes": [],
            "description": "",
            "_model_name": "LabelModel",
            "placeholder": "​",
            "_view_module": "@jupyter-widgets/controls",
            "_model_module_version": "1.5.0",
            "value": " 0.01MB of 0.01MB uploaded (0.00MB deduped)\r",
            "_view_count": null,
            "_view_module_version": "1.5.0",
            "description_tooltip": null,
            "_model_module": "@jupyter-widgets/controls",
            "layout": "IPY_MODEL_8067c6b031424fe8ab2546fd47cdad03"
          }
        },
        "d3a82e40dd94485394c0b09698024d21": {
          "model_module": "@jupyter-widgets/controls",
          "model_name": "FloatProgressModel",
          "state": {
            "_view_name": "ProgressView",
            "style": "IPY_MODEL_15380fdf9ec64e528938c7beb605e0a0",
            "_dom_classes": [],
            "description": "",
            "_model_name": "FloatProgressModel",
            "bar_style": "",
            "max": 1,
            "_view_module": "@jupyter-widgets/controls",
            "_model_module_version": "1.5.0",
            "value": 1,
            "_view_count": null,
            "_view_module_version": "1.5.0",
            "orientation": "horizontal",
            "min": 0,
            "description_tooltip": null,
            "_model_module": "@jupyter-widgets/controls",
            "layout": "IPY_MODEL_0440d938435a4218b675d8f4b47fe74e"
          }
        },
        "0997f9b7358c47a0b70ba23522166ead": {
          "model_module": "@jupyter-widgets/controls",
          "model_name": "DescriptionStyleModel",
          "state": {
            "_view_name": "StyleView",
            "_model_name": "DescriptionStyleModel",
            "description_width": "",
            "_view_module": "@jupyter-widgets/base",
            "_model_module_version": "1.5.0",
            "_view_count": null,
            "_view_module_version": "1.2.0",
            "_model_module": "@jupyter-widgets/controls"
          }
        },
        "8067c6b031424fe8ab2546fd47cdad03": {
          "model_module": "@jupyter-widgets/base",
          "model_name": "LayoutModel",
          "state": {
            "_view_name": "LayoutView",
            "grid_template_rows": null,
            "right": null,
            "justify_content": null,
            "_view_module": "@jupyter-widgets/base",
            "overflow": null,
            "_model_module_version": "1.2.0",
            "_view_count": null,
            "flex_flow": null,
            "width": null,
            "min_width": null,
            "border": null,
            "align_items": null,
            "bottom": null,
            "_model_module": "@jupyter-widgets/base",
            "top": null,
            "grid_column": null,
            "overflow_y": null,
            "overflow_x": null,
            "grid_auto_flow": null,
            "grid_area": null,
            "grid_template_columns": null,
            "flex": null,
            "_model_name": "LayoutModel",
            "justify_items": null,
            "grid_row": null,
            "max_height": null,
            "align_content": null,
            "visibility": null,
            "align_self": null,
            "height": null,
            "min_height": null,
            "padding": null,
            "grid_auto_rows": null,
            "grid_gap": null,
            "max_width": null,
            "order": null,
            "_view_module_version": "1.2.0",
            "grid_template_areas": null,
            "object_position": null,
            "object_fit": null,
            "grid_auto_columns": null,
            "margin": null,
            "display": null,
            "left": null
          }
        },
        "15380fdf9ec64e528938c7beb605e0a0": {
          "model_module": "@jupyter-widgets/controls",
          "model_name": "ProgressStyleModel",
          "state": {
            "_view_name": "StyleView",
            "_model_name": "ProgressStyleModel",
            "description_width": "",
            "_view_module": "@jupyter-widgets/base",
            "_model_module_version": "1.5.0",
            "_view_count": null,
            "_view_module_version": "1.2.0",
            "bar_color": null,
            "_model_module": "@jupyter-widgets/controls"
          }
        },
        "0440d938435a4218b675d8f4b47fe74e": {
          "model_module": "@jupyter-widgets/base",
          "model_name": "LayoutModel",
          "state": {
            "_view_name": "LayoutView",
            "grid_template_rows": null,
            "right": null,
            "justify_content": null,
            "_view_module": "@jupyter-widgets/base",
            "overflow": null,
            "_model_module_version": "1.2.0",
            "_view_count": null,
            "flex_flow": null,
            "width": null,
            "min_width": null,
            "border": null,
            "align_items": null,
            "bottom": null,
            "_model_module": "@jupyter-widgets/base",
            "top": null,
            "grid_column": null,
            "overflow_y": null,
            "overflow_x": null,
            "grid_auto_flow": null,
            "grid_area": null,
            "grid_template_columns": null,
            "flex": null,
            "_model_name": "LayoutModel",
            "justify_items": null,
            "grid_row": null,
            "max_height": null,
            "align_content": null,
            "visibility": null,
            "align_self": null,
            "height": null,
            "min_height": null,
            "padding": null,
            "grid_auto_rows": null,
            "grid_gap": null,
            "max_width": null,
            "order": null,
            "_view_module_version": "1.2.0",
            "grid_template_areas": null,
            "object_position": null,
            "object_fit": null,
            "grid_auto_columns": null,
            "margin": null,
            "display": null,
            "left": null
          }
        },
        "9afeaf565b66453f80fd2893a34cb8b3": {
          "model_module": "@jupyter-widgets/controls",
          "model_name": "VBoxModel",
          "state": {
            "_view_name": "VBoxView",
            "_dom_classes": [],
            "_model_name": "VBoxModel",
            "_view_module": "@jupyter-widgets/controls",
            "_model_module_version": "1.5.0",
            "_view_count": null,
            "_view_module_version": "1.5.0",
            "box_style": "",
            "layout": "IPY_MODEL_c8b41184982f4a14b864b826900426ef",
            "_model_module": "@jupyter-widgets/controls",
            "children": [
              "IPY_MODEL_dfedd578650743289624e8eadbecf815",
              "IPY_MODEL_be1c0088dee94d0cb1a433fafdad140d"
            ]
          }
        },
        "c8b41184982f4a14b864b826900426ef": {
          "model_module": "@jupyter-widgets/base",
          "model_name": "LayoutModel",
          "state": {
            "_view_name": "LayoutView",
            "grid_template_rows": null,
            "right": null,
            "justify_content": null,
            "_view_module": "@jupyter-widgets/base",
            "overflow": null,
            "_model_module_version": "1.2.0",
            "_view_count": null,
            "flex_flow": null,
            "width": null,
            "min_width": null,
            "border": null,
            "align_items": null,
            "bottom": null,
            "_model_module": "@jupyter-widgets/base",
            "top": null,
            "grid_column": null,
            "overflow_y": null,
            "overflow_x": null,
            "grid_auto_flow": null,
            "grid_area": null,
            "grid_template_columns": null,
            "flex": null,
            "_model_name": "LayoutModel",
            "justify_items": null,
            "grid_row": null,
            "max_height": null,
            "align_content": null,
            "visibility": null,
            "align_self": null,
            "height": null,
            "min_height": null,
            "padding": null,
            "grid_auto_rows": null,
            "grid_gap": null,
            "max_width": null,
            "order": null,
            "_view_module_version": "1.2.0",
            "grid_template_areas": null,
            "object_position": null,
            "object_fit": null,
            "grid_auto_columns": null,
            "margin": null,
            "display": null,
            "left": null
          }
        },
        "dfedd578650743289624e8eadbecf815": {
          "model_module": "@jupyter-widgets/controls",
          "model_name": "LabelModel",
          "state": {
            "_view_name": "LabelView",
            "style": "IPY_MODEL_b5248a35cb94484a937dee92204895f1",
            "_dom_classes": [],
            "description": "",
            "_model_name": "LabelModel",
            "placeholder": "​",
            "_view_module": "@jupyter-widgets/controls",
            "_model_module_version": "1.5.0",
            "value": " 0.01MB of 0.01MB uploaded (0.00MB deduped)\r",
            "_view_count": null,
            "_view_module_version": "1.5.0",
            "description_tooltip": null,
            "_model_module": "@jupyter-widgets/controls",
            "layout": "IPY_MODEL_f9c1a1ecffb443f8b1f1732a583518b1"
          }
        },
        "be1c0088dee94d0cb1a433fafdad140d": {
          "model_module": "@jupyter-widgets/controls",
          "model_name": "FloatProgressModel",
          "state": {
            "_view_name": "ProgressView",
            "style": "IPY_MODEL_773757d08071439fbd13378965ce8820",
            "_dom_classes": [],
            "description": "",
            "_model_name": "FloatProgressModel",
            "bar_style": "",
            "max": 1,
            "_view_module": "@jupyter-widgets/controls",
            "_model_module_version": "1.5.0",
            "value": 1,
            "_view_count": null,
            "_view_module_version": "1.5.0",
            "orientation": "horizontal",
            "min": 0,
            "description_tooltip": null,
            "_model_module": "@jupyter-widgets/controls",
            "layout": "IPY_MODEL_26580f8a88b8411e98f25ff9c4ec933d"
          }
        },
        "b5248a35cb94484a937dee92204895f1": {
          "model_module": "@jupyter-widgets/controls",
          "model_name": "DescriptionStyleModel",
          "state": {
            "_view_name": "StyleView",
            "_model_name": "DescriptionStyleModel",
            "description_width": "",
            "_view_module": "@jupyter-widgets/base",
            "_model_module_version": "1.5.0",
            "_view_count": null,
            "_view_module_version": "1.2.0",
            "_model_module": "@jupyter-widgets/controls"
          }
        },
        "f9c1a1ecffb443f8b1f1732a583518b1": {
          "model_module": "@jupyter-widgets/base",
          "model_name": "LayoutModel",
          "state": {
            "_view_name": "LayoutView",
            "grid_template_rows": null,
            "right": null,
            "justify_content": null,
            "_view_module": "@jupyter-widgets/base",
            "overflow": null,
            "_model_module_version": "1.2.0",
            "_view_count": null,
            "flex_flow": null,
            "width": null,
            "min_width": null,
            "border": null,
            "align_items": null,
            "bottom": null,
            "_model_module": "@jupyter-widgets/base",
            "top": null,
            "grid_column": null,
            "overflow_y": null,
            "overflow_x": null,
            "grid_auto_flow": null,
            "grid_area": null,
            "grid_template_columns": null,
            "flex": null,
            "_model_name": "LayoutModel",
            "justify_items": null,
            "grid_row": null,
            "max_height": null,
            "align_content": null,
            "visibility": null,
            "align_self": null,
            "height": null,
            "min_height": null,
            "padding": null,
            "grid_auto_rows": null,
            "grid_gap": null,
            "max_width": null,
            "order": null,
            "_view_module_version": "1.2.0",
            "grid_template_areas": null,
            "object_position": null,
            "object_fit": null,
            "grid_auto_columns": null,
            "margin": null,
            "display": null,
            "left": null
          }
        },
        "773757d08071439fbd13378965ce8820": {
          "model_module": "@jupyter-widgets/controls",
          "model_name": "ProgressStyleModel",
          "state": {
            "_view_name": "StyleView",
            "_model_name": "ProgressStyleModel",
            "description_width": "",
            "_view_module": "@jupyter-widgets/base",
            "_model_module_version": "1.5.0",
            "_view_count": null,
            "_view_module_version": "1.2.0",
            "bar_color": null,
            "_model_module": "@jupyter-widgets/controls"
          }
        },
        "26580f8a88b8411e98f25ff9c4ec933d": {
          "model_module": "@jupyter-widgets/base",
          "model_name": "LayoutModel",
          "state": {
            "_view_name": "LayoutView",
            "grid_template_rows": null,
            "right": null,
            "justify_content": null,
            "_view_module": "@jupyter-widgets/base",
            "overflow": null,
            "_model_module_version": "1.2.0",
            "_view_count": null,
            "flex_flow": null,
            "width": null,
            "min_width": null,
            "border": null,
            "align_items": null,
            "bottom": null,
            "_model_module": "@jupyter-widgets/base",
            "top": null,
            "grid_column": null,
            "overflow_y": null,
            "overflow_x": null,
            "grid_auto_flow": null,
            "grid_area": null,
            "grid_template_columns": null,
            "flex": null,
            "_model_name": "LayoutModel",
            "justify_items": null,
            "grid_row": null,
            "max_height": null,
            "align_content": null,
            "visibility": null,
            "align_self": null,
            "height": null,
            "min_height": null,
            "padding": null,
            "grid_auto_rows": null,
            "grid_gap": null,
            "max_width": null,
            "order": null,
            "_view_module_version": "1.2.0",
            "grid_template_areas": null,
            "object_position": null,
            "object_fit": null,
            "grid_auto_columns": null,
            "margin": null,
            "display": null,
            "left": null
          }
        },
        "c141915e620b4302b86cab323f39f101": {
          "model_module": "@jupyter-widgets/controls",
          "model_name": "VBoxModel",
          "state": {
            "_view_name": "VBoxView",
            "_dom_classes": [],
            "_model_name": "VBoxModel",
            "_view_module": "@jupyter-widgets/controls",
            "_model_module_version": "1.5.0",
            "_view_count": null,
            "_view_module_version": "1.5.0",
            "box_style": "",
            "layout": "IPY_MODEL_5d6de097c7a54cd8abe8575fa7525205",
            "_model_module": "@jupyter-widgets/controls",
            "children": [
              "IPY_MODEL_e46d45c6c6e2401c837f9c9feeb77cc2",
              "IPY_MODEL_59afe1d2c2594a48b5e6e1efafd86675"
            ]
          }
        },
        "5d6de097c7a54cd8abe8575fa7525205": {
          "model_module": "@jupyter-widgets/base",
          "model_name": "LayoutModel",
          "state": {
            "_view_name": "LayoutView",
            "grid_template_rows": null,
            "right": null,
            "justify_content": null,
            "_view_module": "@jupyter-widgets/base",
            "overflow": null,
            "_model_module_version": "1.2.0",
            "_view_count": null,
            "flex_flow": null,
            "width": null,
            "min_width": null,
            "border": null,
            "align_items": null,
            "bottom": null,
            "_model_module": "@jupyter-widgets/base",
            "top": null,
            "grid_column": null,
            "overflow_y": null,
            "overflow_x": null,
            "grid_auto_flow": null,
            "grid_area": null,
            "grid_template_columns": null,
            "flex": null,
            "_model_name": "LayoutModel",
            "justify_items": null,
            "grid_row": null,
            "max_height": null,
            "align_content": null,
            "visibility": null,
            "align_self": null,
            "height": null,
            "min_height": null,
            "padding": null,
            "grid_auto_rows": null,
            "grid_gap": null,
            "max_width": null,
            "order": null,
            "_view_module_version": "1.2.0",
            "grid_template_areas": null,
            "object_position": null,
            "object_fit": null,
            "grid_auto_columns": null,
            "margin": null,
            "display": null,
            "left": null
          }
        },
        "e46d45c6c6e2401c837f9c9feeb77cc2": {
          "model_module": "@jupyter-widgets/controls",
          "model_name": "LabelModel",
          "state": {
            "_view_name": "LabelView",
            "style": "IPY_MODEL_d6509d5a95ce454fb9c305325510cd87",
            "_dom_classes": [],
            "description": "",
            "_model_name": "LabelModel",
            "placeholder": "​",
            "_view_module": "@jupyter-widgets/controls",
            "_model_module_version": "1.5.0",
            "value": " 0.01MB of 0.01MB uploaded (0.00MB deduped)\r",
            "_view_count": null,
            "_view_module_version": "1.5.0",
            "description_tooltip": null,
            "_model_module": "@jupyter-widgets/controls",
            "layout": "IPY_MODEL_3cd9fb1ea0d74055868978cb2111476c"
          }
        },
        "59afe1d2c2594a48b5e6e1efafd86675": {
          "model_module": "@jupyter-widgets/controls",
          "model_name": "FloatProgressModel",
          "state": {
            "_view_name": "ProgressView",
            "style": "IPY_MODEL_e031457fb17341a288cf649d47b6e9e6",
            "_dom_classes": [],
            "description": "",
            "_model_name": "FloatProgressModel",
            "bar_style": "",
            "max": 1,
            "_view_module": "@jupyter-widgets/controls",
            "_model_module_version": "1.5.0",
            "value": 1,
            "_view_count": null,
            "_view_module_version": "1.5.0",
            "orientation": "horizontal",
            "min": 0,
            "description_tooltip": null,
            "_model_module": "@jupyter-widgets/controls",
            "layout": "IPY_MODEL_24f7a18018ab4519a8e23a2f711e3362"
          }
        },
        "d6509d5a95ce454fb9c305325510cd87": {
          "model_module": "@jupyter-widgets/controls",
          "model_name": "DescriptionStyleModel",
          "state": {
            "_view_name": "StyleView",
            "_model_name": "DescriptionStyleModel",
            "description_width": "",
            "_view_module": "@jupyter-widgets/base",
            "_model_module_version": "1.5.0",
            "_view_count": null,
            "_view_module_version": "1.2.0",
            "_model_module": "@jupyter-widgets/controls"
          }
        },
        "3cd9fb1ea0d74055868978cb2111476c": {
          "model_module": "@jupyter-widgets/base",
          "model_name": "LayoutModel",
          "state": {
            "_view_name": "LayoutView",
            "grid_template_rows": null,
            "right": null,
            "justify_content": null,
            "_view_module": "@jupyter-widgets/base",
            "overflow": null,
            "_model_module_version": "1.2.0",
            "_view_count": null,
            "flex_flow": null,
            "width": null,
            "min_width": null,
            "border": null,
            "align_items": null,
            "bottom": null,
            "_model_module": "@jupyter-widgets/base",
            "top": null,
            "grid_column": null,
            "overflow_y": null,
            "overflow_x": null,
            "grid_auto_flow": null,
            "grid_area": null,
            "grid_template_columns": null,
            "flex": null,
            "_model_name": "LayoutModel",
            "justify_items": null,
            "grid_row": null,
            "max_height": null,
            "align_content": null,
            "visibility": null,
            "align_self": null,
            "height": null,
            "min_height": null,
            "padding": null,
            "grid_auto_rows": null,
            "grid_gap": null,
            "max_width": null,
            "order": null,
            "_view_module_version": "1.2.0",
            "grid_template_areas": null,
            "object_position": null,
            "object_fit": null,
            "grid_auto_columns": null,
            "margin": null,
            "display": null,
            "left": null
          }
        },
        "e031457fb17341a288cf649d47b6e9e6": {
          "model_module": "@jupyter-widgets/controls",
          "model_name": "ProgressStyleModel",
          "state": {
            "_view_name": "StyleView",
            "_model_name": "ProgressStyleModel",
            "description_width": "",
            "_view_module": "@jupyter-widgets/base",
            "_model_module_version": "1.5.0",
            "_view_count": null,
            "_view_module_version": "1.2.0",
            "bar_color": null,
            "_model_module": "@jupyter-widgets/controls"
          }
        },
        "24f7a18018ab4519a8e23a2f711e3362": {
          "model_module": "@jupyter-widgets/base",
          "model_name": "LayoutModel",
          "state": {
            "_view_name": "LayoutView",
            "grid_template_rows": null,
            "right": null,
            "justify_content": null,
            "_view_module": "@jupyter-widgets/base",
            "overflow": null,
            "_model_module_version": "1.2.0",
            "_view_count": null,
            "flex_flow": null,
            "width": null,
            "min_width": null,
            "border": null,
            "align_items": null,
            "bottom": null,
            "_model_module": "@jupyter-widgets/base",
            "top": null,
            "grid_column": null,
            "overflow_y": null,
            "overflow_x": null,
            "grid_auto_flow": null,
            "grid_area": null,
            "grid_template_columns": null,
            "flex": null,
            "_model_name": "LayoutModel",
            "justify_items": null,
            "grid_row": null,
            "max_height": null,
            "align_content": null,
            "visibility": null,
            "align_self": null,
            "height": null,
            "min_height": null,
            "padding": null,
            "grid_auto_rows": null,
            "grid_gap": null,
            "max_width": null,
            "order": null,
            "_view_module_version": "1.2.0",
            "grid_template_areas": null,
            "object_position": null,
            "object_fit": null,
            "grid_auto_columns": null,
            "margin": null,
            "display": null,
            "left": null
          }
        },
        "92e10237604442d8a4f00c755df33bf5": {
          "model_module": "@jupyter-widgets/controls",
          "model_name": "VBoxModel",
          "state": {
            "_view_name": "VBoxView",
            "_dom_classes": [],
            "_model_name": "VBoxModel",
            "_view_module": "@jupyter-widgets/controls",
            "_model_module_version": "1.5.0",
            "_view_count": null,
            "_view_module_version": "1.5.0",
            "box_style": "",
            "layout": "IPY_MODEL_b619eeff039e4a5699175196ef863a90",
            "_model_module": "@jupyter-widgets/controls",
            "children": [
              "IPY_MODEL_682e702543d04a8fbf2d80527d101a39",
              "IPY_MODEL_af3725e68ca14cf3a0d9b8a91fb71a0c"
            ]
          }
        },
        "b619eeff039e4a5699175196ef863a90": {
          "model_module": "@jupyter-widgets/base",
          "model_name": "LayoutModel",
          "state": {
            "_view_name": "LayoutView",
            "grid_template_rows": null,
            "right": null,
            "justify_content": null,
            "_view_module": "@jupyter-widgets/base",
            "overflow": null,
            "_model_module_version": "1.2.0",
            "_view_count": null,
            "flex_flow": null,
            "width": null,
            "min_width": null,
            "border": null,
            "align_items": null,
            "bottom": null,
            "_model_module": "@jupyter-widgets/base",
            "top": null,
            "grid_column": null,
            "overflow_y": null,
            "overflow_x": null,
            "grid_auto_flow": null,
            "grid_area": null,
            "grid_template_columns": null,
            "flex": null,
            "_model_name": "LayoutModel",
            "justify_items": null,
            "grid_row": null,
            "max_height": null,
            "align_content": null,
            "visibility": null,
            "align_self": null,
            "height": null,
            "min_height": null,
            "padding": null,
            "grid_auto_rows": null,
            "grid_gap": null,
            "max_width": null,
            "order": null,
            "_view_module_version": "1.2.0",
            "grid_template_areas": null,
            "object_position": null,
            "object_fit": null,
            "grid_auto_columns": null,
            "margin": null,
            "display": null,
            "left": null
          }
        },
        "682e702543d04a8fbf2d80527d101a39": {
          "model_module": "@jupyter-widgets/controls",
          "model_name": "LabelModel",
          "state": {
            "_view_name": "LabelView",
            "style": "IPY_MODEL_8d634f60497a4d799f01f9c12e3445a5",
            "_dom_classes": [],
            "description": "",
            "_model_name": "LabelModel",
            "placeholder": "​",
            "_view_module": "@jupyter-widgets/controls",
            "_model_module_version": "1.5.0",
            "value": " 0.01MB of 0.01MB uploaded (0.00MB deduped)\r",
            "_view_count": null,
            "_view_module_version": "1.5.0",
            "description_tooltip": null,
            "_model_module": "@jupyter-widgets/controls",
            "layout": "IPY_MODEL_285b94895c4243709d5c1909c7cc1ad6"
          }
        },
        "af3725e68ca14cf3a0d9b8a91fb71a0c": {
          "model_module": "@jupyter-widgets/controls",
          "model_name": "FloatProgressModel",
          "state": {
            "_view_name": "ProgressView",
            "style": "IPY_MODEL_44f64cd11fa54bdca653c57a1739f3d1",
            "_dom_classes": [],
            "description": "",
            "_model_name": "FloatProgressModel",
            "bar_style": "",
            "max": 1,
            "_view_module": "@jupyter-widgets/controls",
            "_model_module_version": "1.5.0",
            "value": 1,
            "_view_count": null,
            "_view_module_version": "1.5.0",
            "orientation": "horizontal",
            "min": 0,
            "description_tooltip": null,
            "_model_module": "@jupyter-widgets/controls",
            "layout": "IPY_MODEL_c898a17464754ec99b7f0bd6ddf15e40"
          }
        },
        "8d634f60497a4d799f01f9c12e3445a5": {
          "model_module": "@jupyter-widgets/controls",
          "model_name": "DescriptionStyleModel",
          "state": {
            "_view_name": "StyleView",
            "_model_name": "DescriptionStyleModel",
            "description_width": "",
            "_view_module": "@jupyter-widgets/base",
            "_model_module_version": "1.5.0",
            "_view_count": null,
            "_view_module_version": "1.2.0",
            "_model_module": "@jupyter-widgets/controls"
          }
        },
        "285b94895c4243709d5c1909c7cc1ad6": {
          "model_module": "@jupyter-widgets/base",
          "model_name": "LayoutModel",
          "state": {
            "_view_name": "LayoutView",
            "grid_template_rows": null,
            "right": null,
            "justify_content": null,
            "_view_module": "@jupyter-widgets/base",
            "overflow": null,
            "_model_module_version": "1.2.0",
            "_view_count": null,
            "flex_flow": null,
            "width": null,
            "min_width": null,
            "border": null,
            "align_items": null,
            "bottom": null,
            "_model_module": "@jupyter-widgets/base",
            "top": null,
            "grid_column": null,
            "overflow_y": null,
            "overflow_x": null,
            "grid_auto_flow": null,
            "grid_area": null,
            "grid_template_columns": null,
            "flex": null,
            "_model_name": "LayoutModel",
            "justify_items": null,
            "grid_row": null,
            "max_height": null,
            "align_content": null,
            "visibility": null,
            "align_self": null,
            "height": null,
            "min_height": null,
            "padding": null,
            "grid_auto_rows": null,
            "grid_gap": null,
            "max_width": null,
            "order": null,
            "_view_module_version": "1.2.0",
            "grid_template_areas": null,
            "object_position": null,
            "object_fit": null,
            "grid_auto_columns": null,
            "margin": null,
            "display": null,
            "left": null
          }
        },
        "44f64cd11fa54bdca653c57a1739f3d1": {
          "model_module": "@jupyter-widgets/controls",
          "model_name": "ProgressStyleModel",
          "state": {
            "_view_name": "StyleView",
            "_model_name": "ProgressStyleModel",
            "description_width": "",
            "_view_module": "@jupyter-widgets/base",
            "_model_module_version": "1.5.0",
            "_view_count": null,
            "_view_module_version": "1.2.0",
            "bar_color": null,
            "_model_module": "@jupyter-widgets/controls"
          }
        },
        "c898a17464754ec99b7f0bd6ddf15e40": {
          "model_module": "@jupyter-widgets/base",
          "model_name": "LayoutModel",
          "state": {
            "_view_name": "LayoutView",
            "grid_template_rows": null,
            "right": null,
            "justify_content": null,
            "_view_module": "@jupyter-widgets/base",
            "overflow": null,
            "_model_module_version": "1.2.0",
            "_view_count": null,
            "flex_flow": null,
            "width": null,
            "min_width": null,
            "border": null,
            "align_items": null,
            "bottom": null,
            "_model_module": "@jupyter-widgets/base",
            "top": null,
            "grid_column": null,
            "overflow_y": null,
            "overflow_x": null,
            "grid_auto_flow": null,
            "grid_area": null,
            "grid_template_columns": null,
            "flex": null,
            "_model_name": "LayoutModel",
            "justify_items": null,
            "grid_row": null,
            "max_height": null,
            "align_content": null,
            "visibility": null,
            "align_self": null,
            "height": null,
            "min_height": null,
            "padding": null,
            "grid_auto_rows": null,
            "grid_gap": null,
            "max_width": null,
            "order": null,
            "_view_module_version": "1.2.0",
            "grid_template_areas": null,
            "object_position": null,
            "object_fit": null,
            "grid_auto_columns": null,
            "margin": null,
            "display": null,
            "left": null
          }
        },
        "50a1ec31a84541d399b19be991c2d659": {
          "model_module": "@jupyter-widgets/controls",
          "model_name": "VBoxModel",
          "state": {
            "_view_name": "VBoxView",
            "_dom_classes": [],
            "_model_name": "VBoxModel",
            "_view_module": "@jupyter-widgets/controls",
            "_model_module_version": "1.5.0",
            "_view_count": null,
            "_view_module_version": "1.5.0",
            "box_style": "",
            "layout": "IPY_MODEL_b1edee327e3044a3ab3dbf0885f3e0b5",
            "_model_module": "@jupyter-widgets/controls",
            "children": [
              "IPY_MODEL_521a34644e1b4a67bd0dc99b89e694fd",
              "IPY_MODEL_825ca0eadf214dfbbb9769de0f1460cd"
            ]
          }
        },
        "b1edee327e3044a3ab3dbf0885f3e0b5": {
          "model_module": "@jupyter-widgets/base",
          "model_name": "LayoutModel",
          "state": {
            "_view_name": "LayoutView",
            "grid_template_rows": null,
            "right": null,
            "justify_content": null,
            "_view_module": "@jupyter-widgets/base",
            "overflow": null,
            "_model_module_version": "1.2.0",
            "_view_count": null,
            "flex_flow": null,
            "width": null,
            "min_width": null,
            "border": null,
            "align_items": null,
            "bottom": null,
            "_model_module": "@jupyter-widgets/base",
            "top": null,
            "grid_column": null,
            "overflow_y": null,
            "overflow_x": null,
            "grid_auto_flow": null,
            "grid_area": null,
            "grid_template_columns": null,
            "flex": null,
            "_model_name": "LayoutModel",
            "justify_items": null,
            "grid_row": null,
            "max_height": null,
            "align_content": null,
            "visibility": null,
            "align_self": null,
            "height": null,
            "min_height": null,
            "padding": null,
            "grid_auto_rows": null,
            "grid_gap": null,
            "max_width": null,
            "order": null,
            "_view_module_version": "1.2.0",
            "grid_template_areas": null,
            "object_position": null,
            "object_fit": null,
            "grid_auto_columns": null,
            "margin": null,
            "display": null,
            "left": null
          }
        },
        "521a34644e1b4a67bd0dc99b89e694fd": {
          "model_module": "@jupyter-widgets/controls",
          "model_name": "LabelModel",
          "state": {
            "_view_name": "LabelView",
            "style": "IPY_MODEL_1a8f92a34f564ab2a8bc92ef84b4bf90",
            "_dom_classes": [],
            "description": "",
            "_model_name": "LabelModel",
            "placeholder": "​",
            "_view_module": "@jupyter-widgets/controls",
            "_model_module_version": "1.5.0",
            "value": " 0.01MB of 0.01MB uploaded (0.00MB deduped)\r",
            "_view_count": null,
            "_view_module_version": "1.5.0",
            "description_tooltip": null,
            "_model_module": "@jupyter-widgets/controls",
            "layout": "IPY_MODEL_626ec67bb5a3499eb79a53471956ecd4"
          }
        },
        "825ca0eadf214dfbbb9769de0f1460cd": {
          "model_module": "@jupyter-widgets/controls",
          "model_name": "FloatProgressModel",
          "state": {
            "_view_name": "ProgressView",
            "style": "IPY_MODEL_4c28539f3c6b4719bb3557692f416737",
            "_dom_classes": [],
            "description": "",
            "_model_name": "FloatProgressModel",
            "bar_style": "",
            "max": 1,
            "_view_module": "@jupyter-widgets/controls",
            "_model_module_version": "1.5.0",
            "value": 1,
            "_view_count": null,
            "_view_module_version": "1.5.0",
            "orientation": "horizontal",
            "min": 0,
            "description_tooltip": null,
            "_model_module": "@jupyter-widgets/controls",
            "layout": "IPY_MODEL_5df37deddb5242a59962036902ed9494"
          }
        },
        "1a8f92a34f564ab2a8bc92ef84b4bf90": {
          "model_module": "@jupyter-widgets/controls",
          "model_name": "DescriptionStyleModel",
          "state": {
            "_view_name": "StyleView",
            "_model_name": "DescriptionStyleModel",
            "description_width": "",
            "_view_module": "@jupyter-widgets/base",
            "_model_module_version": "1.5.0",
            "_view_count": null,
            "_view_module_version": "1.2.0",
            "_model_module": "@jupyter-widgets/controls"
          }
        },
        "626ec67bb5a3499eb79a53471956ecd4": {
          "model_module": "@jupyter-widgets/base",
          "model_name": "LayoutModel",
          "state": {
            "_view_name": "LayoutView",
            "grid_template_rows": null,
            "right": null,
            "justify_content": null,
            "_view_module": "@jupyter-widgets/base",
            "overflow": null,
            "_model_module_version": "1.2.0",
            "_view_count": null,
            "flex_flow": null,
            "width": null,
            "min_width": null,
            "border": null,
            "align_items": null,
            "bottom": null,
            "_model_module": "@jupyter-widgets/base",
            "top": null,
            "grid_column": null,
            "overflow_y": null,
            "overflow_x": null,
            "grid_auto_flow": null,
            "grid_area": null,
            "grid_template_columns": null,
            "flex": null,
            "_model_name": "LayoutModel",
            "justify_items": null,
            "grid_row": null,
            "max_height": null,
            "align_content": null,
            "visibility": null,
            "align_self": null,
            "height": null,
            "min_height": null,
            "padding": null,
            "grid_auto_rows": null,
            "grid_gap": null,
            "max_width": null,
            "order": null,
            "_view_module_version": "1.2.0",
            "grid_template_areas": null,
            "object_position": null,
            "object_fit": null,
            "grid_auto_columns": null,
            "margin": null,
            "display": null,
            "left": null
          }
        },
        "4c28539f3c6b4719bb3557692f416737": {
          "model_module": "@jupyter-widgets/controls",
          "model_name": "ProgressStyleModel",
          "state": {
            "_view_name": "StyleView",
            "_model_name": "ProgressStyleModel",
            "description_width": "",
            "_view_module": "@jupyter-widgets/base",
            "_model_module_version": "1.5.0",
            "_view_count": null,
            "_view_module_version": "1.2.0",
            "bar_color": null,
            "_model_module": "@jupyter-widgets/controls"
          }
        },
        "5df37deddb5242a59962036902ed9494": {
          "model_module": "@jupyter-widgets/base",
          "model_name": "LayoutModel",
          "state": {
            "_view_name": "LayoutView",
            "grid_template_rows": null,
            "right": null,
            "justify_content": null,
            "_view_module": "@jupyter-widgets/base",
            "overflow": null,
            "_model_module_version": "1.2.0",
            "_view_count": null,
            "flex_flow": null,
            "width": null,
            "min_width": null,
            "border": null,
            "align_items": null,
            "bottom": null,
            "_model_module": "@jupyter-widgets/base",
            "top": null,
            "grid_column": null,
            "overflow_y": null,
            "overflow_x": null,
            "grid_auto_flow": null,
            "grid_area": null,
            "grid_template_columns": null,
            "flex": null,
            "_model_name": "LayoutModel",
            "justify_items": null,
            "grid_row": null,
            "max_height": null,
            "align_content": null,
            "visibility": null,
            "align_self": null,
            "height": null,
            "min_height": null,
            "padding": null,
            "grid_auto_rows": null,
            "grid_gap": null,
            "max_width": null,
            "order": null,
            "_view_module_version": "1.2.0",
            "grid_template_areas": null,
            "object_position": null,
            "object_fit": null,
            "grid_auto_columns": null,
            "margin": null,
            "display": null,
            "left": null
          }
        },
        "ff46322d37e24524b22c9c7d0a8c86ff": {
          "model_module": "@jupyter-widgets/controls",
          "model_name": "VBoxModel",
          "state": {
            "_view_name": "VBoxView",
            "_dom_classes": [],
            "_model_name": "VBoxModel",
            "_view_module": "@jupyter-widgets/controls",
            "_model_module_version": "1.5.0",
            "_view_count": null,
            "_view_module_version": "1.5.0",
            "box_style": "",
            "layout": "IPY_MODEL_7ed9e22a4e98450eb9ad413b2c943ced",
            "_model_module": "@jupyter-widgets/controls",
            "children": [
              "IPY_MODEL_24751296dae848a48e6b4383f5de8a6a",
              "IPY_MODEL_9aa046cc4a1041c981ab185c03ee802a"
            ]
          }
        },
        "7ed9e22a4e98450eb9ad413b2c943ced": {
          "model_module": "@jupyter-widgets/base",
          "model_name": "LayoutModel",
          "state": {
            "_view_name": "LayoutView",
            "grid_template_rows": null,
            "right": null,
            "justify_content": null,
            "_view_module": "@jupyter-widgets/base",
            "overflow": null,
            "_model_module_version": "1.2.0",
            "_view_count": null,
            "flex_flow": null,
            "width": null,
            "min_width": null,
            "border": null,
            "align_items": null,
            "bottom": null,
            "_model_module": "@jupyter-widgets/base",
            "top": null,
            "grid_column": null,
            "overflow_y": null,
            "overflow_x": null,
            "grid_auto_flow": null,
            "grid_area": null,
            "grid_template_columns": null,
            "flex": null,
            "_model_name": "LayoutModel",
            "justify_items": null,
            "grid_row": null,
            "max_height": null,
            "align_content": null,
            "visibility": null,
            "align_self": null,
            "height": null,
            "min_height": null,
            "padding": null,
            "grid_auto_rows": null,
            "grid_gap": null,
            "max_width": null,
            "order": null,
            "_view_module_version": "1.2.0",
            "grid_template_areas": null,
            "object_position": null,
            "object_fit": null,
            "grid_auto_columns": null,
            "margin": null,
            "display": null,
            "left": null
          }
        },
        "24751296dae848a48e6b4383f5de8a6a": {
          "model_module": "@jupyter-widgets/controls",
          "model_name": "LabelModel",
          "state": {
            "_view_name": "LabelView",
            "style": "IPY_MODEL_8e51bf5773004fe2a87fd1cf5e70f1e5",
            "_dom_classes": [],
            "description": "",
            "_model_name": "LabelModel",
            "placeholder": "​",
            "_view_module": "@jupyter-widgets/controls",
            "_model_module_version": "1.5.0",
            "value": " 0.01MB of 0.01MB uploaded (0.00MB deduped)\r",
            "_view_count": null,
            "_view_module_version": "1.5.0",
            "description_tooltip": null,
            "_model_module": "@jupyter-widgets/controls",
            "layout": "IPY_MODEL_f38db7a2c55b4114afa8eda20320d5ee"
          }
        },
        "9aa046cc4a1041c981ab185c03ee802a": {
          "model_module": "@jupyter-widgets/controls",
          "model_name": "FloatProgressModel",
          "state": {
            "_view_name": "ProgressView",
            "style": "IPY_MODEL_5096658ea3024d5c886941bf14ac7baf",
            "_dom_classes": [],
            "description": "",
            "_model_name": "FloatProgressModel",
            "bar_style": "",
            "max": 1,
            "_view_module": "@jupyter-widgets/controls",
            "_model_module_version": "1.5.0",
            "value": 1,
            "_view_count": null,
            "_view_module_version": "1.5.0",
            "orientation": "horizontal",
            "min": 0,
            "description_tooltip": null,
            "_model_module": "@jupyter-widgets/controls",
            "layout": "IPY_MODEL_cd0b777e50044654af99f2989dd2ffb1"
          }
        },
        "8e51bf5773004fe2a87fd1cf5e70f1e5": {
          "model_module": "@jupyter-widgets/controls",
          "model_name": "DescriptionStyleModel",
          "state": {
            "_view_name": "StyleView",
            "_model_name": "DescriptionStyleModel",
            "description_width": "",
            "_view_module": "@jupyter-widgets/base",
            "_model_module_version": "1.5.0",
            "_view_count": null,
            "_view_module_version": "1.2.0",
            "_model_module": "@jupyter-widgets/controls"
          }
        },
        "f38db7a2c55b4114afa8eda20320d5ee": {
          "model_module": "@jupyter-widgets/base",
          "model_name": "LayoutModel",
          "state": {
            "_view_name": "LayoutView",
            "grid_template_rows": null,
            "right": null,
            "justify_content": null,
            "_view_module": "@jupyter-widgets/base",
            "overflow": null,
            "_model_module_version": "1.2.0",
            "_view_count": null,
            "flex_flow": null,
            "width": null,
            "min_width": null,
            "border": null,
            "align_items": null,
            "bottom": null,
            "_model_module": "@jupyter-widgets/base",
            "top": null,
            "grid_column": null,
            "overflow_y": null,
            "overflow_x": null,
            "grid_auto_flow": null,
            "grid_area": null,
            "grid_template_columns": null,
            "flex": null,
            "_model_name": "LayoutModel",
            "justify_items": null,
            "grid_row": null,
            "max_height": null,
            "align_content": null,
            "visibility": null,
            "align_self": null,
            "height": null,
            "min_height": null,
            "padding": null,
            "grid_auto_rows": null,
            "grid_gap": null,
            "max_width": null,
            "order": null,
            "_view_module_version": "1.2.0",
            "grid_template_areas": null,
            "object_position": null,
            "object_fit": null,
            "grid_auto_columns": null,
            "margin": null,
            "display": null,
            "left": null
          }
        },
        "5096658ea3024d5c886941bf14ac7baf": {
          "model_module": "@jupyter-widgets/controls",
          "model_name": "ProgressStyleModel",
          "state": {
            "_view_name": "StyleView",
            "_model_name": "ProgressStyleModel",
            "description_width": "",
            "_view_module": "@jupyter-widgets/base",
            "_model_module_version": "1.5.0",
            "_view_count": null,
            "_view_module_version": "1.2.0",
            "bar_color": null,
            "_model_module": "@jupyter-widgets/controls"
          }
        },
        "cd0b777e50044654af99f2989dd2ffb1": {
          "model_module": "@jupyter-widgets/base",
          "model_name": "LayoutModel",
          "state": {
            "_view_name": "LayoutView",
            "grid_template_rows": null,
            "right": null,
            "justify_content": null,
            "_view_module": "@jupyter-widgets/base",
            "overflow": null,
            "_model_module_version": "1.2.0",
            "_view_count": null,
            "flex_flow": null,
            "width": null,
            "min_width": null,
            "border": null,
            "align_items": null,
            "bottom": null,
            "_model_module": "@jupyter-widgets/base",
            "top": null,
            "grid_column": null,
            "overflow_y": null,
            "overflow_x": null,
            "grid_auto_flow": null,
            "grid_area": null,
            "grid_template_columns": null,
            "flex": null,
            "_model_name": "LayoutModel",
            "justify_items": null,
            "grid_row": null,
            "max_height": null,
            "align_content": null,
            "visibility": null,
            "align_self": null,
            "height": null,
            "min_height": null,
            "padding": null,
            "grid_auto_rows": null,
            "grid_gap": null,
            "max_width": null,
            "order": null,
            "_view_module_version": "1.2.0",
            "grid_template_areas": null,
            "object_position": null,
            "object_fit": null,
            "grid_auto_columns": null,
            "margin": null,
            "display": null,
            "left": null
          }
        },
        "6b39b16593a742b9a6c40821e8cce04c": {
          "model_module": "@jupyter-widgets/controls",
          "model_name": "VBoxModel",
          "state": {
            "_view_name": "VBoxView",
            "_dom_classes": [],
            "_model_name": "VBoxModel",
            "_view_module": "@jupyter-widgets/controls",
            "_model_module_version": "1.5.0",
            "_view_count": null,
            "_view_module_version": "1.5.0",
            "box_style": "",
            "layout": "IPY_MODEL_9e02f6b4c74f4a5988cbf721df1070f8",
            "_model_module": "@jupyter-widgets/controls",
            "children": [
              "IPY_MODEL_655fff21a0de44a084fcfacdf28d1ea1",
              "IPY_MODEL_5a710b04c48f4d5ab43d20026418f564"
            ]
          }
        },
        "9e02f6b4c74f4a5988cbf721df1070f8": {
          "model_module": "@jupyter-widgets/base",
          "model_name": "LayoutModel",
          "state": {
            "_view_name": "LayoutView",
            "grid_template_rows": null,
            "right": null,
            "justify_content": null,
            "_view_module": "@jupyter-widgets/base",
            "overflow": null,
            "_model_module_version": "1.2.0",
            "_view_count": null,
            "flex_flow": null,
            "width": null,
            "min_width": null,
            "border": null,
            "align_items": null,
            "bottom": null,
            "_model_module": "@jupyter-widgets/base",
            "top": null,
            "grid_column": null,
            "overflow_y": null,
            "overflow_x": null,
            "grid_auto_flow": null,
            "grid_area": null,
            "grid_template_columns": null,
            "flex": null,
            "_model_name": "LayoutModel",
            "justify_items": null,
            "grid_row": null,
            "max_height": null,
            "align_content": null,
            "visibility": null,
            "align_self": null,
            "height": null,
            "min_height": null,
            "padding": null,
            "grid_auto_rows": null,
            "grid_gap": null,
            "max_width": null,
            "order": null,
            "_view_module_version": "1.2.0",
            "grid_template_areas": null,
            "object_position": null,
            "object_fit": null,
            "grid_auto_columns": null,
            "margin": null,
            "display": null,
            "left": null
          }
        },
        "655fff21a0de44a084fcfacdf28d1ea1": {
          "model_module": "@jupyter-widgets/controls",
          "model_name": "LabelModel",
          "state": {
            "_view_name": "LabelView",
            "style": "IPY_MODEL_df51e4b3bdc043cab191c51973e730b1",
            "_dom_classes": [],
            "description": "",
            "_model_name": "LabelModel",
            "placeholder": "​",
            "_view_module": "@jupyter-widgets/controls",
            "_model_module_version": "1.5.0",
            "value": " 0.01MB of 0.01MB uploaded (0.00MB deduped)\r",
            "_view_count": null,
            "_view_module_version": "1.5.0",
            "description_tooltip": null,
            "_model_module": "@jupyter-widgets/controls",
            "layout": "IPY_MODEL_9a351eeadea14f5bbe2d3e0164378d3a"
          }
        },
        "5a710b04c48f4d5ab43d20026418f564": {
          "model_module": "@jupyter-widgets/controls",
          "model_name": "FloatProgressModel",
          "state": {
            "_view_name": "ProgressView",
            "style": "IPY_MODEL_3d94ecbbbe9d450b94985e6b4402c602",
            "_dom_classes": [],
            "description": "",
            "_model_name": "FloatProgressModel",
            "bar_style": "",
            "max": 1,
            "_view_module": "@jupyter-widgets/controls",
            "_model_module_version": "1.5.0",
            "value": 1,
            "_view_count": null,
            "_view_module_version": "1.5.0",
            "orientation": "horizontal",
            "min": 0,
            "description_tooltip": null,
            "_model_module": "@jupyter-widgets/controls",
            "layout": "IPY_MODEL_83de5f953a134bba8c9fc33a600eb1bc"
          }
        },
        "df51e4b3bdc043cab191c51973e730b1": {
          "model_module": "@jupyter-widgets/controls",
          "model_name": "DescriptionStyleModel",
          "state": {
            "_view_name": "StyleView",
            "_model_name": "DescriptionStyleModel",
            "description_width": "",
            "_view_module": "@jupyter-widgets/base",
            "_model_module_version": "1.5.0",
            "_view_count": null,
            "_view_module_version": "1.2.0",
            "_model_module": "@jupyter-widgets/controls"
          }
        },
        "9a351eeadea14f5bbe2d3e0164378d3a": {
          "model_module": "@jupyter-widgets/base",
          "model_name": "LayoutModel",
          "state": {
            "_view_name": "LayoutView",
            "grid_template_rows": null,
            "right": null,
            "justify_content": null,
            "_view_module": "@jupyter-widgets/base",
            "overflow": null,
            "_model_module_version": "1.2.0",
            "_view_count": null,
            "flex_flow": null,
            "width": null,
            "min_width": null,
            "border": null,
            "align_items": null,
            "bottom": null,
            "_model_module": "@jupyter-widgets/base",
            "top": null,
            "grid_column": null,
            "overflow_y": null,
            "overflow_x": null,
            "grid_auto_flow": null,
            "grid_area": null,
            "grid_template_columns": null,
            "flex": null,
            "_model_name": "LayoutModel",
            "justify_items": null,
            "grid_row": null,
            "max_height": null,
            "align_content": null,
            "visibility": null,
            "align_self": null,
            "height": null,
            "min_height": null,
            "padding": null,
            "grid_auto_rows": null,
            "grid_gap": null,
            "max_width": null,
            "order": null,
            "_view_module_version": "1.2.0",
            "grid_template_areas": null,
            "object_position": null,
            "object_fit": null,
            "grid_auto_columns": null,
            "margin": null,
            "display": null,
            "left": null
          }
        },
        "3d94ecbbbe9d450b94985e6b4402c602": {
          "model_module": "@jupyter-widgets/controls",
          "model_name": "ProgressStyleModel",
          "state": {
            "_view_name": "StyleView",
            "_model_name": "ProgressStyleModel",
            "description_width": "",
            "_view_module": "@jupyter-widgets/base",
            "_model_module_version": "1.5.0",
            "_view_count": null,
            "_view_module_version": "1.2.0",
            "bar_color": null,
            "_model_module": "@jupyter-widgets/controls"
          }
        },
        "83de5f953a134bba8c9fc33a600eb1bc": {
          "model_module": "@jupyter-widgets/base",
          "model_name": "LayoutModel",
          "state": {
            "_view_name": "LayoutView",
            "grid_template_rows": null,
            "right": null,
            "justify_content": null,
            "_view_module": "@jupyter-widgets/base",
            "overflow": null,
            "_model_module_version": "1.2.0",
            "_view_count": null,
            "flex_flow": null,
            "width": null,
            "min_width": null,
            "border": null,
            "align_items": null,
            "bottom": null,
            "_model_module": "@jupyter-widgets/base",
            "top": null,
            "grid_column": null,
            "overflow_y": null,
            "overflow_x": null,
            "grid_auto_flow": null,
            "grid_area": null,
            "grid_template_columns": null,
            "flex": null,
            "_model_name": "LayoutModel",
            "justify_items": null,
            "grid_row": null,
            "max_height": null,
            "align_content": null,
            "visibility": null,
            "align_self": null,
            "height": null,
            "min_height": null,
            "padding": null,
            "grid_auto_rows": null,
            "grid_gap": null,
            "max_width": null,
            "order": null,
            "_view_module_version": "1.2.0",
            "grid_template_areas": null,
            "object_position": null,
            "object_fit": null,
            "grid_auto_columns": null,
            "margin": null,
            "display": null,
            "left": null
          }
        },
        "34494ba9a6d34092a7443a7362f9e4f6": {
          "model_module": "@jupyter-widgets/controls",
          "model_name": "VBoxModel",
          "state": {
            "_view_name": "VBoxView",
            "_dom_classes": [],
            "_model_name": "VBoxModel",
            "_view_module": "@jupyter-widgets/controls",
            "_model_module_version": "1.5.0",
            "_view_count": null,
            "_view_module_version": "1.5.0",
            "box_style": "",
            "layout": "IPY_MODEL_de72b285a2f841eb9fe97a09cfcd9956",
            "_model_module": "@jupyter-widgets/controls",
            "children": [
              "IPY_MODEL_f9bd06bfaf9a417aaf8a2f5e576c44ea",
              "IPY_MODEL_7d203068236740e69fa156505b2d1852"
            ]
          }
        },
        "de72b285a2f841eb9fe97a09cfcd9956": {
          "model_module": "@jupyter-widgets/base",
          "model_name": "LayoutModel",
          "state": {
            "_view_name": "LayoutView",
            "grid_template_rows": null,
            "right": null,
            "justify_content": null,
            "_view_module": "@jupyter-widgets/base",
            "overflow": null,
            "_model_module_version": "1.2.0",
            "_view_count": null,
            "flex_flow": null,
            "width": null,
            "min_width": null,
            "border": null,
            "align_items": null,
            "bottom": null,
            "_model_module": "@jupyter-widgets/base",
            "top": null,
            "grid_column": null,
            "overflow_y": null,
            "overflow_x": null,
            "grid_auto_flow": null,
            "grid_area": null,
            "grid_template_columns": null,
            "flex": null,
            "_model_name": "LayoutModel",
            "justify_items": null,
            "grid_row": null,
            "max_height": null,
            "align_content": null,
            "visibility": null,
            "align_self": null,
            "height": null,
            "min_height": null,
            "padding": null,
            "grid_auto_rows": null,
            "grid_gap": null,
            "max_width": null,
            "order": null,
            "_view_module_version": "1.2.0",
            "grid_template_areas": null,
            "object_position": null,
            "object_fit": null,
            "grid_auto_columns": null,
            "margin": null,
            "display": null,
            "left": null
          }
        },
        "f9bd06bfaf9a417aaf8a2f5e576c44ea": {
          "model_module": "@jupyter-widgets/controls",
          "model_name": "LabelModel",
          "state": {
            "_view_name": "LabelView",
            "style": "IPY_MODEL_bf66cea697cf4148843551a8948c8f08",
            "_dom_classes": [],
            "description": "",
            "_model_name": "LabelModel",
            "placeholder": "​",
            "_view_module": "@jupyter-widgets/controls",
            "_model_module_version": "1.5.0",
            "value": " 0.01MB of 0.01MB uploaded (0.00MB deduped)\r",
            "_view_count": null,
            "_view_module_version": "1.5.0",
            "description_tooltip": null,
            "_model_module": "@jupyter-widgets/controls",
            "layout": "IPY_MODEL_67f860dc8d774fcba24cc2a8cf8c2fdb"
          }
        },
        "7d203068236740e69fa156505b2d1852": {
          "model_module": "@jupyter-widgets/controls",
          "model_name": "FloatProgressModel",
          "state": {
            "_view_name": "ProgressView",
            "style": "IPY_MODEL_a96e5727abe34a49bd25891895e40590",
            "_dom_classes": [],
            "description": "",
            "_model_name": "FloatProgressModel",
            "bar_style": "",
            "max": 1,
            "_view_module": "@jupyter-widgets/controls",
            "_model_module_version": "1.5.0",
            "value": 1,
            "_view_count": null,
            "_view_module_version": "1.5.0",
            "orientation": "horizontal",
            "min": 0,
            "description_tooltip": null,
            "_model_module": "@jupyter-widgets/controls",
            "layout": "IPY_MODEL_be0c9a97c9a545d682204943aff2d516"
          }
        },
        "bf66cea697cf4148843551a8948c8f08": {
          "model_module": "@jupyter-widgets/controls",
          "model_name": "DescriptionStyleModel",
          "state": {
            "_view_name": "StyleView",
            "_model_name": "DescriptionStyleModel",
            "description_width": "",
            "_view_module": "@jupyter-widgets/base",
            "_model_module_version": "1.5.0",
            "_view_count": null,
            "_view_module_version": "1.2.0",
            "_model_module": "@jupyter-widgets/controls"
          }
        },
        "67f860dc8d774fcba24cc2a8cf8c2fdb": {
          "model_module": "@jupyter-widgets/base",
          "model_name": "LayoutModel",
          "state": {
            "_view_name": "LayoutView",
            "grid_template_rows": null,
            "right": null,
            "justify_content": null,
            "_view_module": "@jupyter-widgets/base",
            "overflow": null,
            "_model_module_version": "1.2.0",
            "_view_count": null,
            "flex_flow": null,
            "width": null,
            "min_width": null,
            "border": null,
            "align_items": null,
            "bottom": null,
            "_model_module": "@jupyter-widgets/base",
            "top": null,
            "grid_column": null,
            "overflow_y": null,
            "overflow_x": null,
            "grid_auto_flow": null,
            "grid_area": null,
            "grid_template_columns": null,
            "flex": null,
            "_model_name": "LayoutModel",
            "justify_items": null,
            "grid_row": null,
            "max_height": null,
            "align_content": null,
            "visibility": null,
            "align_self": null,
            "height": null,
            "min_height": null,
            "padding": null,
            "grid_auto_rows": null,
            "grid_gap": null,
            "max_width": null,
            "order": null,
            "_view_module_version": "1.2.0",
            "grid_template_areas": null,
            "object_position": null,
            "object_fit": null,
            "grid_auto_columns": null,
            "margin": null,
            "display": null,
            "left": null
          }
        },
        "a96e5727abe34a49bd25891895e40590": {
          "model_module": "@jupyter-widgets/controls",
          "model_name": "ProgressStyleModel",
          "state": {
            "_view_name": "StyleView",
            "_model_name": "ProgressStyleModel",
            "description_width": "",
            "_view_module": "@jupyter-widgets/base",
            "_model_module_version": "1.5.0",
            "_view_count": null,
            "_view_module_version": "1.2.0",
            "bar_color": null,
            "_model_module": "@jupyter-widgets/controls"
          }
        },
        "be0c9a97c9a545d682204943aff2d516": {
          "model_module": "@jupyter-widgets/base",
          "model_name": "LayoutModel",
          "state": {
            "_view_name": "LayoutView",
            "grid_template_rows": null,
            "right": null,
            "justify_content": null,
            "_view_module": "@jupyter-widgets/base",
            "overflow": null,
            "_model_module_version": "1.2.0",
            "_view_count": null,
            "flex_flow": null,
            "width": null,
            "min_width": null,
            "border": null,
            "align_items": null,
            "bottom": null,
            "_model_module": "@jupyter-widgets/base",
            "top": null,
            "grid_column": null,
            "overflow_y": null,
            "overflow_x": null,
            "grid_auto_flow": null,
            "grid_area": null,
            "grid_template_columns": null,
            "flex": null,
            "_model_name": "LayoutModel",
            "justify_items": null,
            "grid_row": null,
            "max_height": null,
            "align_content": null,
            "visibility": null,
            "align_self": null,
            "height": null,
            "min_height": null,
            "padding": null,
            "grid_auto_rows": null,
            "grid_gap": null,
            "max_width": null,
            "order": null,
            "_view_module_version": "1.2.0",
            "grid_template_areas": null,
            "object_position": null,
            "object_fit": null,
            "grid_auto_columns": null,
            "margin": null,
            "display": null,
            "left": null
          }
        },
        "63008c93ce524e8488460a0644c3f190": {
          "model_module": "@jupyter-widgets/controls",
          "model_name": "VBoxModel",
          "state": {
            "_view_name": "VBoxView",
            "_dom_classes": [],
            "_model_name": "VBoxModel",
            "_view_module": "@jupyter-widgets/controls",
            "_model_module_version": "1.5.0",
            "_view_count": null,
            "_view_module_version": "1.5.0",
            "box_style": "",
            "layout": "IPY_MODEL_74d32d29fcc9483ab71ae6d35d32254b",
            "_model_module": "@jupyter-widgets/controls",
            "children": [
              "IPY_MODEL_b2d2d75eadf84d4e8f8f454cd3f95702",
              "IPY_MODEL_181857b183f246ff9f98e10e63bc7047"
            ]
          }
        },
        "74d32d29fcc9483ab71ae6d35d32254b": {
          "model_module": "@jupyter-widgets/base",
          "model_name": "LayoutModel",
          "state": {
            "_view_name": "LayoutView",
            "grid_template_rows": null,
            "right": null,
            "justify_content": null,
            "_view_module": "@jupyter-widgets/base",
            "overflow": null,
            "_model_module_version": "1.2.0",
            "_view_count": null,
            "flex_flow": null,
            "width": null,
            "min_width": null,
            "border": null,
            "align_items": null,
            "bottom": null,
            "_model_module": "@jupyter-widgets/base",
            "top": null,
            "grid_column": null,
            "overflow_y": null,
            "overflow_x": null,
            "grid_auto_flow": null,
            "grid_area": null,
            "grid_template_columns": null,
            "flex": null,
            "_model_name": "LayoutModel",
            "justify_items": null,
            "grid_row": null,
            "max_height": null,
            "align_content": null,
            "visibility": null,
            "align_self": null,
            "height": null,
            "min_height": null,
            "padding": null,
            "grid_auto_rows": null,
            "grid_gap": null,
            "max_width": null,
            "order": null,
            "_view_module_version": "1.2.0",
            "grid_template_areas": null,
            "object_position": null,
            "object_fit": null,
            "grid_auto_columns": null,
            "margin": null,
            "display": null,
            "left": null
          }
        },
        "b2d2d75eadf84d4e8f8f454cd3f95702": {
          "model_module": "@jupyter-widgets/controls",
          "model_name": "LabelModel",
          "state": {
            "_view_name": "LabelView",
            "style": "IPY_MODEL_c2ae35d5058c4cedaa1dd6d9b2bea272",
            "_dom_classes": [],
            "description": "",
            "_model_name": "LabelModel",
            "placeholder": "​",
            "_view_module": "@jupyter-widgets/controls",
            "_model_module_version": "1.5.0",
            "value": " 0.01MB of 0.01MB uploaded (0.00MB deduped)\r",
            "_view_count": null,
            "_view_module_version": "1.5.0",
            "description_tooltip": null,
            "_model_module": "@jupyter-widgets/controls",
            "layout": "IPY_MODEL_5499cd6a9612402687f2d1e9230f0796"
          }
        },
        "181857b183f246ff9f98e10e63bc7047": {
          "model_module": "@jupyter-widgets/controls",
          "model_name": "FloatProgressModel",
          "state": {
            "_view_name": "ProgressView",
            "style": "IPY_MODEL_99d6dd0eda344f14a7362f92bc174550",
            "_dom_classes": [],
            "description": "",
            "_model_name": "FloatProgressModel",
            "bar_style": "",
            "max": 1,
            "_view_module": "@jupyter-widgets/controls",
            "_model_module_version": "1.5.0",
            "value": 1,
            "_view_count": null,
            "_view_module_version": "1.5.0",
            "orientation": "horizontal",
            "min": 0,
            "description_tooltip": null,
            "_model_module": "@jupyter-widgets/controls",
            "layout": "IPY_MODEL_0b371028dfe6490bb10722207d367bdc"
          }
        },
        "c2ae35d5058c4cedaa1dd6d9b2bea272": {
          "model_module": "@jupyter-widgets/controls",
          "model_name": "DescriptionStyleModel",
          "state": {
            "_view_name": "StyleView",
            "_model_name": "DescriptionStyleModel",
            "description_width": "",
            "_view_module": "@jupyter-widgets/base",
            "_model_module_version": "1.5.0",
            "_view_count": null,
            "_view_module_version": "1.2.0",
            "_model_module": "@jupyter-widgets/controls"
          }
        },
        "5499cd6a9612402687f2d1e9230f0796": {
          "model_module": "@jupyter-widgets/base",
          "model_name": "LayoutModel",
          "state": {
            "_view_name": "LayoutView",
            "grid_template_rows": null,
            "right": null,
            "justify_content": null,
            "_view_module": "@jupyter-widgets/base",
            "overflow": null,
            "_model_module_version": "1.2.0",
            "_view_count": null,
            "flex_flow": null,
            "width": null,
            "min_width": null,
            "border": null,
            "align_items": null,
            "bottom": null,
            "_model_module": "@jupyter-widgets/base",
            "top": null,
            "grid_column": null,
            "overflow_y": null,
            "overflow_x": null,
            "grid_auto_flow": null,
            "grid_area": null,
            "grid_template_columns": null,
            "flex": null,
            "_model_name": "LayoutModel",
            "justify_items": null,
            "grid_row": null,
            "max_height": null,
            "align_content": null,
            "visibility": null,
            "align_self": null,
            "height": null,
            "min_height": null,
            "padding": null,
            "grid_auto_rows": null,
            "grid_gap": null,
            "max_width": null,
            "order": null,
            "_view_module_version": "1.2.0",
            "grid_template_areas": null,
            "object_position": null,
            "object_fit": null,
            "grid_auto_columns": null,
            "margin": null,
            "display": null,
            "left": null
          }
        },
        "99d6dd0eda344f14a7362f92bc174550": {
          "model_module": "@jupyter-widgets/controls",
          "model_name": "ProgressStyleModel",
          "state": {
            "_view_name": "StyleView",
            "_model_name": "ProgressStyleModel",
            "description_width": "",
            "_view_module": "@jupyter-widgets/base",
            "_model_module_version": "1.5.0",
            "_view_count": null,
            "_view_module_version": "1.2.0",
            "bar_color": null,
            "_model_module": "@jupyter-widgets/controls"
          }
        },
        "0b371028dfe6490bb10722207d367bdc": {
          "model_module": "@jupyter-widgets/base",
          "model_name": "LayoutModel",
          "state": {
            "_view_name": "LayoutView",
            "grid_template_rows": null,
            "right": null,
            "justify_content": null,
            "_view_module": "@jupyter-widgets/base",
            "overflow": null,
            "_model_module_version": "1.2.0",
            "_view_count": null,
            "flex_flow": null,
            "width": null,
            "min_width": null,
            "border": null,
            "align_items": null,
            "bottom": null,
            "_model_module": "@jupyter-widgets/base",
            "top": null,
            "grid_column": null,
            "overflow_y": null,
            "overflow_x": null,
            "grid_auto_flow": null,
            "grid_area": null,
            "grid_template_columns": null,
            "flex": null,
            "_model_name": "LayoutModel",
            "justify_items": null,
            "grid_row": null,
            "max_height": null,
            "align_content": null,
            "visibility": null,
            "align_self": null,
            "height": null,
            "min_height": null,
            "padding": null,
            "grid_auto_rows": null,
            "grid_gap": null,
            "max_width": null,
            "order": null,
            "_view_module_version": "1.2.0",
            "grid_template_areas": null,
            "object_position": null,
            "object_fit": null,
            "grid_auto_columns": null,
            "margin": null,
            "display": null,
            "left": null
          }
        },
        "01a96c58e62f4c7e82fffb93139aff34": {
          "model_module": "@jupyter-widgets/controls",
          "model_name": "VBoxModel",
          "state": {
            "_view_name": "VBoxView",
            "_dom_classes": [],
            "_model_name": "VBoxModel",
            "_view_module": "@jupyter-widgets/controls",
            "_model_module_version": "1.5.0",
            "_view_count": null,
            "_view_module_version": "1.5.0",
            "box_style": "",
            "layout": "IPY_MODEL_f08f2bea09a84865b7d0856f229dd14c",
            "_model_module": "@jupyter-widgets/controls",
            "children": [
              "IPY_MODEL_e07b057481d849ca8f9b48088af7b96d",
              "IPY_MODEL_328945204202404c9341592c3c8c854a"
            ]
          }
        },
        "f08f2bea09a84865b7d0856f229dd14c": {
          "model_module": "@jupyter-widgets/base",
          "model_name": "LayoutModel",
          "state": {
            "_view_name": "LayoutView",
            "grid_template_rows": null,
            "right": null,
            "justify_content": null,
            "_view_module": "@jupyter-widgets/base",
            "overflow": null,
            "_model_module_version": "1.2.0",
            "_view_count": null,
            "flex_flow": null,
            "width": null,
            "min_width": null,
            "border": null,
            "align_items": null,
            "bottom": null,
            "_model_module": "@jupyter-widgets/base",
            "top": null,
            "grid_column": null,
            "overflow_y": null,
            "overflow_x": null,
            "grid_auto_flow": null,
            "grid_area": null,
            "grid_template_columns": null,
            "flex": null,
            "_model_name": "LayoutModel",
            "justify_items": null,
            "grid_row": null,
            "max_height": null,
            "align_content": null,
            "visibility": null,
            "align_self": null,
            "height": null,
            "min_height": null,
            "padding": null,
            "grid_auto_rows": null,
            "grid_gap": null,
            "max_width": null,
            "order": null,
            "_view_module_version": "1.2.0",
            "grid_template_areas": null,
            "object_position": null,
            "object_fit": null,
            "grid_auto_columns": null,
            "margin": null,
            "display": null,
            "left": null
          }
        },
        "e07b057481d849ca8f9b48088af7b96d": {
          "model_module": "@jupyter-widgets/controls",
          "model_name": "LabelModel",
          "state": {
            "_view_name": "LabelView",
            "style": "IPY_MODEL_36f5578f2928438688c711e4892d2ef6",
            "_dom_classes": [],
            "description": "",
            "_model_name": "LabelModel",
            "placeholder": "​",
            "_view_module": "@jupyter-widgets/controls",
            "_model_module_version": "1.5.0",
            "value": " 0.01MB of 0.01MB uploaded (0.00MB deduped)\r",
            "_view_count": null,
            "_view_module_version": "1.5.0",
            "description_tooltip": null,
            "_model_module": "@jupyter-widgets/controls",
            "layout": "IPY_MODEL_b8d6eb5dd6e44ff9a9d2f7891ea86b4c"
          }
        },
        "328945204202404c9341592c3c8c854a": {
          "model_module": "@jupyter-widgets/controls",
          "model_name": "FloatProgressModel",
          "state": {
            "_view_name": "ProgressView",
            "style": "IPY_MODEL_85c2a800364a498a90c4c49f67a6d329",
            "_dom_classes": [],
            "description": "",
            "_model_name": "FloatProgressModel",
            "bar_style": "",
            "max": 1,
            "_view_module": "@jupyter-widgets/controls",
            "_model_module_version": "1.5.0",
            "value": 1,
            "_view_count": null,
            "_view_module_version": "1.5.0",
            "orientation": "horizontal",
            "min": 0,
            "description_tooltip": null,
            "_model_module": "@jupyter-widgets/controls",
            "layout": "IPY_MODEL_94fe16e79d68468e8d8a462e4bdffa9c"
          }
        },
        "36f5578f2928438688c711e4892d2ef6": {
          "model_module": "@jupyter-widgets/controls",
          "model_name": "DescriptionStyleModel",
          "state": {
            "_view_name": "StyleView",
            "_model_name": "DescriptionStyleModel",
            "description_width": "",
            "_view_module": "@jupyter-widgets/base",
            "_model_module_version": "1.5.0",
            "_view_count": null,
            "_view_module_version": "1.2.0",
            "_model_module": "@jupyter-widgets/controls"
          }
        },
        "b8d6eb5dd6e44ff9a9d2f7891ea86b4c": {
          "model_module": "@jupyter-widgets/base",
          "model_name": "LayoutModel",
          "state": {
            "_view_name": "LayoutView",
            "grid_template_rows": null,
            "right": null,
            "justify_content": null,
            "_view_module": "@jupyter-widgets/base",
            "overflow": null,
            "_model_module_version": "1.2.0",
            "_view_count": null,
            "flex_flow": null,
            "width": null,
            "min_width": null,
            "border": null,
            "align_items": null,
            "bottom": null,
            "_model_module": "@jupyter-widgets/base",
            "top": null,
            "grid_column": null,
            "overflow_y": null,
            "overflow_x": null,
            "grid_auto_flow": null,
            "grid_area": null,
            "grid_template_columns": null,
            "flex": null,
            "_model_name": "LayoutModel",
            "justify_items": null,
            "grid_row": null,
            "max_height": null,
            "align_content": null,
            "visibility": null,
            "align_self": null,
            "height": null,
            "min_height": null,
            "padding": null,
            "grid_auto_rows": null,
            "grid_gap": null,
            "max_width": null,
            "order": null,
            "_view_module_version": "1.2.0",
            "grid_template_areas": null,
            "object_position": null,
            "object_fit": null,
            "grid_auto_columns": null,
            "margin": null,
            "display": null,
            "left": null
          }
        },
        "85c2a800364a498a90c4c49f67a6d329": {
          "model_module": "@jupyter-widgets/controls",
          "model_name": "ProgressStyleModel",
          "state": {
            "_view_name": "StyleView",
            "_model_name": "ProgressStyleModel",
            "description_width": "",
            "_view_module": "@jupyter-widgets/base",
            "_model_module_version": "1.5.0",
            "_view_count": null,
            "_view_module_version": "1.2.0",
            "bar_color": null,
            "_model_module": "@jupyter-widgets/controls"
          }
        },
        "94fe16e79d68468e8d8a462e4bdffa9c": {
          "model_module": "@jupyter-widgets/base",
          "model_name": "LayoutModel",
          "state": {
            "_view_name": "LayoutView",
            "grid_template_rows": null,
            "right": null,
            "justify_content": null,
            "_view_module": "@jupyter-widgets/base",
            "overflow": null,
            "_model_module_version": "1.2.0",
            "_view_count": null,
            "flex_flow": null,
            "width": null,
            "min_width": null,
            "border": null,
            "align_items": null,
            "bottom": null,
            "_model_module": "@jupyter-widgets/base",
            "top": null,
            "grid_column": null,
            "overflow_y": null,
            "overflow_x": null,
            "grid_auto_flow": null,
            "grid_area": null,
            "grid_template_columns": null,
            "flex": null,
            "_model_name": "LayoutModel",
            "justify_items": null,
            "grid_row": null,
            "max_height": null,
            "align_content": null,
            "visibility": null,
            "align_self": null,
            "height": null,
            "min_height": null,
            "padding": null,
            "grid_auto_rows": null,
            "grid_gap": null,
            "max_width": null,
            "order": null,
            "_view_module_version": "1.2.0",
            "grid_template_areas": null,
            "object_position": null,
            "object_fit": null,
            "grid_auto_columns": null,
            "margin": null,
            "display": null,
            "left": null
          }
        },
        "a5eeba0adfe4497fa62aeabf4f357cf9": {
          "model_module": "@jupyter-widgets/controls",
          "model_name": "VBoxModel",
          "state": {
            "_view_name": "VBoxView",
            "_dom_classes": [],
            "_model_name": "VBoxModel",
            "_view_module": "@jupyter-widgets/controls",
            "_model_module_version": "1.5.0",
            "_view_count": null,
            "_view_module_version": "1.5.0",
            "box_style": "",
            "layout": "IPY_MODEL_40ce3abf97f7499cae567806282aeab2",
            "_model_module": "@jupyter-widgets/controls",
            "children": [
              "IPY_MODEL_b5c639bbcc964dcaaf3e1fdd1be82817",
              "IPY_MODEL_ab9528d04ee14bd0ad1d418b84a164fd"
            ]
          }
        },
        "40ce3abf97f7499cae567806282aeab2": {
          "model_module": "@jupyter-widgets/base",
          "model_name": "LayoutModel",
          "state": {
            "_view_name": "LayoutView",
            "grid_template_rows": null,
            "right": null,
            "justify_content": null,
            "_view_module": "@jupyter-widgets/base",
            "overflow": null,
            "_model_module_version": "1.2.0",
            "_view_count": null,
            "flex_flow": null,
            "width": null,
            "min_width": null,
            "border": null,
            "align_items": null,
            "bottom": null,
            "_model_module": "@jupyter-widgets/base",
            "top": null,
            "grid_column": null,
            "overflow_y": null,
            "overflow_x": null,
            "grid_auto_flow": null,
            "grid_area": null,
            "grid_template_columns": null,
            "flex": null,
            "_model_name": "LayoutModel",
            "justify_items": null,
            "grid_row": null,
            "max_height": null,
            "align_content": null,
            "visibility": null,
            "align_self": null,
            "height": null,
            "min_height": null,
            "padding": null,
            "grid_auto_rows": null,
            "grid_gap": null,
            "max_width": null,
            "order": null,
            "_view_module_version": "1.2.0",
            "grid_template_areas": null,
            "object_position": null,
            "object_fit": null,
            "grid_auto_columns": null,
            "margin": null,
            "display": null,
            "left": null
          }
        },
        "b5c639bbcc964dcaaf3e1fdd1be82817": {
          "model_module": "@jupyter-widgets/controls",
          "model_name": "LabelModel",
          "state": {
            "_view_name": "LabelView",
            "style": "IPY_MODEL_12636849cc0346eda329369b0493a605",
            "_dom_classes": [],
            "description": "",
            "_model_name": "LabelModel",
            "placeholder": "​",
            "_view_module": "@jupyter-widgets/controls",
            "_model_module_version": "1.5.0",
            "value": " 0.01MB of 0.01MB uploaded (0.00MB deduped)\r",
            "_view_count": null,
            "_view_module_version": "1.5.0",
            "description_tooltip": null,
            "_model_module": "@jupyter-widgets/controls",
            "layout": "IPY_MODEL_19c051965f2a42f3826e26ff28836a18"
          }
        },
        "ab9528d04ee14bd0ad1d418b84a164fd": {
          "model_module": "@jupyter-widgets/controls",
          "model_name": "FloatProgressModel",
          "state": {
            "_view_name": "ProgressView",
            "style": "IPY_MODEL_bd5bb91b2c5b49f3be549cec74d115f6",
            "_dom_classes": [],
            "description": "",
            "_model_name": "FloatProgressModel",
            "bar_style": "",
            "max": 1,
            "_view_module": "@jupyter-widgets/controls",
            "_model_module_version": "1.5.0",
            "value": 1,
            "_view_count": null,
            "_view_module_version": "1.5.0",
            "orientation": "horizontal",
            "min": 0,
            "description_tooltip": null,
            "_model_module": "@jupyter-widgets/controls",
            "layout": "IPY_MODEL_367e0303b2e944df989800dfab0a792c"
          }
        },
        "12636849cc0346eda329369b0493a605": {
          "model_module": "@jupyter-widgets/controls",
          "model_name": "DescriptionStyleModel",
          "state": {
            "_view_name": "StyleView",
            "_model_name": "DescriptionStyleModel",
            "description_width": "",
            "_view_module": "@jupyter-widgets/base",
            "_model_module_version": "1.5.0",
            "_view_count": null,
            "_view_module_version": "1.2.0",
            "_model_module": "@jupyter-widgets/controls"
          }
        },
        "19c051965f2a42f3826e26ff28836a18": {
          "model_module": "@jupyter-widgets/base",
          "model_name": "LayoutModel",
          "state": {
            "_view_name": "LayoutView",
            "grid_template_rows": null,
            "right": null,
            "justify_content": null,
            "_view_module": "@jupyter-widgets/base",
            "overflow": null,
            "_model_module_version": "1.2.0",
            "_view_count": null,
            "flex_flow": null,
            "width": null,
            "min_width": null,
            "border": null,
            "align_items": null,
            "bottom": null,
            "_model_module": "@jupyter-widgets/base",
            "top": null,
            "grid_column": null,
            "overflow_y": null,
            "overflow_x": null,
            "grid_auto_flow": null,
            "grid_area": null,
            "grid_template_columns": null,
            "flex": null,
            "_model_name": "LayoutModel",
            "justify_items": null,
            "grid_row": null,
            "max_height": null,
            "align_content": null,
            "visibility": null,
            "align_self": null,
            "height": null,
            "min_height": null,
            "padding": null,
            "grid_auto_rows": null,
            "grid_gap": null,
            "max_width": null,
            "order": null,
            "_view_module_version": "1.2.0",
            "grid_template_areas": null,
            "object_position": null,
            "object_fit": null,
            "grid_auto_columns": null,
            "margin": null,
            "display": null,
            "left": null
          }
        },
        "bd5bb91b2c5b49f3be549cec74d115f6": {
          "model_module": "@jupyter-widgets/controls",
          "model_name": "ProgressStyleModel",
          "state": {
            "_view_name": "StyleView",
            "_model_name": "ProgressStyleModel",
            "description_width": "",
            "_view_module": "@jupyter-widgets/base",
            "_model_module_version": "1.5.0",
            "_view_count": null,
            "_view_module_version": "1.2.0",
            "bar_color": null,
            "_model_module": "@jupyter-widgets/controls"
          }
        },
        "367e0303b2e944df989800dfab0a792c": {
          "model_module": "@jupyter-widgets/base",
          "model_name": "LayoutModel",
          "state": {
            "_view_name": "LayoutView",
            "grid_template_rows": null,
            "right": null,
            "justify_content": null,
            "_view_module": "@jupyter-widgets/base",
            "overflow": null,
            "_model_module_version": "1.2.0",
            "_view_count": null,
            "flex_flow": null,
            "width": null,
            "min_width": null,
            "border": null,
            "align_items": null,
            "bottom": null,
            "_model_module": "@jupyter-widgets/base",
            "top": null,
            "grid_column": null,
            "overflow_y": null,
            "overflow_x": null,
            "grid_auto_flow": null,
            "grid_area": null,
            "grid_template_columns": null,
            "flex": null,
            "_model_name": "LayoutModel",
            "justify_items": null,
            "grid_row": null,
            "max_height": null,
            "align_content": null,
            "visibility": null,
            "align_self": null,
            "height": null,
            "min_height": null,
            "padding": null,
            "grid_auto_rows": null,
            "grid_gap": null,
            "max_width": null,
            "order": null,
            "_view_module_version": "1.2.0",
            "grid_template_areas": null,
            "object_position": null,
            "object_fit": null,
            "grid_auto_columns": null,
            "margin": null,
            "display": null,
            "left": null
          }
        },
        "fb35b33a3d1641d1accbce507e51478b": {
          "model_module": "@jupyter-widgets/controls",
          "model_name": "VBoxModel",
          "state": {
            "_view_name": "VBoxView",
            "_dom_classes": [],
            "_model_name": "VBoxModel",
            "_view_module": "@jupyter-widgets/controls",
            "_model_module_version": "1.5.0",
            "_view_count": null,
            "_view_module_version": "1.5.0",
            "box_style": "",
            "layout": "IPY_MODEL_02fdc28f742f4f39be1b5a938b790be6",
            "_model_module": "@jupyter-widgets/controls",
            "children": [
              "IPY_MODEL_1bdae9cfb75d45749316f31a6b286974",
              "IPY_MODEL_a24564af68314b9eab3ef871ca987a74"
            ]
          }
        },
        "02fdc28f742f4f39be1b5a938b790be6": {
          "model_module": "@jupyter-widgets/base",
          "model_name": "LayoutModel",
          "state": {
            "_view_name": "LayoutView",
            "grid_template_rows": null,
            "right": null,
            "justify_content": null,
            "_view_module": "@jupyter-widgets/base",
            "overflow": null,
            "_model_module_version": "1.2.0",
            "_view_count": null,
            "flex_flow": null,
            "width": null,
            "min_width": null,
            "border": null,
            "align_items": null,
            "bottom": null,
            "_model_module": "@jupyter-widgets/base",
            "top": null,
            "grid_column": null,
            "overflow_y": null,
            "overflow_x": null,
            "grid_auto_flow": null,
            "grid_area": null,
            "grid_template_columns": null,
            "flex": null,
            "_model_name": "LayoutModel",
            "justify_items": null,
            "grid_row": null,
            "max_height": null,
            "align_content": null,
            "visibility": null,
            "align_self": null,
            "height": null,
            "min_height": null,
            "padding": null,
            "grid_auto_rows": null,
            "grid_gap": null,
            "max_width": null,
            "order": null,
            "_view_module_version": "1.2.0",
            "grid_template_areas": null,
            "object_position": null,
            "object_fit": null,
            "grid_auto_columns": null,
            "margin": null,
            "display": null,
            "left": null
          }
        },
        "1bdae9cfb75d45749316f31a6b286974": {
          "model_module": "@jupyter-widgets/controls",
          "model_name": "LabelModel",
          "state": {
            "_view_name": "LabelView",
            "style": "IPY_MODEL_1c1b5fff9fd04e9988b4805c884911c2",
            "_dom_classes": [],
            "description": "",
            "_model_name": "LabelModel",
            "placeholder": "​",
            "_view_module": "@jupyter-widgets/controls",
            "_model_module_version": "1.5.0",
            "value": " 0.01MB of 0.01MB uploaded (0.00MB deduped)\r",
            "_view_count": null,
            "_view_module_version": "1.5.0",
            "description_tooltip": null,
            "_model_module": "@jupyter-widgets/controls",
            "layout": "IPY_MODEL_23c5d9e965634c00b239e969b502e787"
          }
        },
        "a24564af68314b9eab3ef871ca987a74": {
          "model_module": "@jupyter-widgets/controls",
          "model_name": "FloatProgressModel",
          "state": {
            "_view_name": "ProgressView",
            "style": "IPY_MODEL_fe35a852e9f14a3a8dc73d78453c7172",
            "_dom_classes": [],
            "description": "",
            "_model_name": "FloatProgressModel",
            "bar_style": "",
            "max": 1,
            "_view_module": "@jupyter-widgets/controls",
            "_model_module_version": "1.5.0",
            "value": 1,
            "_view_count": null,
            "_view_module_version": "1.5.0",
            "orientation": "horizontal",
            "min": 0,
            "description_tooltip": null,
            "_model_module": "@jupyter-widgets/controls",
            "layout": "IPY_MODEL_05d68a681e5a4b1ab7667b7ef25ae780"
          }
        },
        "1c1b5fff9fd04e9988b4805c884911c2": {
          "model_module": "@jupyter-widgets/controls",
          "model_name": "DescriptionStyleModel",
          "state": {
            "_view_name": "StyleView",
            "_model_name": "DescriptionStyleModel",
            "description_width": "",
            "_view_module": "@jupyter-widgets/base",
            "_model_module_version": "1.5.0",
            "_view_count": null,
            "_view_module_version": "1.2.0",
            "_model_module": "@jupyter-widgets/controls"
          }
        },
        "23c5d9e965634c00b239e969b502e787": {
          "model_module": "@jupyter-widgets/base",
          "model_name": "LayoutModel",
          "state": {
            "_view_name": "LayoutView",
            "grid_template_rows": null,
            "right": null,
            "justify_content": null,
            "_view_module": "@jupyter-widgets/base",
            "overflow": null,
            "_model_module_version": "1.2.0",
            "_view_count": null,
            "flex_flow": null,
            "width": null,
            "min_width": null,
            "border": null,
            "align_items": null,
            "bottom": null,
            "_model_module": "@jupyter-widgets/base",
            "top": null,
            "grid_column": null,
            "overflow_y": null,
            "overflow_x": null,
            "grid_auto_flow": null,
            "grid_area": null,
            "grid_template_columns": null,
            "flex": null,
            "_model_name": "LayoutModel",
            "justify_items": null,
            "grid_row": null,
            "max_height": null,
            "align_content": null,
            "visibility": null,
            "align_self": null,
            "height": null,
            "min_height": null,
            "padding": null,
            "grid_auto_rows": null,
            "grid_gap": null,
            "max_width": null,
            "order": null,
            "_view_module_version": "1.2.0",
            "grid_template_areas": null,
            "object_position": null,
            "object_fit": null,
            "grid_auto_columns": null,
            "margin": null,
            "display": null,
            "left": null
          }
        },
        "fe35a852e9f14a3a8dc73d78453c7172": {
          "model_module": "@jupyter-widgets/controls",
          "model_name": "ProgressStyleModel",
          "state": {
            "_view_name": "StyleView",
            "_model_name": "ProgressStyleModel",
            "description_width": "",
            "_view_module": "@jupyter-widgets/base",
            "_model_module_version": "1.5.0",
            "_view_count": null,
            "_view_module_version": "1.2.0",
            "bar_color": null,
            "_model_module": "@jupyter-widgets/controls"
          }
        },
        "05d68a681e5a4b1ab7667b7ef25ae780": {
          "model_module": "@jupyter-widgets/base",
          "model_name": "LayoutModel",
          "state": {
            "_view_name": "LayoutView",
            "grid_template_rows": null,
            "right": null,
            "justify_content": null,
            "_view_module": "@jupyter-widgets/base",
            "overflow": null,
            "_model_module_version": "1.2.0",
            "_view_count": null,
            "flex_flow": null,
            "width": null,
            "min_width": null,
            "border": null,
            "align_items": null,
            "bottom": null,
            "_model_module": "@jupyter-widgets/base",
            "top": null,
            "grid_column": null,
            "overflow_y": null,
            "overflow_x": null,
            "grid_auto_flow": null,
            "grid_area": null,
            "grid_template_columns": null,
            "flex": null,
            "_model_name": "LayoutModel",
            "justify_items": null,
            "grid_row": null,
            "max_height": null,
            "align_content": null,
            "visibility": null,
            "align_self": null,
            "height": null,
            "min_height": null,
            "padding": null,
            "grid_auto_rows": null,
            "grid_gap": null,
            "max_width": null,
            "order": null,
            "_view_module_version": "1.2.0",
            "grid_template_areas": null,
            "object_position": null,
            "object_fit": null,
            "grid_auto_columns": null,
            "margin": null,
            "display": null,
            "left": null
          }
        },
        "5b6f9d5b55f34c9bbdf552cb227ebf27": {
          "model_module": "@jupyter-widgets/controls",
          "model_name": "VBoxModel",
          "state": {
            "_view_name": "VBoxView",
            "_dom_classes": [],
            "_model_name": "VBoxModel",
            "_view_module": "@jupyter-widgets/controls",
            "_model_module_version": "1.5.0",
            "_view_count": null,
            "_view_module_version": "1.5.0",
            "box_style": "",
            "layout": "IPY_MODEL_dba194f1de494ef6a4051b369bd1af14",
            "_model_module": "@jupyter-widgets/controls",
            "children": [
              "IPY_MODEL_459cebcdc529455a984dadb2ba402eb7",
              "IPY_MODEL_410a0ce1ed6d441b911da3f417e444f9"
            ]
          }
        },
        "dba194f1de494ef6a4051b369bd1af14": {
          "model_module": "@jupyter-widgets/base",
          "model_name": "LayoutModel",
          "state": {
            "_view_name": "LayoutView",
            "grid_template_rows": null,
            "right": null,
            "justify_content": null,
            "_view_module": "@jupyter-widgets/base",
            "overflow": null,
            "_model_module_version": "1.2.0",
            "_view_count": null,
            "flex_flow": null,
            "width": null,
            "min_width": null,
            "border": null,
            "align_items": null,
            "bottom": null,
            "_model_module": "@jupyter-widgets/base",
            "top": null,
            "grid_column": null,
            "overflow_y": null,
            "overflow_x": null,
            "grid_auto_flow": null,
            "grid_area": null,
            "grid_template_columns": null,
            "flex": null,
            "_model_name": "LayoutModel",
            "justify_items": null,
            "grid_row": null,
            "max_height": null,
            "align_content": null,
            "visibility": null,
            "align_self": null,
            "height": null,
            "min_height": null,
            "padding": null,
            "grid_auto_rows": null,
            "grid_gap": null,
            "max_width": null,
            "order": null,
            "_view_module_version": "1.2.0",
            "grid_template_areas": null,
            "object_position": null,
            "object_fit": null,
            "grid_auto_columns": null,
            "margin": null,
            "display": null,
            "left": null
          }
        },
        "459cebcdc529455a984dadb2ba402eb7": {
          "model_module": "@jupyter-widgets/controls",
          "model_name": "LabelModel",
          "state": {
            "_view_name": "LabelView",
            "style": "IPY_MODEL_63b246c3c30a4968abacbd7f00067e25",
            "_dom_classes": [],
            "description": "",
            "_model_name": "LabelModel",
            "placeholder": "​",
            "_view_module": "@jupyter-widgets/controls",
            "_model_module_version": "1.5.0",
            "value": " 0.01MB of 0.01MB uploaded (0.00MB deduped)\r",
            "_view_count": null,
            "_view_module_version": "1.5.0",
            "description_tooltip": null,
            "_model_module": "@jupyter-widgets/controls",
            "layout": "IPY_MODEL_9e58657502ea4407acdead3639709932"
          }
        },
        "410a0ce1ed6d441b911da3f417e444f9": {
          "model_module": "@jupyter-widgets/controls",
          "model_name": "FloatProgressModel",
          "state": {
            "_view_name": "ProgressView",
            "style": "IPY_MODEL_3cdfbce0cb424f99b1b52d7e474e03d0",
            "_dom_classes": [],
            "description": "",
            "_model_name": "FloatProgressModel",
            "bar_style": "",
            "max": 1,
            "_view_module": "@jupyter-widgets/controls",
            "_model_module_version": "1.5.0",
            "value": 1,
            "_view_count": null,
            "_view_module_version": "1.5.0",
            "orientation": "horizontal",
            "min": 0,
            "description_tooltip": null,
            "_model_module": "@jupyter-widgets/controls",
            "layout": "IPY_MODEL_d05966800ab24c0793f3022dfdfe41c0"
          }
        },
        "63b246c3c30a4968abacbd7f00067e25": {
          "model_module": "@jupyter-widgets/controls",
          "model_name": "DescriptionStyleModel",
          "state": {
            "_view_name": "StyleView",
            "_model_name": "DescriptionStyleModel",
            "description_width": "",
            "_view_module": "@jupyter-widgets/base",
            "_model_module_version": "1.5.0",
            "_view_count": null,
            "_view_module_version": "1.2.0",
            "_model_module": "@jupyter-widgets/controls"
          }
        },
        "9e58657502ea4407acdead3639709932": {
          "model_module": "@jupyter-widgets/base",
          "model_name": "LayoutModel",
          "state": {
            "_view_name": "LayoutView",
            "grid_template_rows": null,
            "right": null,
            "justify_content": null,
            "_view_module": "@jupyter-widgets/base",
            "overflow": null,
            "_model_module_version": "1.2.0",
            "_view_count": null,
            "flex_flow": null,
            "width": null,
            "min_width": null,
            "border": null,
            "align_items": null,
            "bottom": null,
            "_model_module": "@jupyter-widgets/base",
            "top": null,
            "grid_column": null,
            "overflow_y": null,
            "overflow_x": null,
            "grid_auto_flow": null,
            "grid_area": null,
            "grid_template_columns": null,
            "flex": null,
            "_model_name": "LayoutModel",
            "justify_items": null,
            "grid_row": null,
            "max_height": null,
            "align_content": null,
            "visibility": null,
            "align_self": null,
            "height": null,
            "min_height": null,
            "padding": null,
            "grid_auto_rows": null,
            "grid_gap": null,
            "max_width": null,
            "order": null,
            "_view_module_version": "1.2.0",
            "grid_template_areas": null,
            "object_position": null,
            "object_fit": null,
            "grid_auto_columns": null,
            "margin": null,
            "display": null,
            "left": null
          }
        },
        "3cdfbce0cb424f99b1b52d7e474e03d0": {
          "model_module": "@jupyter-widgets/controls",
          "model_name": "ProgressStyleModel",
          "state": {
            "_view_name": "StyleView",
            "_model_name": "ProgressStyleModel",
            "description_width": "",
            "_view_module": "@jupyter-widgets/base",
            "_model_module_version": "1.5.0",
            "_view_count": null,
            "_view_module_version": "1.2.0",
            "bar_color": null,
            "_model_module": "@jupyter-widgets/controls"
          }
        },
        "d05966800ab24c0793f3022dfdfe41c0": {
          "model_module": "@jupyter-widgets/base",
          "model_name": "LayoutModel",
          "state": {
            "_view_name": "LayoutView",
            "grid_template_rows": null,
            "right": null,
            "justify_content": null,
            "_view_module": "@jupyter-widgets/base",
            "overflow": null,
            "_model_module_version": "1.2.0",
            "_view_count": null,
            "flex_flow": null,
            "width": null,
            "min_width": null,
            "border": null,
            "align_items": null,
            "bottom": null,
            "_model_module": "@jupyter-widgets/base",
            "top": null,
            "grid_column": null,
            "overflow_y": null,
            "overflow_x": null,
            "grid_auto_flow": null,
            "grid_area": null,
            "grid_template_columns": null,
            "flex": null,
            "_model_name": "LayoutModel",
            "justify_items": null,
            "grid_row": null,
            "max_height": null,
            "align_content": null,
            "visibility": null,
            "align_self": null,
            "height": null,
            "min_height": null,
            "padding": null,
            "grid_auto_rows": null,
            "grid_gap": null,
            "max_width": null,
            "order": null,
            "_view_module_version": "1.2.0",
            "grid_template_areas": null,
            "object_position": null,
            "object_fit": null,
            "grid_auto_columns": null,
            "margin": null,
            "display": null,
            "left": null
          }
        },
        "fd63fa83dce849c2ac85ee23054824cd": {
          "model_module": "@jupyter-widgets/controls",
          "model_name": "VBoxModel",
          "state": {
            "_view_name": "VBoxView",
            "_dom_classes": [],
            "_model_name": "VBoxModel",
            "_view_module": "@jupyter-widgets/controls",
            "_model_module_version": "1.5.0",
            "_view_count": null,
            "_view_module_version": "1.5.0",
            "box_style": "",
            "layout": "IPY_MODEL_14550a72efd94ed0a7836aae5c64ec6c",
            "_model_module": "@jupyter-widgets/controls",
            "children": [
              "IPY_MODEL_a43a520b153f450085d4b6c9a0d068ee",
              "IPY_MODEL_f97fc29fd73246f6bdd5c23ffc85fca9"
            ]
          }
        },
        "14550a72efd94ed0a7836aae5c64ec6c": {
          "model_module": "@jupyter-widgets/base",
          "model_name": "LayoutModel",
          "state": {
            "_view_name": "LayoutView",
            "grid_template_rows": null,
            "right": null,
            "justify_content": null,
            "_view_module": "@jupyter-widgets/base",
            "overflow": null,
            "_model_module_version": "1.2.0",
            "_view_count": null,
            "flex_flow": null,
            "width": null,
            "min_width": null,
            "border": null,
            "align_items": null,
            "bottom": null,
            "_model_module": "@jupyter-widgets/base",
            "top": null,
            "grid_column": null,
            "overflow_y": null,
            "overflow_x": null,
            "grid_auto_flow": null,
            "grid_area": null,
            "grid_template_columns": null,
            "flex": null,
            "_model_name": "LayoutModel",
            "justify_items": null,
            "grid_row": null,
            "max_height": null,
            "align_content": null,
            "visibility": null,
            "align_self": null,
            "height": null,
            "min_height": null,
            "padding": null,
            "grid_auto_rows": null,
            "grid_gap": null,
            "max_width": null,
            "order": null,
            "_view_module_version": "1.2.0",
            "grid_template_areas": null,
            "object_position": null,
            "object_fit": null,
            "grid_auto_columns": null,
            "margin": null,
            "display": null,
            "left": null
          }
        },
        "a43a520b153f450085d4b6c9a0d068ee": {
          "model_module": "@jupyter-widgets/controls",
          "model_name": "LabelModel",
          "state": {
            "_view_name": "LabelView",
            "style": "IPY_MODEL_119c02dfbdfe46beb2857a6422fc5bc6",
            "_dom_classes": [],
            "description": "",
            "_model_name": "LabelModel",
            "placeholder": "​",
            "_view_module": "@jupyter-widgets/controls",
            "_model_module_version": "1.5.0",
            "value": " 0.01MB of 0.01MB uploaded (0.00MB deduped)\r",
            "_view_count": null,
            "_view_module_version": "1.5.0",
            "description_tooltip": null,
            "_model_module": "@jupyter-widgets/controls",
            "layout": "IPY_MODEL_90153bbe252244d99b618f2e14f0a02e"
          }
        },
        "f97fc29fd73246f6bdd5c23ffc85fca9": {
          "model_module": "@jupyter-widgets/controls",
          "model_name": "FloatProgressModel",
          "state": {
            "_view_name": "ProgressView",
            "style": "IPY_MODEL_2646c58500f9498090d94881b530d879",
            "_dom_classes": [],
            "description": "",
            "_model_name": "FloatProgressModel",
            "bar_style": "",
            "max": 1,
            "_view_module": "@jupyter-widgets/controls",
            "_model_module_version": "1.5.0",
            "value": 1,
            "_view_count": null,
            "_view_module_version": "1.5.0",
            "orientation": "horizontal",
            "min": 0,
            "description_tooltip": null,
            "_model_module": "@jupyter-widgets/controls",
            "layout": "IPY_MODEL_b0fcd0ebd038424d8a8c2b1af603f863"
          }
        },
        "119c02dfbdfe46beb2857a6422fc5bc6": {
          "model_module": "@jupyter-widgets/controls",
          "model_name": "DescriptionStyleModel",
          "state": {
            "_view_name": "StyleView",
            "_model_name": "DescriptionStyleModel",
            "description_width": "",
            "_view_module": "@jupyter-widgets/base",
            "_model_module_version": "1.5.0",
            "_view_count": null,
            "_view_module_version": "1.2.0",
            "_model_module": "@jupyter-widgets/controls"
          }
        },
        "90153bbe252244d99b618f2e14f0a02e": {
          "model_module": "@jupyter-widgets/base",
          "model_name": "LayoutModel",
          "state": {
            "_view_name": "LayoutView",
            "grid_template_rows": null,
            "right": null,
            "justify_content": null,
            "_view_module": "@jupyter-widgets/base",
            "overflow": null,
            "_model_module_version": "1.2.0",
            "_view_count": null,
            "flex_flow": null,
            "width": null,
            "min_width": null,
            "border": null,
            "align_items": null,
            "bottom": null,
            "_model_module": "@jupyter-widgets/base",
            "top": null,
            "grid_column": null,
            "overflow_y": null,
            "overflow_x": null,
            "grid_auto_flow": null,
            "grid_area": null,
            "grid_template_columns": null,
            "flex": null,
            "_model_name": "LayoutModel",
            "justify_items": null,
            "grid_row": null,
            "max_height": null,
            "align_content": null,
            "visibility": null,
            "align_self": null,
            "height": null,
            "min_height": null,
            "padding": null,
            "grid_auto_rows": null,
            "grid_gap": null,
            "max_width": null,
            "order": null,
            "_view_module_version": "1.2.0",
            "grid_template_areas": null,
            "object_position": null,
            "object_fit": null,
            "grid_auto_columns": null,
            "margin": null,
            "display": null,
            "left": null
          }
        },
        "2646c58500f9498090d94881b530d879": {
          "model_module": "@jupyter-widgets/controls",
          "model_name": "ProgressStyleModel",
          "state": {
            "_view_name": "StyleView",
            "_model_name": "ProgressStyleModel",
            "description_width": "",
            "_view_module": "@jupyter-widgets/base",
            "_model_module_version": "1.5.0",
            "_view_count": null,
            "_view_module_version": "1.2.0",
            "bar_color": null,
            "_model_module": "@jupyter-widgets/controls"
          }
        },
        "b0fcd0ebd038424d8a8c2b1af603f863": {
          "model_module": "@jupyter-widgets/base",
          "model_name": "LayoutModel",
          "state": {
            "_view_name": "LayoutView",
            "grid_template_rows": null,
            "right": null,
            "justify_content": null,
            "_view_module": "@jupyter-widgets/base",
            "overflow": null,
            "_model_module_version": "1.2.0",
            "_view_count": null,
            "flex_flow": null,
            "width": null,
            "min_width": null,
            "border": null,
            "align_items": null,
            "bottom": null,
            "_model_module": "@jupyter-widgets/base",
            "top": null,
            "grid_column": null,
            "overflow_y": null,
            "overflow_x": null,
            "grid_auto_flow": null,
            "grid_area": null,
            "grid_template_columns": null,
            "flex": null,
            "_model_name": "LayoutModel",
            "justify_items": null,
            "grid_row": null,
            "max_height": null,
            "align_content": null,
            "visibility": null,
            "align_self": null,
            "height": null,
            "min_height": null,
            "padding": null,
            "grid_auto_rows": null,
            "grid_gap": null,
            "max_width": null,
            "order": null,
            "_view_module_version": "1.2.0",
            "grid_template_areas": null,
            "object_position": null,
            "object_fit": null,
            "grid_auto_columns": null,
            "margin": null,
            "display": null,
            "left": null
          }
        },
        "54115bfcf4d349169f3fc6a0c084c7f9": {
          "model_module": "@jupyter-widgets/controls",
          "model_name": "VBoxModel",
          "state": {
            "_view_name": "VBoxView",
            "_dom_classes": [],
            "_model_name": "VBoxModel",
            "_view_module": "@jupyter-widgets/controls",
            "_model_module_version": "1.5.0",
            "_view_count": null,
            "_view_module_version": "1.5.0",
            "box_style": "",
            "layout": "IPY_MODEL_d0aa376f18d24db1ab2cb66e8bca8f03",
            "_model_module": "@jupyter-widgets/controls",
            "children": [
              "IPY_MODEL_b4aba6ca1dfb4cb7a63d8db680a05163",
              "IPY_MODEL_eea12905abe94e47955bf42dd47654aa"
            ]
          }
        },
        "d0aa376f18d24db1ab2cb66e8bca8f03": {
          "model_module": "@jupyter-widgets/base",
          "model_name": "LayoutModel",
          "state": {
            "_view_name": "LayoutView",
            "grid_template_rows": null,
            "right": null,
            "justify_content": null,
            "_view_module": "@jupyter-widgets/base",
            "overflow": null,
            "_model_module_version": "1.2.0",
            "_view_count": null,
            "flex_flow": null,
            "width": null,
            "min_width": null,
            "border": null,
            "align_items": null,
            "bottom": null,
            "_model_module": "@jupyter-widgets/base",
            "top": null,
            "grid_column": null,
            "overflow_y": null,
            "overflow_x": null,
            "grid_auto_flow": null,
            "grid_area": null,
            "grid_template_columns": null,
            "flex": null,
            "_model_name": "LayoutModel",
            "justify_items": null,
            "grid_row": null,
            "max_height": null,
            "align_content": null,
            "visibility": null,
            "align_self": null,
            "height": null,
            "min_height": null,
            "padding": null,
            "grid_auto_rows": null,
            "grid_gap": null,
            "max_width": null,
            "order": null,
            "_view_module_version": "1.2.0",
            "grid_template_areas": null,
            "object_position": null,
            "object_fit": null,
            "grid_auto_columns": null,
            "margin": null,
            "display": null,
            "left": null
          }
        },
        "b4aba6ca1dfb4cb7a63d8db680a05163": {
          "model_module": "@jupyter-widgets/controls",
          "model_name": "LabelModel",
          "state": {
            "_view_name": "LabelView",
            "style": "IPY_MODEL_14238687659b4716b436be6e4e811740",
            "_dom_classes": [],
            "description": "",
            "_model_name": "LabelModel",
            "placeholder": "​",
            "_view_module": "@jupyter-widgets/controls",
            "_model_module_version": "1.5.0",
            "value": " 0.01MB of 0.01MB uploaded (0.00MB deduped)\r",
            "_view_count": null,
            "_view_module_version": "1.5.0",
            "description_tooltip": null,
            "_model_module": "@jupyter-widgets/controls",
            "layout": "IPY_MODEL_8fef327c283e482ea384860f73766b37"
          }
        },
        "eea12905abe94e47955bf42dd47654aa": {
          "model_module": "@jupyter-widgets/controls",
          "model_name": "FloatProgressModel",
          "state": {
            "_view_name": "ProgressView",
            "style": "IPY_MODEL_53a37e870dcc4845bc53ab9480055cc4",
            "_dom_classes": [],
            "description": "",
            "_model_name": "FloatProgressModel",
            "bar_style": "",
            "max": 1,
            "_view_module": "@jupyter-widgets/controls",
            "_model_module_version": "1.5.0",
            "value": 1,
            "_view_count": null,
            "_view_module_version": "1.5.0",
            "orientation": "horizontal",
            "min": 0,
            "description_tooltip": null,
            "_model_module": "@jupyter-widgets/controls",
            "layout": "IPY_MODEL_74702f86045b4d54bcd6b021103fd4ae"
          }
        },
        "14238687659b4716b436be6e4e811740": {
          "model_module": "@jupyter-widgets/controls",
          "model_name": "DescriptionStyleModel",
          "state": {
            "_view_name": "StyleView",
            "_model_name": "DescriptionStyleModel",
            "description_width": "",
            "_view_module": "@jupyter-widgets/base",
            "_model_module_version": "1.5.0",
            "_view_count": null,
            "_view_module_version": "1.2.0",
            "_model_module": "@jupyter-widgets/controls"
          }
        },
        "8fef327c283e482ea384860f73766b37": {
          "model_module": "@jupyter-widgets/base",
          "model_name": "LayoutModel",
          "state": {
            "_view_name": "LayoutView",
            "grid_template_rows": null,
            "right": null,
            "justify_content": null,
            "_view_module": "@jupyter-widgets/base",
            "overflow": null,
            "_model_module_version": "1.2.0",
            "_view_count": null,
            "flex_flow": null,
            "width": null,
            "min_width": null,
            "border": null,
            "align_items": null,
            "bottom": null,
            "_model_module": "@jupyter-widgets/base",
            "top": null,
            "grid_column": null,
            "overflow_y": null,
            "overflow_x": null,
            "grid_auto_flow": null,
            "grid_area": null,
            "grid_template_columns": null,
            "flex": null,
            "_model_name": "LayoutModel",
            "justify_items": null,
            "grid_row": null,
            "max_height": null,
            "align_content": null,
            "visibility": null,
            "align_self": null,
            "height": null,
            "min_height": null,
            "padding": null,
            "grid_auto_rows": null,
            "grid_gap": null,
            "max_width": null,
            "order": null,
            "_view_module_version": "1.2.0",
            "grid_template_areas": null,
            "object_position": null,
            "object_fit": null,
            "grid_auto_columns": null,
            "margin": null,
            "display": null,
            "left": null
          }
        },
        "53a37e870dcc4845bc53ab9480055cc4": {
          "model_module": "@jupyter-widgets/controls",
          "model_name": "ProgressStyleModel",
          "state": {
            "_view_name": "StyleView",
            "_model_name": "ProgressStyleModel",
            "description_width": "",
            "_view_module": "@jupyter-widgets/base",
            "_model_module_version": "1.5.0",
            "_view_count": null,
            "_view_module_version": "1.2.0",
            "bar_color": null,
            "_model_module": "@jupyter-widgets/controls"
          }
        },
        "74702f86045b4d54bcd6b021103fd4ae": {
          "model_module": "@jupyter-widgets/base",
          "model_name": "LayoutModel",
          "state": {
            "_view_name": "LayoutView",
            "grid_template_rows": null,
            "right": null,
            "justify_content": null,
            "_view_module": "@jupyter-widgets/base",
            "overflow": null,
            "_model_module_version": "1.2.0",
            "_view_count": null,
            "flex_flow": null,
            "width": null,
            "min_width": null,
            "border": null,
            "align_items": null,
            "bottom": null,
            "_model_module": "@jupyter-widgets/base",
            "top": null,
            "grid_column": null,
            "overflow_y": null,
            "overflow_x": null,
            "grid_auto_flow": null,
            "grid_area": null,
            "grid_template_columns": null,
            "flex": null,
            "_model_name": "LayoutModel",
            "justify_items": null,
            "grid_row": null,
            "max_height": null,
            "align_content": null,
            "visibility": null,
            "align_self": null,
            "height": null,
            "min_height": null,
            "padding": null,
            "grid_auto_rows": null,
            "grid_gap": null,
            "max_width": null,
            "order": null,
            "_view_module_version": "1.2.0",
            "grid_template_areas": null,
            "object_position": null,
            "object_fit": null,
            "grid_auto_columns": null,
            "margin": null,
            "display": null,
            "left": null
          }
        }
      }
    }
  },
  "cells": [
    {
      "cell_type": "code",
      "metadata": {
        "colab": {
          "base_uri": "https://localhost:8080/"
        },
        "id": "AfrqajiLXfLY",
        "outputId": "b94f6da1-cb37-4fa4-e893-914e8fd2a5d8"
      },
      "source": [
        "!wget https://storage.googleapis.com/gresearch/dakshina/dakshina_dataset_v1.0.tar\n",
        "!tar -xf 'dakshina_dataset_v1.0.tar'"
      ],
      "execution_count": null,
      "outputs": [
        {
          "output_type": "stream",
          "text": [
            "--2021-05-11 12:39:51--  https://storage.googleapis.com/gresearch/dakshina/dakshina_dataset_v1.0.tar\n",
            "Resolving storage.googleapis.com (storage.googleapis.com)... 142.250.98.128, 108.177.11.128, 74.125.31.128, ...\n",
            "Connecting to storage.googleapis.com (storage.googleapis.com)|142.250.98.128|:443... connected.\n",
            "HTTP request sent, awaiting response... 200 OK\n",
            "Length: 2008340480 (1.9G) [application/x-tar]\n",
            "Saving to: ‘dakshina_dataset_v1.0.tar’\n",
            "\n",
            "dakshina_dataset_v1 100%[===================>]   1.87G   203MB/s    in 9.5s    \n",
            "\n",
            "2021-05-11 12:40:00 (201 MB/s) - ‘dakshina_dataset_v1.0.tar’ saved [2008340480/2008340480]\n",
            "\n"
          ],
          "name": "stdout"
        }
      ]
    },
    {
      "cell_type": "code",
      "metadata": {
        "colab": {
          "base_uri": "https://localhost:8080/",
          "height": 1000,
          "referenced_widgets": [
            "ee224b739bac40fb977bfc9022c88b03",
            "cfeb54d42d224325839212c0cec1241d",
            "5374c7f353af4d3986bce02922089c67",
            "a49b4b21bdf44bdcbf2ecec830477bff",
            "067e0ddd87b641f0bf8629d245b93339",
            "74ecd56f14974f13b4b6d929a500d4d4",
            "08b7d9a6bb5846f2a264e2ec4f8d937f",
            "0770c521ba1c4d4580f14251ff561b95",
            "fdd24d2a0dbd4480b4043bc7295108b8",
            "b0ee4311da3a486489f097f2237730cf",
            "ef36be6da0cd4b38b822b10c378067a0",
            "7d291a0bfa0740218f676e36a48438ee",
            "a043107b6f354b1c88a8dcb2ab51e71c",
            "4ccaa99bb2f64577afd8360bf5a4355c",
            "97c079ae7a944e7793758adfa3d59645",
            "87d727f8fc7f4d19a8f5f6bc201f7eb8",
            "dd6df17b7fdd4794a205ae308bcb673e",
            "916287e948584eea88c341503cc1dd44",
            "d81ee2eff38441f1afdb9a1c9860a0a9",
            "42bc65c7e06a4fcdbe0b790b6a890915",
            "74ade3b0c5454e208f77ee8a4ff1910c",
            "c2e37dd4b3f6414295bce027d72d2b89",
            "53331df3469f44f5a4d13692a5d121ee",
            "3b9156cf1de54bcd81d655b35c0b9cef",
            "b5c1e5701717482fb6c0a3522799a549",
            "1e3ab163242e45ff91021769316b0e34",
            "057191c062754c34b4ec33f4ff1ec4f5",
            "d3a82e40dd94485394c0b09698024d21",
            "0997f9b7358c47a0b70ba23522166ead",
            "8067c6b031424fe8ab2546fd47cdad03",
            "15380fdf9ec64e528938c7beb605e0a0",
            "0440d938435a4218b675d8f4b47fe74e",
            "9afeaf565b66453f80fd2893a34cb8b3",
            "c8b41184982f4a14b864b826900426ef",
            "dfedd578650743289624e8eadbecf815",
            "be1c0088dee94d0cb1a433fafdad140d",
            "b5248a35cb94484a937dee92204895f1",
            "f9c1a1ecffb443f8b1f1732a583518b1",
            "773757d08071439fbd13378965ce8820",
            "26580f8a88b8411e98f25ff9c4ec933d",
            "c141915e620b4302b86cab323f39f101",
            "5d6de097c7a54cd8abe8575fa7525205",
            "e46d45c6c6e2401c837f9c9feeb77cc2",
            "59afe1d2c2594a48b5e6e1efafd86675",
            "d6509d5a95ce454fb9c305325510cd87",
            "3cd9fb1ea0d74055868978cb2111476c",
            "e031457fb17341a288cf649d47b6e9e6",
            "24f7a18018ab4519a8e23a2f711e3362",
            "92e10237604442d8a4f00c755df33bf5",
            "b619eeff039e4a5699175196ef863a90",
            "682e702543d04a8fbf2d80527d101a39",
            "af3725e68ca14cf3a0d9b8a91fb71a0c",
            "8d634f60497a4d799f01f9c12e3445a5",
            "285b94895c4243709d5c1909c7cc1ad6",
            "44f64cd11fa54bdca653c57a1739f3d1",
            "c898a17464754ec99b7f0bd6ddf15e40",
            "50a1ec31a84541d399b19be991c2d659",
            "b1edee327e3044a3ab3dbf0885f3e0b5",
            "521a34644e1b4a67bd0dc99b89e694fd",
            "825ca0eadf214dfbbb9769de0f1460cd",
            "1a8f92a34f564ab2a8bc92ef84b4bf90",
            "626ec67bb5a3499eb79a53471956ecd4",
            "4c28539f3c6b4719bb3557692f416737",
            "5df37deddb5242a59962036902ed9494",
            "ff46322d37e24524b22c9c7d0a8c86ff",
            "7ed9e22a4e98450eb9ad413b2c943ced",
            "24751296dae848a48e6b4383f5de8a6a",
            "9aa046cc4a1041c981ab185c03ee802a",
            "8e51bf5773004fe2a87fd1cf5e70f1e5",
            "f38db7a2c55b4114afa8eda20320d5ee",
            "5096658ea3024d5c886941bf14ac7baf",
            "cd0b777e50044654af99f2989dd2ffb1",
            "6b39b16593a742b9a6c40821e8cce04c",
            "9e02f6b4c74f4a5988cbf721df1070f8",
            "655fff21a0de44a084fcfacdf28d1ea1",
            "5a710b04c48f4d5ab43d20026418f564",
            "df51e4b3bdc043cab191c51973e730b1",
            "9a351eeadea14f5bbe2d3e0164378d3a",
            "3d94ecbbbe9d450b94985e6b4402c602",
            "83de5f953a134bba8c9fc33a600eb1bc",
            "34494ba9a6d34092a7443a7362f9e4f6",
            "de72b285a2f841eb9fe97a09cfcd9956",
            "f9bd06bfaf9a417aaf8a2f5e576c44ea",
            "7d203068236740e69fa156505b2d1852",
            "bf66cea697cf4148843551a8948c8f08",
            "67f860dc8d774fcba24cc2a8cf8c2fdb",
            "a96e5727abe34a49bd25891895e40590",
            "be0c9a97c9a545d682204943aff2d516",
            "63008c93ce524e8488460a0644c3f190",
            "74d32d29fcc9483ab71ae6d35d32254b",
            "b2d2d75eadf84d4e8f8f454cd3f95702",
            "181857b183f246ff9f98e10e63bc7047",
            "c2ae35d5058c4cedaa1dd6d9b2bea272",
            "5499cd6a9612402687f2d1e9230f0796",
            "99d6dd0eda344f14a7362f92bc174550",
            "0b371028dfe6490bb10722207d367bdc",
            "01a96c58e62f4c7e82fffb93139aff34",
            "f08f2bea09a84865b7d0856f229dd14c",
            "e07b057481d849ca8f9b48088af7b96d",
            "328945204202404c9341592c3c8c854a",
            "36f5578f2928438688c711e4892d2ef6",
            "b8d6eb5dd6e44ff9a9d2f7891ea86b4c",
            "85c2a800364a498a90c4c49f67a6d329",
            "94fe16e79d68468e8d8a462e4bdffa9c",
            "a5eeba0adfe4497fa62aeabf4f357cf9",
            "40ce3abf97f7499cae567806282aeab2",
            "b5c639bbcc964dcaaf3e1fdd1be82817",
            "ab9528d04ee14bd0ad1d418b84a164fd",
            "12636849cc0346eda329369b0493a605",
            "19c051965f2a42f3826e26ff28836a18",
            "bd5bb91b2c5b49f3be549cec74d115f6",
            "367e0303b2e944df989800dfab0a792c",
            "fb35b33a3d1641d1accbce507e51478b",
            "02fdc28f742f4f39be1b5a938b790be6",
            "1bdae9cfb75d45749316f31a6b286974",
            "a24564af68314b9eab3ef871ca987a74",
            "1c1b5fff9fd04e9988b4805c884911c2",
            "23c5d9e965634c00b239e969b502e787",
            "fe35a852e9f14a3a8dc73d78453c7172",
            "05d68a681e5a4b1ab7667b7ef25ae780",
            "5b6f9d5b55f34c9bbdf552cb227ebf27",
            "dba194f1de494ef6a4051b369bd1af14",
            "459cebcdc529455a984dadb2ba402eb7",
            "410a0ce1ed6d441b911da3f417e444f9",
            "63b246c3c30a4968abacbd7f00067e25",
            "9e58657502ea4407acdead3639709932",
            "3cdfbce0cb424f99b1b52d7e474e03d0",
            "d05966800ab24c0793f3022dfdfe41c0",
            "fd63fa83dce849c2ac85ee23054824cd",
            "14550a72efd94ed0a7836aae5c64ec6c",
            "a43a520b153f450085d4b6c9a0d068ee",
            "f97fc29fd73246f6bdd5c23ffc85fca9",
            "119c02dfbdfe46beb2857a6422fc5bc6",
            "90153bbe252244d99b618f2e14f0a02e",
            "2646c58500f9498090d94881b530d879",
            "b0fcd0ebd038424d8a8c2b1af603f863",
            "54115bfcf4d349169f3fc6a0c084c7f9",
            "d0aa376f18d24db1ab2cb66e8bca8f03",
            "b4aba6ca1dfb4cb7a63d8db680a05163",
            "eea12905abe94e47955bf42dd47654aa",
            "14238687659b4716b436be6e4e811740",
            "8fef327c283e482ea384860f73766b37",
            "53a37e870dcc4845bc53ab9480055cc4",
            "74702f86045b4d54bcd6b021103fd4ae"
          ]
        },
        "id": "nLL4o7uDXqf1",
        "outputId": "dbae8f72-2ed7-4447-fc59-6899e01202f7"
      },
      "source": [
        "!pip install wandb\n",
        "import wandb\n",
        "!wandb login 781ea05d3016dc46e417672b13ee6d7047c00562\n",
        "import random\n",
        "import numpy as np\n",
        "from importlib import reload\n",
        "import RNN\n",
        "RNN = reload(RNN)\n",
        "from wandb.keras import WandbCallback\n",
        "\n",
        "# Path to the data txt file on disk.\n",
        "train_data = \"dakshina_dataset_v1.0/ta/lexicons/ta.translit.sampled.train.tsv\"\n",
        "val_data = \"dakshina_dataset_v1.0/ta/lexicons/ta.translit.sampled.dev.tsv\"\n",
        "# open and save the files to lists\n",
        "with open(train_data, \"r\", encoding=\"utf-8\") as f:\n",
        "    train_lines = f.read().split(\"\\n\")\n",
        "with open(val_data, \"r\", encoding=\"utf-8\") as f:\n",
        "    val_lines = f.read().split(\"\\n\")\n",
        "# popping the last element of all the lists since it is empty character\n",
        "train_lines.pop()\n",
        "val_lines.pop()\n",
        "random.shuffle(train_lines)\n",
        "print(train_lines[0:2])\n",
        "\n",
        "# embedding pre processing\n",
        "input_texts = []\n",
        "target_texts = []\n",
        "input_characters = set()\n",
        "target_characters = set()\n",
        "# go through the train lines and split them into 3 and save input and target\n",
        "for line in train_lines[: (len(train_lines) - 1)]:\n",
        "    # because we want english to devanagiri conversion\n",
        "    target_text, input_text, _ = line.split(\"\\t\")\n",
        "    # We use \"tab\" as the \"start sequence\" character\n",
        "    # for the targets, and \"\\n\" as \"end sequence\" character.\n",
        "    target_text = \"\\t\" + target_text + \"\\n\"\n",
        "    # append it to the main input texts list\n",
        "    input_texts.append(input_text)\n",
        "    # append it to the main target texts list\n",
        "    target_texts.append(target_text)\n",
        "    # to find the number of unique characters in both\n",
        "    for char in input_text:\n",
        "        if char not in input_characters:\n",
        "            input_characters.add(char)\n",
        "    for char in target_text:\n",
        "        if char not in target_characters:\n",
        "            target_characters.add(char)\n",
        "# add the space character to both\n",
        "input_characters.add(\" \")\n",
        "target_characters.add(\" \")\n",
        "# sort it\n",
        "input_characters = sorted(list(input_characters))\n",
        "target_characters = sorted(list(target_characters))\n",
        "# find the number\n",
        "num_encoder_tokens = len(input_characters)\n",
        "num_decoder_tokens = len(target_characters)\n",
        "# find the maximum length of input word and target word\n",
        "max_encoder_seq_length = max([len(txt) for txt in input_texts])\n",
        "max_decoder_seq_length = max([len(txt) for txt in target_texts])\n",
        "\n",
        "print(\"Number of samples:\", len(input_texts))\n",
        "print(\"Number of unique input tokens:\", num_encoder_tokens)\n",
        "print(\"Number of unique output tokens:\", num_decoder_tokens)\n",
        "print(\"Max sequence length for inputs:\", max_encoder_seq_length)\n",
        "print(\"Max sequence length for outputs:\", max_decoder_seq_length)\n",
        "# create an index\n",
        "input_token_index = dict([(char, i) for i, char in enumerate(input_characters)])\n",
        "print((input_token_index))\n",
        "target_token_index = dict([(char, i) for i, char in enumerate(target_characters)])\n",
        "print((target_token_index))\n",
        "# create an 0 array for encoder input size of (input_texts,max_seqlen,tokens)\n",
        "encoder_input_data = np.zeros(\n",
        "    (len(input_texts), max_encoder_seq_length), dtype=\"float32\"\n",
        ")\n",
        "# create decoder input\n",
        "decoder_input_data = np.zeros(\n",
        "    (len(input_texts), max_decoder_seq_length), dtype=\"float32\"\n",
        ")\n",
        "# create decoder target\n",
        "decoder_target_data = np.zeros(\n",
        "    (len(input_texts), max_decoder_seq_length, num_decoder_tokens), dtype=\"float32\"\n",
        ")\n",
        "# for each sample convert it into character encoding i.e. if\n",
        "# at that position a character is present then encode the index of that character there\n",
        "# this is done for both encoder and decoder input data for further word embedding\n",
        "# but target data is one hot encoded.\n",
        "for i, (input_text, target_text) in enumerate(zip(input_texts, target_texts)):\n",
        "    for t, char in enumerate(input_text):\n",
        "        encoder_input_data[i, t] = input_token_index[char]\n",
        "    # remaining positions set as empty space\n",
        "    encoder_input_data[i, t + 1:] = input_token_index[\" \"]\n",
        "    # similarly do for decoder data\n",
        "    for t, char in enumerate(target_text):\n",
        "        # decoder_target_data is ahead of decoder_input_data by one timestep\n",
        "        decoder_input_data[i, t] = target_token_index[char]\n",
        "        # check if t >0 since decoder targer data is ahead\n",
        "        if t > 0:\n",
        "            # decoder_target_data will be ahead by one timestep\n",
        "            # and will not include the start character.\n",
        "            decoder_target_data[i, t - 1, target_token_index[char]] = 1.0\n",
        "    # append both the remaining positions of both the datas with empty space\n",
        "    decoder_input_data[i, t + 1:] = target_token_index[\" \"]\n",
        "    decoder_target_data[i, t:, target_token_index[\" \"]] = 1.0\n",
        "\n",
        "# embedding validation\n",
        "# for validation data, almost same\n",
        "val_input_texts = []\n",
        "val_target_texts = []\n",
        "for line in val_lines[: (len(val_lines) - 1)]:\n",
        "    target_text, input_text, _ = line.split(\"\\t\")\n",
        "    # We use \"tab\" as the \"start sequence\" character\n",
        "    # for the targets, and \"\\n\" as \"end sequence\" character.\n",
        "    target_text = \"\\t\" + target_text + \"\\n\"\n",
        "    val_input_texts.append(input_text)\n",
        "    val_target_texts.append(target_text)\n",
        "val_max_encoder_seq_length = max([len(txt) for txt in val_input_texts])\n",
        "val_max_decoder_seq_length = max([len(txt) for txt in val_target_texts])\n",
        "val_encoder_input_data = np.zeros(\n",
        "    (len(val_input_texts), val_max_encoder_seq_length), dtype=\"float32\"\n",
        ")\n",
        "val_decoder_input_data = np.zeros(\n",
        "    (len(val_input_texts), val_max_decoder_seq_length), dtype=\"float32\"\n",
        ")\n",
        "val_decoder_target_data = np.zeros(\n",
        "    (len(val_input_texts), val_max_decoder_seq_length, num_decoder_tokens), dtype=\"float32\"\n",
        ")\n",
        "for i, (input_text, target_text) in enumerate(zip(val_input_texts, val_target_texts)):\n",
        "    for t, char in enumerate(input_text):\n",
        "        val_encoder_input_data[i, t] = input_token_index[char]\n",
        "    val_encoder_input_data[i, t + 1:] = input_token_index[\" \"]\n",
        "    for t, char in enumerate(target_text):\n",
        "        # decoder_target_data is ahead of decoder_input_data by one timestep\n",
        "        val_decoder_input_data[i, t] = target_token_index[char]\n",
        "        if t > 0:\n",
        "            # decoder_target_data will be ahead by one timestep\n",
        "            # and will not include the start character.\n",
        "            val_decoder_target_data[i, t - 1, target_token_index[char]] = 1.0\n",
        "    val_decoder_input_data[i, t + 1:] = target_token_index[\" \"]\n",
        "    val_decoder_target_data[i, t:, target_token_index[\" \"]] = 1.0\n",
        "\n",
        "reverse_input_char_index = dict((i, char) for char, i in input_token_index.items())\n",
        "reverse_target_char_index = dict((i, char) for char, i in target_token_index.items())\n",
        "\n",
        "\n",
        "def sweep():\n",
        "  run = wandb.init()\n",
        "  config = wandb.config\n",
        "  name = ('cell_type=%s' % config.cell_type) + \"_\" \\\n",
        "          + ('embedding=%d' % config.embedding_size) + \"_\" \\\n",
        "          + ('n_enc_layers=%d' % config.n_encoder_layers) + \"_\" \\\n",
        "          + ('n_dec_layers=%d' % config.n_decoder_layers) + \"_\" \\\n",
        "          + ('latent=%d' % config.latent_dimension) + \"_\" \\\n",
        "          + ('dropout=%.2f' % config.dropout) + \"_\" \\\n",
        "          + ('epochs=%d' % config.epochs)\n",
        "\n",
        "  wandb.run.name = name\n",
        "  batch_size = 64  # Batch size for training.\n",
        "  epochs = config.epochs  # Number of epochs to train for.\n",
        "  latent_dim = config.latent_dimension  # Latent dimensionality of the encoding space. #hidden states hyperparameter\n",
        "  \n",
        "  # create RNN model\n",
        "  model = RNN.RNN(embedding_size=config.embedding_size, n_encoder_tokens=num_encoder_tokens, n_decoder_tokens=num_decoder_tokens,\n",
        "                  n_encoder_layers=config.n_encoder_layers, n_decoder_layers=config.n_decoder_layers, latent_dimension=latent_dim,\n",
        "                  cell_type=config.cell_type, target_token_index=target_token_index, max_decoder_seq_length=max_decoder_seq_length,\n",
        "                  reverse_target_char_index=reverse_target_char_index, dropout=config.dropout)\n",
        "  model.fit(encoder_input_data, decoder_input_data, decoder_target_data,\n",
        "            batch_size, epochs, callbacks=[WandbCallback()]\n",
        "            )  \n",
        "  val_accuracy = model.accuracy(val_encoder_input_data, val_target_texts)\n",
        "  wandb.log({'val_accuracy': val_accuracy})\n",
        "  run.finish()\n",
        "  \n",
        "# run sweeps\n",
        "sweep_config = {\n",
        "    'method': 'bayes',  # grid, random\n",
        "    'metric': {\n",
        "        'name': 'val_accuracy',\n",
        "        'goal': 'maximize'\n",
        "    },\n",
        "    'parameters': {\n",
        "        'epochs': {\n",
        "            'values': [20,25,30]\n",
        "        },\n",
        "        'embedding_size': {\n",
        "            'values': [16,32,64,128,256]\n",
        "        },\n",
        "        'n_encoder_layers': {\n",
        "            'values': [1,2,3]\n",
        "        },\n",
        "        'n_decoder_layers': {\n",
        "            'values': [1,2,3]\n",
        "        },\n",
        "        'latent_dimension': {\n",
        "            'values': [16, 32, 64, 256, 512]\n",
        "        },\n",
        "        'cell_type': {\n",
        "            'values': ['gru', 'lstm', 'rnn']\n",
        "        },                             \n",
        "        'dropout': {\n",
        "            'values': [0.0,0.2,0.3,0.4,0.5]\n",
        "        }\n",
        "    }\n",
        "}\n",
        "\n",
        "sweep_id = wandb.sweep(sweep_config, project=\"cs6910-assignment3-sweep-tamil\")\n",
        "\n",
        "# %% start wandb sweep\n",
        "# wandb.agent(sweep_id, sweep)\n",
        "#wandb.agent('k6ivgfhr', sweep, project=\"cs6910-assignment2-sweep\")\n",
        "wandb.agent(sweep_id, sweep, project=\"cs6910-assignment3-sweep-tamil\")"
      ],
      "execution_count": null,
      "outputs": [
        {
          "output_type": "stream",
          "text": [
            "Collecting wandb\n",
            "\u001b[?25l  Downloading https://files.pythonhosted.org/packages/98/5f/45439b4767334b868e1c8c35b1b0ba3747d8c21be77b79f09eed7aa3c72b/wandb-0.10.30-py2.py3-none-any.whl (1.8MB)\n",
            "\u001b[K     |████████████████████████████████| 1.8MB 6.7MB/s \n",
            "\u001b[?25hRequirement already satisfied: Click>=7.0 in /usr/local/lib/python3.7/dist-packages (from wandb) (7.1.2)\n",
            "Requirement already satisfied: requests<3,>=2.0.0 in /usr/local/lib/python3.7/dist-packages (from wandb) (2.23.0)\n",
            "Requirement already satisfied: PyYAML in /usr/local/lib/python3.7/dist-packages (from wandb) (3.13)\n",
            "Collecting subprocess32>=3.5.3\n",
            "\u001b[?25l  Downloading https://files.pythonhosted.org/packages/32/c8/564be4d12629b912ea431f1a50eb8b3b9d00f1a0b1ceff17f266be190007/subprocess32-3.5.4.tar.gz (97kB)\n",
            "\u001b[K     |████████████████████████████████| 102kB 12.7MB/s \n",
            "\u001b[?25hRequirement already satisfied: protobuf>=3.12.0 in /usr/local/lib/python3.7/dist-packages (from wandb) (3.12.4)\n",
            "Requirement already satisfied: python-dateutil>=2.6.1 in /usr/local/lib/python3.7/dist-packages (from wandb) (2.8.1)\n",
            "Requirement already satisfied: psutil>=5.0.0 in /usr/local/lib/python3.7/dist-packages (from wandb) (5.4.8)\n",
            "Collecting pathtools\n",
            "  Downloading https://files.pythonhosted.org/packages/e7/7f/470d6fcdf23f9f3518f6b0b76be9df16dcc8630ad409947f8be2eb0ed13a/pathtools-0.1.2.tar.gz\n",
            "Collecting shortuuid>=0.5.0\n",
            "  Downloading https://files.pythonhosted.org/packages/25/a6/2ecc1daa6a304e7f1b216f0896b26156b78e7c38e1211e9b798b4716c53d/shortuuid-1.0.1-py3-none-any.whl\n",
            "Collecting sentry-sdk>=0.4.0\n",
            "\u001b[?25l  Downloading https://files.pythonhosted.org/packages/1c/4a/a54b254f67d8f4052338d54ebe90126f200693440a93ef76d254d581e3ec/sentry_sdk-1.1.0-py2.py3-none-any.whl (131kB)\n",
            "\u001b[K     |████████████████████████████████| 133kB 34.3MB/s \n",
            "\u001b[?25hCollecting GitPython>=1.0.0\n",
            "\u001b[?25l  Downloading https://files.pythonhosted.org/packages/a6/99/98019716955ba243657daedd1de8f3a88ca1f5b75057c38e959db22fb87b/GitPython-3.1.14-py3-none-any.whl (159kB)\n",
            "\u001b[K     |████████████████████████████████| 163kB 27.4MB/s \n",
            "\u001b[?25hCollecting configparser>=3.8.1\n",
            "  Downloading https://files.pythonhosted.org/packages/fd/01/ff260a18caaf4457eb028c96eeb405c4a230ca06c8ec9c1379f813caa52e/configparser-5.0.2-py3-none-any.whl\n",
            "Collecting docker-pycreds>=0.4.0\n",
            "  Downloading https://files.pythonhosted.org/packages/f5/e8/f6bd1eee09314e7e6dee49cbe2c5e22314ccdb38db16c9fc72d2fa80d054/docker_pycreds-0.4.0-py2.py3-none-any.whl\n",
            "Requirement already satisfied: promise<3,>=2.0 in /usr/local/lib/python3.7/dist-packages (from wandb) (2.3)\n",
            "Requirement already satisfied: six>=1.13.0 in /usr/local/lib/python3.7/dist-packages (from wandb) (1.15.0)\n",
            "Requirement already satisfied: idna<3,>=2.5 in /usr/local/lib/python3.7/dist-packages (from requests<3,>=2.0.0->wandb) (2.10)\n",
            "Requirement already satisfied: certifi>=2017.4.17 in /usr/local/lib/python3.7/dist-packages (from requests<3,>=2.0.0->wandb) (2020.12.5)\n",
            "Requirement already satisfied: chardet<4,>=3.0.2 in /usr/local/lib/python3.7/dist-packages (from requests<3,>=2.0.0->wandb) (3.0.4)\n",
            "Requirement already satisfied: urllib3!=1.25.0,!=1.25.1,<1.26,>=1.21.1 in /usr/local/lib/python3.7/dist-packages (from requests<3,>=2.0.0->wandb) (1.24.3)\n",
            "Requirement already satisfied: setuptools in /usr/local/lib/python3.7/dist-packages (from protobuf>=3.12.0->wandb) (56.1.0)\n",
            "Collecting gitdb<5,>=4.0.1\n",
            "\u001b[?25l  Downloading https://files.pythonhosted.org/packages/ea/e8/f414d1a4f0bbc668ed441f74f44c116d9816833a48bf81d22b697090dba8/gitdb-4.0.7-py3-none-any.whl (63kB)\n",
            "\u001b[K     |████████████████████████████████| 71kB 11.1MB/s \n",
            "\u001b[?25hCollecting smmap<5,>=3.0.1\n",
            "  Downloading https://files.pythonhosted.org/packages/68/ee/d540eb5e5996eb81c26ceffac6ee49041d473bc5125f2aa995cf51ec1cf1/smmap-4.0.0-py2.py3-none-any.whl\n",
            "Building wheels for collected packages: subprocess32, pathtools\n",
            "  Building wheel for subprocess32 (setup.py) ... \u001b[?25l\u001b[?25hdone\n",
            "  Created wheel for subprocess32: filename=subprocess32-3.5.4-cp37-none-any.whl size=6489 sha256=0ce03048d113c5696f4bb42294134f051e9db706cac07d1f9552fb97f4f58f89\n",
            "  Stored in directory: /root/.cache/pip/wheels/68/39/1a/5e402bdfdf004af1786c8b853fd92f8c4a04f22aad179654d1\n",
            "  Building wheel for pathtools (setup.py) ... \u001b[?25l\u001b[?25hdone\n",
            "  Created wheel for pathtools: filename=pathtools-0.1.2-cp37-none-any.whl size=8786 sha256=067267acd72001b363b31cfb02daba653e6ce03b943e172426337a8617f1f612\n",
            "  Stored in directory: /root/.cache/pip/wheels/0b/04/79/c3b0c3a0266a3cb4376da31e5bfe8bba0c489246968a68e843\n",
            "Successfully built subprocess32 pathtools\n",
            "Installing collected packages: subprocess32, pathtools, shortuuid, sentry-sdk, smmap, gitdb, GitPython, configparser, docker-pycreds, wandb\n",
            "Successfully installed GitPython-3.1.14 configparser-5.0.2 docker-pycreds-0.4.0 gitdb-4.0.7 pathtools-0.1.2 sentry-sdk-1.1.0 shortuuid-1.0.1 smmap-4.0.0 subprocess32-3.5.4 wandb-0.10.30\n",
            "\u001b[34m\u001b[1mwandb\u001b[0m: Appending key for api.wandb.ai to your netrc file: /root/.netrc\n",
            "['விரும்புவார்கள்\\tvirumbhuvaargal\\t1', 'இடம்பெற்றுள்ள\\tidampetrtrulla\\t1']\n",
            "Number of samples: 68217\n",
            "Number of unique input tokens: 27\n",
            "Number of unique output tokens: 49\n",
            "Max sequence length for inputs: 30\n",
            "Max sequence length for outputs: 28\n",
            "{' ': 0, 'a': 1, 'b': 2, 'c': 3, 'd': 4, 'e': 5, 'f': 6, 'g': 7, 'h': 8, 'i': 9, 'j': 10, 'k': 11, 'l': 12, 'm': 13, 'n': 14, 'o': 15, 'p': 16, 'q': 17, 'r': 18, 's': 19, 't': 20, 'u': 21, 'v': 22, 'w': 23, 'x': 24, 'y': 25, 'z': 26}\n",
            "{'\\t': 0, '\\n': 1, ' ': 2, 'ஃ': 3, 'அ': 4, 'ஆ': 5, 'இ': 6, 'ஈ': 7, 'உ': 8, 'ஊ': 9, 'எ': 10, 'ஏ': 11, 'ஐ': 12, 'ஒ': 13, 'ஓ': 14, 'க': 15, 'ங': 16, 'ச': 17, 'ஜ': 18, 'ஞ': 19, 'ட': 20, 'ண': 21, 'த': 22, 'ந': 23, 'ன': 24, 'ப': 25, 'ம': 26, 'ய': 27, 'ர': 28, 'ற': 29, 'ல': 30, 'ள': 31, 'ழ': 32, 'வ': 33, 'ஷ': 34, 'ஸ': 35, 'ஹ': 36, 'ா': 37, 'ி': 38, 'ீ': 39, 'ு': 40, 'ூ': 41, 'ெ': 42, 'ே': 43, 'ை': 44, 'ொ': 45, 'ோ': 46, 'ௌ': 47, '்': 48}\n"
          ],
          "name": "stdout"
        },
        {
          "output_type": "stream",
          "text": [
            "\u001b[34m\u001b[1mwandb\u001b[0m: Agent Starting Run: s17trzjo with config:\n",
            "\u001b[34m\u001b[1mwandb\u001b[0m: \tcell_type: gru\n",
            "\u001b[34m\u001b[1mwandb\u001b[0m: \tdropout: 0.3\n",
            "\u001b[34m\u001b[1mwandb\u001b[0m: \tembedding_size: 64\n",
            "\u001b[34m\u001b[1mwandb\u001b[0m: \tepochs: 30\n",
            "\u001b[34m\u001b[1mwandb\u001b[0m: \tlatent_dimension: 32\n",
            "\u001b[34m\u001b[1mwandb\u001b[0m: \tn_decoder_layers: 3\n",
            "\u001b[34m\u001b[1mwandb\u001b[0m: \tn_encoder_layers: 3\n",
            "\u001b[34m\u001b[1mwandb\u001b[0m: Currently logged in as: \u001b[33makceg\u001b[0m (use `wandb login --relogin` to force relogin)\n"
          ],
          "name": "stderr"
        },
        {
          "output_type": "display_data",
          "data": {
            "text/html": [
              "\n",
              "                Tracking run with wandb version 0.10.30<br/>\n",
              "                Syncing run <strong style=\"color:#cdcd00\">balmy-sweep-106</strong> to <a href=\"https://wandb.ai\" target=\"_blank\">Weights & Biases</a> <a href=\"https://docs.wandb.com/integrations/jupyter.html\" target=\"_blank\">(Documentation)</a>.<br/>\n",
              "                Project page: <a href=\"https://wandb.ai/akceg/cs6910-assignment3-sweep-tamil\" target=\"_blank\">https://wandb.ai/akceg/cs6910-assignment3-sweep-tamil</a><br/>\n",
              "                Sweep page: <a href=\"https://wandb.ai/akceg/cs6910-assignment3-sweep-tamil/sweeps/h1onqta3\" target=\"_blank\">https://wandb.ai/akceg/cs6910-assignment3-sweep-tamil/sweeps/h1onqta3</a><br/>\n",
              "Run page: <a href=\"https://wandb.ai/akceg/cs6910-assignment3-sweep-tamil/runs/s17trzjo\" target=\"_blank\">https://wandb.ai/akceg/cs6910-assignment3-sweep-tamil/runs/s17trzjo</a><br/>\n",
              "                Run data is saved locally in <code>/content/wandb/run-20210511_124048-s17trzjo</code><br/><br/>\n",
              "            "
            ],
            "text/plain": [
              "<IPython.core.display.HTML object>"
            ]
          },
          "metadata": {
            "tags": []
          }
        },
        {
          "output_type": "stream",
          "text": [
            "Epoch 1/30\n",
            "1066/1066 [==============================] - 38s 15ms/step - loss: 1.2213 - accuracy: 0.7038\n",
            "Epoch 2/30\n",
            "1066/1066 [==============================] - 15s 14ms/step - loss: 0.7848 - accuracy: 0.7688\n",
            "Epoch 3/30\n",
            "1066/1066 [==============================] - 15s 14ms/step - loss: 0.7274 - accuracy: 0.7838\n",
            "Epoch 4/30\n",
            "1066/1066 [==============================] - 16s 15ms/step - loss: 0.6694 - accuracy: 0.8017\n",
            "Epoch 5/30\n",
            "1066/1066 [==============================] - 15s 14ms/step - loss: 0.6160 - accuracy: 0.8202\n",
            "Epoch 6/30\n",
            "1066/1066 [==============================] - 15s 14ms/step - loss: 0.5770 - accuracy: 0.8312\n",
            "Epoch 7/30\n",
            "1066/1066 [==============================] - 15s 14ms/step - loss: 0.5424 - accuracy: 0.8409\n",
            "Epoch 8/30\n",
            "1066/1066 [==============================] - 16s 15ms/step - loss: 0.5179 - accuracy: 0.8484\n",
            "Epoch 9/30\n",
            "1066/1066 [==============================] - 16s 15ms/step - loss: 0.4982 - accuracy: 0.8533\n",
            "Epoch 10/30\n",
            "1066/1066 [==============================] - 16s 15ms/step - loss: 0.4860 - accuracy: 0.8565\n",
            "Epoch 11/30\n",
            "1066/1066 [==============================] - 16s 15ms/step - loss: 0.4747 - accuracy: 0.8598\n",
            "Epoch 12/30\n",
            "1066/1066 [==============================] - 16s 15ms/step - loss: 0.4628 - accuracy: 0.8633\n",
            "Epoch 13/30\n",
            "1066/1066 [==============================] - 15s 14ms/step - loss: 0.4485 - accuracy: 0.8674\n",
            "Epoch 14/30\n",
            "1066/1066 [==============================] - 16s 15ms/step - loss: 0.4379 - accuracy: 0.8708\n",
            "Epoch 15/30\n",
            "1066/1066 [==============================] - 15s 14ms/step - loss: 0.4284 - accuracy: 0.8736\n",
            "Epoch 16/30\n",
            "1066/1066 [==============================] - 15s 14ms/step - loss: 0.4194 - accuracy: 0.8764\n",
            "Epoch 17/30\n",
            "1066/1066 [==============================] - 15s 14ms/step - loss: 0.4092 - accuracy: 0.8793\n",
            "Epoch 18/30\n",
            "1066/1066 [==============================] - 16s 15ms/step - loss: 0.3994 - accuracy: 0.8819\n",
            "Epoch 19/30\n",
            "1066/1066 [==============================] - 16s 15ms/step - loss: 0.3910 - accuracy: 0.8849\n",
            "Epoch 20/30\n",
            "1066/1066 [==============================] - 16s 15ms/step - loss: 0.3828 - accuracy: 0.8869\n",
            "Epoch 21/30\n",
            "1066/1066 [==============================] - 16s 15ms/step - loss: 0.3745 - accuracy: 0.8894\n",
            "Epoch 22/30\n",
            "1066/1066 [==============================] - 16s 15ms/step - loss: 0.3688 - accuracy: 0.8911\n",
            "Epoch 23/30\n",
            "1066/1066 [==============================] - 15s 14ms/step - loss: 0.3626 - accuracy: 0.8930\n",
            "Epoch 24/30\n",
            "1066/1066 [==============================] - 16s 15ms/step - loss: 0.3586 - accuracy: 0.8942\n",
            "Epoch 25/30\n",
            "1066/1066 [==============================] - 16s 15ms/step - loss: 0.3522 - accuracy: 0.8964\n",
            "Epoch 26/30\n",
            "1066/1066 [==============================] - 16s 15ms/step - loss: 0.3494 - accuracy: 0.8970\n",
            "Epoch 27/30\n",
            "1066/1066 [==============================] - 16s 15ms/step - loss: 0.3441 - accuracy: 0.8989\n",
            "Epoch 28/30\n",
            "1066/1066 [==============================] - 16s 15ms/step - loss: 0.3411 - accuracy: 0.8995\n",
            "Epoch 29/30\n",
            "1066/1066 [==============================] - 16s 15ms/step - loss: 0.3373 - accuracy: 0.9009\n",
            "Epoch 30/30\n",
            "1066/1066 [==============================] - 16s 15ms/step - loss: 0.3333 - accuracy: 0.9017\n"
          ],
          "name": "stdout"
        },
        {
          "output_type": "display_data",
          "data": {
            "text/html": [
              "<br/>Waiting for W&B process to finish, PID 152<br/>Program ended successfully."
            ],
            "text/plain": [
              "<IPython.core.display.HTML object>"
            ]
          },
          "metadata": {
            "tags": []
          }
        },
        {
          "output_type": "display_data",
          "data": {
            "application/vnd.jupyter.widget-view+json": {
              "model_id": "ee224b739bac40fb977bfc9022c88b03",
              "version_minor": 0,
              "version_major": 2
            },
            "text/plain": [
              "VBox(children=(Label(value=' 0.00MB of 0.00MB uploaded (0.00MB deduped)\\r'), FloatProgress(value=1.0, max=1.0)…"
            ]
          },
          "metadata": {
            "tags": []
          }
        },
        {
          "output_type": "display_data",
          "data": {
            "text/html": [
              "Find user logs for this run at: <code>/content/wandb/run-20210511_124048-s17trzjo/logs/debug.log</code>"
            ],
            "text/plain": [
              "<IPython.core.display.HTML object>"
            ]
          },
          "metadata": {
            "tags": []
          }
        },
        {
          "output_type": "display_data",
          "data": {
            "text/html": [
              "Find internal logs for this run at: <code>/content/wandb/run-20210511_124048-s17trzjo/logs/debug-internal.log</code>"
            ],
            "text/plain": [
              "<IPython.core.display.HTML object>"
            ]
          },
          "metadata": {
            "tags": []
          }
        },
        {
          "output_type": "display_data",
          "data": {
            "text/html": [
              "<h3>Run summary:</h3><br/><style>\n",
              "    table.wandb td:nth-child(1) { padding: 0 10px; text-align: right }\n",
              "    </style><table class=\"wandb\">\n",
              "<tr><td>epoch</td><td>29</td></tr><tr><td>loss</td><td>0.33287</td></tr><tr><td>accuracy</td><td>0.90209</td></tr><tr><td>_runtime</td><td>3656</td></tr><tr><td>_timestamp</td><td>1620740504</td></tr><tr><td>_step</td><td>30</td></tr><tr><td>val_accuracy</td><td>10.62115</td></tr></table>"
            ],
            "text/plain": [
              "<IPython.core.display.HTML object>"
            ]
          },
          "metadata": {
            "tags": []
          }
        },
        {
          "output_type": "display_data",
          "data": {
            "text/html": [
              "<h3>Run history:</h3><br/><style>\n",
              "    table.wandb td:nth-child(1) { padding: 0 10px; text-align: right }\n",
              "    </style><table class=\"wandb\">\n",
              "<tr><td>epoch</td><td>▁▁▁▂▂▂▂▃▃▃▃▄▄▄▄▅▅▅▅▆▆▆▆▇▇▇▇███</td></tr><tr><td>loss</td><td>█▆▅▅▄▄▃▃▃▃▃▂▂▂▂▂▂▂▂▂▁▁▁▁▁▁▁▁▁▁</td></tr><tr><td>accuracy</td><td>▁▃▃▄▅▅▅▆▆▆▆▆▇▇▇▇▇▇▇▇▇█████████</td></tr><tr><td>_runtime</td><td>▁▁▁▁▁▁▁▁▁▁▁▁▁▁▁▁▁▂▂▂▂▂▂▂▂▂▂▂▂▂█</td></tr><tr><td>_timestamp</td><td>▁▁▁▁▁▁▁▁▁▁▁▁▁▁▁▁▁▂▂▂▂▂▂▂▂▂▂▂▂▂█</td></tr><tr><td>_step</td><td>▁▁▁▂▂▂▂▃▃▃▃▄▄▄▄▅▅▅▅▅▆▆▆▆▇▇▇▇███</td></tr><tr><td>val_accuracy</td><td>▁</td></tr></table><br/>"
            ],
            "text/plain": [
              "<IPython.core.display.HTML object>"
            ]
          },
          "metadata": {
            "tags": []
          }
        },
        {
          "output_type": "display_data",
          "data": {
            "text/html": [
              "Synced 5 W&B file(s), 1 media file(s), 0 artifact file(s) and 0 other file(s)"
            ],
            "text/plain": [
              "<IPython.core.display.HTML object>"
            ]
          },
          "metadata": {
            "tags": []
          }
        },
        {
          "output_type": "display_data",
          "data": {
            "text/html": [
              "\n",
              "                    <br/>Synced <strong style=\"color:#cdcd00\">balmy-sweep-106</strong>: <a href=\"https://wandb.ai/akceg/cs6910-assignment3-sweep-tamil/runs/s17trzjo\" target=\"_blank\">https://wandb.ai/akceg/cs6910-assignment3-sweep-tamil/runs/s17trzjo</a><br/>\n",
              "                "
            ],
            "text/plain": [
              "<IPython.core.display.HTML object>"
            ]
          },
          "metadata": {
            "tags": []
          }
        },
        {
          "output_type": "stream",
          "text": [
            "\u001b[34m\u001b[1mwandb\u001b[0m: Agent Starting Run: 4woq7wsr with config:\n",
            "\u001b[34m\u001b[1mwandb\u001b[0m: \tcell_type: lstm\n",
            "\u001b[34m\u001b[1mwandb\u001b[0m: \tdropout: 0.5\n",
            "\u001b[34m\u001b[1mwandb\u001b[0m: \tembedding_size: 256\n",
            "\u001b[34m\u001b[1mwandb\u001b[0m: \tepochs: 30\n",
            "\u001b[34m\u001b[1mwandb\u001b[0m: \tlatent_dimension: 512\n",
            "\u001b[34m\u001b[1mwandb\u001b[0m: \tn_decoder_layers: 3\n",
            "\u001b[34m\u001b[1mwandb\u001b[0m: \tn_encoder_layers: 3\n"
          ],
          "name": "stderr"
        },
        {
          "output_type": "display_data",
          "data": {
            "text/html": [
              "\n",
              "                Tracking run with wandb version 0.10.30<br/>\n",
              "                Syncing run <strong style=\"color:#cdcd00\">dainty-sweep-107</strong> to <a href=\"https://wandb.ai\" target=\"_blank\">Weights & Biases</a> <a href=\"https://docs.wandb.com/integrations/jupyter.html\" target=\"_blank\">(Documentation)</a>.<br/>\n",
              "                Project page: <a href=\"https://wandb.ai/akceg/cs6910-assignment3-sweep-tamil\" target=\"_blank\">https://wandb.ai/akceg/cs6910-assignment3-sweep-tamil</a><br/>\n",
              "                Sweep page: <a href=\"https://wandb.ai/akceg/cs6910-assignment3-sweep-tamil/sweeps/h1onqta3\" target=\"_blank\">https://wandb.ai/akceg/cs6910-assignment3-sweep-tamil/sweeps/h1onqta3</a><br/>\n",
              "Run page: <a href=\"https://wandb.ai/akceg/cs6910-assignment3-sweep-tamil/runs/4woq7wsr\" target=\"_blank\">https://wandb.ai/akceg/cs6910-assignment3-sweep-tamil/runs/4woq7wsr</a><br/>\n",
              "                Run data is saved locally in <code>/content/wandb/run-20210511_134150-4woq7wsr</code><br/><br/>\n",
              "            "
            ],
            "text/plain": [
              "<IPython.core.display.HTML object>"
            ]
          },
          "metadata": {
            "tags": []
          }
        },
        {
          "output_type": "stream",
          "text": [
            "Epoch 1/30\n",
            "1066/1066 [==============================] - 63s 52ms/step - loss: 0.9332 - accuracy: 0.7491\n",
            "Epoch 2/30\n",
            "1066/1066 [==============================] - 55s 52ms/step - loss: 0.2520 - accuracy: 0.9274\n",
            "Epoch 3/30\n",
            "1066/1066 [==============================] - 55s 51ms/step - loss: 0.1153 - accuracy: 0.9680\n",
            "Epoch 4/30\n",
            "1066/1066 [==============================] - 55s 51ms/step - loss: 0.0736 - accuracy: 0.9794\n",
            "Epoch 5/30\n",
            "1066/1066 [==============================] - 55s 52ms/step - loss: 0.0528 - accuracy: 0.9849\n",
            "Epoch 6/30\n",
            "1066/1066 [==============================] - 55s 52ms/step - loss: 0.0401 - accuracy: 0.9885\n",
            "Epoch 7/30\n",
            "1066/1066 [==============================] - 55s 51ms/step - loss: 0.0327 - accuracy: 0.9904\n",
            "Epoch 8/30\n",
            "1066/1066 [==============================] - 55s 51ms/step - loss: 0.0278 - accuracy: 0.9918\n",
            "Epoch 9/30\n",
            "1066/1066 [==============================] - 55s 52ms/step - loss: 0.0236 - accuracy: 0.9930\n",
            "Epoch 10/30\n",
            "1066/1066 [==============================] - 55s 52ms/step - loss: 0.0212 - accuracy: 0.9936\n",
            "Epoch 11/30\n",
            "1066/1066 [==============================] - 55s 51ms/step - loss: 0.0193 - accuracy: 0.9941\n",
            "Epoch 12/30\n",
            "1066/1066 [==============================] - 55s 51ms/step - loss: 0.0180 - accuracy: 0.9945\n",
            "Epoch 13/30\n",
            "1066/1066 [==============================] - 55s 52ms/step - loss: 0.0166 - accuracy: 0.9950\n",
            "Epoch 14/30\n",
            "1066/1066 [==============================] - 55s 52ms/step - loss: 0.0156 - accuracy: 0.9952\n",
            "Epoch 15/30\n",
            "1066/1066 [==============================] - 55s 51ms/step - loss: 0.0149 - accuracy: 0.9954\n",
            "Epoch 16/30\n",
            "1066/1066 [==============================] - 55s 51ms/step - loss: 0.0144 - accuracy: 0.9955\n",
            "Epoch 17/30\n",
            "1066/1066 [==============================] - 55s 52ms/step - loss: 0.0138 - accuracy: 0.9958\n",
            "Epoch 18/30\n",
            "1066/1066 [==============================] - 55s 52ms/step - loss: 0.0132 - accuracy: 0.9959\n",
            "Epoch 19/30\n",
            "1066/1066 [==============================] - 55s 52ms/step - loss: 0.0124 - accuracy: 0.9961\n",
            "Epoch 20/30\n",
            "1066/1066 [==============================] - 56s 52ms/step - loss: 0.0123 - accuracy: 0.9962\n",
            "Epoch 21/30\n",
            "1066/1066 [==============================] - 55s 52ms/step - loss: 0.0123 - accuracy: 0.9961\n",
            "Epoch 22/30\n",
            "1066/1066 [==============================] - 55s 52ms/step - loss: 0.0118 - accuracy: 0.9963\n",
            "Epoch 23/30\n",
            "1066/1066 [==============================] - 55s 52ms/step - loss: 0.0118 - accuracy: 0.9963\n",
            "Epoch 24/30\n",
            "1066/1066 [==============================] - 55s 52ms/step - loss: 0.0115 - accuracy: 0.9964\n",
            "Epoch 25/30\n",
            "1066/1066 [==============================] - 56s 52ms/step - loss: 0.0110 - accuracy: 0.9966\n",
            "Epoch 26/30\n",
            "1066/1066 [==============================] - 56s 52ms/step - loss: 0.0110 - accuracy: 0.9965\n",
            "Epoch 27/30\n",
            "1066/1066 [==============================] - 56s 53ms/step - loss: 0.0110 - accuracy: 0.9966\n",
            "Epoch 28/30\n",
            "1066/1066 [==============================] - 56s 53ms/step - loss: 0.0111 - accuracy: 0.9964\n",
            "Epoch 29/30\n",
            "1066/1066 [==============================] - 56s 52ms/step - loss: 0.0107 - accuracy: 0.9966\n",
            "Epoch 30/30\n",
            "1066/1066 [==============================] - 56s 52ms/step - loss: 0.0107 - accuracy: 0.9966\n"
          ],
          "name": "stdout"
        },
        {
          "output_type": "display_data",
          "data": {
            "text/html": [
              "<br/>Waiting for W&B process to finish, PID 225269<br/>Program ended successfully."
            ],
            "text/plain": [
              "<IPython.core.display.HTML object>"
            ]
          },
          "metadata": {
            "tags": []
          }
        },
        {
          "output_type": "display_data",
          "data": {
            "application/vnd.jupyter.widget-view+json": {
              "model_id": "fdd24d2a0dbd4480b4043bc7295108b8",
              "version_minor": 0,
              "version_major": 2
            },
            "text/plain": [
              "VBox(children=(Label(value=' 0.00MB of 0.00MB uploaded (0.00MB deduped)\\r'), FloatProgress(value=1.0, max=1.0)…"
            ]
          },
          "metadata": {
            "tags": []
          }
        },
        {
          "output_type": "display_data",
          "data": {
            "text/html": [
              "Find user logs for this run at: <code>/content/wandb/run-20210511_134150-4woq7wsr/logs/debug.log</code>"
            ],
            "text/plain": [
              "<IPython.core.display.HTML object>"
            ]
          },
          "metadata": {
            "tags": []
          }
        },
        {
          "output_type": "display_data",
          "data": {
            "text/html": [
              "Find internal logs for this run at: <code>/content/wandb/run-20210511_134150-4woq7wsr/logs/debug-internal.log</code>"
            ],
            "text/plain": [
              "<IPython.core.display.HTML object>"
            ]
          },
          "metadata": {
            "tags": []
          }
        },
        {
          "output_type": "display_data",
          "data": {
            "text/html": [
              "<h3>Run summary:</h3><br/><style>\n",
              "    table.wandb td:nth-child(1) { padding: 0 10px; text-align: right }\n",
              "    </style><table class=\"wandb\">\n",
              "<tr><td>epoch</td><td>29</td></tr><tr><td>loss</td><td>0.01138</td></tr><tr><td>accuracy</td><td>0.99641</td></tr><tr><td>_runtime</td><td>5205</td></tr><tr><td>_timestamp</td><td>1620745715</td></tr><tr><td>_step</td><td>30</td></tr><tr><td>val_accuracy</td><td>51.88983</td></tr></table>"
            ],
            "text/plain": [
              "<IPython.core.display.HTML object>"
            ]
          },
          "metadata": {
            "tags": []
          }
        },
        {
          "output_type": "display_data",
          "data": {
            "text/html": [
              "<h3>Run history:</h3><br/><style>\n",
              "    table.wandb td:nth-child(1) { padding: 0 10px; text-align: right }\n",
              "    </style><table class=\"wandb\">\n",
              "<tr><td>epoch</td><td>▁▁▁▂▂▂▂▃▃▃▃▄▄▄▄▅▅▅▅▆▆▆▆▇▇▇▇███</td></tr><tr><td>loss</td><td>█▃▂▂▁▁▁▁▁▁▁▁▁▁▁▁▁▁▁▁▁▁▁▁▁▁▁▁▁▁</td></tr><tr><td>accuracy</td><td>▁▆▇▇██████████████████████████</td></tr><tr><td>_runtime</td><td>▁▁▁▁▁▁▁▂▂▂▂▂▂▂▂▂▂▂▂▂▂▃▃▃▃▃▃▃▃▃█</td></tr><tr><td>_timestamp</td><td>▁▁▁▁▁▁▁▂▂▂▂▂▂▂▂▂▂▂▂▂▂▃▃▃▃▃▃▃▃▃█</td></tr><tr><td>_step</td><td>▁▁▁▂▂▂▂▃▃▃▃▄▄▄▄▅▅▅▅▅▆▆▆▆▇▇▇▇███</td></tr><tr><td>val_accuracy</td><td>▁</td></tr></table><br/>"
            ],
            "text/plain": [
              "<IPython.core.display.HTML object>"
            ]
          },
          "metadata": {
            "tags": []
          }
        },
        {
          "output_type": "display_data",
          "data": {
            "text/html": [
              "Synced 5 W&B file(s), 1 media file(s), 0 artifact file(s) and 0 other file(s)"
            ],
            "text/plain": [
              "<IPython.core.display.HTML object>"
            ]
          },
          "metadata": {
            "tags": []
          }
        },
        {
          "output_type": "display_data",
          "data": {
            "text/html": [
              "\n",
              "                    <br/>Synced <strong style=\"color:#cdcd00\">dainty-sweep-107</strong>: <a href=\"https://wandb.ai/akceg/cs6910-assignment3-sweep-tamil/runs/4woq7wsr\" target=\"_blank\">https://wandb.ai/akceg/cs6910-assignment3-sweep-tamil/runs/4woq7wsr</a><br/>\n",
              "                "
            ],
            "text/plain": [
              "<IPython.core.display.HTML object>"
            ]
          },
          "metadata": {
            "tags": []
          }
        },
        {
          "output_type": "stream",
          "text": [
            "\u001b[34m\u001b[1mwandb\u001b[0m: Agent Starting Run: usgr4vom with config:\n",
            "\u001b[34m\u001b[1mwandb\u001b[0m: \tcell_type: lstm\n",
            "\u001b[34m\u001b[1mwandb\u001b[0m: \tdropout: 0.3\n",
            "\u001b[34m\u001b[1mwandb\u001b[0m: \tembedding_size: 128\n",
            "\u001b[34m\u001b[1mwandb\u001b[0m: \tepochs: 30\n",
            "\u001b[34m\u001b[1mwandb\u001b[0m: \tlatent_dimension: 512\n",
            "\u001b[34m\u001b[1mwandb\u001b[0m: \tn_decoder_layers: 2\n",
            "\u001b[34m\u001b[1mwandb\u001b[0m: \tn_encoder_layers: 3\n"
          ],
          "name": "stderr"
        },
        {
          "output_type": "display_data",
          "data": {
            "text/html": [
              "\n",
              "                Tracking run with wandb version 0.10.30<br/>\n",
              "                Syncing run <strong style=\"color:#cdcd00\">ethereal-sweep-108</strong> to <a href=\"https://wandb.ai\" target=\"_blank\">Weights & Biases</a> <a href=\"https://docs.wandb.com/integrations/jupyter.html\" target=\"_blank\">(Documentation)</a>.<br/>\n",
              "                Project page: <a href=\"https://wandb.ai/akceg/cs6910-assignment3-sweep-tamil\" target=\"_blank\">https://wandb.ai/akceg/cs6910-assignment3-sweep-tamil</a><br/>\n",
              "                Sweep page: <a href=\"https://wandb.ai/akceg/cs6910-assignment3-sweep-tamil/sweeps/h1onqta3\" target=\"_blank\">https://wandb.ai/akceg/cs6910-assignment3-sweep-tamil/sweeps/h1onqta3</a><br/>\n",
              "Run page: <a href=\"https://wandb.ai/akceg/cs6910-assignment3-sweep-tamil/runs/usgr4vom\" target=\"_blank\">https://wandb.ai/akceg/cs6910-assignment3-sweep-tamil/runs/usgr4vom</a><br/>\n",
              "                Run data is saved locally in <code>/content/wandb/run-20210511_150839-usgr4vom</code><br/><br/>\n",
              "            "
            ],
            "text/plain": [
              "<IPython.core.display.HTML object>"
            ]
          },
          "metadata": {
            "tags": []
          }
        },
        {
          "output_type": "stream",
          "text": [
            "Epoch 1/30\n",
            "1066/1066 [==============================] - 51s 41ms/step - loss: 0.9689 - accuracy: 0.7437\n",
            "Epoch 2/30\n",
            "1066/1066 [==============================] - 44s 41ms/step - loss: 0.2892 - accuracy: 0.9155\n",
            "Epoch 3/30\n",
            "1066/1066 [==============================] - 44s 41ms/step - loss: 0.1211 - accuracy: 0.9661\n",
            "Epoch 4/30\n",
            "1066/1066 [==============================] - 44s 41ms/step - loss: 0.0705 - accuracy: 0.9803\n",
            "Epoch 5/30\n",
            "1066/1066 [==============================] - 44s 41ms/step - loss: 0.0472 - accuracy: 0.9866\n",
            "Epoch 6/30\n",
            "1066/1066 [==============================] - 44s 41ms/step - loss: 0.0346 - accuracy: 0.9901\n",
            "Epoch 7/30\n",
            "1066/1066 [==============================] - 44s 42ms/step - loss: 0.0279 - accuracy: 0.9919\n",
            "Epoch 8/30\n",
            "1066/1066 [==============================] - 44s 42ms/step - loss: 0.0231 - accuracy: 0.9931\n",
            "Epoch 9/30\n",
            "1066/1066 [==============================] - 44s 42ms/step - loss: 0.0196 - accuracy: 0.9942\n",
            "Epoch 10/30\n",
            "1066/1066 [==============================] - 45s 42ms/step - loss: 0.0176 - accuracy: 0.9948\n",
            "Epoch 11/30\n",
            "1066/1066 [==============================] - 43s 41ms/step - loss: 0.0159 - accuracy: 0.9952\n",
            "Epoch 12/30\n",
            "1066/1066 [==============================] - 44s 41ms/step - loss: 0.0152 - accuracy: 0.9955\n",
            "Epoch 13/30\n",
            "1066/1066 [==============================] - 44s 42ms/step - loss: 0.0138 - accuracy: 0.9959\n",
            "Epoch 14/30\n",
            "1066/1066 [==============================] - 44s 42ms/step - loss: 0.0134 - accuracy: 0.9959\n",
            "Epoch 15/30\n",
            "1066/1066 [==============================] - 44s 42ms/step - loss: 0.0126 - accuracy: 0.9962\n",
            "Epoch 16/30\n",
            "1066/1066 [==============================] - 45s 42ms/step - loss: 0.0124 - accuracy: 0.9963\n",
            "Epoch 17/30\n",
            "1066/1066 [==============================] - 45s 42ms/step - loss: 0.0119 - accuracy: 0.9964\n",
            "Epoch 18/30\n",
            "1066/1066 [==============================] - 44s 42ms/step - loss: 0.0112 - accuracy: 0.9966\n",
            "Epoch 19/30\n",
            "1066/1066 [==============================] - 45s 42ms/step - loss: 0.0108 - accuracy: 0.9967\n",
            "Epoch 20/30\n",
            "1066/1066 [==============================] - 45s 42ms/step - loss: 0.0108 - accuracy: 0.9967\n",
            "Epoch 21/30\n",
            "1066/1066 [==============================] - 44s 42ms/step - loss: 0.0104 - accuracy: 0.9968\n",
            "Epoch 22/30\n",
            "1066/1066 [==============================] - 45s 42ms/step - loss: 0.0105 - accuracy: 0.9969\n",
            "Epoch 23/30\n",
            "1066/1066 [==============================] - 46s 43ms/step - loss: 0.0103 - accuracy: 0.9969\n",
            "Epoch 24/30\n",
            "1066/1066 [==============================] - 46s 43ms/step - loss: 0.0100 - accuracy: 0.9970\n",
            "Epoch 25/30\n",
            "1066/1066 [==============================] - 45s 42ms/step - loss: 0.0097 - accuracy: 0.9970\n",
            "Epoch 26/30\n",
            "1066/1066 [==============================] - 45s 42ms/step - loss: 0.0095 - accuracy: 0.9971\n",
            "Epoch 27/30\n",
            "1066/1066 [==============================] - 45s 42ms/step - loss: 0.0093 - accuracy: 0.9972\n",
            "Epoch 28/30\n",
            "1066/1066 [==============================] - 45s 42ms/step - loss: 0.0094 - accuracy: 0.9971\n",
            "Epoch 29/30\n",
            "1066/1066 [==============================] - 45s 42ms/step - loss: 0.0094 - accuracy: 0.9972\n",
            "Epoch 30/30\n",
            "1066/1066 [==============================] - 45s 42ms/step - loss: 0.0093 - accuracy: 0.9972\n"
          ],
          "name": "stdout"
        },
        {
          "output_type": "display_data",
          "data": {
            "text/html": [
              "<br/>Waiting for W&B process to finish, PID 434789<br/>Program ended successfully."
            ],
            "text/plain": [
              "<IPython.core.display.HTML object>"
            ]
          },
          "metadata": {
            "tags": []
          }
        },
        {
          "output_type": "display_data",
          "data": {
            "application/vnd.jupyter.widget-view+json": {
              "model_id": "dd6df17b7fdd4794a205ae308bcb673e",
              "version_minor": 0,
              "version_major": 2
            },
            "text/plain": [
              "VBox(children=(Label(value=' 0.00MB of 0.00MB uploaded (0.00MB deduped)\\r'), FloatProgress(value=1.0, max=1.0)…"
            ]
          },
          "metadata": {
            "tags": []
          }
        },
        {
          "output_type": "display_data",
          "data": {
            "text/html": [
              "Find user logs for this run at: <code>/content/wandb/run-20210511_150839-usgr4vom/logs/debug.log</code>"
            ],
            "text/plain": [
              "<IPython.core.display.HTML object>"
            ]
          },
          "metadata": {
            "tags": []
          }
        },
        {
          "output_type": "display_data",
          "data": {
            "text/html": [
              "Find internal logs for this run at: <code>/content/wandb/run-20210511_150839-usgr4vom/logs/debug-internal.log</code>"
            ],
            "text/plain": [
              "<IPython.core.display.HTML object>"
            ]
          },
          "metadata": {
            "tags": []
          }
        },
        {
          "output_type": "display_data",
          "data": {
            "text/html": [
              "<h3>Run summary:</h3><br/><style>\n",
              "    table.wandb td:nth-child(1) { padding: 0 10px; text-align: right }\n",
              "    </style><table class=\"wandb\">\n",
              "<tr><td>epoch</td><td>29</td></tr><tr><td>loss</td><td>0.00992</td></tr><tr><td>accuracy</td><td>0.99697</td></tr><tr><td>_runtime</td><td>4568</td></tr><tr><td>_timestamp</td><td>1620750287</td></tr><tr><td>_step</td><td>30</td></tr><tr><td>val_accuracy</td><td>49.8535</td></tr></table>"
            ],
            "text/plain": [
              "<IPython.core.display.HTML object>"
            ]
          },
          "metadata": {
            "tags": []
          }
        },
        {
          "output_type": "display_data",
          "data": {
            "text/html": [
              "<h3>Run history:</h3><br/><style>\n",
              "    table.wandb td:nth-child(1) { padding: 0 10px; text-align: right }\n",
              "    </style><table class=\"wandb\">\n",
              "<tr><td>epoch</td><td>▁▁▁▂▂▂▂▃▃▃▃▄▄▄▄▅▅▅▅▆▆▆▆▇▇▇▇███</td></tr><tr><td>loss</td><td>█▃▂▂▁▁▁▁▁▁▁▁▁▁▁▁▁▁▁▁▁▁▁▁▁▁▁▁▁▁</td></tr><tr><td>accuracy</td><td>▁▆▇▇██████████████████████████</td></tr><tr><td>_runtime</td><td>▁▁▁▁▁▁▁▁▂▂▂▂▂▂▂▂▂▂▂▂▂▂▃▃▃▃▃▃▃▃█</td></tr><tr><td>_timestamp</td><td>▁▁▁▁▁▁▁▁▂▂▂▂▂▂▂▂▂▂▂▂▂▂▃▃▃▃▃▃▃▃█</td></tr><tr><td>_step</td><td>▁▁▁▂▂▂▂▃▃▃▃▄▄▄▄▅▅▅▅▅▆▆▆▆▇▇▇▇███</td></tr><tr><td>val_accuracy</td><td>▁</td></tr></table><br/>"
            ],
            "text/plain": [
              "<IPython.core.display.HTML object>"
            ]
          },
          "metadata": {
            "tags": []
          }
        },
        {
          "output_type": "display_data",
          "data": {
            "text/html": [
              "Synced 5 W&B file(s), 1 media file(s), 0 artifact file(s) and 0 other file(s)"
            ],
            "text/plain": [
              "<IPython.core.display.HTML object>"
            ]
          },
          "metadata": {
            "tags": []
          }
        },
        {
          "output_type": "display_data",
          "data": {
            "text/html": [
              "\n",
              "                    <br/>Synced <strong style=\"color:#cdcd00\">ethereal-sweep-108</strong>: <a href=\"https://wandb.ai/akceg/cs6910-assignment3-sweep-tamil/runs/usgr4vom\" target=\"_blank\">https://wandb.ai/akceg/cs6910-assignment3-sweep-tamil/runs/usgr4vom</a><br/>\n",
              "                "
            ],
            "text/plain": [
              "<IPython.core.display.HTML object>"
            ]
          },
          "metadata": {
            "tags": []
          }
        },
        {
          "output_type": "stream",
          "text": [
            "\u001b[34m\u001b[1mwandb\u001b[0m: Agent Starting Run: nilpxjio with config:\n",
            "\u001b[34m\u001b[1mwandb\u001b[0m: \tcell_type: gru\n",
            "\u001b[34m\u001b[1mwandb\u001b[0m: \tdropout: 0.2\n",
            "\u001b[34m\u001b[1mwandb\u001b[0m: \tembedding_size: 256\n",
            "\u001b[34m\u001b[1mwandb\u001b[0m: \tepochs: 30\n",
            "\u001b[34m\u001b[1mwandb\u001b[0m: \tlatent_dimension: 256\n",
            "\u001b[34m\u001b[1mwandb\u001b[0m: \tn_decoder_layers: 2\n",
            "\u001b[34m\u001b[1mwandb\u001b[0m: \tn_encoder_layers: 3\n"
          ],
          "name": "stderr"
        },
        {
          "output_type": "display_data",
          "data": {
            "text/html": [
              "\n",
              "                Tracking run with wandb version 0.10.30<br/>\n",
              "                Syncing run <strong style=\"color:#cdcd00\">unique-sweep-109</strong> to <a href=\"https://wandb.ai\" target=\"_blank\">Weights & Biases</a> <a href=\"https://docs.wandb.com/integrations/jupyter.html\" target=\"_blank\">(Documentation)</a>.<br/>\n",
              "                Project page: <a href=\"https://wandb.ai/akceg/cs6910-assignment3-sweep-tamil\" target=\"_blank\">https://wandb.ai/akceg/cs6910-assignment3-sweep-tamil</a><br/>\n",
              "                Sweep page: <a href=\"https://wandb.ai/akceg/cs6910-assignment3-sweep-tamil/sweeps/h1onqta3\" target=\"_blank\">https://wandb.ai/akceg/cs6910-assignment3-sweep-tamil/sweeps/h1onqta3</a><br/>\n",
              "Run page: <a href=\"https://wandb.ai/akceg/cs6910-assignment3-sweep-tamil/runs/nilpxjio\" target=\"_blank\">https://wandb.ai/akceg/cs6910-assignment3-sweep-tamil/runs/nilpxjio</a><br/>\n",
              "                Run data is saved locally in <code>/content/wandb/run-20210511_162451-nilpxjio</code><br/><br/>\n",
              "            "
            ],
            "text/plain": [
              "<IPython.core.display.HTML object>"
            ]
          },
          "metadata": {
            "tags": []
          }
        },
        {
          "output_type": "stream",
          "text": [
            "Epoch 1/30\n",
            "1066/1066 [==============================] - 31s 22ms/step - loss: 0.7736 - accuracy: 0.7908\n",
            "Epoch 2/30\n",
            "1066/1066 [==============================] - 24s 22ms/step - loss: 0.1898 - accuracy: 0.9472\n",
            "Epoch 3/30\n",
            "1066/1066 [==============================] - 24s 22ms/step - loss: 0.1161 - accuracy: 0.9681\n",
            "Epoch 4/30\n",
            "1066/1066 [==============================] - 23s 22ms/step - loss: 0.0868 - accuracy: 0.9763\n",
            "Epoch 5/30\n",
            "1066/1066 [==============================] - 23s 21ms/step - loss: 0.0704 - accuracy: 0.9803\n",
            "Epoch 6/30\n",
            "1066/1066 [==============================] - 24s 22ms/step - loss: 0.0612 - accuracy: 0.9829\n",
            "Epoch 7/30\n",
            "1066/1066 [==============================] - 24s 22ms/step - loss: 0.0530 - accuracy: 0.9849\n",
            "Epoch 8/30\n",
            "1066/1066 [==============================] - 23s 22ms/step - loss: 0.0475 - accuracy: 0.9864\n",
            "Epoch 9/30\n",
            "1066/1066 [==============================] - 23s 22ms/step - loss: 0.0438 - accuracy: 0.9874\n",
            "Epoch 10/30\n",
            "1066/1066 [==============================] - 24s 22ms/step - loss: 0.0403 - accuracy: 0.9884\n",
            "Epoch 11/30\n",
            "1066/1066 [==============================] - 24s 22ms/step - loss: 0.0376 - accuracy: 0.9889\n",
            "Epoch 12/30\n",
            "1066/1066 [==============================] - 23s 22ms/step - loss: 0.0355 - accuracy: 0.9895\n",
            "Epoch 13/30\n",
            "1066/1066 [==============================] - 23s 22ms/step - loss: 0.0338 - accuracy: 0.9899\n",
            "Epoch 14/30\n",
            "1066/1066 [==============================] - 23s 22ms/step - loss: 0.0327 - accuracy: 0.9902\n",
            "Epoch 15/30\n",
            "1066/1066 [==============================] - 23s 22ms/step - loss: 0.0307 - accuracy: 0.9908\n",
            "Epoch 16/30\n",
            "1066/1066 [==============================] - 23s 22ms/step - loss: 0.0299 - accuracy: 0.9908\n",
            "Epoch 17/30\n",
            "1066/1066 [==============================] - 24s 22ms/step - loss: 0.0290 - accuracy: 0.9912\n",
            "Epoch 18/30\n",
            "1066/1066 [==============================] - 24s 22ms/step - loss: 0.0285 - accuracy: 0.9913\n",
            "Epoch 19/30\n",
            "1066/1066 [==============================] - 24s 22ms/step - loss: 0.0279 - accuracy: 0.9914\n",
            "Epoch 20/30\n",
            "1066/1066 [==============================] - 24s 22ms/step - loss: 0.0272 - accuracy: 0.9917\n",
            "Epoch 21/30\n",
            "1066/1066 [==============================] - 23s 22ms/step - loss: 0.0267 - accuracy: 0.9917\n",
            "Epoch 22/30\n",
            "1066/1066 [==============================] - 23s 22ms/step - loss: 0.0261 - accuracy: 0.9919\n",
            "Epoch 23/30\n",
            "1066/1066 [==============================] - 24s 22ms/step - loss: 0.0254 - accuracy: 0.9921\n",
            "Epoch 24/30\n",
            "1066/1066 [==============================] - 24s 22ms/step - loss: 0.0253 - accuracy: 0.9921\n",
            "Epoch 25/30\n",
            "1066/1066 [==============================] - 24s 22ms/step - loss: 0.0252 - accuracy: 0.9921\n",
            "Epoch 26/30\n",
            "1066/1066 [==============================] - 24s 22ms/step - loss: 0.0251 - accuracy: 0.9921\n",
            "Epoch 27/30\n",
            "1066/1066 [==============================] - 24s 22ms/step - loss: 0.0243 - accuracy: 0.9924\n",
            "Epoch 28/30\n",
            "1066/1066 [==============================] - 24s 22ms/step - loss: 0.0243 - accuracy: 0.9924\n",
            "Epoch 29/30\n",
            "1066/1066 [==============================] - 24s 22ms/step - loss: 0.0243 - accuracy: 0.9923\n",
            "Epoch 30/30\n",
            "1066/1066 [==============================] - 24s 22ms/step - loss: 0.0241 - accuracy: 0.9924\n"
          ],
          "name": "stdout"
        },
        {
          "output_type": "display_data",
          "data": {
            "text/html": [
              "<br/>Waiting for W&B process to finish, PID 644315<br/>Program ended successfully."
            ],
            "text/plain": [
              "<IPython.core.display.HTML object>"
            ]
          },
          "metadata": {
            "tags": []
          }
        },
        {
          "output_type": "display_data",
          "data": {
            "application/vnd.jupyter.widget-view+json": {
              "model_id": "b5c1e5701717482fb6c0a3522799a549",
              "version_minor": 0,
              "version_major": 2
            },
            "text/plain": [
              "VBox(children=(Label(value=' 0.00MB of 0.00MB uploaded (0.00MB deduped)\\r'), FloatProgress(value=1.0, max=1.0)…"
            ]
          },
          "metadata": {
            "tags": []
          }
        },
        {
          "output_type": "display_data",
          "data": {
            "text/html": [
              "Find user logs for this run at: <code>/content/wandb/run-20210511_162451-nilpxjio/logs/debug.log</code>"
            ],
            "text/plain": [
              "<IPython.core.display.HTML object>"
            ]
          },
          "metadata": {
            "tags": []
          }
        },
        {
          "output_type": "display_data",
          "data": {
            "text/html": [
              "Find internal logs for this run at: <code>/content/wandb/run-20210511_162451-nilpxjio/logs/debug-internal.log</code>"
            ],
            "text/plain": [
              "<IPython.core.display.HTML object>"
            ]
          },
          "metadata": {
            "tags": []
          }
        },
        {
          "output_type": "display_data",
          "data": {
            "text/html": [
              "<h3>Run summary:</h3><br/><style>\n",
              "    table.wandb td:nth-child(1) { padding: 0 10px; text-align: right }\n",
              "    </style><table class=\"wandb\">\n",
              "<tr><td>epoch</td><td>29</td></tr><tr><td>loss</td><td>0.02496</td></tr><tr><td>accuracy</td><td>0.99218</td></tr><tr><td>_runtime</td><td>3536</td></tr><tr><td>_timestamp</td><td>1620753827</td></tr><tr><td>_step</td><td>30</td></tr><tr><td>val_accuracy</td><td>46.79168</td></tr></table>"
            ],
            "text/plain": [
              "<IPython.core.display.HTML object>"
            ]
          },
          "metadata": {
            "tags": []
          }
        },
        {
          "output_type": "display_data",
          "data": {
            "text/html": [
              "<h3>Run history:</h3><br/><style>\n",
              "    table.wandb td:nth-child(1) { padding: 0 10px; text-align: right }\n",
              "    </style><table class=\"wandb\">\n",
              "<tr><td>epoch</td><td>▁▁▁▂▂▂▂▃▃▃▃▄▄▄▄▅▅▅▅▆▆▆▆▇▇▇▇███</td></tr><tr><td>loss</td><td>█▃▂▂▂▂▁▁▁▁▁▁▁▁▁▁▁▁▁▁▁▁▁▁▁▁▁▁▁▁</td></tr><tr><td>accuracy</td><td>▁▆▇▇▇█████████████████████████</td></tr><tr><td>_runtime</td><td>▁▁▁▁▁▁▁▁▁▁▁▂▂▂▂▂▂▂▂▂▂▂▂▂▂▂▂▂▂▂█</td></tr><tr><td>_timestamp</td><td>▁▁▁▁▁▁▁▁▁▁▁▂▂▂▂▂▂▂▂▂▂▂▂▂▂▂▂▂▂▂█</td></tr><tr><td>_step</td><td>▁▁▁▂▂▂▂▃▃▃▃▄▄▄▄▅▅▅▅▅▆▆▆▆▇▇▇▇███</td></tr><tr><td>val_accuracy</td><td>▁</td></tr></table><br/>"
            ],
            "text/plain": [
              "<IPython.core.display.HTML object>"
            ]
          },
          "metadata": {
            "tags": []
          }
        },
        {
          "output_type": "display_data",
          "data": {
            "text/html": [
              "Synced 5 W&B file(s), 1 media file(s), 0 artifact file(s) and 0 other file(s)"
            ],
            "text/plain": [
              "<IPython.core.display.HTML object>"
            ]
          },
          "metadata": {
            "tags": []
          }
        },
        {
          "output_type": "display_data",
          "data": {
            "text/html": [
              "\n",
              "                    <br/>Synced <strong style=\"color:#cdcd00\">unique-sweep-109</strong>: <a href=\"https://wandb.ai/akceg/cs6910-assignment3-sweep-tamil/runs/nilpxjio\" target=\"_blank\">https://wandb.ai/akceg/cs6910-assignment3-sweep-tamil/runs/nilpxjio</a><br/>\n",
              "                "
            ],
            "text/plain": [
              "<IPython.core.display.HTML object>"
            ]
          },
          "metadata": {
            "tags": []
          }
        },
        {
          "output_type": "stream",
          "text": [
            "\u001b[34m\u001b[1mwandb\u001b[0m: Agent Starting Run: crhzuzgv with config:\n",
            "\u001b[34m\u001b[1mwandb\u001b[0m: \tcell_type: rnn\n",
            "\u001b[34m\u001b[1mwandb\u001b[0m: \tdropout: 0.5\n",
            "\u001b[34m\u001b[1mwandb\u001b[0m: \tembedding_size: 16\n",
            "\u001b[34m\u001b[1mwandb\u001b[0m: \tepochs: 20\n",
            "\u001b[34m\u001b[1mwandb\u001b[0m: \tlatent_dimension: 64\n",
            "\u001b[34m\u001b[1mwandb\u001b[0m: \tn_decoder_layers: 1\n",
            "\u001b[34m\u001b[1mwandb\u001b[0m: \tn_encoder_layers: 3\n"
          ],
          "name": "stderr"
        },
        {
          "output_type": "display_data",
          "data": {
            "text/html": [
              "\n",
              "                Tracking run with wandb version 0.10.30<br/>\n",
              "                Syncing run <strong style=\"color:#cdcd00\">sage-sweep-110</strong> to <a href=\"https://wandb.ai\" target=\"_blank\">Weights & Biases</a> <a href=\"https://docs.wandb.com/integrations/jupyter.html\" target=\"_blank\">(Documentation)</a>.<br/>\n",
              "                Project page: <a href=\"https://wandb.ai/akceg/cs6910-assignment3-sweep-tamil\" target=\"_blank\">https://wandb.ai/akceg/cs6910-assignment3-sweep-tamil</a><br/>\n",
              "                Sweep page: <a href=\"https://wandb.ai/akceg/cs6910-assignment3-sweep-tamil/sweeps/h1onqta3\" target=\"_blank\">https://wandb.ai/akceg/cs6910-assignment3-sweep-tamil/sweeps/h1onqta3</a><br/>\n",
              "Run page: <a href=\"https://wandb.ai/akceg/cs6910-assignment3-sweep-tamil/runs/crhzuzgv\" target=\"_blank\">https://wandb.ai/akceg/cs6910-assignment3-sweep-tamil/runs/crhzuzgv</a><br/>\n",
              "                Run data is saved locally in <code>/content/wandb/run-20210511_172353-crhzuzgv</code><br/><br/>\n",
              "            "
            ],
            "text/plain": [
              "<IPython.core.display.HTML object>"
            ]
          },
          "metadata": {
            "tags": []
          }
        },
        {
          "output_type": "stream",
          "text": [
            "Epoch 1/20\n",
            "1066/1066 [==============================] - 109s 99ms/step - loss: 1.1325 - accuracy: 0.7109\n",
            "Epoch 2/20\n",
            "1066/1066 [==============================] - 109s 102ms/step - loss: 0.7290 - accuracy: 0.7872\n",
            "Epoch 3/20\n",
            "1066/1066 [==============================] - 106s 99ms/step - loss: 0.6860 - accuracy: 0.7995\n",
            "Epoch 4/20\n",
            "1066/1066 [==============================] - 108s 101ms/step - loss: 0.6629 - accuracy: 0.8059\n",
            "Epoch 5/20\n",
            "1066/1066 [==============================] - 107s 101ms/step - loss: 0.6467 - accuracy: 0.8102\n",
            "Epoch 6/20\n",
            "1066/1066 [==============================] - 108s 101ms/step - loss: 0.6331 - accuracy: 0.8137\n",
            "Epoch 7/20\n",
            "1066/1066 [==============================] - 105s 98ms/step - loss: 0.6223 - accuracy: 0.8164\n",
            "Epoch 8/20\n",
            "1066/1066 [==============================] - 109s 102ms/step - loss: 0.6163 - accuracy: 0.8180\n",
            "Epoch 9/20\n",
            "1066/1066 [==============================] - 108s 102ms/step - loss: 0.6099 - accuracy: 0.8196\n",
            "Epoch 10/20\n",
            "1066/1066 [==============================] - 108s 101ms/step - loss: 0.6031 - accuracy: 0.8215\n",
            "Epoch 11/20\n",
            "1066/1066 [==============================] - 107s 100ms/step - loss: 0.6009 - accuracy: 0.8218\n",
            "Epoch 12/20\n",
            "1066/1066 [==============================] - 108s 101ms/step - loss: 0.5948 - accuracy: 0.8233\n",
            "Epoch 13/20\n",
            "1066/1066 [==============================] - 107s 101ms/step - loss: 0.5914 - accuracy: 0.8245\n",
            "Epoch 14/20\n",
            "1066/1066 [==============================] - 108s 101ms/step - loss: 0.5880 - accuracy: 0.8256\n",
            "Epoch 15/20\n",
            "1066/1066 [==============================] - 108s 102ms/step - loss: 0.5873 - accuracy: 0.8254\n",
            "Epoch 16/20\n",
            "1066/1066 [==============================] - 108s 102ms/step - loss: 0.5813 - accuracy: 0.8275\n",
            "Epoch 17/20\n",
            "1066/1066 [==============================] - 108s 101ms/step - loss: 0.5785 - accuracy: 0.8276\n",
            "Epoch 18/20\n",
            "1066/1066 [==============================] - 107s 101ms/step - loss: 0.5764 - accuracy: 0.8281\n",
            "Epoch 19/20\n",
            "1066/1066 [==============================] - 101s 94ms/step - loss: 0.5744 - accuracy: 0.8289\n",
            "Epoch 20/20\n",
            "1066/1066 [==============================] - 108s 101ms/step - loss: 0.5717 - accuracy: 0.8297\n"
          ],
          "name": "stdout"
        },
        {
          "output_type": "display_data",
          "data": {
            "text/html": [
              "<br/>Waiting for W&B process to finish, PID 857039<br/>Program ended successfully."
            ],
            "text/plain": [
              "<IPython.core.display.HTML object>"
            ]
          },
          "metadata": {
            "tags": []
          }
        },
        {
          "output_type": "display_data",
          "data": {
            "application/vnd.jupyter.widget-view+json": {
              "model_id": "9afeaf565b66453f80fd2893a34cb8b3",
              "version_minor": 0,
              "version_major": 2
            },
            "text/plain": [
              "VBox(children=(Label(value=' 0.00MB of 0.00MB uploaded (0.00MB deduped)\\r'), FloatProgress(value=1.0, max=1.0)…"
            ]
          },
          "metadata": {
            "tags": []
          }
        },
        {
          "output_type": "display_data",
          "data": {
            "text/html": [
              "Find user logs for this run at: <code>/content/wandb/run-20210511_172353-crhzuzgv/logs/debug.log</code>"
            ],
            "text/plain": [
              "<IPython.core.display.HTML object>"
            ]
          },
          "metadata": {
            "tags": []
          }
        },
        {
          "output_type": "display_data",
          "data": {
            "text/html": [
              "Find internal logs for this run at: <code>/content/wandb/run-20210511_172353-crhzuzgv/logs/debug-internal.log</code>"
            ],
            "text/plain": [
              "<IPython.core.display.HTML object>"
            ]
          },
          "metadata": {
            "tags": []
          }
        },
        {
          "output_type": "display_data",
          "data": {
            "text/html": [
              "<h3>Run summary:</h3><br/><style>\n",
              "    table.wandb td:nth-child(1) { padding: 0 10px; text-align: right }\n",
              "    </style><table class=\"wandb\">\n",
              "<tr><td>epoch</td><td>19</td></tr><tr><td>loss</td><td>0.57234</td></tr><tr><td>accuracy</td><td>0.82934</td></tr><tr><td>_runtime</td><td>5340</td></tr><tr><td>_timestamp</td><td>1620759173</td></tr><tr><td>_step</td><td>20</td></tr><tr><td>val_accuracy</td><td>0.0</td></tr></table>"
            ],
            "text/plain": [
              "<IPython.core.display.HTML object>"
            ]
          },
          "metadata": {
            "tags": []
          }
        },
        {
          "output_type": "display_data",
          "data": {
            "text/html": [
              "<h3>Run history:</h3><br/><style>\n",
              "    table.wandb td:nth-child(1) { padding: 0 10px; text-align: right }\n",
              "    </style><table class=\"wandb\">\n",
              "<tr><td>epoch</td><td>▁▁▂▂▂▃▃▄▄▄▅▅▅▆▆▇▇▇██</td></tr><tr><td>loss</td><td>█▄▃▃▃▂▂▂▂▂▂▁▁▁▁▁▁▁▁▁</td></tr><tr><td>accuracy</td><td>▁▄▅▆▆▇▇▇▇▇▇▇████████</td></tr><tr><td>_runtime</td><td>▁▁▁▁▂▂▂▂▂▂▂▃▃▃▃▃▃▃▄▄█</td></tr><tr><td>_timestamp</td><td>▁▁▁▁▂▂▂▂▂▂▂▃▃▃▃▃▃▃▄▄█</td></tr><tr><td>_step</td><td>▁▁▂▂▂▃▃▃▄▄▅▅▅▆▆▆▇▇▇██</td></tr><tr><td>val_accuracy</td><td>▁</td></tr></table><br/>"
            ],
            "text/plain": [
              "<IPython.core.display.HTML object>"
            ]
          },
          "metadata": {
            "tags": []
          }
        },
        {
          "output_type": "display_data",
          "data": {
            "text/html": [
              "Synced 5 W&B file(s), 1 media file(s), 0 artifact file(s) and 0 other file(s)"
            ],
            "text/plain": [
              "<IPython.core.display.HTML object>"
            ]
          },
          "metadata": {
            "tags": []
          }
        },
        {
          "output_type": "display_data",
          "data": {
            "text/html": [
              "\n",
              "                    <br/>Synced <strong style=\"color:#cdcd00\">sage-sweep-110</strong>: <a href=\"https://wandb.ai/akceg/cs6910-assignment3-sweep-tamil/runs/crhzuzgv\" target=\"_blank\">https://wandb.ai/akceg/cs6910-assignment3-sweep-tamil/runs/crhzuzgv</a><br/>\n",
              "                "
            ],
            "text/plain": [
              "<IPython.core.display.HTML object>"
            ]
          },
          "metadata": {
            "tags": []
          }
        },
        {
          "output_type": "stream",
          "text": [
            "\u001b[34m\u001b[1mwandb\u001b[0m: Agent Starting Run: 3rkd6v1l with config:\n",
            "\u001b[34m\u001b[1mwandb\u001b[0m: \tcell_type: rnn\n",
            "\u001b[34m\u001b[1mwandb\u001b[0m: \tdropout: 0.5\n",
            "\u001b[34m\u001b[1mwandb\u001b[0m: \tembedding_size: 64\n",
            "\u001b[34m\u001b[1mwandb\u001b[0m: \tepochs: 30\n",
            "\u001b[34m\u001b[1mwandb\u001b[0m: \tlatent_dimension: 32\n",
            "\u001b[34m\u001b[1mwandb\u001b[0m: \tn_decoder_layers: 1\n",
            "\u001b[34m\u001b[1mwandb\u001b[0m: \tn_encoder_layers: 2\n"
          ],
          "name": "stderr"
        },
        {
          "output_type": "display_data",
          "data": {
            "text/html": [
              "\n",
              "                Tracking run with wandb version 0.10.30<br/>\n",
              "                Syncing run <strong style=\"color:#cdcd00\">different-sweep-111</strong> to <a href=\"https://wandb.ai\" target=\"_blank\">Weights & Biases</a> <a href=\"https://docs.wandb.com/integrations/jupyter.html\" target=\"_blank\">(Documentation)</a>.<br/>\n",
              "                Project page: <a href=\"https://wandb.ai/akceg/cs6910-assignment3-sweep-tamil\" target=\"_blank\">https://wandb.ai/akceg/cs6910-assignment3-sweep-tamil</a><br/>\n",
              "                Sweep page: <a href=\"https://wandb.ai/akceg/cs6910-assignment3-sweep-tamil/sweeps/h1onqta3\" target=\"_blank\">https://wandb.ai/akceg/cs6910-assignment3-sweep-tamil/sweeps/h1onqta3</a><br/>\n",
              "Run page: <a href=\"https://wandb.ai/akceg/cs6910-assignment3-sweep-tamil/runs/3rkd6v1l\" target=\"_blank\">https://wandb.ai/akceg/cs6910-assignment3-sweep-tamil/runs/3rkd6v1l</a><br/>\n",
              "                Run data is saved locally in <code>/content/wandb/run-20210511_185257-3rkd6v1l</code><br/><br/>\n",
              "            "
            ],
            "text/plain": [
              "<IPython.core.display.HTML object>"
            ]
          },
          "metadata": {
            "tags": []
          }
        },
        {
          "output_type": "stream",
          "text": [
            "Epoch 1/30\n",
            "1066/1066 [==============================] - 85s 77ms/step - loss: 1.2159 - accuracy: 0.7131\n",
            "Epoch 2/30\n",
            "1066/1066 [==============================] - 83s 78ms/step - loss: 0.6990 - accuracy: 0.7985\n",
            "Epoch 3/30\n",
            "1066/1066 [==============================] - 81s 76ms/step - loss: 0.6611 - accuracy: 0.8077\n",
            "Epoch 4/30\n",
            "1066/1066 [==============================] - 82s 77ms/step - loss: 0.6413 - accuracy: 0.8131\n",
            "Epoch 5/30\n",
            "1066/1066 [==============================] - 80s 75ms/step - loss: 0.6292 - accuracy: 0.8168\n",
            "Epoch 6/30\n",
            "1066/1066 [==============================] - 80s 75ms/step - loss: 0.6196 - accuracy: 0.8193\n",
            "Epoch 7/30\n",
            "1066/1066 [==============================] - 82s 77ms/step - loss: 0.6132 - accuracy: 0.8210\n",
            "Epoch 8/30\n",
            "1066/1066 [==============================] - 78s 73ms/step - loss: 0.6060 - accuracy: 0.8232\n",
            "Epoch 9/30\n",
            "1066/1066 [==============================] - 82s 76ms/step - loss: 0.6011 - accuracy: 0.8244\n",
            "Epoch 10/30\n",
            "1066/1066 [==============================] - 83s 78ms/step - loss: 0.5971 - accuracy: 0.8256\n",
            "Epoch 11/30\n",
            "1066/1066 [==============================] - 81s 76ms/step - loss: 0.5922 - accuracy: 0.8271\n",
            "Epoch 12/30\n",
            "1066/1066 [==============================] - 80s 75ms/step - loss: 0.5894 - accuracy: 0.8279\n",
            "Epoch 13/30\n",
            "1066/1066 [==============================] - 82s 77ms/step - loss: 0.5867 - accuracy: 0.8284\n",
            "Epoch 14/30\n",
            "1066/1066 [==============================] - 83s 78ms/step - loss: 0.5833 - accuracy: 0.8294\n",
            "Epoch 15/30\n",
            "1066/1066 [==============================] - 83s 78ms/step - loss: 0.5807 - accuracy: 0.8306\n",
            "Epoch 16/30\n",
            "1066/1066 [==============================] - 81s 76ms/step - loss: 0.5788 - accuracy: 0.8310\n",
            "Epoch 17/30\n",
            "1066/1066 [==============================] - 82s 77ms/step - loss: 0.5780 - accuracy: 0.8310\n",
            "Epoch 18/30\n",
            "1066/1066 [==============================] - 80s 75ms/step - loss: 0.5758 - accuracy: 0.8319\n",
            "Epoch 19/30\n",
            "1066/1066 [==============================] - 83s 78ms/step - loss: 0.5729 - accuracy: 0.8325\n",
            "Epoch 20/30\n",
            "1066/1066 [==============================] - 82s 77ms/step - loss: 0.5718 - accuracy: 0.8329\n",
            "Epoch 21/30\n",
            "1066/1066 [==============================] - 79s 74ms/step - loss: 0.5699 - accuracy: 0.8335\n",
            "Epoch 22/30\n",
            "1066/1066 [==============================] - 83s 78ms/step - loss: 0.5687 - accuracy: 0.8341\n",
            "Epoch 23/30\n",
            "1066/1066 [==============================] - 81s 76ms/step - loss: 0.5683 - accuracy: 0.8342\n",
            "Epoch 24/30\n",
            "1066/1066 [==============================] - 82s 77ms/step - loss: 0.5669 - accuracy: 0.8346\n",
            "Epoch 25/30\n",
            "1066/1066 [==============================] - 82s 77ms/step - loss: 0.5641 - accuracy: 0.8354\n",
            "Epoch 26/30\n",
            "1066/1066 [==============================] - 84s 79ms/step - loss: 0.5624 - accuracy: 0.8360\n",
            "Epoch 27/30\n",
            "1066/1066 [==============================] - 81s 76ms/step - loss: 0.5616 - accuracy: 0.8361\n",
            "Epoch 28/30\n",
            "1066/1066 [==============================] - 81s 76ms/step - loss: 0.5610 - accuracy: 0.8364\n",
            "Epoch 29/30\n",
            "1066/1066 [==============================] - 80s 75ms/step - loss: 0.5589 - accuracy: 0.8367\n",
            "Epoch 30/30\n",
            "1066/1066 [==============================] - 81s 76ms/step - loss: 0.5587 - accuracy: 0.8370\n"
          ],
          "name": "stdout"
        },
        {
          "output_type": "display_data",
          "data": {
            "text/html": [
              "<br/>Waiting for W&B process to finish, PID 1109638<br/>Program ended successfully."
            ],
            "text/plain": [
              "<IPython.core.display.HTML object>"
            ]
          },
          "metadata": {
            "tags": []
          }
        },
        {
          "output_type": "display_data",
          "data": {
            "application/vnd.jupyter.widget-view+json": {
              "model_id": "c141915e620b4302b86cab323f39f101",
              "version_minor": 0,
              "version_major": 2
            },
            "text/plain": [
              "VBox(children=(Label(value=' 0.00MB of 0.00MB uploaded (0.00MB deduped)\\r'), FloatProgress(value=1.0, max=1.0)…"
            ]
          },
          "metadata": {
            "tags": []
          }
        },
        {
          "output_type": "display_data",
          "data": {
            "text/html": [
              "Find user logs for this run at: <code>/content/wandb/run-20210511_185257-3rkd6v1l/logs/debug.log</code>"
            ],
            "text/plain": [
              "<IPython.core.display.HTML object>"
            ]
          },
          "metadata": {
            "tags": []
          }
        },
        {
          "output_type": "display_data",
          "data": {
            "text/html": [
              "Find internal logs for this run at: <code>/content/wandb/run-20210511_185257-3rkd6v1l/logs/debug-internal.log</code>"
            ],
            "text/plain": [
              "<IPython.core.display.HTML object>"
            ]
          },
          "metadata": {
            "tags": []
          }
        },
        {
          "output_type": "display_data",
          "data": {
            "text/html": [
              "<h3>Run summary:</h3><br/><style>\n",
              "    table.wandb td:nth-child(1) { padding: 0 10px; text-align: right }\n",
              "    </style><table class=\"wandb\">\n",
              "<tr><td>epoch</td><td>29</td></tr><tr><td>loss</td><td>0.55924</td></tr><tr><td>accuracy</td><td>0.8368</td></tr><tr><td>_runtime</td><td>4835</td></tr><tr><td>_timestamp</td><td>1620764012</td></tr><tr><td>_step</td><td>30</td></tr><tr><td>val_accuracy</td><td>0.0293</td></tr></table>"
            ],
            "text/plain": [
              "<IPython.core.display.HTML object>"
            ]
          },
          "metadata": {
            "tags": []
          }
        },
        {
          "output_type": "display_data",
          "data": {
            "text/html": [
              "<h3>Run history:</h3><br/><style>\n",
              "    table.wandb td:nth-child(1) { padding: 0 10px; text-align: right }\n",
              "    </style><table class=\"wandb\">\n",
              "<tr><td>epoch</td><td>▁▁▁▂▂▂▂▃▃▃▃▄▄▄▄▅▅▅▅▆▆▆▆▇▇▇▇███</td></tr><tr><td>loss</td><td>█▄▃▃▂▂▂▂▂▂▂▂▂▂▁▁▁▁▁▁▁▁▁▁▁▁▁▁▁▁</td></tr><tr><td>accuracy</td><td>▁▅▅▆▆▆▇▇▇▇▇▇▇▇▇▇██████████████</td></tr><tr><td>_runtime</td><td>▁▁▁▁▁▂▂▂▂▂▂▂▂▃▃▃▃▃▃▃▃▄▄▄▄▄▄▄▄▄█</td></tr><tr><td>_timestamp</td><td>▁▁▁▁▁▂▂▂▂▂▂▂▂▃▃▃▃▃▃▃▃▄▄▄▄▄▄▄▄▄█</td></tr><tr><td>_step</td><td>▁▁▁▂▂▂▂▃▃▃▃▄▄▄▄▅▅▅▅▅▆▆▆▆▇▇▇▇███</td></tr><tr><td>val_accuracy</td><td>▁</td></tr></table><br/>"
            ],
            "text/plain": [
              "<IPython.core.display.HTML object>"
            ]
          },
          "metadata": {
            "tags": []
          }
        },
        {
          "output_type": "display_data",
          "data": {
            "text/html": [
              "Synced 5 W&B file(s), 1 media file(s), 0 artifact file(s) and 0 other file(s)"
            ],
            "text/plain": [
              "<IPython.core.display.HTML object>"
            ]
          },
          "metadata": {
            "tags": []
          }
        },
        {
          "output_type": "display_data",
          "data": {
            "text/html": [
              "\n",
              "                    <br/>Synced <strong style=\"color:#cdcd00\">different-sweep-111</strong>: <a href=\"https://wandb.ai/akceg/cs6910-assignment3-sweep-tamil/runs/3rkd6v1l\" target=\"_blank\">https://wandb.ai/akceg/cs6910-assignment3-sweep-tamil/runs/3rkd6v1l</a><br/>\n",
              "                "
            ],
            "text/plain": [
              "<IPython.core.display.HTML object>"
            ]
          },
          "metadata": {
            "tags": []
          }
        },
        {
          "output_type": "stream",
          "text": [
            "\u001b[34m\u001b[1mwandb\u001b[0m: Agent Starting Run: sju2uo0c with config:\n",
            "\u001b[34m\u001b[1mwandb\u001b[0m: \tcell_type: lstm\n",
            "\u001b[34m\u001b[1mwandb\u001b[0m: \tdropout: 0.4\n",
            "\u001b[34m\u001b[1mwandb\u001b[0m: \tembedding_size: 256\n",
            "\u001b[34m\u001b[1mwandb\u001b[0m: \tepochs: 20\n",
            "\u001b[34m\u001b[1mwandb\u001b[0m: \tlatent_dimension: 512\n",
            "\u001b[34m\u001b[1mwandb\u001b[0m: \tn_decoder_layers: 3\n",
            "\u001b[34m\u001b[1mwandb\u001b[0m: \tn_encoder_layers: 1\n"
          ],
          "name": "stderr"
        },
        {
          "output_type": "display_data",
          "data": {
            "text/html": [
              "\n",
              "                Tracking run with wandb version 0.10.30<br/>\n",
              "                Syncing run <strong style=\"color:#cdcd00\">rich-sweep-112</strong> to <a href=\"https://wandb.ai\" target=\"_blank\">Weights & Biases</a> <a href=\"https://docs.wandb.com/integrations/jupyter.html\" target=\"_blank\">(Documentation)</a>.<br/>\n",
              "                Project page: <a href=\"https://wandb.ai/akceg/cs6910-assignment3-sweep-tamil\" target=\"_blank\">https://wandb.ai/akceg/cs6910-assignment3-sweep-tamil</a><br/>\n",
              "                Sweep page: <a href=\"https://wandb.ai/akceg/cs6910-assignment3-sweep-tamil/sweeps/h1onqta3\" target=\"_blank\">https://wandb.ai/akceg/cs6910-assignment3-sweep-tamil/sweeps/h1onqta3</a><br/>\n",
              "Run page: <a href=\"https://wandb.ai/akceg/cs6910-assignment3-sweep-tamil/runs/sju2uo0c\" target=\"_blank\">https://wandb.ai/akceg/cs6910-assignment3-sweep-tamil/runs/sju2uo0c</a><br/>\n",
              "                Run data is saved locally in <code>/content/wandb/run-20210511_201336-sju2uo0c</code><br/><br/>\n",
              "            "
            ],
            "text/plain": [
              "<IPython.core.display.HTML object>"
            ]
          },
          "metadata": {
            "tags": []
          }
        },
        {
          "output_type": "stream",
          "text": [
            "Epoch 1/20\n",
            "1066/1066 [==============================] - 42s 34ms/step - loss: 0.9845 - accuracy: 0.7327\n",
            "Epoch 2/20\n",
            "1066/1066 [==============================] - 37s 35ms/step - loss: 0.4537 - accuracy: 0.8625\n",
            "Epoch 3/20\n",
            "1066/1066 [==============================] - 37s 34ms/step - loss: 0.2349 - accuracy: 0.9299\n",
            "Epoch 4/20\n",
            "1066/1066 [==============================] - 37s 34ms/step - loss: 0.1281 - accuracy: 0.9627\n",
            "Epoch 5/20\n",
            "1066/1066 [==============================] - 37s 34ms/step - loss: 0.0840 - accuracy: 0.9757\n",
            "Epoch 6/20\n",
            "1066/1066 [==============================] - 37s 34ms/step - loss: 0.0591 - accuracy: 0.9829\n",
            "Epoch 7/20\n",
            "1066/1066 [==============================] - 36s 34ms/step - loss: 0.0451 - accuracy: 0.9869\n",
            "Epoch 8/20\n",
            "1066/1066 [==============================] - 37s 34ms/step - loss: 0.0364 - accuracy: 0.9892\n",
            "Epoch 9/20\n",
            "1066/1066 [==============================] - 37s 34ms/step - loss: 0.0303 - accuracy: 0.9910\n",
            "Epoch 10/20\n",
            "1066/1066 [==============================] - 36s 34ms/step - loss: 0.0254 - accuracy: 0.9924\n",
            "Epoch 11/20\n",
            "1066/1066 [==============================] - 37s 35ms/step - loss: 0.0226 - accuracy: 0.9932\n",
            "Epoch 12/20\n",
            "1066/1066 [==============================] - 37s 34ms/step - loss: 0.0200 - accuracy: 0.9939\n",
            "Epoch 13/20\n",
            "1066/1066 [==============================] - 37s 34ms/step - loss: 0.0185 - accuracy: 0.9943\n",
            "Epoch 14/20\n",
            "1066/1066 [==============================] - 37s 35ms/step - loss: 0.0169 - accuracy: 0.9949\n",
            "Epoch 15/20\n",
            "1066/1066 [==============================] - 37s 34ms/step - loss: 0.0159 - accuracy: 0.9951\n",
            "Epoch 16/20\n",
            "1066/1066 [==============================] - 37s 34ms/step - loss: 0.0148 - accuracy: 0.9954\n",
            "Epoch 17/20\n",
            "1066/1066 [==============================] - 37s 34ms/step - loss: 0.0142 - accuracy: 0.9957\n",
            "Epoch 18/20\n",
            "1066/1066 [==============================] - 37s 35ms/step - loss: 0.0135 - accuracy: 0.9958\n",
            "Epoch 19/20\n",
            "1066/1066 [==============================] - 37s 35ms/step - loss: 0.0127 - accuracy: 0.9961\n",
            "Epoch 20/20\n",
            "1066/1066 [==============================] - 37s 35ms/step - loss: 0.0123 - accuracy: 0.9962\n"
          ],
          "name": "stdout"
        },
        {
          "output_type": "display_data",
          "data": {
            "text/html": [
              "<br/>Waiting for W&B process to finish, PID 1306572<br/>Program ended successfully."
            ],
            "text/plain": [
              "<IPython.core.display.HTML object>"
            ]
          },
          "metadata": {
            "tags": []
          }
        },
        {
          "output_type": "display_data",
          "data": {
            "application/vnd.jupyter.widget-view+json": {
              "model_id": "92e10237604442d8a4f00c755df33bf5",
              "version_minor": 0,
              "version_major": 2
            },
            "text/plain": [
              "VBox(children=(Label(value=' 0.00MB of 0.00MB uploaded (0.00MB deduped)\\r'), FloatProgress(value=1.0, max=1.0)…"
            ]
          },
          "metadata": {
            "tags": []
          }
        },
        {
          "output_type": "display_data",
          "data": {
            "text/html": [
              "Find user logs for this run at: <code>/content/wandb/run-20210511_201336-sju2uo0c/logs/debug.log</code>"
            ],
            "text/plain": [
              "<IPython.core.display.HTML object>"
            ]
          },
          "metadata": {
            "tags": []
          }
        },
        {
          "output_type": "display_data",
          "data": {
            "text/html": [
              "Find internal logs for this run at: <code>/content/wandb/run-20210511_201336-sju2uo0c/logs/debug-internal.log</code>"
            ],
            "text/plain": [
              "<IPython.core.display.HTML object>"
            ]
          },
          "metadata": {
            "tags": []
          }
        },
        {
          "output_type": "display_data",
          "data": {
            "text/html": [
              "<h3>Run summary:</h3><br/><style>\n",
              "    table.wandb td:nth-child(1) { padding: 0 10px; text-align: right }\n",
              "    </style><table class=\"wandb\">\n",
              "<tr><td>epoch</td><td>19</td></tr><tr><td>loss</td><td>0.01308</td></tr><tr><td>accuracy</td><td>0.99596</td></tr><tr><td>_runtime</td><td>4455</td></tr><tr><td>_timestamp</td><td>1620768471</td></tr><tr><td>_step</td><td>20</td></tr><tr><td>val_accuracy</td><td>42.96806</td></tr></table>"
            ],
            "text/plain": [
              "<IPython.core.display.HTML object>"
            ]
          },
          "metadata": {
            "tags": []
          }
        },
        {
          "output_type": "display_data",
          "data": {
            "text/html": [
              "<h3>Run history:</h3><br/><style>\n",
              "    table.wandb td:nth-child(1) { padding: 0 10px; text-align: right }\n",
              "    </style><table class=\"wandb\">\n",
              "<tr><td>epoch</td><td>▁▁▂▂▂▃▃▄▄▄▅▅▅▆▆▇▇▇██</td></tr><tr><td>loss</td><td>█▅▃▂▂▁▁▁▁▁▁▁▁▁▁▁▁▁▁▁</td></tr><tr><td>accuracy</td><td>▁▄▆▇▇███████████████</td></tr><tr><td>_runtime</td><td>▁▁▁▁▁▁▁▁▁▂▂▂▂▂▂▂▂▂▂▂█</td></tr><tr><td>_timestamp</td><td>▁▁▁▁▁▁▁▁▁▂▂▂▂▂▂▂▂▂▂▂█</td></tr><tr><td>_step</td><td>▁▁▂▂▂▃▃▃▄▄▅▅▅▆▆▆▇▇▇██</td></tr><tr><td>val_accuracy</td><td>▁</td></tr></table><br/>"
            ],
            "text/plain": [
              "<IPython.core.display.HTML object>"
            ]
          },
          "metadata": {
            "tags": []
          }
        },
        {
          "output_type": "display_data",
          "data": {
            "text/html": [
              "Synced 5 W&B file(s), 1 media file(s), 0 artifact file(s) and 0 other file(s)"
            ],
            "text/plain": [
              "<IPython.core.display.HTML object>"
            ]
          },
          "metadata": {
            "tags": []
          }
        },
        {
          "output_type": "display_data",
          "data": {
            "text/html": [
              "\n",
              "                    <br/>Synced <strong style=\"color:#cdcd00\">rich-sweep-112</strong>: <a href=\"https://wandb.ai/akceg/cs6910-assignment3-sweep-tamil/runs/sju2uo0c\" target=\"_blank\">https://wandb.ai/akceg/cs6910-assignment3-sweep-tamil/runs/sju2uo0c</a><br/>\n",
              "                "
            ],
            "text/plain": [
              "<IPython.core.display.HTML object>"
            ]
          },
          "metadata": {
            "tags": []
          }
        },
        {
          "output_type": "stream",
          "text": [
            "\u001b[34m\u001b[1mwandb\u001b[0m: Agent Starting Run: t5qox4y9 with config:\n",
            "\u001b[34m\u001b[1mwandb\u001b[0m: \tcell_type: lstm\n",
            "\u001b[34m\u001b[1mwandb\u001b[0m: \tdropout: 0.3\n",
            "\u001b[34m\u001b[1mwandb\u001b[0m: \tembedding_size: 256\n",
            "\u001b[34m\u001b[1mwandb\u001b[0m: \tepochs: 30\n",
            "\u001b[34m\u001b[1mwandb\u001b[0m: \tlatent_dimension: 512\n",
            "\u001b[34m\u001b[1mwandb\u001b[0m: \tn_decoder_layers: 2\n",
            "\u001b[34m\u001b[1mwandb\u001b[0m: \tn_encoder_layers: 3\n"
          ],
          "name": "stderr"
        },
        {
          "output_type": "display_data",
          "data": {
            "text/html": [
              "\n",
              "                Tracking run with wandb version 0.10.30<br/>\n",
              "                Syncing run <strong style=\"color:#cdcd00\">sweepy-sweep-113</strong> to <a href=\"https://wandb.ai\" target=\"_blank\">Weights & Biases</a> <a href=\"https://docs.wandb.com/integrations/jupyter.html\" target=\"_blank\">(Documentation)</a>.<br/>\n",
              "                Project page: <a href=\"https://wandb.ai/akceg/cs6910-assignment3-sweep-tamil\" target=\"_blank\">https://wandb.ai/akceg/cs6910-assignment3-sweep-tamil</a><br/>\n",
              "                Sweep page: <a href=\"https://wandb.ai/akceg/cs6910-assignment3-sweep-tamil/sweeps/h1onqta3\" target=\"_blank\">https://wandb.ai/akceg/cs6910-assignment3-sweep-tamil/sweeps/h1onqta3</a><br/>\n",
              "Run page: <a href=\"https://wandb.ai/akceg/cs6910-assignment3-sweep-tamil/runs/t5qox4y9\" target=\"_blank\">https://wandb.ai/akceg/cs6910-assignment3-sweep-tamil/runs/t5qox4y9</a><br/>\n",
              "                Run data is saved locally in <code>/content/wandb/run-20210511_212755-t5qox4y9</code><br/><br/>\n",
              "            "
            ],
            "text/plain": [
              "<IPython.core.display.HTML object>"
            ]
          },
          "metadata": {
            "tags": []
          }
        },
        {
          "output_type": "stream",
          "text": [
            "Epoch 1/30\n",
            "1066/1066 [==============================] - 54s 44ms/step - loss: 0.8851 - accuracy: 0.7587\n",
            "Epoch 2/30\n",
            "1066/1066 [==============================] - 48s 45ms/step - loss: 0.2359 - accuracy: 0.9323\n",
            "Epoch 3/30\n",
            "1066/1066 [==============================] - 48s 45ms/step - loss: 0.1042 - accuracy: 0.9712\n",
            "Epoch 4/30\n",
            "1066/1066 [==============================] - 48s 45ms/step - loss: 0.0649 - accuracy: 0.9819\n",
            "Epoch 5/30\n",
            "1066/1066 [==============================] - 48s 45ms/step - loss: 0.0449 - accuracy: 0.9874\n",
            "Epoch 6/30\n",
            "1066/1066 [==============================] - 48s 45ms/step - loss: 0.0344 - accuracy: 0.9902\n",
            "Epoch 7/30\n",
            "1066/1066 [==============================] - 48s 45ms/step - loss: 0.0276 - accuracy: 0.9919\n",
            "Epoch 8/30\n",
            "1066/1066 [==============================] - 48s 45ms/step - loss: 0.0231 - accuracy: 0.9932\n",
            "Epoch 9/30\n",
            "1066/1066 [==============================] - 49s 46ms/step - loss: 0.0203 - accuracy: 0.9940\n",
            "Epoch 10/30\n",
            "1066/1066 [==============================] - 49s 46ms/step - loss: 0.0181 - accuracy: 0.9946\n",
            "Epoch 11/30\n",
            "1066/1066 [==============================] - 48s 45ms/step - loss: 0.0164 - accuracy: 0.9951\n",
            "Epoch 12/30\n",
            "1066/1066 [==============================] - 48s 45ms/step - loss: 0.0150 - accuracy: 0.9955\n",
            "Epoch 13/30\n",
            "1066/1066 [==============================] - 48s 45ms/step - loss: 0.0142 - accuracy: 0.9957\n",
            "Epoch 14/30\n",
            "1066/1066 [==============================] - 49s 46ms/step - loss: 0.0133 - accuracy: 0.9960\n",
            "Epoch 15/30\n",
            "1066/1066 [==============================] - 48s 45ms/step - loss: 0.0130 - accuracy: 0.9960\n",
            "Epoch 16/30\n",
            "1066/1066 [==============================] - 49s 46ms/step - loss: 0.0126 - accuracy: 0.9962\n",
            "Epoch 17/30\n",
            "1066/1066 [==============================] - 49s 46ms/step - loss: 0.0122 - accuracy: 0.9963\n",
            "Epoch 18/30\n",
            "1066/1066 [==============================] - 49s 46ms/step - loss: 0.0116 - accuracy: 0.9964\n",
            "Epoch 19/30\n",
            "1066/1066 [==============================] - 49s 46ms/step - loss: 0.0115 - accuracy: 0.9964\n",
            "Epoch 20/30\n",
            "1066/1066 [==============================] - 49s 46ms/step - loss: 0.0110 - accuracy: 0.9966\n",
            "Epoch 21/30\n",
            "1066/1066 [==============================] - 49s 46ms/step - loss: 0.0109 - accuracy: 0.9967\n",
            "Epoch 22/30\n",
            "1066/1066 [==============================] - 49s 46ms/step - loss: 0.0110 - accuracy: 0.9966\n",
            "Epoch 23/30\n",
            "1066/1066 [==============================] - 49s 46ms/step - loss: 0.0103 - accuracy: 0.9968\n",
            "Epoch 24/30\n",
            "1066/1066 [==============================] - 49s 46ms/step - loss: 0.0104 - accuracy: 0.9968\n",
            "Epoch 25/30\n",
            "1066/1066 [==============================] - 49s 46ms/step - loss: 0.0102 - accuracy: 0.9968\n",
            "Epoch 26/30\n",
            "1066/1066 [==============================] - 49s 46ms/step - loss: 0.0100 - accuracy: 0.9970\n",
            "Epoch 27/30\n",
            "1066/1066 [==============================] - 49s 46ms/step - loss: 0.0101 - accuracy: 0.9968\n",
            "Epoch 28/30\n",
            "1066/1066 [==============================] - 49s 46ms/step - loss: 0.0100 - accuracy: 0.9969\n",
            "Epoch 29/30\n",
            "1066/1066 [==============================] - 49s 46ms/step - loss: 0.0095 - accuracy: 0.9970\n",
            "Epoch 30/30\n",
            "1066/1066 [==============================] - 49s 46ms/step - loss: 0.0096 - accuracy: 0.9970\n"
          ],
          "name": "stdout"
        },
        {
          "output_type": "display_data",
          "data": {
            "text/html": [
              "<br/>Waiting for W&B process to finish, PID 1518762<br/>Program ended successfully."
            ],
            "text/plain": [
              "<IPython.core.display.HTML object>"
            ]
          },
          "metadata": {
            "tags": []
          }
        },
        {
          "output_type": "display_data",
          "data": {
            "application/vnd.jupyter.widget-view+json": {
              "model_id": "50a1ec31a84541d399b19be991c2d659",
              "version_minor": 0,
              "version_major": 2
            },
            "text/plain": [
              "VBox(children=(Label(value=' 0.00MB of 0.00MB uploaded (0.00MB deduped)\\r'), FloatProgress(value=1.0, max=1.0)…"
            ]
          },
          "metadata": {
            "tags": []
          }
        },
        {
          "output_type": "display_data",
          "data": {
            "text/html": [
              "Find user logs for this run at: <code>/content/wandb/run-20210511_212755-t5qox4y9/logs/debug.log</code>"
            ],
            "text/plain": [
              "<IPython.core.display.HTML object>"
            ]
          },
          "metadata": {
            "tags": []
          }
        },
        {
          "output_type": "display_data",
          "data": {
            "text/html": [
              "Find internal logs for this run at: <code>/content/wandb/run-20210511_212755-t5qox4y9/logs/debug-internal.log</code>"
            ],
            "text/plain": [
              "<IPython.core.display.HTML object>"
            ]
          },
          "metadata": {
            "tags": []
          }
        },
        {
          "output_type": "display_data",
          "data": {
            "text/html": [
              "<h3>Run summary:</h3><br/><style>\n",
              "    table.wandb td:nth-child(1) { padding: 0 10px; text-align: right }\n",
              "    </style><table class=\"wandb\">\n",
              "<tr><td>epoch</td><td>29</td></tr><tr><td>loss</td><td>0.01037</td></tr><tr><td>accuracy</td><td>0.99673</td></tr><tr><td>_runtime</td><td>4805</td></tr><tr><td>_timestamp</td><td>1620773281</td></tr><tr><td>_step</td><td>30</td></tr><tr><td>val_accuracy</td><td>50.1758</td></tr></table>"
            ],
            "text/plain": [
              "<IPython.core.display.HTML object>"
            ]
          },
          "metadata": {
            "tags": []
          }
        },
        {
          "output_type": "display_data",
          "data": {
            "text/html": [
              "<h3>Run history:</h3><br/><style>\n",
              "    table.wandb td:nth-child(1) { padding: 0 10px; text-align: right }\n",
              "    </style><table class=\"wandb\">\n",
              "<tr><td>epoch</td><td>▁▁▁▂▂▂▂▃▃▃▃▄▄▄▄▅▅▅▅▆▆▆▆▇▇▇▇███</td></tr><tr><td>loss</td><td>█▃▂▂▁▁▁▁▁▁▁▁▁▁▁▁▁▁▁▁▁▁▁▁▁▁▁▁▁▁</td></tr><tr><td>accuracy</td><td>▁▆▇▇██████████████████████████</td></tr><tr><td>_runtime</td><td>▁▁▁▁▁▁▁▁▂▂▂▂▂▂▂▂▂▂▂▂▂▃▃▃▃▃▃▃▃▃█</td></tr><tr><td>_timestamp</td><td>▁▁▁▁▁▁▁▁▂▂▂▂▂▂▂▂▂▂▂▂▂▃▃▃▃▃▃▃▃▃█</td></tr><tr><td>_step</td><td>▁▁▁▂▂▂▂▃▃▃▃▄▄▄▄▅▅▅▅▅▆▆▆▆▇▇▇▇███</td></tr><tr><td>val_accuracy</td><td>▁</td></tr></table><br/>"
            ],
            "text/plain": [
              "<IPython.core.display.HTML object>"
            ]
          },
          "metadata": {
            "tags": []
          }
        },
        {
          "output_type": "display_data",
          "data": {
            "text/html": [
              "Synced 5 W&B file(s), 1 media file(s), 0 artifact file(s) and 0 other file(s)"
            ],
            "text/plain": [
              "<IPython.core.display.HTML object>"
            ]
          },
          "metadata": {
            "tags": []
          }
        },
        {
          "output_type": "display_data",
          "data": {
            "text/html": [
              "\n",
              "                    <br/>Synced <strong style=\"color:#cdcd00\">sweepy-sweep-113</strong>: <a href=\"https://wandb.ai/akceg/cs6910-assignment3-sweep-tamil/runs/t5qox4y9\" target=\"_blank\">https://wandb.ai/akceg/cs6910-assignment3-sweep-tamil/runs/t5qox4y9</a><br/>\n",
              "                "
            ],
            "text/plain": [
              "<IPython.core.display.HTML object>"
            ]
          },
          "metadata": {
            "tags": []
          }
        },
        {
          "output_type": "stream",
          "text": [
            "\u001b[34m\u001b[1mwandb\u001b[0m: Agent Starting Run: ajahvxkm with config:\n",
            "\u001b[34m\u001b[1mwandb\u001b[0m: \tcell_type: gru\n",
            "\u001b[34m\u001b[1mwandb\u001b[0m: \tdropout: 0.4\n",
            "\u001b[34m\u001b[1mwandb\u001b[0m: \tembedding_size: 16\n",
            "\u001b[34m\u001b[1mwandb\u001b[0m: \tepochs: 30\n",
            "\u001b[34m\u001b[1mwandb\u001b[0m: \tlatent_dimension: 16\n",
            "\u001b[34m\u001b[1mwandb\u001b[0m: \tn_decoder_layers: 3\n",
            "\u001b[34m\u001b[1mwandb\u001b[0m: \tn_encoder_layers: 3\n"
          ],
          "name": "stderr"
        },
        {
          "output_type": "display_data",
          "data": {
            "text/html": [
              "\n",
              "                Tracking run with wandb version 0.10.30<br/>\n",
              "                Syncing run <strong style=\"color:#cdcd00\">polished-sweep-114</strong> to <a href=\"https://wandb.ai\" target=\"_blank\">Weights & Biases</a> <a href=\"https://docs.wandb.com/integrations/jupyter.html\" target=\"_blank\">(Documentation)</a>.<br/>\n",
              "                Project page: <a href=\"https://wandb.ai/akceg/cs6910-assignment3-sweep-tamil\" target=\"_blank\">https://wandb.ai/akceg/cs6910-assignment3-sweep-tamil</a><br/>\n",
              "                Sweep page: <a href=\"https://wandb.ai/akceg/cs6910-assignment3-sweep-tamil/sweeps/h1onqta3\" target=\"_blank\">https://wandb.ai/akceg/cs6910-assignment3-sweep-tamil/sweeps/h1onqta3</a><br/>\n",
              "Run page: <a href=\"https://wandb.ai/akceg/cs6910-assignment3-sweep-tamil/runs/ajahvxkm\" target=\"_blank\">https://wandb.ai/akceg/cs6910-assignment3-sweep-tamil/runs/ajahvxkm</a><br/>\n",
              "                Run data is saved locally in <code>/content/wandb/run-20210511_224806-ajahvxkm</code><br/><br/>\n",
              "            "
            ],
            "text/plain": [
              "<IPython.core.display.HTML object>"
            ]
          },
          "metadata": {
            "tags": []
          }
        },
        {
          "output_type": "stream",
          "text": [
            "Epoch 1/30\n",
            "1066/1066 [==============================] - 24s 15ms/step - loss: 1.5223 - accuracy: 0.6818\n",
            "Epoch 2/30\n",
            "1066/1066 [==============================] - 16s 15ms/step - loss: 0.9075 - accuracy: 0.7445\n",
            "Epoch 3/30\n",
            "1066/1066 [==============================] - 17s 16ms/step - loss: 0.8165 - accuracy: 0.7636\n",
            "Epoch 4/30\n",
            "1066/1066 [==============================] - 16s 15ms/step - loss: 0.7941 - accuracy: 0.7663\n",
            "Epoch 5/30\n",
            "1066/1066 [==============================] - 16s 15ms/step - loss: 0.7807 - accuracy: 0.7673\n",
            "Epoch 6/30\n",
            "1066/1066 [==============================] - 16s 15ms/step - loss: 0.7642 - accuracy: 0.7714\n",
            "Epoch 7/30\n",
            "1066/1066 [==============================] - 16s 15ms/step - loss: 0.7336 - accuracy: 0.7803\n",
            "Epoch 8/30\n",
            "1066/1066 [==============================] - 16s 15ms/step - loss: 0.7153 - accuracy: 0.7845\n",
            "Epoch 9/30\n",
            "1066/1066 [==============================] - 16s 15ms/step - loss: 0.7028 - accuracy: 0.7877\n",
            "Epoch 10/30\n",
            "1066/1066 [==============================] - 16s 15ms/step - loss: 0.6946 - accuracy: 0.7898\n",
            "Epoch 11/30\n",
            "1066/1066 [==============================] - 16s 15ms/step - loss: 0.6821 - accuracy: 0.7934\n",
            "Epoch 12/30\n",
            "1066/1066 [==============================] - 16s 15ms/step - loss: 0.6724 - accuracy: 0.7962\n",
            "Epoch 13/30\n",
            "1066/1066 [==============================] - 16s 15ms/step - loss: 0.6630 - accuracy: 0.7989\n",
            "Epoch 14/30\n",
            "1066/1066 [==============================] - 16s 15ms/step - loss: 0.6576 - accuracy: 0.8003\n",
            "Epoch 15/30\n",
            "1066/1066 [==============================] - 16s 15ms/step - loss: 0.6539 - accuracy: 0.8010\n",
            "Epoch 16/30\n",
            "1066/1066 [==============================] - 16s 15ms/step - loss: 0.6491 - accuracy: 0.8031\n",
            "Epoch 17/30\n",
            "1066/1066 [==============================] - 16s 15ms/step - loss: 0.6406 - accuracy: 0.8061\n",
            "Epoch 18/30\n",
            "1066/1066 [==============================] - 16s 15ms/step - loss: 0.6364 - accuracy: 0.8078\n",
            "Epoch 19/30\n",
            "1066/1066 [==============================] - 16s 15ms/step - loss: 0.6322 - accuracy: 0.8089\n",
            "Epoch 20/30\n",
            "1066/1066 [==============================] - 16s 15ms/step - loss: 0.6282 - accuracy: 0.8101\n",
            "Epoch 21/30\n",
            "1066/1066 [==============================] - 16s 15ms/step - loss: 0.6258 - accuracy: 0.8111\n",
            "Epoch 22/30\n",
            "1066/1066 [==============================] - 16s 15ms/step - loss: 0.6208 - accuracy: 0.8127\n",
            "Epoch 23/30\n",
            "1066/1066 [==============================] - 16s 15ms/step - loss: 0.6193 - accuracy: 0.8131\n",
            "Epoch 24/30\n",
            "1066/1066 [==============================] - 16s 15ms/step - loss: 0.6164 - accuracy: 0.8137\n",
            "Epoch 25/30\n",
            "1066/1066 [==============================] - 16s 15ms/step - loss: 0.6137 - accuracy: 0.8147\n",
            "Epoch 26/30\n",
            "1066/1066 [==============================] - 16s 15ms/step - loss: 0.6112 - accuracy: 0.8155\n",
            "Epoch 27/30\n",
            "1066/1066 [==============================] - 16s 15ms/step - loss: 0.6077 - accuracy: 0.8165\n",
            "Epoch 28/30\n",
            "1066/1066 [==============================] - 16s 15ms/step - loss: 0.6055 - accuracy: 0.8174\n",
            "Epoch 29/30\n",
            "1066/1066 [==============================] - 16s 15ms/step - loss: 0.6030 - accuracy: 0.8181\n",
            "Epoch 30/30\n",
            "1066/1066 [==============================] - 16s 15ms/step - loss: 0.5980 - accuracy: 0.8195\n"
          ],
          "name": "stdout"
        },
        {
          "output_type": "display_data",
          "data": {
            "text/html": [
              "<br/>Waiting for W&B process to finish, PID 1728105<br/>Program ended successfully."
            ],
            "text/plain": [
              "<IPython.core.display.HTML object>"
            ]
          },
          "metadata": {
            "tags": []
          }
        },
        {
          "output_type": "display_data",
          "data": {
            "application/vnd.jupyter.widget-view+json": {
              "model_id": "ff46322d37e24524b22c9c7d0a8c86ff",
              "version_minor": 0,
              "version_major": 2
            },
            "text/plain": [
              "VBox(children=(Label(value=' 0.00MB of 0.00MB uploaded (0.00MB deduped)\\r'), FloatProgress(value=1.0, max=1.0)…"
            ]
          },
          "metadata": {
            "tags": []
          }
        },
        {
          "output_type": "display_data",
          "data": {
            "text/html": [
              "Find user logs for this run at: <code>/content/wandb/run-20210511_224806-ajahvxkm/logs/debug.log</code>"
            ],
            "text/plain": [
              "<IPython.core.display.HTML object>"
            ]
          },
          "metadata": {
            "tags": []
          }
        },
        {
          "output_type": "display_data",
          "data": {
            "text/html": [
              "Find internal logs for this run at: <code>/content/wandb/run-20210511_224806-ajahvxkm/logs/debug-internal.log</code>"
            ],
            "text/plain": [
              "<IPython.core.display.HTML object>"
            ]
          },
          "metadata": {
            "tags": []
          }
        },
        {
          "output_type": "display_data",
          "data": {
            "text/html": [
              "<h3>Run summary:</h3><br/><style>\n",
              "    table.wandb td:nth-child(1) { padding: 0 10px; text-align: right }\n",
              "    </style><table class=\"wandb\">\n",
              "<tr><td>epoch</td><td>29</td></tr><tr><td>loss</td><td>0.59889</td></tr><tr><td>accuracy</td><td>0.81937</td></tr><tr><td>_runtime</td><td>3785</td></tr><tr><td>_timestamp</td><td>1620777071</td></tr><tr><td>_step</td><td>30</td></tr><tr><td>val_accuracy</td><td>0.16115</td></tr></table>"
            ],
            "text/plain": [
              "<IPython.core.display.HTML object>"
            ]
          },
          "metadata": {
            "tags": []
          }
        },
        {
          "output_type": "display_data",
          "data": {
            "text/html": [
              "<h3>Run history:</h3><br/><style>\n",
              "    table.wandb td:nth-child(1) { padding: 0 10px; text-align: right }\n",
              "    </style><table class=\"wandb\">\n",
              "<tr><td>epoch</td><td>▁▁▁▂▂▂▂▃▃▃▃▄▄▄▄▅▅▅▅▆▆▆▆▇▇▇▇███</td></tr><tr><td>loss</td><td>█▄▄▃▃▃▃▂▂▂▂▂▂▂▂▂▂▁▁▁▁▁▁▁▁▁▁▁▁▁</td></tr><tr><td>accuracy</td><td>▁▄▅▅▅▅▆▆▆▆▆▇▇▇▇▇▇▇▇▇██████████</td></tr><tr><td>_runtime</td><td>▁▁▁▁▁▁▁▁▁▁▁▁▁▁▁▁▁▂▂▂▂▂▂▂▂▂▂▂▂▂█</td></tr><tr><td>_timestamp</td><td>▁▁▁▁▁▁▁▁▁▁▁▁▁▁▁▁▁▂▂▂▂▂▂▂▂▂▂▂▂▂█</td></tr><tr><td>_step</td><td>▁▁▁▂▂▂▂▃▃▃▃▄▄▄▄▅▅▅▅▅▆▆▆▆▇▇▇▇███</td></tr><tr><td>val_accuracy</td><td>▁</td></tr></table><br/>"
            ],
            "text/plain": [
              "<IPython.core.display.HTML object>"
            ]
          },
          "metadata": {
            "tags": []
          }
        },
        {
          "output_type": "display_data",
          "data": {
            "text/html": [
              "Synced 5 W&B file(s), 1 media file(s), 0 artifact file(s) and 0 other file(s)"
            ],
            "text/plain": [
              "<IPython.core.display.HTML object>"
            ]
          },
          "metadata": {
            "tags": []
          }
        },
        {
          "output_type": "display_data",
          "data": {
            "text/html": [
              "\n",
              "                    <br/>Synced <strong style=\"color:#cdcd00\">polished-sweep-114</strong>: <a href=\"https://wandb.ai/akceg/cs6910-assignment3-sweep-tamil/runs/ajahvxkm\" target=\"_blank\">https://wandb.ai/akceg/cs6910-assignment3-sweep-tamil/runs/ajahvxkm</a><br/>\n",
              "                "
            ],
            "text/plain": [
              "<IPython.core.display.HTML object>"
            ]
          },
          "metadata": {
            "tags": []
          }
        },
        {
          "output_type": "stream",
          "text": [
            "\u001b[34m\u001b[1mwandb\u001b[0m: Agent Starting Run: lnty0f6j with config:\n",
            "\u001b[34m\u001b[1mwandb\u001b[0m: \tcell_type: lstm\n",
            "\u001b[34m\u001b[1mwandb\u001b[0m: \tdropout: 0.4\n",
            "\u001b[34m\u001b[1mwandb\u001b[0m: \tembedding_size: 128\n",
            "\u001b[34m\u001b[1mwandb\u001b[0m: \tepochs: 30\n",
            "\u001b[34m\u001b[1mwandb\u001b[0m: \tlatent_dimension: 512\n",
            "\u001b[34m\u001b[1mwandb\u001b[0m: \tn_decoder_layers: 3\n",
            "\u001b[34m\u001b[1mwandb\u001b[0m: \tn_encoder_layers: 3\n"
          ],
          "name": "stderr"
        },
        {
          "output_type": "display_data",
          "data": {
            "text/html": [
              "\n",
              "                Tracking run with wandb version 0.10.30<br/>\n",
              "                Syncing run <strong style=\"color:#cdcd00\">flowing-sweep-115</strong> to <a href=\"https://wandb.ai\" target=\"_blank\">Weights & Biases</a> <a href=\"https://docs.wandb.com/integrations/jupyter.html\" target=\"_blank\">(Documentation)</a>.<br/>\n",
              "                Project page: <a href=\"https://wandb.ai/akceg/cs6910-assignment3-sweep-tamil\" target=\"_blank\">https://wandb.ai/akceg/cs6910-assignment3-sweep-tamil</a><br/>\n",
              "                Sweep page: <a href=\"https://wandb.ai/akceg/cs6910-assignment3-sweep-tamil/sweeps/h1onqta3\" target=\"_blank\">https://wandb.ai/akceg/cs6910-assignment3-sweep-tamil/sweeps/h1onqta3</a><br/>\n",
              "Run page: <a href=\"https://wandb.ai/akceg/cs6910-assignment3-sweep-tamil/runs/lnty0f6j\" target=\"_blank\">https://wandb.ai/akceg/cs6910-assignment3-sweep-tamil/runs/lnty0f6j</a><br/>\n",
              "                Run data is saved locally in <code>/content/wandb/run-20210511_235116-lnty0f6j</code><br/><br/>\n",
              "            "
            ],
            "text/plain": [
              "<IPython.core.display.HTML object>"
            ]
          },
          "metadata": {
            "tags": []
          }
        },
        {
          "output_type": "stream",
          "text": [
            "Epoch 1/30\n",
            "1066/1066 [==============================] - 65s 52ms/step - loss: 1.0396 - accuracy: 0.7260\n",
            "Epoch 2/30\n",
            "1066/1066 [==============================] - 56s 52ms/step - loss: 0.4114 - accuracy: 0.8763\n",
            "Epoch 3/30\n",
            "1066/1066 [==============================] - 56s 52ms/step - loss: 0.1795 - accuracy: 0.9484\n",
            "Epoch 4/30\n",
            "1066/1066 [==============================] - 56s 52ms/step - loss: 0.0997 - accuracy: 0.9718\n",
            "Epoch 5/30\n",
            "1066/1066 [==============================] - 56s 52ms/step - loss: 0.0655 - accuracy: 0.9813\n",
            "Epoch 6/30\n",
            "1066/1066 [==============================] - 56s 52ms/step - loss: 0.0472 - accuracy: 0.9865\n",
            "Epoch 7/30\n",
            "1066/1066 [==============================] - 56s 52ms/step - loss: 0.0365 - accuracy: 0.9893\n",
            "Epoch 8/30\n",
            "1066/1066 [==============================] - 56s 52ms/step - loss: 0.0299 - accuracy: 0.9911\n",
            "Epoch 9/30\n",
            "1066/1066 [==============================] - 56s 52ms/step - loss: 0.0257 - accuracy: 0.9924\n",
            "Epoch 10/30\n",
            "1066/1066 [==============================] - 56s 52ms/step - loss: 0.0221 - accuracy: 0.9934\n",
            "Epoch 11/30\n",
            "1066/1066 [==============================] - 56s 53ms/step - loss: 0.0197 - accuracy: 0.9940\n",
            "Epoch 12/30\n",
            "1066/1066 [==============================] - 56s 52ms/step - loss: 0.0179 - accuracy: 0.9945\n",
            "Epoch 13/30\n",
            "1066/1066 [==============================] - 56s 52ms/step - loss: 0.0170 - accuracy: 0.9948\n",
            "Epoch 14/30\n",
            "1066/1066 [==============================] - 56s 52ms/step - loss: 0.0157 - accuracy: 0.9952\n",
            "Epoch 15/30\n",
            "1066/1066 [==============================] - 56s 52ms/step - loss: 0.0148 - accuracy: 0.9954\n",
            "Epoch 16/30\n",
            "1066/1066 [==============================] - 56s 52ms/step - loss: 0.0140 - accuracy: 0.9957\n",
            "Epoch 17/30\n",
            "1066/1066 [==============================] - 56s 52ms/step - loss: 0.0136 - accuracy: 0.9958\n",
            "Epoch 18/30\n",
            "1066/1066 [==============================] - 56s 52ms/step - loss: 0.0132 - accuracy: 0.9960\n",
            "Epoch 19/30\n",
            "1066/1066 [==============================] - 56s 52ms/step - loss: 0.0127 - accuracy: 0.9960\n",
            "Epoch 20/30\n",
            "1066/1066 [==============================] - 56s 52ms/step - loss: 0.0125 - accuracy: 0.9962\n",
            "Epoch 21/30\n",
            "1066/1066 [==============================] - 56s 52ms/step - loss: 0.0121 - accuracy: 0.9963\n",
            "Epoch 22/30\n",
            "1066/1066 [==============================] - 56s 52ms/step - loss: 0.0117 - accuracy: 0.9964\n",
            "Epoch 23/30\n",
            "1066/1066 [==============================] - 56s 52ms/step - loss: 0.0115 - accuracy: 0.9964\n",
            "Epoch 24/30\n",
            "1066/1066 [==============================] - 56s 52ms/step - loss: 0.0111 - accuracy: 0.9965\n",
            "Epoch 25/30\n",
            "1066/1066 [==============================] - 55s 52ms/step - loss: 0.0109 - accuracy: 0.9966\n",
            "Epoch 26/30\n",
            "1066/1066 [==============================] - 55s 52ms/step - loss: 0.0111 - accuracy: 0.9966\n",
            "Epoch 27/30\n",
            "1066/1066 [==============================] - 55s 52ms/step - loss: 0.0107 - accuracy: 0.9967\n",
            "Epoch 28/30\n",
            "1066/1066 [==============================] - 55s 52ms/step - loss: 0.0106 - accuracy: 0.9967\n",
            "Epoch 29/30\n",
            "1066/1066 [==============================] - 56s 52ms/step - loss: 0.0103 - accuracy: 0.9968\n",
            "Epoch 30/30\n",
            "1066/1066 [==============================] - 56s 52ms/step - loss: 0.0102 - accuracy: 0.9969\n"
          ],
          "name": "stdout"
        },
        {
          "output_type": "display_data",
          "data": {
            "text/html": [
              "<br/>Waiting for W&B process to finish, PID 1954910<br/>Program ended successfully."
            ],
            "text/plain": [
              "<IPython.core.display.HTML object>"
            ]
          },
          "metadata": {
            "tags": []
          }
        },
        {
          "output_type": "display_data",
          "data": {
            "application/vnd.jupyter.widget-view+json": {
              "model_id": "6b39b16593a742b9a6c40821e8cce04c",
              "version_minor": 0,
              "version_major": 2
            },
            "text/plain": [
              "VBox(children=(Label(value=' 0.00MB of 0.00MB uploaded (0.00MB deduped)\\r'), FloatProgress(value=1.0, max=1.0)…"
            ]
          },
          "metadata": {
            "tags": []
          }
        },
        {
          "output_type": "display_data",
          "data": {
            "text/html": [
              "Find user logs for this run at: <code>/content/wandb/run-20210511_235116-lnty0f6j/logs/debug.log</code>"
            ],
            "text/plain": [
              "<IPython.core.display.HTML object>"
            ]
          },
          "metadata": {
            "tags": []
          }
        },
        {
          "output_type": "display_data",
          "data": {
            "text/html": [
              "Find internal logs for this run at: <code>/content/wandb/run-20210511_235116-lnty0f6j/logs/debug-internal.log</code>"
            ],
            "text/plain": [
              "<IPython.core.display.HTML object>"
            ]
          },
          "metadata": {
            "tags": []
          }
        },
        {
          "output_type": "display_data",
          "data": {
            "text/html": [
              "<h3>Run summary:</h3><br/><style>\n",
              "    table.wandb td:nth-child(1) { padding: 0 10px; text-align: right }\n",
              "    </style><table class=\"wandb\">\n",
              "<tr><td>epoch</td><td>29</td></tr><tr><td>loss</td><td>0.01091</td></tr><tr><td>accuracy</td><td>0.99665</td></tr><tr><td>_runtime</td><td>5405</td></tr><tr><td>_timestamp</td><td>1620782481</td></tr><tr><td>_step</td><td>30</td></tr><tr><td>val_accuracy</td><td>47.18723</td></tr></table>"
            ],
            "text/plain": [
              "<IPython.core.display.HTML object>"
            ]
          },
          "metadata": {
            "tags": []
          }
        },
        {
          "output_type": "display_data",
          "data": {
            "text/html": [
              "<h3>Run history:</h3><br/><style>\n",
              "    table.wandb td:nth-child(1) { padding: 0 10px; text-align: right }\n",
              "    </style><table class=\"wandb\">\n",
              "<tr><td>epoch</td><td>▁▁▁▂▂▂▂▃▃▃▃▄▄▄▄▅▅▅▅▆▆▆▆▇▇▇▇███</td></tr><tr><td>loss</td><td>█▄▂▂▁▁▁▁▁▁▁▁▁▁▁▁▁▁▁▁▁▁▁▁▁▁▁▁▁▁</td></tr><tr><td>accuracy</td><td>▁▅▇▇██████████████████████████</td></tr><tr><td>_runtime</td><td>▁▁▁▁▁▁▁▂▂▂▂▂▂▂▂▂▂▂▂▂▂▃▃▃▃▃▃▃▃▃█</td></tr><tr><td>_timestamp</td><td>▁▁▁▁▁▁▁▂▂▂▂▂▂▂▂▂▂▂▂▂▂▃▃▃▃▃▃▃▃▃█</td></tr><tr><td>_step</td><td>▁▁▁▂▂▂▂▃▃▃▃▄▄▄▄▅▅▅▅▅▆▆▆▆▇▇▇▇███</td></tr><tr><td>val_accuracy</td><td>▁</td></tr></table><br/>"
            ],
            "text/plain": [
              "<IPython.core.display.HTML object>"
            ]
          },
          "metadata": {
            "tags": []
          }
        },
        {
          "output_type": "display_data",
          "data": {
            "text/html": [
              "Synced 5 W&B file(s), 1 media file(s), 0 artifact file(s) and 0 other file(s)"
            ],
            "text/plain": [
              "<IPython.core.display.HTML object>"
            ]
          },
          "metadata": {
            "tags": []
          }
        },
        {
          "output_type": "display_data",
          "data": {
            "text/html": [
              "\n",
              "                    <br/>Synced <strong style=\"color:#cdcd00\">flowing-sweep-115</strong>: <a href=\"https://wandb.ai/akceg/cs6910-assignment3-sweep-tamil/runs/lnty0f6j\" target=\"_blank\">https://wandb.ai/akceg/cs6910-assignment3-sweep-tamil/runs/lnty0f6j</a><br/>\n",
              "                "
            ],
            "text/plain": [
              "<IPython.core.display.HTML object>"
            ]
          },
          "metadata": {
            "tags": []
          }
        },
        {
          "output_type": "stream",
          "text": [
            "\u001b[34m\u001b[1mwandb\u001b[0m: Agent Starting Run: m07c0yjx with config:\n",
            "\u001b[34m\u001b[1mwandb\u001b[0m: \tcell_type: rnn\n",
            "\u001b[34m\u001b[1mwandb\u001b[0m: \tdropout: 0.4\n",
            "\u001b[34m\u001b[1mwandb\u001b[0m: \tembedding_size: 128\n",
            "\u001b[34m\u001b[1mwandb\u001b[0m: \tepochs: 30\n",
            "\u001b[34m\u001b[1mwandb\u001b[0m: \tlatent_dimension: 512\n",
            "\u001b[34m\u001b[1mwandb\u001b[0m: \tn_decoder_layers: 2\n",
            "\u001b[34m\u001b[1mwandb\u001b[0m: \tn_encoder_layers: 1\n"
          ],
          "name": "stderr"
        },
        {
          "output_type": "display_data",
          "data": {
            "text/html": [
              "\n",
              "                Tracking run with wandb version 0.10.30<br/>\n",
              "                Syncing run <strong style=\"color:#cdcd00\">sandy-sweep-116</strong> to <a href=\"https://wandb.ai\" target=\"_blank\">Weights & Biases</a> <a href=\"https://docs.wandb.com/integrations/jupyter.html\" target=\"_blank\">(Documentation)</a>.<br/>\n",
              "                Project page: <a href=\"https://wandb.ai/akceg/cs6910-assignment3-sweep-tamil\" target=\"_blank\">https://wandb.ai/akceg/cs6910-assignment3-sweep-tamil</a><br/>\n",
              "                Sweep page: <a href=\"https://wandb.ai/akceg/cs6910-assignment3-sweep-tamil/sweeps/h1onqta3\" target=\"_blank\">https://wandb.ai/akceg/cs6910-assignment3-sweep-tamil/sweeps/h1onqta3</a><br/>\n",
              "Run page: <a href=\"https://wandb.ai/akceg/cs6910-assignment3-sweep-tamil/runs/m07c0yjx\" target=\"_blank\">https://wandb.ai/akceg/cs6910-assignment3-sweep-tamil/runs/m07c0yjx</a><br/>\n",
              "                Run data is saved locally in <code>/content/wandb/run-20210512_012126-m07c0yjx</code><br/><br/>\n",
              "            "
            ],
            "text/plain": [
              "<IPython.core.display.HTML object>"
            ]
          },
          "metadata": {
            "tags": []
          }
        },
        {
          "output_type": "stream",
          "text": [
            "Epoch 1/30\n",
            "1066/1066 [==============================] - 86s 79ms/step - loss: 1.3444 - accuracy: 0.6876\n",
            "Epoch 2/30\n",
            "1066/1066 [==============================] - 85s 79ms/step - loss: 0.6592 - accuracy: 0.8015\n",
            "Epoch 3/30\n",
            "1066/1066 [==============================] - 84s 79ms/step - loss: 0.6142 - accuracy: 0.8127\n",
            "Epoch 4/30\n",
            "1066/1066 [==============================] - 83s 78ms/step - loss: 0.5890 - accuracy: 0.8190\n",
            "Epoch 5/30\n",
            "1066/1066 [==============================] - 83s 78ms/step - loss: 0.5711 - accuracy: 0.8236\n",
            "Epoch 6/30\n",
            "1066/1066 [==============================] - 83s 78ms/step - loss: 0.5590 - accuracy: 0.8270\n",
            "Epoch 7/30\n",
            "1066/1066 [==============================] - 83s 78ms/step - loss: 0.5489 - accuracy: 0.8290\n",
            "Epoch 8/30\n",
            "1066/1066 [==============================] - 83s 78ms/step - loss: 0.5398 - accuracy: 0.8318\n",
            "Epoch 9/30\n",
            "1066/1066 [==============================] - 84s 79ms/step - loss: 0.5353 - accuracy: 0.8327\n",
            "Epoch 10/30\n",
            "1066/1066 [==============================] - 84s 79ms/step - loss: 0.5310 - accuracy: 0.8336\n",
            "Epoch 11/30\n",
            "1066/1066 [==============================] - 84s 78ms/step - loss: 0.5268 - accuracy: 0.8350\n",
            "Epoch 12/30\n",
            "1066/1066 [==============================] - 84s 79ms/step - loss: 0.5239 - accuracy: 0.8352\n",
            "Epoch 13/30\n",
            "1066/1066 [==============================] - 84s 79ms/step - loss: 0.5208 - accuracy: 0.8362\n",
            "Epoch 14/30\n",
            "1066/1066 [==============================] - 84s 79ms/step - loss: 0.5190 - accuracy: 0.8365\n",
            "Epoch 15/30\n",
            "1066/1066 [==============================] - 84s 79ms/step - loss: 0.5170 - accuracy: 0.8371\n",
            "Epoch 16/30\n",
            "1066/1066 [==============================] - 85s 80ms/step - loss: 0.5138 - accuracy: 0.8378\n",
            "Epoch 17/30\n",
            "1066/1066 [==============================] - 85s 79ms/step - loss: 0.5135 - accuracy: 0.8380\n",
            "Epoch 18/30\n",
            "1066/1066 [==============================] - 85s 79ms/step - loss: 0.5118 - accuracy: 0.8384\n",
            "Epoch 19/30\n",
            "1066/1066 [==============================] - 85s 80ms/step - loss: 0.5111 - accuracy: 0.8388\n",
            "Epoch 20/30\n",
            "1066/1066 [==============================] - 85s 80ms/step - loss: 0.5091 - accuracy: 0.8389\n",
            "Epoch 21/30\n",
            "1066/1066 [==============================] - 86s 80ms/step - loss: 0.5085 - accuracy: 0.8391\n",
            "Epoch 22/30\n",
            "1066/1066 [==============================] - 85s 80ms/step - loss: 0.5091 - accuracy: 0.8389\n",
            "Epoch 23/30\n",
            "1066/1066 [==============================] - 81s 76ms/step - loss: 0.5081 - accuracy: 0.8391\n",
            "Epoch 24/30\n",
            "1066/1066 [==============================] - 83s 78ms/step - loss: 0.5075 - accuracy: 0.8391\n",
            "Epoch 25/30\n",
            "1066/1066 [==============================] - 84s 78ms/step - loss: 0.5068 - accuracy: 0.8394\n",
            "Epoch 26/30\n",
            "1066/1066 [==============================] - 83s 78ms/step - loss: 0.5067 - accuracy: 0.8395\n",
            "Epoch 27/30\n",
            "1066/1066 [==============================] - 84s 78ms/step - loss: 0.5056 - accuracy: 0.8396\n",
            "Epoch 28/30\n",
            "1066/1066 [==============================] - 84s 78ms/step - loss: 0.5063 - accuracy: 0.8392\n",
            "Epoch 29/30\n",
            "1066/1066 [==============================] - 84s 78ms/step - loss: 0.5047 - accuracy: 0.8396\n",
            "Epoch 30/30\n",
            "1066/1066 [==============================] - 85s 80ms/step - loss: 0.5032 - accuracy: 0.8400\n"
          ],
          "name": "stdout"
        },
        {
          "output_type": "display_data",
          "data": {
            "text/html": [
              "<br/>Waiting for W&B process to finish, PID 2165813<br/>Program ended successfully."
            ],
            "text/plain": [
              "<IPython.core.display.HTML object>"
            ]
          },
          "metadata": {
            "tags": []
          }
        },
        {
          "output_type": "display_data",
          "data": {
            "application/vnd.jupyter.widget-view+json": {
              "model_id": "34494ba9a6d34092a7443a7362f9e4f6",
              "version_minor": 0,
              "version_major": 2
            },
            "text/plain": [
              "VBox(children=(Label(value=' 0.00MB of 0.00MB uploaded (0.00MB deduped)\\r'), FloatProgress(value=1.0, max=1.0)…"
            ]
          },
          "metadata": {
            "tags": []
          }
        },
        {
          "output_type": "display_data",
          "data": {
            "text/html": [
              "Find user logs for this run at: <code>/content/wandb/run-20210512_012126-m07c0yjx/logs/debug.log</code>"
            ],
            "text/plain": [
              "<IPython.core.display.HTML object>"
            ]
          },
          "metadata": {
            "tags": []
          }
        },
        {
          "output_type": "display_data",
          "data": {
            "text/html": [
              "Find internal logs for this run at: <code>/content/wandb/run-20210512_012126-m07c0yjx/logs/debug-internal.log</code>"
            ],
            "text/plain": [
              "<IPython.core.display.HTML object>"
            ]
          },
          "metadata": {
            "tags": []
          }
        },
        {
          "output_type": "display_data",
          "data": {
            "text/html": [
              "<h3>Run summary:</h3><br/><style>\n",
              "    table.wandb td:nth-child(1) { padding: 0 10px; text-align: right }\n",
              "    </style><table class=\"wandb\">\n",
              "<tr><td>epoch</td><td>29</td></tr><tr><td>loss</td><td>0.50497</td></tr><tr><td>accuracy</td><td>0.83954</td></tr><tr><td>_runtime</td><td>6579</td></tr><tr><td>_timestamp</td><td>1620789065</td></tr><tr><td>_step</td><td>30</td></tr><tr><td>val_accuracy</td><td>0.0</td></tr></table>"
            ],
            "text/plain": [
              "<IPython.core.display.HTML object>"
            ]
          },
          "metadata": {
            "tags": []
          }
        },
        {
          "output_type": "display_data",
          "data": {
            "text/html": [
              "<h3>Run history:</h3><br/><style>\n",
              "    table.wandb td:nth-child(1) { padding: 0 10px; text-align: right }\n",
              "    </style><table class=\"wandb\">\n",
              "<tr><td>epoch</td><td>▁▁▁▂▂▂▂▃▃▃▃▄▄▄▄▅▅▅▅▆▆▆▆▇▇▇▇███</td></tr><tr><td>loss</td><td>█▃▃▂▂▂▂▂▂▁▁▁▁▁▁▁▁▁▁▁▁▁▁▁▁▁▁▁▁▁</td></tr><tr><td>accuracy</td><td>▁▅▆▆▇▇▇▇▇█████████████████████</td></tr><tr><td>_runtime</td><td>▁▁▁▁▁▁▂▂▂▂▂▂▂▂▂▂▂▃▃▃▃▃▃▃▃▃▃▃▄▄█</td></tr><tr><td>_timestamp</td><td>▁▁▁▁▁▁▂▂▂▂▂▂▂▂▂▂▂▃▃▃▃▃▃▃▃▃▃▃▄▄█</td></tr><tr><td>_step</td><td>▁▁▁▂▂▂▂▃▃▃▃▄▄▄▄▅▅▅▅▅▆▆▆▆▇▇▇▇███</td></tr><tr><td>val_accuracy</td><td>▁</td></tr></table><br/>"
            ],
            "text/plain": [
              "<IPython.core.display.HTML object>"
            ]
          },
          "metadata": {
            "tags": []
          }
        },
        {
          "output_type": "display_data",
          "data": {
            "text/html": [
              "Synced 5 W&B file(s), 1 media file(s), 0 artifact file(s) and 0 other file(s)"
            ],
            "text/plain": [
              "<IPython.core.display.HTML object>"
            ]
          },
          "metadata": {
            "tags": []
          }
        },
        {
          "output_type": "display_data",
          "data": {
            "text/html": [
              "\n",
              "                    <br/>Synced <strong style=\"color:#cdcd00\">sandy-sweep-116</strong>: <a href=\"https://wandb.ai/akceg/cs6910-assignment3-sweep-tamil/runs/m07c0yjx\" target=\"_blank\">https://wandb.ai/akceg/cs6910-assignment3-sweep-tamil/runs/m07c0yjx</a><br/>\n",
              "                "
            ],
            "text/plain": [
              "<IPython.core.display.HTML object>"
            ]
          },
          "metadata": {
            "tags": []
          }
        },
        {
          "output_type": "stream",
          "text": [
            "\u001b[34m\u001b[1mwandb\u001b[0m: Agent Starting Run: er21qgs9 with config:\n",
            "\u001b[34m\u001b[1mwandb\u001b[0m: \tcell_type: gru\n",
            "\u001b[34m\u001b[1mwandb\u001b[0m: \tdropout: 0.3\n",
            "\u001b[34m\u001b[1mwandb\u001b[0m: \tembedding_size: 16\n",
            "\u001b[34m\u001b[1mwandb\u001b[0m: \tepochs: 20\n",
            "\u001b[34m\u001b[1mwandb\u001b[0m: \tlatent_dimension: 64\n",
            "\u001b[34m\u001b[1mwandb\u001b[0m: \tn_decoder_layers: 3\n",
            "\u001b[34m\u001b[1mwandb\u001b[0m: \tn_encoder_layers: 3\n"
          ],
          "name": "stderr"
        },
        {
          "output_type": "display_data",
          "data": {
            "text/html": [
              "\n",
              "                Tracking run with wandb version 0.10.30<br/>\n",
              "                Syncing run <strong style=\"color:#cdcd00\">desert-sweep-117</strong> to <a href=\"https://wandb.ai\" target=\"_blank\">Weights & Biases</a> <a href=\"https://docs.wandb.com/integrations/jupyter.html\" target=\"_blank\">(Documentation)</a>.<br/>\n",
              "                Project page: <a href=\"https://wandb.ai/akceg/cs6910-assignment3-sweep-tamil\" target=\"_blank\">https://wandb.ai/akceg/cs6910-assignment3-sweep-tamil</a><br/>\n",
              "                Sweep page: <a href=\"https://wandb.ai/akceg/cs6910-assignment3-sweep-tamil/sweeps/h1onqta3\" target=\"_blank\">https://wandb.ai/akceg/cs6910-assignment3-sweep-tamil/sweeps/h1onqta3</a><br/>\n",
              "Run page: <a href=\"https://wandb.ai/akceg/cs6910-assignment3-sweep-tamil/runs/er21qgs9\" target=\"_blank\">https://wandb.ai/akceg/cs6910-assignment3-sweep-tamil/runs/er21qgs9</a><br/>\n",
              "                Run data is saved locally in <code>/content/wandb/run-20210512_031110-er21qgs9</code><br/><br/>\n",
              "            "
            ],
            "text/plain": [
              "<IPython.core.display.HTML object>"
            ]
          },
          "metadata": {
            "tags": []
          }
        },
        {
          "output_type": "stream",
          "text": [
            "Epoch 1/20\n",
            "1066/1066 [==============================] - 26s 16ms/step - loss: 1.1052 - accuracy: 0.7143\n",
            "Epoch 2/20\n",
            "1066/1066 [==============================] - 17s 16ms/step - loss: 0.7278 - accuracy: 0.7843\n",
            "Epoch 3/20\n",
            "1066/1066 [==============================] - 18s 17ms/step - loss: 0.6362 - accuracy: 0.8115\n",
            "Epoch 4/20\n",
            "1066/1066 [==============================] - 18s 17ms/step - loss: 0.5617 - accuracy: 0.8338\n",
            "Epoch 5/20\n",
            "1066/1066 [==============================] - 18s 17ms/step - loss: 0.4981 - accuracy: 0.8520\n",
            "Epoch 6/20\n",
            "1066/1066 [==============================] - 18s 17ms/step - loss: 0.4472 - accuracy: 0.8684\n",
            "Epoch 7/20\n",
            "1066/1066 [==============================] - 18s 17ms/step - loss: 0.4101 - accuracy: 0.8799\n",
            "Epoch 8/20\n",
            "1066/1066 [==============================] - 18s 17ms/step - loss: 0.3795 - accuracy: 0.8899\n",
            "Epoch 9/20\n",
            "1066/1066 [==============================] - 18s 17ms/step - loss: 0.3545 - accuracy: 0.8975\n",
            "Epoch 10/20\n",
            "1066/1066 [==============================] - 18s 16ms/step - loss: 0.3334 - accuracy: 0.9041\n",
            "Epoch 11/20\n",
            "1066/1066 [==============================] - 18s 17ms/step - loss: 0.3172 - accuracy: 0.9091\n",
            "Epoch 12/20\n",
            "1066/1066 [==============================] - 18s 17ms/step - loss: 0.3013 - accuracy: 0.9139\n",
            "Epoch 13/20\n",
            "1066/1066 [==============================] - 17s 16ms/step - loss: 0.2887 - accuracy: 0.9178\n",
            "Epoch 14/20\n",
            "1066/1066 [==============================] - 17s 16ms/step - loss: 0.2764 - accuracy: 0.9216\n",
            "Epoch 15/20\n",
            "1066/1066 [==============================] - 17s 16ms/step - loss: 0.2662 - accuracy: 0.9244\n",
            "Epoch 16/20\n",
            "1066/1066 [==============================] - 18s 17ms/step - loss: 0.2574 - accuracy: 0.9271\n",
            "Epoch 17/20\n",
            "1066/1066 [==============================] - 18s 17ms/step - loss: 0.2483 - accuracy: 0.9297\n",
            "Epoch 18/20\n",
            "1066/1066 [==============================] - 18s 16ms/step - loss: 0.2403 - accuracy: 0.9320\n",
            "Epoch 19/20\n",
            "1066/1066 [==============================] - 17s 16ms/step - loss: 0.2337 - accuracy: 0.9339\n",
            "Epoch 20/20\n",
            "1066/1066 [==============================] - 17s 16ms/step - loss: 0.2297 - accuracy: 0.9352\n"
          ],
          "name": "stdout"
        },
        {
          "output_type": "display_data",
          "data": {
            "text/html": [
              "<br/>Waiting for W&B process to finish, PID 2452543<br/>Program ended successfully."
            ],
            "text/plain": [
              "<IPython.core.display.HTML object>"
            ]
          },
          "metadata": {
            "tags": []
          }
        },
        {
          "output_type": "display_data",
          "data": {
            "application/vnd.jupyter.widget-view+json": {
              "model_id": "63008c93ce524e8488460a0644c3f190",
              "version_minor": 0,
              "version_major": 2
            },
            "text/plain": [
              "VBox(children=(Label(value=' 0.00MB of 0.00MB uploaded (0.00MB deduped)\\r'), FloatProgress(value=1.0, max=1.0)…"
            ]
          },
          "metadata": {
            "tags": []
          }
        },
        {
          "output_type": "display_data",
          "data": {
            "text/html": [
              "Find user logs for this run at: <code>/content/wandb/run-20210512_031110-er21qgs9/logs/debug.log</code>"
            ],
            "text/plain": [
              "<IPython.core.display.HTML object>"
            ]
          },
          "metadata": {
            "tags": []
          }
        },
        {
          "output_type": "display_data",
          "data": {
            "text/html": [
              "Find internal logs for this run at: <code>/content/wandb/run-20210512_031110-er21qgs9/logs/debug-internal.log</code>"
            ],
            "text/plain": [
              "<IPython.core.display.HTML object>"
            ]
          },
          "metadata": {
            "tags": []
          }
        },
        {
          "output_type": "display_data",
          "data": {
            "text/html": [
              "<h3>Run summary:</h3><br/><style>\n",
              "    table.wandb td:nth-child(1) { padding: 0 10px; text-align: right }\n",
              "    </style><table class=\"wandb\">\n",
              "<tr><td>epoch</td><td>19</td></tr><tr><td>loss</td><td>0.22764</td></tr><tr><td>accuracy</td><td>0.93563</td></tr><tr><td>_runtime</td><td>3602</td></tr><tr><td>_timestamp</td><td>1620792672</td></tr><tr><td>_step</td><td>20</td></tr><tr><td>val_accuracy</td><td>26.47231</td></tr></table>"
            ],
            "text/plain": [
              "<IPython.core.display.HTML object>"
            ]
          },
          "metadata": {
            "tags": []
          }
        },
        {
          "output_type": "display_data",
          "data": {
            "text/html": [
              "<h3>Run history:</h3><br/><style>\n",
              "    table.wandb td:nth-child(1) { padding: 0 10px; text-align: right }\n",
              "    </style><table class=\"wandb\">\n",
              "<tr><td>epoch</td><td>▁▁▂▂▂▃▃▄▄▄▅▅▅▆▆▇▇▇██</td></tr><tr><td>loss</td><td>█▆▅▄▄▃▃▃▂▂▂▂▂▁▁▁▁▁▁▁</td></tr><tr><td>accuracy</td><td>▁▃▄▄▅▆▆▆▇▇▇▇▇▇██████</td></tr><tr><td>_runtime</td><td>▁▁▁▁▁▁▁▁▁▁▁▁▁▁▁▂▂▂▂▂█</td></tr><tr><td>_timestamp</td><td>▁▁▁▁▁▁▁▁▁▁▁▁▁▁▁▂▂▂▂▂█</td></tr><tr><td>_step</td><td>▁▁▂▂▂▃▃▃▄▄▅▅▅▆▆▆▇▇▇██</td></tr><tr><td>val_accuracy</td><td>▁</td></tr></table><br/>"
            ],
            "text/plain": [
              "<IPython.core.display.HTML object>"
            ]
          },
          "metadata": {
            "tags": []
          }
        },
        {
          "output_type": "display_data",
          "data": {
            "text/html": [
              "Synced 5 W&B file(s), 1 media file(s), 0 artifact file(s) and 0 other file(s)"
            ],
            "text/plain": [
              "<IPython.core.display.HTML object>"
            ]
          },
          "metadata": {
            "tags": []
          }
        },
        {
          "output_type": "display_data",
          "data": {
            "text/html": [
              "\n",
              "                    <br/>Synced <strong style=\"color:#cdcd00\">desert-sweep-117</strong>: <a href=\"https://wandb.ai/akceg/cs6910-assignment3-sweep-tamil/runs/er21qgs9\" target=\"_blank\">https://wandb.ai/akceg/cs6910-assignment3-sweep-tamil/runs/er21qgs9</a><br/>\n",
              "                "
            ],
            "text/plain": [
              "<IPython.core.display.HTML object>"
            ]
          },
          "metadata": {
            "tags": []
          }
        },
        {
          "output_type": "stream",
          "text": [
            "\u001b[34m\u001b[1mwandb\u001b[0m: Agent Starting Run: kd2ywvw4 with config:\n",
            "\u001b[34m\u001b[1mwandb\u001b[0m: \tcell_type: gru\n",
            "\u001b[34m\u001b[1mwandb\u001b[0m: \tdropout: 0.4\n",
            "\u001b[34m\u001b[1mwandb\u001b[0m: \tembedding_size: 256\n",
            "\u001b[34m\u001b[1mwandb\u001b[0m: \tepochs: 30\n",
            "\u001b[34m\u001b[1mwandb\u001b[0m: \tlatent_dimension: 512\n",
            "\u001b[34m\u001b[1mwandb\u001b[0m: \tn_decoder_layers: 2\n",
            "\u001b[34m\u001b[1mwandb\u001b[0m: \tn_encoder_layers: 3\n"
          ],
          "name": "stderr"
        },
        {
          "output_type": "display_data",
          "data": {
            "text/html": [
              "\n",
              "                Tracking run with wandb version 0.10.30<br/>\n",
              "                Syncing run <strong style=\"color:#cdcd00\">dutiful-sweep-118</strong> to <a href=\"https://wandb.ai\" target=\"_blank\">Weights & Biases</a> <a href=\"https://docs.wandb.com/integrations/jupyter.html\" target=\"_blank\">(Documentation)</a>.<br/>\n",
              "                Project page: <a href=\"https://wandb.ai/akceg/cs6910-assignment3-sweep-tamil\" target=\"_blank\">https://wandb.ai/akceg/cs6910-assignment3-sweep-tamil</a><br/>\n",
              "                Sweep page: <a href=\"https://wandb.ai/akceg/cs6910-assignment3-sweep-tamil/sweeps/h1onqta3\" target=\"_blank\">https://wandb.ai/akceg/cs6910-assignment3-sweep-tamil/sweeps/h1onqta3</a><br/>\n",
              "Run page: <a href=\"https://wandb.ai/akceg/cs6910-assignment3-sweep-tamil/runs/kd2ywvw4\" target=\"_blank\">https://wandb.ai/akceg/cs6910-assignment3-sweep-tamil/runs/kd2ywvw4</a><br/>\n",
              "                Run data is saved locally in <code>/content/wandb/run-20210512_041117-kd2ywvw4</code><br/><br/>\n",
              "            "
            ],
            "text/plain": [
              "<IPython.core.display.HTML object>"
            ]
          },
          "metadata": {
            "tags": []
          }
        },
        {
          "output_type": "stream",
          "text": [
            "Epoch 1/30\n",
            "1066/1066 [==============================] - 49s 39ms/step - loss: 0.7064 - accuracy: 0.8142\n",
            "Epoch 2/30\n",
            "1066/1066 [==============================] - 41s 39ms/step - loss: 0.1195 - accuracy: 0.9665\n",
            "Epoch 3/30\n",
            "1066/1066 [==============================] - 42s 39ms/step - loss: 0.0769 - accuracy: 0.9783\n",
            "Epoch 4/30\n",
            "1066/1066 [==============================] - 42s 39ms/step - loss: 0.0593 - accuracy: 0.9830\n",
            "Epoch 5/30\n",
            "1066/1066 [==============================] - 41s 39ms/step - loss: 0.0493 - accuracy: 0.9858\n",
            "Epoch 6/30\n",
            "1066/1066 [==============================] - 42s 39ms/step - loss: 0.0435 - accuracy: 0.9873\n",
            "Epoch 7/30\n",
            "1066/1066 [==============================] - 41s 39ms/step - loss: 0.0387 - accuracy: 0.9886\n",
            "Epoch 8/30\n",
            "1066/1066 [==============================] - 41s 39ms/step - loss: 0.0364 - accuracy: 0.9891\n",
            "Epoch 9/30\n",
            "1066/1066 [==============================] - 42s 39ms/step - loss: 0.0342 - accuracy: 0.9896\n",
            "Epoch 10/30\n",
            "1066/1066 [==============================] - 41s 39ms/step - loss: 0.0329 - accuracy: 0.9901\n",
            "Epoch 11/30\n",
            "1066/1066 [==============================] - 41s 39ms/step - loss: 0.0328 - accuracy: 0.9899\n",
            "Epoch 12/30\n",
            "1066/1066 [==============================] - 42s 39ms/step - loss: 0.0314 - accuracy: 0.9903\n",
            "Epoch 13/30\n",
            "1066/1066 [==============================] - 42s 39ms/step - loss: 0.0315 - accuracy: 0.9903\n",
            "Epoch 14/30\n",
            "1066/1066 [==============================] - 42s 39ms/step - loss: 0.0316 - accuracy: 0.9901\n",
            "Epoch 15/30\n",
            "1066/1066 [==============================] - 41s 39ms/step - loss: 0.0313 - accuracy: 0.9903\n",
            "Epoch 16/30\n",
            "1066/1066 [==============================] - 41s 39ms/step - loss: 0.0307 - accuracy: 0.9904\n",
            "Epoch 17/30\n",
            "1066/1066 [==============================] - 41s 39ms/step - loss: 0.0314 - accuracy: 0.9902\n",
            "Epoch 18/30\n",
            "1066/1066 [==============================] - 42s 39ms/step - loss: 0.0314 - accuracy: 0.9902\n",
            "Epoch 19/30\n",
            "1066/1066 [==============================] - 42s 39ms/step - loss: 0.0311 - accuracy: 0.9902\n",
            "Epoch 20/30\n",
            "1066/1066 [==============================] - 41s 39ms/step - loss: 0.0313 - accuracy: 0.9901\n",
            "Epoch 21/30\n",
            "1066/1066 [==============================] - 42s 39ms/step - loss: 0.0318 - accuracy: 0.9899\n",
            "Epoch 22/30\n",
            "1066/1066 [==============================] - 42s 39ms/step - loss: 0.0316 - accuracy: 0.9899\n",
            "Epoch 23/30\n",
            "1066/1066 [==============================] - 41s 39ms/step - loss: 0.0320 - accuracy: 0.9899\n",
            "Epoch 24/30\n",
            "1066/1066 [==============================] - 42s 39ms/step - loss: 0.0324 - accuracy: 0.9898\n",
            "Epoch 25/30\n",
            "1066/1066 [==============================] - 42s 39ms/step - loss: 0.0322 - accuracy: 0.9898\n",
            "Epoch 26/30\n",
            "1066/1066 [==============================] - 42s 39ms/step - loss: 0.0330 - accuracy: 0.9896\n",
            "Epoch 27/30\n",
            "1066/1066 [==============================] - 41s 39ms/step - loss: 0.0336 - accuracy: 0.9894\n",
            "Epoch 28/30\n",
            "1066/1066 [==============================] - 42s 39ms/step - loss: 0.0337 - accuracy: 0.9894\n",
            "Epoch 29/30\n",
            "1066/1066 [==============================] - 42s 39ms/step - loss: 0.0345 - accuracy: 0.9891\n",
            "Epoch 30/30\n",
            "1066/1066 [==============================] - 42s 39ms/step - loss: 0.0347 - accuracy: 0.9891\n"
          ],
          "name": "stdout"
        },
        {
          "output_type": "display_data",
          "data": {
            "text/html": [
              "<br/>Waiting for W&B process to finish, PID 2662215<br/>Program ended successfully."
            ],
            "text/plain": [
              "<IPython.core.display.HTML object>"
            ]
          },
          "metadata": {
            "tags": []
          }
        },
        {
          "output_type": "display_data",
          "data": {
            "application/vnd.jupyter.widget-view+json": {
              "model_id": "01a96c58e62f4c7e82fffb93139aff34",
              "version_minor": 0,
              "version_major": 2
            },
            "text/plain": [
              "VBox(children=(Label(value=' 0.00MB of 0.00MB uploaded (0.00MB deduped)\\r'), FloatProgress(value=1.0, max=1.0)…"
            ]
          },
          "metadata": {
            "tags": []
          }
        },
        {
          "output_type": "display_data",
          "data": {
            "text/html": [
              "Find user logs for this run at: <code>/content/wandb/run-20210512_041117-kd2ywvw4/logs/debug.log</code>"
            ],
            "text/plain": [
              "<IPython.core.display.HTML object>"
            ]
          },
          "metadata": {
            "tags": []
          }
        },
        {
          "output_type": "display_data",
          "data": {
            "text/html": [
              "Find internal logs for this run at: <code>/content/wandb/run-20210512_041117-kd2ywvw4/logs/debug-internal.log</code>"
            ],
            "text/plain": [
              "<IPython.core.display.HTML object>"
            ]
          },
          "metadata": {
            "tags": []
          }
        },
        {
          "output_type": "display_data",
          "data": {
            "text/html": [
              "<h3>Run summary:</h3><br/><style>\n",
              "    table.wandb td:nth-child(1) { padding: 0 10px; text-align: right }\n",
              "    </style><table class=\"wandb\">\n",
              "<tr><td>epoch</td><td>29</td></tr><tr><td>loss</td><td>0.03609</td></tr><tr><td>accuracy</td><td>0.98872</td></tr><tr><td>_runtime</td><td>4223</td></tr><tr><td>_timestamp</td><td>1620796900</td></tr><tr><td>_step</td><td>30</td></tr><tr><td>val_accuracy</td><td>47.86112</td></tr></table>"
            ],
            "text/plain": [
              "<IPython.core.display.HTML object>"
            ]
          },
          "metadata": {
            "tags": []
          }
        },
        {
          "output_type": "display_data",
          "data": {
            "text/html": [
              "<h3>Run history:</h3><br/><style>\n",
              "    table.wandb td:nth-child(1) { padding: 0 10px; text-align: right }\n",
              "    </style><table class=\"wandb\">\n",
              "<tr><td>epoch</td><td>▁▁▁▂▂▂▂▃▃▃▃▄▄▄▄▅▅▅▅▆▆▆▆▇▇▇▇███</td></tr><tr><td>loss</td><td>█▃▂▂▁▁▁▁▁▁▁▁▁▁▁▁▁▁▁▁▁▁▁▁▁▁▁▁▁▁</td></tr><tr><td>accuracy</td><td>▁▇▇███████████████████████████</td></tr><tr><td>_runtime</td><td>▁▁▁▁▁▁▁▁▂▂▂▂▂▂▂▂▂▂▂▂▂▂▃▃▃▃▃▃▃▃█</td></tr><tr><td>_timestamp</td><td>▁▁▁▁▁▁▁▁▂▂▂▂▂▂▂▂▂▂▂▂▂▂▃▃▃▃▃▃▃▃█</td></tr><tr><td>_step</td><td>▁▁▁▂▂▂▂▃▃▃▃▄▄▄▄▅▅▅▅▅▆▆▆▆▇▇▇▇███</td></tr><tr><td>val_accuracy</td><td>▁</td></tr></table><br/>"
            ],
            "text/plain": [
              "<IPython.core.display.HTML object>"
            ]
          },
          "metadata": {
            "tags": []
          }
        },
        {
          "output_type": "display_data",
          "data": {
            "text/html": [
              "Synced 5 W&B file(s), 1 media file(s), 0 artifact file(s) and 0 other file(s)"
            ],
            "text/plain": [
              "<IPython.core.display.HTML object>"
            ]
          },
          "metadata": {
            "tags": []
          }
        },
        {
          "output_type": "display_data",
          "data": {
            "text/html": [
              "\n",
              "                    <br/>Synced <strong style=\"color:#cdcd00\">dutiful-sweep-118</strong>: <a href=\"https://wandb.ai/akceg/cs6910-assignment3-sweep-tamil/runs/kd2ywvw4\" target=\"_blank\">https://wandb.ai/akceg/cs6910-assignment3-sweep-tamil/runs/kd2ywvw4</a><br/>\n",
              "                "
            ],
            "text/plain": [
              "<IPython.core.display.HTML object>"
            ]
          },
          "metadata": {
            "tags": []
          }
        },
        {
          "output_type": "stream",
          "text": [
            "\u001b[34m\u001b[1mwandb\u001b[0m: Agent Starting Run: 0px8pryr with config:\n",
            "\u001b[34m\u001b[1mwandb\u001b[0m: \tcell_type: lstm\n",
            "\u001b[34m\u001b[1mwandb\u001b[0m: \tdropout: 0.2\n",
            "\u001b[34m\u001b[1mwandb\u001b[0m: \tembedding_size: 256\n",
            "\u001b[34m\u001b[1mwandb\u001b[0m: \tepochs: 30\n",
            "\u001b[34m\u001b[1mwandb\u001b[0m: \tlatent_dimension: 256\n",
            "\u001b[34m\u001b[1mwandb\u001b[0m: \tn_decoder_layers: 3\n",
            "\u001b[34m\u001b[1mwandb\u001b[0m: \tn_encoder_layers: 3\n"
          ],
          "name": "stderr"
        },
        {
          "output_type": "display_data",
          "data": {
            "text/html": [
              "\n",
              "                Tracking run with wandb version 0.10.30<br/>\n",
              "                Syncing run <strong style=\"color:#cdcd00\">autumn-sweep-119</strong> to <a href=\"https://wandb.ai\" target=\"_blank\">Weights & Biases</a> <a href=\"https://docs.wandb.com/integrations/jupyter.html\" target=\"_blank\">(Documentation)</a>.<br/>\n",
              "                Project page: <a href=\"https://wandb.ai/akceg/cs6910-assignment3-sweep-tamil\" target=\"_blank\">https://wandb.ai/akceg/cs6910-assignment3-sweep-tamil</a><br/>\n",
              "                Sweep page: <a href=\"https://wandb.ai/akceg/cs6910-assignment3-sweep-tamil/sweeps/h1onqta3\" target=\"_blank\">https://wandb.ai/akceg/cs6910-assignment3-sweep-tamil/sweeps/h1onqta3</a><br/>\n",
              "Run page: <a href=\"https://wandb.ai/akceg/cs6910-assignment3-sweep-tamil/runs/0px8pryr\" target=\"_blank\">https://wandb.ai/akceg/cs6910-assignment3-sweep-tamil/runs/0px8pryr</a><br/>\n",
              "                Run data is saved locally in <code>/content/wandb/run-20210512_052146-0px8pryr</code><br/><br/>\n",
              "            "
            ],
            "text/plain": [
              "<IPython.core.display.HTML object>"
            ]
          },
          "metadata": {
            "tags": []
          }
        },
        {
          "output_type": "stream",
          "text": [
            "Epoch 1/30\n",
            "1066/1066 [==============================] - 42s 32ms/step - loss: 0.9623 - accuracy: 0.7398\n",
            "Epoch 2/30\n",
            "1066/1066 [==============================] - 34s 32ms/step - loss: 0.4262 - accuracy: 0.8734\n",
            "Epoch 3/30\n",
            "1066/1066 [==============================] - 34s 32ms/step - loss: 0.1775 - accuracy: 0.9502\n",
            "Epoch 4/30\n",
            "1066/1066 [==============================] - 34s 32ms/step - loss: 0.0993 - accuracy: 0.9728\n",
            "Epoch 5/30\n",
            "1066/1066 [==============================] - 34s 32ms/step - loss: 0.0674 - accuracy: 0.9814\n",
            "Epoch 6/30\n",
            "1066/1066 [==============================] - 33s 31ms/step - loss: 0.0503 - accuracy: 0.9859\n",
            "Epoch 7/30\n",
            "1066/1066 [==============================] - 33s 31ms/step - loss: 0.0402 - accuracy: 0.9886\n",
            "Epoch 8/30\n",
            "1066/1066 [==============================] - 34s 32ms/step - loss: 0.0321 - accuracy: 0.9908\n",
            "Epoch 9/30\n",
            "1066/1066 [==============================] - 34s 31ms/step - loss: 0.0276 - accuracy: 0.9920\n",
            "Epoch 10/30\n",
            "1066/1066 [==============================] - 34s 32ms/step - loss: 0.0235 - accuracy: 0.9931\n",
            "Epoch 11/30\n",
            "1066/1066 [==============================] - 33s 31ms/step - loss: 0.0211 - accuracy: 0.9937\n",
            "Epoch 12/30\n",
            "1066/1066 [==============================] - 34s 32ms/step - loss: 0.0190 - accuracy: 0.9942\n",
            "Epoch 13/30\n",
            "1066/1066 [==============================] - 34s 32ms/step - loss: 0.0174 - accuracy: 0.9946\n",
            "Epoch 14/30\n",
            "1066/1066 [==============================] - 33s 31ms/step - loss: 0.0158 - accuracy: 0.9952\n",
            "Epoch 15/30\n",
            "1066/1066 [==============================] - 33s 31ms/step - loss: 0.0153 - accuracy: 0.9954\n",
            "Epoch 16/30\n",
            "1066/1066 [==============================] - 34s 32ms/step - loss: 0.0142 - accuracy: 0.9957\n",
            "Epoch 17/30\n",
            "1066/1066 [==============================] - 33s 31ms/step - loss: 0.0139 - accuracy: 0.9957\n",
            "Epoch 18/30\n",
            "1066/1066 [==============================] - 33s 31ms/step - loss: 0.0133 - accuracy: 0.9959\n",
            "Epoch 19/30\n",
            "1066/1066 [==============================] - 33s 31ms/step - loss: 0.0123 - accuracy: 0.9962\n",
            "Epoch 20/30\n",
            "1066/1066 [==============================] - 33s 31ms/step - loss: 0.0123 - accuracy: 0.9961\n",
            "Epoch 21/30\n",
            "1066/1066 [==============================] - 33s 31ms/step - loss: 0.0116 - accuracy: 0.9964\n",
            "Epoch 22/30\n",
            "1066/1066 [==============================] - 33s 31ms/step - loss: 0.0114 - accuracy: 0.9964\n",
            "Epoch 23/30\n",
            "1066/1066 [==============================] - 33s 31ms/step - loss: 0.0113 - accuracy: 0.9964\n",
            "Epoch 24/30\n",
            "1066/1066 [==============================] - 33s 31ms/step - loss: 0.0110 - accuracy: 0.9965\n",
            "Epoch 25/30\n",
            "1066/1066 [==============================] - 33s 31ms/step - loss: 0.0108 - accuracy: 0.9967\n",
            "Epoch 26/30\n",
            "1066/1066 [==============================] - 34s 32ms/step - loss: 0.0104 - accuracy: 0.9968\n",
            "Epoch 27/30\n",
            "1066/1066 [==============================] - 33s 31ms/step - loss: 0.0102 - accuracy: 0.9968\n",
            "Epoch 28/30\n",
            "1066/1066 [==============================] - 33s 31ms/step - loss: 0.0102 - accuracy: 0.9968\n",
            "Epoch 29/30\n",
            "1066/1066 [==============================] - 33s 31ms/step - loss: 0.0100 - accuracy: 0.9968\n",
            "Epoch 30/30\n",
            "1066/1066 [==============================] - 33s 31ms/step - loss: 0.0095 - accuracy: 0.9970\n"
          ],
          "name": "stdout"
        },
        {
          "output_type": "display_data",
          "data": {
            "text/html": [
              "<br/>Waiting for W&B process to finish, PID 2870321<br/>Program ended successfully."
            ],
            "text/plain": [
              "<IPython.core.display.HTML object>"
            ]
          },
          "metadata": {
            "tags": []
          }
        },
        {
          "output_type": "display_data",
          "data": {
            "application/vnd.jupyter.widget-view+json": {
              "model_id": "a5eeba0adfe4497fa62aeabf4f357cf9",
              "version_minor": 0,
              "version_major": 2
            },
            "text/plain": [
              "VBox(children=(Label(value=' 0.00MB of 0.00MB uploaded (0.00MB deduped)\\r'), FloatProgress(value=1.0, max=1.0)…"
            ]
          },
          "metadata": {
            "tags": []
          }
        },
        {
          "output_type": "display_data",
          "data": {
            "text/html": [
              "Find user logs for this run at: <code>/content/wandb/run-20210512_052146-0px8pryr/logs/debug.log</code>"
            ],
            "text/plain": [
              "<IPython.core.display.HTML object>"
            ]
          },
          "metadata": {
            "tags": []
          }
        },
        {
          "output_type": "display_data",
          "data": {
            "text/html": [
              "Find internal logs for this run at: <code>/content/wandb/run-20210512_052146-0px8pryr/logs/debug-internal.log</code>"
            ],
            "text/plain": [
              "<IPython.core.display.HTML object>"
            ]
          },
          "metadata": {
            "tags": []
          }
        },
        {
          "output_type": "display_data",
          "data": {
            "text/html": [
              "<h3>Run summary:</h3><br/><style>\n",
              "    table.wandb td:nth-child(1) { padding: 0 10px; text-align: right }\n",
              "    </style><table class=\"wandb\">\n",
              "<tr><td>epoch</td><td>29</td></tr><tr><td>loss</td><td>0.01046</td></tr><tr><td>accuracy</td><td>0.99673</td></tr><tr><td>_runtime</td><td>4790</td></tr><tr><td>_timestamp</td><td>1620801696</td></tr><tr><td>_step</td><td>30</td></tr><tr><td>val_accuracy</td><td>49.25286</td></tr></table>"
            ],
            "text/plain": [
              "<IPython.core.display.HTML object>"
            ]
          },
          "metadata": {
            "tags": []
          }
        },
        {
          "output_type": "display_data",
          "data": {
            "text/html": [
              "<h3>Run history:</h3><br/><style>\n",
              "    table.wandb td:nth-child(1) { padding: 0 10px; text-align: right }\n",
              "    </style><table class=\"wandb\">\n",
              "<tr><td>epoch</td><td>▁▁▁▂▂▂▂▃▃▃▃▄▄▄▄▅▅▅▅▆▆▆▆▇▇▇▇███</td></tr><tr><td>loss</td><td>█▄▂▂▂▁▁▁▁▁▁▁▁▁▁▁▁▁▁▁▁▁▁▁▁▁▁▁▁▁</td></tr><tr><td>accuracy</td><td>▁▅▇▇██████████████████████████</td></tr><tr><td>_runtime</td><td>▁▁▁▁▁▁▁▁▁▁▁▂▂▂▂▂▂▂▂▂▂▂▂▂▂▂▂▂▂▂█</td></tr><tr><td>_timestamp</td><td>▁▁▁▁▁▁▁▁▁▁▁▂▂▂▂▂▂▂▂▂▂▂▂▂▂▂▂▂▂▂█</td></tr><tr><td>_step</td><td>▁▁▁▂▂▂▂▃▃▃▃▄▄▄▄▅▅▅▅▅▆▆▆▆▇▇▇▇███</td></tr><tr><td>val_accuracy</td><td>▁</td></tr></table><br/>"
            ],
            "text/plain": [
              "<IPython.core.display.HTML object>"
            ]
          },
          "metadata": {
            "tags": []
          }
        },
        {
          "output_type": "display_data",
          "data": {
            "text/html": [
              "Synced 5 W&B file(s), 1 media file(s), 0 artifact file(s) and 0 other file(s)"
            ],
            "text/plain": [
              "<IPython.core.display.HTML object>"
            ]
          },
          "metadata": {
            "tags": []
          }
        },
        {
          "output_type": "display_data",
          "data": {
            "text/html": [
              "\n",
              "                    <br/>Synced <strong style=\"color:#cdcd00\">autumn-sweep-119</strong>: <a href=\"https://wandb.ai/akceg/cs6910-assignment3-sweep-tamil/runs/0px8pryr\" target=\"_blank\">https://wandb.ai/akceg/cs6910-assignment3-sweep-tamil/runs/0px8pryr</a><br/>\n",
              "                "
            ],
            "text/plain": [
              "<IPython.core.display.HTML object>"
            ]
          },
          "metadata": {
            "tags": []
          }
        },
        {
          "output_type": "stream",
          "text": [
            "\u001b[34m\u001b[1mwandb\u001b[0m: Agent Starting Run: k7yuwq1y with config:\n",
            "\u001b[34m\u001b[1mwandb\u001b[0m: \tcell_type: lstm\n",
            "\u001b[34m\u001b[1mwandb\u001b[0m: \tdropout: 0\n",
            "\u001b[34m\u001b[1mwandb\u001b[0m: \tembedding_size: 64\n",
            "\u001b[34m\u001b[1mwandb\u001b[0m: \tepochs: 25\n",
            "\u001b[34m\u001b[1mwandb\u001b[0m: \tlatent_dimension: 64\n",
            "\u001b[34m\u001b[1mwandb\u001b[0m: \tn_decoder_layers: 2\n",
            "\u001b[34m\u001b[1mwandb\u001b[0m: \tn_encoder_layers: 3\n"
          ],
          "name": "stderr"
        },
        {
          "output_type": "display_data",
          "data": {
            "text/html": [
              "\n",
              "                Tracking run with wandb version 0.10.30<br/>\n",
              "                Syncing run <strong style=\"color:#cdcd00\">zesty-sweep-120</strong> to <a href=\"https://wandb.ai\" target=\"_blank\">Weights & Biases</a> <a href=\"https://docs.wandb.com/integrations/jupyter.html\" target=\"_blank\">(Documentation)</a>.<br/>\n",
              "                Project page: <a href=\"https://wandb.ai/akceg/cs6910-assignment3-sweep-tamil\" target=\"_blank\">https://wandb.ai/akceg/cs6910-assignment3-sweep-tamil</a><br/>\n",
              "                Sweep page: <a href=\"https://wandb.ai/akceg/cs6910-assignment3-sweep-tamil/sweeps/h1onqta3\" target=\"_blank\">https://wandb.ai/akceg/cs6910-assignment3-sweep-tamil/sweeps/h1onqta3</a><br/>\n",
              "Run page: <a href=\"https://wandb.ai/akceg/cs6910-assignment3-sweep-tamil/runs/k7yuwq1y\" target=\"_blank\">https://wandb.ai/akceg/cs6910-assignment3-sweep-tamil/runs/k7yuwq1y</a><br/>\n",
              "                Run data is saved locally in <code>/content/wandb/run-20210512_064144-k7yuwq1y</code><br/><br/>\n",
              "            "
            ],
            "text/plain": [
              "<IPython.core.display.HTML object>"
            ]
          },
          "metadata": {
            "tags": []
          }
        },
        {
          "output_type": "stream",
          "text": [
            "Epoch 1/25\n",
            "1066/1066 [==============================] - 23s 15ms/step - loss: 1.0638 - accuracy: 0.7243\n",
            "Epoch 2/25\n",
            "1066/1066 [==============================] - 16s 15ms/step - loss: 0.6593 - accuracy: 0.8037\n",
            "Epoch 3/25\n",
            "1066/1066 [==============================] - 16s 15ms/step - loss: 0.5316 - accuracy: 0.8417\n",
            "Epoch 4/25\n",
            "1066/1066 [==============================] - 16s 15ms/step - loss: 0.4403 - accuracy: 0.8693\n",
            "Epoch 5/25\n",
            "1066/1066 [==============================] - 16s 15ms/step - loss: 0.3651 - accuracy: 0.8929\n",
            "Epoch 6/25\n",
            "1066/1066 [==============================] - 16s 15ms/step - loss: 0.2985 - accuracy: 0.9141\n",
            "Epoch 7/25\n",
            "1066/1066 [==============================] - 16s 15ms/step - loss: 0.2479 - accuracy: 0.9298\n",
            "Epoch 8/25\n",
            "1066/1066 [==============================] - 16s 15ms/step - loss: 0.2096 - accuracy: 0.9417\n",
            "Epoch 9/25\n",
            "1066/1066 [==============================] - 16s 15ms/step - loss: 0.1833 - accuracy: 0.9491\n",
            "Epoch 10/25\n",
            "1066/1066 [==============================] - 16s 15ms/step - loss: 0.1615 - accuracy: 0.9554\n",
            "Epoch 11/25\n",
            "1066/1066 [==============================] - 16s 15ms/step - loss: 0.1442 - accuracy: 0.9604\n",
            "Epoch 12/25\n",
            "1066/1066 [==============================] - 16s 15ms/step - loss: 0.1285 - accuracy: 0.9649\n",
            "Epoch 13/25\n",
            "1066/1066 [==============================] - 16s 15ms/step - loss: 0.1186 - accuracy: 0.9680\n",
            "Epoch 14/25\n",
            "1066/1066 [==============================] - 16s 15ms/step - loss: 0.1095 - accuracy: 0.9707\n",
            "Epoch 15/25\n",
            "1066/1066 [==============================] - 16s 15ms/step - loss: 0.1016 - accuracy: 0.9728\n",
            "Epoch 16/25\n",
            "1066/1066 [==============================] - 16s 15ms/step - loss: 0.0937 - accuracy: 0.9750\n",
            "Epoch 17/25\n",
            "1066/1066 [==============================] - 16s 15ms/step - loss: 0.0885 - accuracy: 0.9765\n",
            "Epoch 18/25\n",
            "1066/1066 [==============================] - 16s 15ms/step - loss: 0.0827 - accuracy: 0.9781\n",
            "Epoch 19/25\n",
            "1066/1066 [==============================] - 16s 15ms/step - loss: 0.0773 - accuracy: 0.9795\n",
            "Epoch 20/25\n",
            "1066/1066 [==============================] - 16s 15ms/step - loss: 0.0733 - accuracy: 0.9805\n",
            "Epoch 21/25\n",
            "1066/1066 [==============================] - 16s 15ms/step - loss: 0.0697 - accuracy: 0.9817\n",
            "Epoch 22/25\n",
            "1066/1066 [==============================] - 16s 15ms/step - loss: 0.0657 - accuracy: 0.9826\n",
            "Epoch 23/25\n",
            "1066/1066 [==============================] - 16s 15ms/step - loss: 0.0623 - accuracy: 0.9838\n",
            "Epoch 24/25\n",
            "1066/1066 [==============================] - 16s 15ms/step - loss: 0.0585 - accuracy: 0.9844\n",
            "Epoch 25/25\n",
            "1066/1066 [==============================] - 16s 15ms/step - loss: 0.0568 - accuracy: 0.9850\n"
          ],
          "name": "stdout"
        },
        {
          "output_type": "display_data",
          "data": {
            "text/html": [
              "<br/>Waiting for W&B process to finish, PID 3082380<br/>Program ended successfully."
            ],
            "text/plain": [
              "<IPython.core.display.HTML object>"
            ]
          },
          "metadata": {
            "tags": []
          }
        },
        {
          "output_type": "display_data",
          "data": {
            "application/vnd.jupyter.widget-view+json": {
              "model_id": "fb35b33a3d1641d1accbce507e51478b",
              "version_minor": 0,
              "version_major": 2
            },
            "text/plain": [
              "VBox(children=(Label(value=' 0.00MB of 0.00MB uploaded (0.00MB deduped)\\r'), FloatProgress(value=1.0, max=1.0)…"
            ]
          },
          "metadata": {
            "tags": []
          }
        },
        {
          "output_type": "display_data",
          "data": {
            "text/html": [
              "Find user logs for this run at: <code>/content/wandb/run-20210512_064144-k7yuwq1y/logs/debug.log</code>"
            ],
            "text/plain": [
              "<IPython.core.display.HTML object>"
            ]
          },
          "metadata": {
            "tags": []
          }
        },
        {
          "output_type": "display_data",
          "data": {
            "text/html": [
              "Find internal logs for this run at: <code>/content/wandb/run-20210512_064144-k7yuwq1y/logs/debug-internal.log</code>"
            ],
            "text/plain": [
              "<IPython.core.display.HTML object>"
            ]
          },
          "metadata": {
            "tags": []
          }
        },
        {
          "output_type": "display_data",
          "data": {
            "text/html": [
              "<h3>Run summary:</h3><br/><style>\n",
              "    table.wandb td:nth-child(1) { padding: 0 10px; text-align: right }\n",
              "    </style><table class=\"wandb\">\n",
              "<tr><td>epoch</td><td>24</td></tr><tr><td>loss</td><td>0.05745</td></tr><tr><td>accuracy</td><td>0.98483</td></tr><tr><td>_runtime</td><td>3969</td></tr><tr><td>_timestamp</td><td>1620805673</td></tr><tr><td>_step</td><td>25</td></tr><tr><td>val_accuracy</td><td>22.385</td></tr></table>"
            ],
            "text/plain": [
              "<IPython.core.display.HTML object>"
            ]
          },
          "metadata": {
            "tags": []
          }
        },
        {
          "output_type": "display_data",
          "data": {
            "text/html": [
              "<h3>Run history:</h3><br/><style>\n",
              "    table.wandb td:nth-child(1) { padding: 0 10px; text-align: right }\n",
              "    </style><table class=\"wandb\">\n",
              "<tr><td>epoch</td><td>▁▁▂▂▂▂▃▃▃▄▄▄▅▅▅▅▆▆▆▇▇▇▇██</td></tr><tr><td>loss</td><td>█▆▅▄▄▃▃▂▂▂▂▂▂▁▁▁▁▁▁▁▁▁▁▁▁</td></tr><tr><td>accuracy</td><td>▁▃▄▅▅▆▆▇▇▇▇▇▇████████████</td></tr><tr><td>_runtime</td><td>▁▁▁▁▁▁▁▁▁▁▁▁▁▁▁▁▁▁▂▂▂▂▂▂▂█</td></tr><tr><td>_timestamp</td><td>▁▁▁▁▁▁▁▁▁▁▁▁▁▁▁▁▁▁▂▂▂▂▂▂▂█</td></tr><tr><td>_step</td><td>▁▁▂▂▂▂▃▃▃▄▄▄▄▅▅▅▅▆▆▆▇▇▇▇██</td></tr><tr><td>val_accuracy</td><td>▁</td></tr></table><br/>"
            ],
            "text/plain": [
              "<IPython.core.display.HTML object>"
            ]
          },
          "metadata": {
            "tags": []
          }
        },
        {
          "output_type": "display_data",
          "data": {
            "text/html": [
              "Synced 5 W&B file(s), 1 media file(s), 0 artifact file(s) and 0 other file(s)"
            ],
            "text/plain": [
              "<IPython.core.display.HTML object>"
            ]
          },
          "metadata": {
            "tags": []
          }
        },
        {
          "output_type": "display_data",
          "data": {
            "text/html": [
              "\n",
              "                    <br/>Synced <strong style=\"color:#cdcd00\">zesty-sweep-120</strong>: <a href=\"https://wandb.ai/akceg/cs6910-assignment3-sweep-tamil/runs/k7yuwq1y\" target=\"_blank\">https://wandb.ai/akceg/cs6910-assignment3-sweep-tamil/runs/k7yuwq1y</a><br/>\n",
              "                "
            ],
            "text/plain": [
              "<IPython.core.display.HTML object>"
            ]
          },
          "metadata": {
            "tags": []
          }
        },
        {
          "output_type": "stream",
          "text": [
            "\u001b[34m\u001b[1mwandb\u001b[0m: Agent Starting Run: fs3q0mx3 with config:\n",
            "\u001b[34m\u001b[1mwandb\u001b[0m: \tcell_type: rnn\n",
            "\u001b[34m\u001b[1mwandb\u001b[0m: \tdropout: 0.5\n",
            "\u001b[34m\u001b[1mwandb\u001b[0m: \tembedding_size: 256\n",
            "\u001b[34m\u001b[1mwandb\u001b[0m: \tepochs: 30\n",
            "\u001b[34m\u001b[1mwandb\u001b[0m: \tlatent_dimension: 512\n",
            "\u001b[34m\u001b[1mwandb\u001b[0m: \tn_decoder_layers: 2\n",
            "\u001b[34m\u001b[1mwandb\u001b[0m: \tn_encoder_layers: 2\n"
          ],
          "name": "stderr"
        },
        {
          "output_type": "display_data",
          "data": {
            "text/html": [
              "\n",
              "                Tracking run with wandb version 0.10.30<br/>\n",
              "                Syncing run <strong style=\"color:#cdcd00\">snowy-sweep-121</strong> to <a href=\"https://wandb.ai\" target=\"_blank\">Weights & Biases</a> <a href=\"https://docs.wandb.com/integrations/jupyter.html\" target=\"_blank\">(Documentation)</a>.<br/>\n",
              "                Project page: <a href=\"https://wandb.ai/akceg/cs6910-assignment3-sweep-tamil\" target=\"_blank\">https://wandb.ai/akceg/cs6910-assignment3-sweep-tamil</a><br/>\n",
              "                Sweep page: <a href=\"https://wandb.ai/akceg/cs6910-assignment3-sweep-tamil/sweeps/h1onqta3\" target=\"_blank\">https://wandb.ai/akceg/cs6910-assignment3-sweep-tamil/sweeps/h1onqta3</a><br/>\n",
              "Run page: <a href=\"https://wandb.ai/akceg/cs6910-assignment3-sweep-tamil/runs/fs3q0mx3\" target=\"_blank\">https://wandb.ai/akceg/cs6910-assignment3-sweep-tamil/runs/fs3q0mx3</a><br/>\n",
              "                Run data is saved locally in <code>/content/wandb/run-20210512_074758-fs3q0mx3</code><br/><br/>\n",
              "            "
            ],
            "text/plain": [
              "<IPython.core.display.HTML object>"
            ]
          },
          "metadata": {
            "tags": []
          }
        },
        {
          "output_type": "stream",
          "text": [
            "Epoch 1/30\n",
            "1066/1066 [==============================] - 114s 104ms/step - loss: 1.0508 - accuracy: 0.7330\n",
            "Epoch 2/30\n",
            "1066/1066 [==============================] - 112s 105ms/step - loss: 0.6383 - accuracy: 0.8072\n",
            "Epoch 3/30\n",
            "1066/1066 [==============================] - 114s 107ms/step - loss: 0.5999 - accuracy: 0.8167\n",
            "Epoch 4/30\n",
            "1066/1066 [==============================] - 114s 107ms/step - loss: 0.5803 - accuracy: 0.8216\n",
            "Epoch 5/30\n",
            "1066/1066 [==============================] - 113s 106ms/step - loss: 0.5671 - accuracy: 0.8247\n",
            "Epoch 6/30\n",
            "1066/1066 [==============================] - 111s 104ms/step - loss: 0.5579 - accuracy: 0.8271\n",
            "Epoch 7/30\n",
            "1066/1066 [==============================] - 112s 105ms/step - loss: 0.5505 - accuracy: 0.8287\n",
            "Epoch 8/30\n",
            "1066/1066 [==============================] - 114s 107ms/step - loss: 0.5458 - accuracy: 0.8295\n",
            "Epoch 9/30\n",
            "1066/1066 [==============================] - 115s 108ms/step - loss: 0.5407 - accuracy: 0.8311\n",
            "Epoch 10/30\n",
            "1066/1066 [==============================] - 117s 110ms/step - loss: 0.5379 - accuracy: 0.8319\n",
            "Epoch 11/30\n",
            "1066/1066 [==============================] - 116s 109ms/step - loss: 0.5341 - accuracy: 0.8332\n",
            "Epoch 12/30\n",
            "1066/1066 [==============================] - 112s 105ms/step - loss: 0.5323 - accuracy: 0.8331\n",
            "Epoch 13/30\n",
            "1066/1066 [==============================] - 111s 104ms/step - loss: 0.5303 - accuracy: 0.8337\n",
            "Epoch 14/30\n",
            "1066/1066 [==============================] - 116s 109ms/step - loss: 0.5287 - accuracy: 0.8340\n",
            "Epoch 15/30\n",
            "1066/1066 [==============================] - 114s 107ms/step - loss: 0.5271 - accuracy: 0.8343\n",
            "Epoch 16/30\n",
            "1066/1066 [==============================] - 117s 110ms/step - loss: 0.5261 - accuracy: 0.8345\n",
            "Epoch 17/30\n",
            "1066/1066 [==============================] - 117s 110ms/step - loss: 0.5250 - accuracy: 0.8348\n",
            "Epoch 18/30\n",
            "1066/1066 [==============================] - 115s 108ms/step - loss: 0.5244 - accuracy: 0.8344\n",
            "Epoch 19/30\n",
            "1066/1066 [==============================] - 114s 107ms/step - loss: 0.5234 - accuracy: 0.8351\n",
            "Epoch 20/30\n",
            "1066/1066 [==============================] - 113s 106ms/step - loss: 0.5234 - accuracy: 0.8350\n",
            "Epoch 21/30\n",
            "1066/1066 [==============================] - 113s 106ms/step - loss: 0.5233 - accuracy: 0.8350\n",
            "Epoch 22/30\n",
            "1066/1066 [==============================] - 113s 106ms/step - loss: 0.5215 - accuracy: 0.8355\n",
            "Epoch 23/30\n",
            "1066/1066 [==============================] - 112s 105ms/step - loss: 0.5224 - accuracy: 0.8349\n",
            "Epoch 24/30\n",
            "1066/1066 [==============================] - 118s 111ms/step - loss: 0.5221 - accuracy: 0.8354\n",
            "Epoch 25/30\n",
            "1066/1066 [==============================] - 119s 111ms/step - loss: 0.5217 - accuracy: 0.8353\n",
            "Epoch 26/30\n",
            "1066/1066 [==============================] - 118s 111ms/step - loss: 0.5223 - accuracy: 0.8353\n",
            "Epoch 27/30\n",
            "1066/1066 [==============================] - 120s 112ms/step - loss: 0.5236 - accuracy: 0.8345\n",
            "Epoch 28/30\n",
            "1066/1066 [==============================] - 119s 112ms/step - loss: 0.5230 - accuracy: 0.8347\n",
            "Epoch 29/30\n",
            "1066/1066 [==============================] - 119s 112ms/step - loss: 0.5222 - accuracy: 0.8352\n",
            "Epoch 30/30\n",
            "1066/1066 [==============================] - 119s 111ms/step - loss: 0.5224 - accuracy: 0.8351\n"
          ],
          "name": "stdout"
        },
        {
          "output_type": "display_data",
          "data": {
            "text/html": [
              "<br/>Waiting for W&B process to finish, PID 3311670<br/>Program ended successfully."
            ],
            "text/plain": [
              "<IPython.core.display.HTML object>"
            ]
          },
          "metadata": {
            "tags": []
          }
        },
        {
          "output_type": "display_data",
          "data": {
            "application/vnd.jupyter.widget-view+json": {
              "model_id": "5b6f9d5b55f34c9bbdf552cb227ebf27",
              "version_minor": 0,
              "version_major": 2
            },
            "text/plain": [
              "VBox(children=(Label(value=' 0.00MB of 0.00MB uploaded (0.00MB deduped)\\r'), FloatProgress(value=1.0, max=1.0)…"
            ]
          },
          "metadata": {
            "tags": []
          }
        },
        {
          "output_type": "display_data",
          "data": {
            "text/html": [
              "Find user logs for this run at: <code>/content/wandb/run-20210512_074758-fs3q0mx3/logs/debug.log</code>"
            ],
            "text/plain": [
              "<IPython.core.display.HTML object>"
            ]
          },
          "metadata": {
            "tags": []
          }
        },
        {
          "output_type": "display_data",
          "data": {
            "text/html": [
              "Find internal logs for this run at: <code>/content/wandb/run-20210512_074758-fs3q0mx3/logs/debug-internal.log</code>"
            ],
            "text/plain": [
              "<IPython.core.display.HTML object>"
            ]
          },
          "metadata": {
            "tags": []
          }
        },
        {
          "output_type": "display_data",
          "data": {
            "text/html": [
              "<h3>Run summary:</h3><br/><style>\n",
              "    table.wandb td:nth-child(1) { padding: 0 10px; text-align: right }\n",
              "    </style><table class=\"wandb\">\n",
              "<tr><td>epoch</td><td>29</td></tr><tr><td>loss</td><td>0.52275</td></tr><tr><td>accuracy</td><td>0.83504</td></tr><tr><td>_runtime</td><td>6203</td></tr><tr><td>_timestamp</td><td>1620811881</td></tr><tr><td>_step</td><td>30</td></tr><tr><td>val_accuracy</td><td>0.0</td></tr></table>"
            ],
            "text/plain": [
              "<IPython.core.display.HTML object>"
            ]
          },
          "metadata": {
            "tags": []
          }
        },
        {
          "output_type": "display_data",
          "data": {
            "text/html": [
              "<h3>Run history:</h3><br/><style>\n",
              "    table.wandb td:nth-child(1) { padding: 0 10px; text-align: right }\n",
              "    </style><table class=\"wandb\">\n",
              "<tr><td>epoch</td><td>▁▁▁▂▂▂▂▃▃▃▃▄▄▄▄▅▅▅▅▆▆▆▆▇▇▇▇███</td></tr><tr><td>loss</td><td>█▄▃▂▂▂▂▂▁▁▁▁▁▁▁▁▁▁▁▁▁▁▁▁▁▁▁▁▁▁</td></tr><tr><td>accuracy</td><td>▁▅▆▆▇▇▇▇██████████████████████</td></tr><tr><td>_runtime</td><td>▁▁▁▁▂▂▂▂▂▂▂▂▃▃▃▃▃▃▃▃▄▄▄▄▄▄▄▅▅▅█</td></tr><tr><td>_timestamp</td><td>▁▁▁▁▂▂▂▂▂▂▂▂▃▃▃▃▃▃▃▃▄▄▄▄▄▄▄▅▅▅█</td></tr><tr><td>_step</td><td>▁▁▁▂▂▂▂▃▃▃▃▄▄▄▄▅▅▅▅▅▆▆▆▆▇▇▇▇███</td></tr><tr><td>val_accuracy</td><td>▁</td></tr></table><br/>"
            ],
            "text/plain": [
              "<IPython.core.display.HTML object>"
            ]
          },
          "metadata": {
            "tags": []
          }
        },
        {
          "output_type": "display_data",
          "data": {
            "text/html": [
              "Synced 5 W&B file(s), 1 media file(s), 0 artifact file(s) and 0 other file(s)"
            ],
            "text/plain": [
              "<IPython.core.display.HTML object>"
            ]
          },
          "metadata": {
            "tags": []
          }
        },
        {
          "output_type": "display_data",
          "data": {
            "text/html": [
              "\n",
              "                    <br/>Synced <strong style=\"color:#cdcd00\">snowy-sweep-121</strong>: <a href=\"https://wandb.ai/akceg/cs6910-assignment3-sweep-tamil/runs/fs3q0mx3\" target=\"_blank\">https://wandb.ai/akceg/cs6910-assignment3-sweep-tamil/runs/fs3q0mx3</a><br/>\n",
              "                "
            ],
            "text/plain": [
              "<IPython.core.display.HTML object>"
            ]
          },
          "metadata": {
            "tags": []
          }
        },
        {
          "output_type": "stream",
          "text": [
            "\u001b[34m\u001b[1mwandb\u001b[0m: Agent Starting Run: jk4vqzqt with config:\n",
            "\u001b[34m\u001b[1mwandb\u001b[0m: \tcell_type: lstm\n",
            "\u001b[34m\u001b[1mwandb\u001b[0m: \tdropout: 0.3\n",
            "\u001b[34m\u001b[1mwandb\u001b[0m: \tembedding_size: 128\n",
            "\u001b[34m\u001b[1mwandb\u001b[0m: \tepochs: 30\n",
            "\u001b[34m\u001b[1mwandb\u001b[0m: \tlatent_dimension: 32\n",
            "\u001b[34m\u001b[1mwandb\u001b[0m: \tn_decoder_layers: 2\n",
            "\u001b[34m\u001b[1mwandb\u001b[0m: \tn_encoder_layers: 1\n"
          ],
          "name": "stderr"
        },
        {
          "output_type": "display_data",
          "data": {
            "text/html": [
              "\n",
              "                Tracking run with wandb version 0.10.30<br/>\n",
              "                Syncing run <strong style=\"color:#cdcd00\">kind-sweep-122</strong> to <a href=\"https://wandb.ai\" target=\"_blank\">Weights & Biases</a> <a href=\"https://docs.wandb.com/integrations/jupyter.html\" target=\"_blank\">(Documentation)</a>.<br/>\n",
              "                Project page: <a href=\"https://wandb.ai/akceg/cs6910-assignment3-sweep-tamil\" target=\"_blank\">https://wandb.ai/akceg/cs6910-assignment3-sweep-tamil</a><br/>\n",
              "                Sweep page: <a href=\"https://wandb.ai/akceg/cs6910-assignment3-sweep-tamil/sweeps/h1onqta3\" target=\"_blank\">https://wandb.ai/akceg/cs6910-assignment3-sweep-tamil/sweeps/h1onqta3</a><br/>\n",
              "Run page: <a href=\"https://wandb.ai/akceg/cs6910-assignment3-sweep-tamil/runs/jk4vqzqt\" target=\"_blank\">https://wandb.ai/akceg/cs6910-assignment3-sweep-tamil/runs/jk4vqzqt</a><br/>\n",
              "                Run data is saved locally in <code>/content/wandb/run-20210512_093127-jk4vqzqt</code><br/><br/>\n",
              "            "
            ],
            "text/plain": [
              "<IPython.core.display.HTML object>"
            ]
          },
          "metadata": {
            "tags": []
          }
        },
        {
          "output_type": "stream",
          "text": [
            "Epoch 1/30\n",
            "1066/1066 [==============================] - 17s 12ms/step - loss: 1.1933 - accuracy: 0.7096\n",
            "Epoch 2/30\n",
            "1066/1066 [==============================] - 13s 12ms/step - loss: 0.7399 - accuracy: 0.7808\n",
            "Epoch 3/30\n",
            "1066/1066 [==============================] - 12s 12ms/step - loss: 0.6550 - accuracy: 0.8082\n",
            "Epoch 4/30\n",
            "1066/1066 [==============================] - 13s 12ms/step - loss: 0.5819 - accuracy: 0.8314\n",
            "Epoch 5/30\n",
            "1066/1066 [==============================] - 13s 12ms/step - loss: 0.5364 - accuracy: 0.8439\n",
            "Epoch 6/30\n",
            "1066/1066 [==============================] - 13s 12ms/step - loss: 0.4962 - accuracy: 0.8550\n",
            "Epoch 7/30\n",
            "1066/1066 [==============================] - 13s 12ms/step - loss: 0.4620 - accuracy: 0.8647\n",
            "Epoch 8/30\n",
            "1066/1066 [==============================] - 13s 12ms/step - loss: 0.4275 - accuracy: 0.8745\n",
            "Epoch 9/30\n",
            "1066/1066 [==============================] - 13s 12ms/step - loss: 0.4005 - accuracy: 0.8827\n",
            "Epoch 10/30\n",
            "1066/1066 [==============================] - 13s 12ms/step - loss: 0.3803 - accuracy: 0.8889\n",
            "Epoch 11/30\n",
            "1066/1066 [==============================] - 13s 12ms/step - loss: 0.3640 - accuracy: 0.8936\n",
            "Epoch 12/30\n",
            "1066/1066 [==============================] - 13s 12ms/step - loss: 0.3490 - accuracy: 0.8975\n",
            "Epoch 13/30\n",
            "1066/1066 [==============================] - 13s 12ms/step - loss: 0.3396 - accuracy: 0.9004\n",
            "Epoch 14/30\n",
            "1066/1066 [==============================] - 13s 12ms/step - loss: 0.3291 - accuracy: 0.9036\n",
            "Epoch 15/30\n",
            "1066/1066 [==============================] - 13s 12ms/step - loss: 0.3219 - accuracy: 0.9059\n",
            "Epoch 16/30\n",
            "1066/1066 [==============================] - 13s 12ms/step - loss: 0.3149 - accuracy: 0.9080\n",
            "Epoch 17/30\n",
            "1066/1066 [==============================] - 13s 12ms/step - loss: 0.3086 - accuracy: 0.9098\n",
            "Epoch 18/30\n",
            "1066/1066 [==============================] - 13s 12ms/step - loss: 0.3012 - accuracy: 0.9120\n",
            "Epoch 19/30\n",
            "1066/1066 [==============================] - 13s 12ms/step - loss: 0.2970 - accuracy: 0.9133\n",
            "Epoch 20/30\n",
            "1066/1066 [==============================] - 13s 12ms/step - loss: 0.2896 - accuracy: 0.9154\n",
            "Epoch 21/30\n",
            "1066/1066 [==============================] - 13s 12ms/step - loss: 0.2864 - accuracy: 0.9166\n",
            "Epoch 22/30\n",
            "1066/1066 [==============================] - 13s 12ms/step - loss: 0.2821 - accuracy: 0.9179\n",
            "Epoch 23/30\n",
            "1066/1066 [==============================] - 13s 12ms/step - loss: 0.2784 - accuracy: 0.9191\n",
            "Epoch 24/30\n",
            "1066/1066 [==============================] - 13s 12ms/step - loss: 0.2742 - accuracy: 0.9203\n",
            "Epoch 25/30\n",
            "1066/1066 [==============================] - 13s 12ms/step - loss: 0.2712 - accuracy: 0.9215\n",
            "Epoch 26/30\n",
            "1066/1066 [==============================] - 13s 12ms/step - loss: 0.2692 - accuracy: 0.9220\n",
            "Epoch 27/30\n",
            "1066/1066 [==============================] - 13s 12ms/step - loss: 0.2651 - accuracy: 0.9236\n",
            "Epoch 28/30\n",
            "1066/1066 [==============================] - 13s 12ms/step - loss: 0.2632 - accuracy: 0.9240\n",
            "Epoch 29/30\n",
            "1066/1066 [==============================] - 12s 12ms/step - loss: 0.2591 - accuracy: 0.9252\n",
            "Epoch 30/30\n",
            "1066/1066 [==============================] - 13s 12ms/step - loss: 0.2589 - accuracy: 0.9255\n"
          ],
          "name": "stdout"
        },
        {
          "output_type": "display_data",
          "data": {
            "text/html": [
              "<br/>Waiting for W&B process to finish, PID 3516496<br/>Program ended successfully."
            ],
            "text/plain": [
              "<IPython.core.display.HTML object>"
            ]
          },
          "metadata": {
            "tags": []
          }
        },
        {
          "output_type": "display_data",
          "data": {
            "application/vnd.jupyter.widget-view+json": {
              "model_id": "fd63fa83dce849c2ac85ee23054824cd",
              "version_minor": 0,
              "version_major": 2
            },
            "text/plain": [
              "VBox(children=(Label(value=' 0.00MB of 0.00MB uploaded (0.00MB deduped)\\r'), FloatProgress(value=1.0, max=1.0)…"
            ]
          },
          "metadata": {
            "tags": []
          }
        },
        {
          "output_type": "display_data",
          "data": {
            "text/html": [
              "Find user logs for this run at: <code>/content/wandb/run-20210512_093127-jk4vqzqt/logs/debug.log</code>"
            ],
            "text/plain": [
              "<IPython.core.display.HTML object>"
            ]
          },
          "metadata": {
            "tags": []
          }
        },
        {
          "output_type": "display_data",
          "data": {
            "text/html": [
              "Find internal logs for this run at: <code>/content/wandb/run-20210512_093127-jk4vqzqt/logs/debug-internal.log</code>"
            ],
            "text/plain": [
              "<IPython.core.display.HTML object>"
            ]
          },
          "metadata": {
            "tags": []
          }
        },
        {
          "output_type": "display_data",
          "data": {
            "text/html": [
              "<h3>Run summary:</h3><br/><style>\n",
              "    table.wandb td:nth-child(1) { padding: 0 10px; text-align: right }\n",
              "    </style><table class=\"wandb\">\n",
              "<tr><td>epoch</td><td>29</td></tr><tr><td>loss</td><td>0.25735</td></tr><tr><td>accuracy</td><td>0.92591</td></tr><tr><td>_runtime</td><td>3975</td></tr><tr><td>_timestamp</td><td>1620815862</td></tr><tr><td>_step</td><td>30</td></tr><tr><td>val_accuracy</td><td>11.1046</td></tr></table>"
            ],
            "text/plain": [
              "<IPython.core.display.HTML object>"
            ]
          },
          "metadata": {
            "tags": []
          }
        },
        {
          "output_type": "display_data",
          "data": {
            "text/html": [
              "<h3>Run history:</h3><br/><style>\n",
              "    table.wandb td:nth-child(1) { padding: 0 10px; text-align: right }\n",
              "    </style><table class=\"wandb\">\n",
              "<tr><td>epoch</td><td>▁▁▁▂▂▂▂▃▃▃▃▄▄▄▄▅▅▅▅▆▆▆▆▇▇▇▇███</td></tr><tr><td>loss</td><td>█▆▅▄▄▃▃▃▂▂▂▂▂▂▂▂▁▁▁▁▁▁▁▁▁▁▁▁▁▁</td></tr><tr><td>accuracy</td><td>▁▃▄▄▅▅▆▆▆▇▇▇▇▇▇▇▇▇████████████</td></tr><tr><td>_runtime</td><td>▁▁▁▁▁▁▁▁▁▁▁▁▁▁▁▁▁▁▁▁▁▁▂▂▂▂▂▂▂▂█</td></tr><tr><td>_timestamp</td><td>▁▁▁▁▁▁▁▁▁▁▁▁▁▁▁▁▁▁▁▁▁▁▂▂▂▂▂▂▂▂█</td></tr><tr><td>_step</td><td>▁▁▁▂▂▂▂▃▃▃▃▄▄▄▄▅▅▅▅▅▆▆▆▆▇▇▇▇███</td></tr><tr><td>val_accuracy</td><td>▁</td></tr></table><br/>"
            ],
            "text/plain": [
              "<IPython.core.display.HTML object>"
            ]
          },
          "metadata": {
            "tags": []
          }
        },
        {
          "output_type": "display_data",
          "data": {
            "text/html": [
              "Synced 5 W&B file(s), 1 media file(s), 0 artifact file(s) and 0 other file(s)"
            ],
            "text/plain": [
              "<IPython.core.display.HTML object>"
            ]
          },
          "metadata": {
            "tags": []
          }
        },
        {
          "output_type": "display_data",
          "data": {
            "text/html": [
              "\n",
              "                    <br/>Synced <strong style=\"color:#cdcd00\">kind-sweep-122</strong>: <a href=\"https://wandb.ai/akceg/cs6910-assignment3-sweep-tamil/runs/jk4vqzqt\" target=\"_blank\">https://wandb.ai/akceg/cs6910-assignment3-sweep-tamil/runs/jk4vqzqt</a><br/>\n",
              "                "
            ],
            "text/plain": [
              "<IPython.core.display.HTML object>"
            ]
          },
          "metadata": {
            "tags": []
          }
        },
        {
          "output_type": "stream",
          "text": [
            "\u001b[34m\u001b[1mwandb\u001b[0m: Agent Starting Run: jwwohpw4 with config:\n",
            "\u001b[34m\u001b[1mwandb\u001b[0m: \tcell_type: lstm\n",
            "\u001b[34m\u001b[1mwandb\u001b[0m: \tdropout: 0.4\n",
            "\u001b[34m\u001b[1mwandb\u001b[0m: \tembedding_size: 256\n",
            "\u001b[34m\u001b[1mwandb\u001b[0m: \tepochs: 30\n",
            "\u001b[34m\u001b[1mwandb\u001b[0m: \tlatent_dimension: 512\n",
            "\u001b[34m\u001b[1mwandb\u001b[0m: \tn_decoder_layers: 2\n",
            "\u001b[34m\u001b[1mwandb\u001b[0m: \tn_encoder_layers: 3\n"
          ],
          "name": "stderr"
        },
        {
          "output_type": "display_data",
          "data": {
            "text/html": [
              "\n",
              "                Tracking run with wandb version 0.10.30<br/>\n",
              "                Syncing run <strong style=\"color:#cdcd00\">twilight-sweep-123</strong> to <a href=\"https://wandb.ai\" target=\"_blank\">Weights & Biases</a> <a href=\"https://docs.wandb.com/integrations/jupyter.html\" target=\"_blank\">(Documentation)</a>.<br/>\n",
              "                Project page: <a href=\"https://wandb.ai/akceg/cs6910-assignment3-sweep-tamil\" target=\"_blank\">https://wandb.ai/akceg/cs6910-assignment3-sweep-tamil</a><br/>\n",
              "                Sweep page: <a href=\"https://wandb.ai/akceg/cs6910-assignment3-sweep-tamil/sweeps/h1onqta3\" target=\"_blank\">https://wandb.ai/akceg/cs6910-assignment3-sweep-tamil/sweeps/h1onqta3</a><br/>\n",
              "Run page: <a href=\"https://wandb.ai/akceg/cs6910-assignment3-sweep-tamil/runs/jwwohpw4\" target=\"_blank\">https://wandb.ai/akceg/cs6910-assignment3-sweep-tamil/runs/jwwohpw4</a><br/>\n",
              "                Run data is saved locally in <code>/content/wandb/run-20210512_103748-jwwohpw4</code><br/><br/>\n",
              "            "
            ],
            "text/plain": [
              "<IPython.core.display.HTML object>"
            ]
          },
          "metadata": {
            "tags": []
          }
        },
        {
          "output_type": "stream",
          "text": [
            "Epoch 1/30\n",
            "1066/1066 [==============================] - 55s 45ms/step - loss: 0.9536 - accuracy: 0.7443\n",
            "Epoch 2/30\n",
            "1066/1066 [==============================] - 48s 45ms/step - loss: 0.4706 - accuracy: 0.8551\n",
            "Epoch 3/30\n",
            "1066/1066 [==============================] - 48s 45ms/step - loss: 0.3093 - accuracy: 0.9036\n",
            "Epoch 4/30\n",
            "1066/1066 [==============================] - 48s 45ms/step - loss: 0.1801 - accuracy: 0.9457\n",
            "Epoch 5/30\n",
            "1066/1066 [==============================] - 48s 45ms/step - loss: 0.1040 - accuracy: 0.9697\n",
            "Epoch 6/30\n",
            "1066/1066 [==============================] - 49s 46ms/step - loss: 0.0696 - accuracy: 0.9799\n",
            "Epoch 7/30\n",
            "1066/1066 [==============================] - 48s 45ms/step - loss: 0.0503 - accuracy: 0.9853\n",
            "Epoch 8/30\n",
            "1066/1066 [==============================] - 48s 45ms/step - loss: 0.0392 - accuracy: 0.9885\n",
            "Epoch 9/30\n",
            "1066/1066 [==============================] - 49s 46ms/step - loss: 0.0321 - accuracy: 0.9905\n",
            "Epoch 10/30\n",
            "1066/1066 [==============================] - 48s 45ms/step - loss: 0.0275 - accuracy: 0.9917\n",
            "Epoch 11/30\n",
            "1066/1066 [==============================] - 49s 46ms/step - loss: 0.0244 - accuracy: 0.9927\n",
            "Epoch 12/30\n",
            "1066/1066 [==============================] - 48s 45ms/step - loss: 0.0220 - accuracy: 0.9933\n",
            "Epoch 13/30\n",
            "1066/1066 [==============================] - 48s 45ms/step - loss: 0.0195 - accuracy: 0.9942\n",
            "Epoch 14/30\n",
            "1066/1066 [==============================] - 48s 45ms/step - loss: 0.0186 - accuracy: 0.9943\n",
            "Epoch 15/30\n",
            "1066/1066 [==============================] - 48s 45ms/step - loss: 0.0176 - accuracy: 0.9947\n",
            "Epoch 16/30\n",
            "1066/1066 [==============================] - 48s 45ms/step - loss: 0.0163 - accuracy: 0.9950\n",
            "Epoch 17/30\n",
            "1066/1066 [==============================] - 48s 45ms/step - loss: 0.0158 - accuracy: 0.9952\n",
            "Epoch 18/30\n",
            "1066/1066 [==============================] - 48s 45ms/step - loss: 0.0151 - accuracy: 0.9954\n",
            "Epoch 19/30\n",
            "1066/1066 [==============================] - 48s 45ms/step - loss: 0.0143 - accuracy: 0.9956\n",
            "Epoch 20/30\n",
            "1066/1066 [==============================] - 48s 45ms/step - loss: 0.0138 - accuracy: 0.9957\n",
            "Epoch 21/30\n",
            "1066/1066 [==============================] - 48s 45ms/step - loss: 0.0136 - accuracy: 0.9959\n",
            "Epoch 22/30\n",
            "1066/1066 [==============================] - 47s 45ms/step - loss: 0.0129 - accuracy: 0.9960\n",
            "Epoch 23/30\n",
            "1066/1066 [==============================] - 47s 44ms/step - loss: 0.0129 - accuracy: 0.9960\n",
            "Epoch 24/30\n",
            "1066/1066 [==============================] - 47s 44ms/step - loss: 0.0127 - accuracy: 0.9961\n",
            "Epoch 25/30\n",
            "1066/1066 [==============================] - 48s 45ms/step - loss: 0.0123 - accuracy: 0.9961\n",
            "Epoch 26/30\n",
            "1066/1066 [==============================] - 47s 44ms/step - loss: 0.0120 - accuracy: 0.9963\n",
            "Epoch 27/30\n",
            "1066/1066 [==============================] - 47s 44ms/step - loss: 0.0119 - accuracy: 0.9962\n",
            "Epoch 28/30\n",
            "1066/1066 [==============================] - 47s 44ms/step - loss: 0.0118 - accuracy: 0.9963\n",
            "Epoch 29/30\n",
            "1066/1066 [==============================] - 47s 44ms/step - loss: 0.0112 - accuracy: 0.9965\n",
            "Epoch 30/30\n",
            "1066/1066 [==============================] - 48s 45ms/step - loss: 0.0112 - accuracy: 0.9966\n"
          ],
          "name": "stdout"
        },
        {
          "output_type": "display_data",
          "data": {
            "text/html": [
              "<br/>Waiting for W&B process to finish, PID 3739660<br/>Program ended successfully."
            ],
            "text/plain": [
              "<IPython.core.display.HTML object>"
            ]
          },
          "metadata": {
            "tags": []
          }
        },
        {
          "output_type": "display_data",
          "data": {
            "application/vnd.jupyter.widget-view+json": {
              "model_id": "54115bfcf4d349169f3fc6a0c084c7f9",
              "version_minor": 0,
              "version_major": 2
            },
            "text/plain": [
              "VBox(children=(Label(value=' 0.00MB of 0.00MB uploaded (0.00MB deduped)\\r'), FloatProgress(value=1.0, max=1.0)…"
            ]
          },
          "metadata": {
            "tags": []
          }
        },
        {
          "output_type": "display_data",
          "data": {
            "text/html": [
              "Find user logs for this run at: <code>/content/wandb/run-20210512_103748-jwwohpw4/logs/debug.log</code>"
            ],
            "text/plain": [
              "<IPython.core.display.HTML object>"
            ]
          },
          "metadata": {
            "tags": []
          }
        },
        {
          "output_type": "display_data",
          "data": {
            "text/html": [
              "Find internal logs for this run at: <code>/content/wandb/run-20210512_103748-jwwohpw4/logs/debug-internal.log</code>"
            ],
            "text/plain": [
              "<IPython.core.display.HTML object>"
            ]
          },
          "metadata": {
            "tags": []
          }
        },
        {
          "output_type": "display_data",
          "data": {
            "text/html": [
              "<h3>Run summary:</h3><br/><style>\n",
              "    table.wandb td:nth-child(1) { padding: 0 10px; text-align: right }\n",
              "    </style><table class=\"wandb\">\n",
              "<tr><td>epoch</td><td>29</td></tr><tr><td>loss</td><td>0.01205</td></tr><tr><td>accuracy</td><td>0.9963</td></tr><tr><td>_runtime</td><td>4733</td></tr><tr><td>_timestamp</td><td>1620820601</td></tr><tr><td>_step</td><td>30</td></tr><tr><td>val_accuracy</td><td>39.37885</td></tr></table>"
            ],
            "text/plain": [
              "<IPython.core.display.HTML object>"
            ]
          },
          "metadata": {
            "tags": []
          }
        },
        {
          "output_type": "display_data",
          "data": {
            "text/html": [
              "<h3>Run history:</h3><br/><style>\n",
              "    table.wandb td:nth-child(1) { padding: 0 10px; text-align: right }\n",
              "    </style><table class=\"wandb\">\n",
              "<tr><td>epoch</td><td>▁▁▁▂▂▂▂▃▃▃▃▄▄▄▄▅▅▅▅▆▆▆▆▇▇▇▇███</td></tr><tr><td>loss</td><td>█▅▄▃▂▂▁▁▁▁▁▁▁▁▁▁▁▁▁▁▁▁▁▁▁▁▁▁▁▁</td></tr><tr><td>accuracy</td><td>▁▄▅▆▇▇████████████████████████</td></tr><tr><td>_runtime</td><td>▁▁▁▁▁▁▁▂▂▂▂▂▂▂▂▂▂▂▂▂▂▃▃▃▃▃▃▃▃▃█</td></tr><tr><td>_timestamp</td><td>▁▁▁▁▁▁▁▂▂▂▂▂▂▂▂▂▂▂▂▂▂▃▃▃▃▃▃▃▃▃█</td></tr><tr><td>_step</td><td>▁▁▁▂▂▂▂▃▃▃▃▄▄▄▄▅▅▅▅▅▆▆▆▆▇▇▇▇███</td></tr><tr><td>val_accuracy</td><td>▁</td></tr></table><br/>"
            ],
            "text/plain": [
              "<IPython.core.display.HTML object>"
            ]
          },
          "metadata": {
            "tags": []
          }
        },
        {
          "output_type": "display_data",
          "data": {
            "text/html": [
              "Synced 5 W&B file(s), 1 media file(s), 0 artifact file(s) and 0 other file(s)"
            ],
            "text/plain": [
              "<IPython.core.display.HTML object>"
            ]
          },
          "metadata": {
            "tags": []
          }
        },
        {
          "output_type": "display_data",
          "data": {
            "text/html": [
              "\n",
              "                    <br/>Synced <strong style=\"color:#cdcd00\">twilight-sweep-123</strong>: <a href=\"https://wandb.ai/akceg/cs6910-assignment3-sweep-tamil/runs/jwwohpw4\" target=\"_blank\">https://wandb.ai/akceg/cs6910-assignment3-sweep-tamil/runs/jwwohpw4</a><br/>\n",
              "                "
            ],
            "text/plain": [
              "<IPython.core.display.HTML object>"
            ]
          },
          "metadata": {
            "tags": []
          }
        },
        {
          "output_type": "stream",
          "text": [
            "\u001b[34m\u001b[1mwandb\u001b[0m: Agent Starting Run: p7bbego1 with config:\n",
            "\u001b[34m\u001b[1mwandb\u001b[0m: \tcell_type: rnn\n",
            "\u001b[34m\u001b[1mwandb\u001b[0m: \tdropout: 0.5\n",
            "\u001b[34m\u001b[1mwandb\u001b[0m: \tembedding_size: 128\n",
            "\u001b[34m\u001b[1mwandb\u001b[0m: \tepochs: 30\n",
            "\u001b[34m\u001b[1mwandb\u001b[0m: \tlatent_dimension: 64\n",
            "\u001b[34m\u001b[1mwandb\u001b[0m: \tn_decoder_layers: 2\n",
            "\u001b[34m\u001b[1mwandb\u001b[0m: \tn_encoder_layers: 2\n"
          ],
          "name": "stderr"
        },
        {
          "output_type": "display_data",
          "data": {
            "text/html": [
              "\n",
              "                Tracking run with wandb version 0.10.30<br/>\n",
              "                Syncing run <strong style=\"color:#cdcd00\">breezy-sweep-124</strong> to <a href=\"https://wandb.ai\" target=\"_blank\">Weights & Biases</a> <a href=\"https://docs.wandb.com/integrations/jupyter.html\" target=\"_blank\">(Documentation)</a>.<br/>\n",
              "                Project page: <a href=\"https://wandb.ai/akceg/cs6910-assignment3-sweep-tamil\" target=\"_blank\">https://wandb.ai/akceg/cs6910-assignment3-sweep-tamil</a><br/>\n",
              "                Sweep page: <a href=\"https://wandb.ai/akceg/cs6910-assignment3-sweep-tamil/sweeps/h1onqta3\" target=\"_blank\">https://wandb.ai/akceg/cs6910-assignment3-sweep-tamil/sweeps/h1onqta3</a><br/>\n",
              "Run page: <a href=\"https://wandb.ai/akceg/cs6910-assignment3-sweep-tamil/runs/p7bbego1\" target=\"_blank\">https://wandb.ai/akceg/cs6910-assignment3-sweep-tamil/runs/p7bbego1</a><br/>\n",
              "                Run data is saved locally in <code>/content/wandb/run-20210512_115647-p7bbego1</code><br/><br/>\n",
              "            "
            ],
            "text/plain": [
              "<IPython.core.display.HTML object>"
            ]
          },
          "metadata": {
            "tags": []
          }
        },
        {
          "output_type": "stream",
          "text": [
            "Epoch 1/30\n",
            "1066/1066 [==============================] - 112s 103ms/step - loss: 0.9970 - accuracy: 0.7386\n",
            "Epoch 2/30\n",
            "1066/1066 [==============================] - 107s 100ms/step - loss: 0.6403 - accuracy: 0.8154\n",
            "Epoch 3/30\n",
            "1066/1066 [==============================] - 111s 104ms/step - loss: 0.5961 - accuracy: 0.8276\n",
            "Epoch 4/30\n",
            "1066/1066 [==============================] - 109s 103ms/step - loss: 0.5702 - accuracy: 0.8346\n",
            "Epoch 5/30\n",
            "1066/1066 [==============================] - 109s 102ms/step - loss: 0.5547 - accuracy: 0.8385\n",
            "Epoch 6/30\n",
            "1066/1066 [==============================] - 103s 97ms/step - loss: 0.5425 - accuracy: 0.8417\n",
            "Epoch 7/30\n",
            "1066/1066 [==============================] - 109s 102ms/step - loss: 0.5331 - accuracy: 0.8441\n",
            "Epoch 8/30\n",
            "1066/1066 [==============================] - 109s 102ms/step - loss: 0.5235 - accuracy: 0.8468\n",
            "Epoch 9/30\n",
            "1066/1066 [==============================] - 103s 96ms/step - loss: 0.5173 - accuracy: 0.8484\n",
            "Epoch 10/30\n",
            "1066/1066 [==============================] - 109s 103ms/step - loss: 0.5113 - accuracy: 0.8500\n",
            "Epoch 11/30\n",
            "1066/1066 [==============================] - 111s 104ms/step - loss: 0.5054 - accuracy: 0.8518\n",
            "Epoch 12/30\n",
            "1066/1066 [==============================] - 106s 99ms/step - loss: 0.5006 - accuracy: 0.8529\n",
            "Epoch 13/30\n",
            "1066/1066 [==============================] - 112s 105ms/step - loss: 0.4980 - accuracy: 0.8538\n",
            "Epoch 14/30\n",
            " 313/1066 [=======>......................] - ETA: 1:19 - loss: 0.4942 - accuracy: 0.8548"
          ],
          "name": "stdout"
        },
        {
          "output_type": "stream",
          "text": [
            "\u001b[34m\u001b[1mwandb\u001b[0m: Ctrl + C detected. Stopping sweep.\n"
          ],
          "name": "stderr"
        }
      ]
    }
  ]
}