{
  "nbformat": 4,
  "nbformat_minor": 0,
  "metadata": {
    "colab": {
      "name": "attentionModel.ipynb",
      "provenance": [],
      "collapsed_sections": []
    },
    "kernelspec": {
      "name": "python3",
      "display_name": "Python 3"
    },
    "language_info": {
      "name": "python"
    },
    "accelerator": "GPU",
    "widgets": {
      "application/vnd.jupyter.widget-state+json": {
        "5c48e576341a4a8690480bfae8e6adf4": {
          "model_module": "@jupyter-widgets/controls",
          "model_name": "VBoxModel",
          "state": {
            "_view_name": "VBoxView",
            "_dom_classes": [],
            "_model_name": "VBoxModel",
            "_view_module": "@jupyter-widgets/controls",
            "_model_module_version": "1.5.0",
            "_view_count": null,
            "_view_module_version": "1.5.0",
            "box_style": "",
            "layout": "IPY_MODEL_3d127bcfddf242a5bf0825d5c548b905",
            "_model_module": "@jupyter-widgets/controls",
            "children": [
              "IPY_MODEL_d738f27929d742db94a921ab4bc99389",
              "IPY_MODEL_a2ff844284a743c19ef4b29202f28df0"
            ]
          }
        },
        "3d127bcfddf242a5bf0825d5c548b905": {
          "model_module": "@jupyter-widgets/base",
          "model_name": "LayoutModel",
          "state": {
            "_view_name": "LayoutView",
            "grid_template_rows": null,
            "right": null,
            "justify_content": null,
            "_view_module": "@jupyter-widgets/base",
            "overflow": null,
            "_model_module_version": "1.2.0",
            "_view_count": null,
            "flex_flow": null,
            "width": null,
            "min_width": null,
            "border": null,
            "align_items": null,
            "bottom": null,
            "_model_module": "@jupyter-widgets/base",
            "top": null,
            "grid_column": null,
            "overflow_y": null,
            "overflow_x": null,
            "grid_auto_flow": null,
            "grid_area": null,
            "grid_template_columns": null,
            "flex": null,
            "_model_name": "LayoutModel",
            "justify_items": null,
            "grid_row": null,
            "max_height": null,
            "align_content": null,
            "visibility": null,
            "align_self": null,
            "height": null,
            "min_height": null,
            "padding": null,
            "grid_auto_rows": null,
            "grid_gap": null,
            "max_width": null,
            "order": null,
            "_view_module_version": "1.2.0",
            "grid_template_areas": null,
            "object_position": null,
            "object_fit": null,
            "grid_auto_columns": null,
            "margin": null,
            "display": null,
            "left": null
          }
        },
        "d738f27929d742db94a921ab4bc99389": {
          "model_module": "@jupyter-widgets/controls",
          "model_name": "LabelModel",
          "state": {
            "_view_name": "LabelView",
            "style": "IPY_MODEL_20acf27133fc4d9cad8063612ad1b493",
            "_dom_classes": [],
            "description": "",
            "_model_name": "LabelModel",
            "placeholder": "​",
            "_view_module": "@jupyter-widgets/controls",
            "_model_module_version": "1.5.0",
            "value": " 0.01MB of 0.01MB uploaded (0.00MB deduped)\r",
            "_view_count": null,
            "_view_module_version": "1.5.0",
            "description_tooltip": null,
            "_model_module": "@jupyter-widgets/controls",
            "layout": "IPY_MODEL_61d548ae8ba94952917fba1fde64ed4a"
          }
        },
        "a2ff844284a743c19ef4b29202f28df0": {
          "model_module": "@jupyter-widgets/controls",
          "model_name": "FloatProgressModel",
          "state": {
            "_view_name": "ProgressView",
            "style": "IPY_MODEL_a2c2960c62a44bab819fffc3999f4a7c",
            "_dom_classes": [],
            "description": "",
            "_model_name": "FloatProgressModel",
            "bar_style": "",
            "max": 1,
            "_view_module": "@jupyter-widgets/controls",
            "_model_module_version": "1.5.0",
            "value": 1,
            "_view_count": null,
            "_view_module_version": "1.5.0",
            "orientation": "horizontal",
            "min": 0,
            "description_tooltip": null,
            "_model_module": "@jupyter-widgets/controls",
            "layout": "IPY_MODEL_cd58a50dbadc4a9bae121414dd8816df"
          }
        },
        "20acf27133fc4d9cad8063612ad1b493": {
          "model_module": "@jupyter-widgets/controls",
          "model_name": "DescriptionStyleModel",
          "state": {
            "_view_name": "StyleView",
            "_model_name": "DescriptionStyleModel",
            "description_width": "",
            "_view_module": "@jupyter-widgets/base",
            "_model_module_version": "1.5.0",
            "_view_count": null,
            "_view_module_version": "1.2.0",
            "_model_module": "@jupyter-widgets/controls"
          }
        },
        "61d548ae8ba94952917fba1fde64ed4a": {
          "model_module": "@jupyter-widgets/base",
          "model_name": "LayoutModel",
          "state": {
            "_view_name": "LayoutView",
            "grid_template_rows": null,
            "right": null,
            "justify_content": null,
            "_view_module": "@jupyter-widgets/base",
            "overflow": null,
            "_model_module_version": "1.2.0",
            "_view_count": null,
            "flex_flow": null,
            "width": null,
            "min_width": null,
            "border": null,
            "align_items": null,
            "bottom": null,
            "_model_module": "@jupyter-widgets/base",
            "top": null,
            "grid_column": null,
            "overflow_y": null,
            "overflow_x": null,
            "grid_auto_flow": null,
            "grid_area": null,
            "grid_template_columns": null,
            "flex": null,
            "_model_name": "LayoutModel",
            "justify_items": null,
            "grid_row": null,
            "max_height": null,
            "align_content": null,
            "visibility": null,
            "align_self": null,
            "height": null,
            "min_height": null,
            "padding": null,
            "grid_auto_rows": null,
            "grid_gap": null,
            "max_width": null,
            "order": null,
            "_view_module_version": "1.2.0",
            "grid_template_areas": null,
            "object_position": null,
            "object_fit": null,
            "grid_auto_columns": null,
            "margin": null,
            "display": null,
            "left": null
          }
        },
        "a2c2960c62a44bab819fffc3999f4a7c": {
          "model_module": "@jupyter-widgets/controls",
          "model_name": "ProgressStyleModel",
          "state": {
            "_view_name": "StyleView",
            "_model_name": "ProgressStyleModel",
            "description_width": "",
            "_view_module": "@jupyter-widgets/base",
            "_model_module_version": "1.5.0",
            "_view_count": null,
            "_view_module_version": "1.2.0",
            "bar_color": null,
            "_model_module": "@jupyter-widgets/controls"
          }
        },
        "cd58a50dbadc4a9bae121414dd8816df": {
          "model_module": "@jupyter-widgets/base",
          "model_name": "LayoutModel",
          "state": {
            "_view_name": "LayoutView",
            "grid_template_rows": null,
            "right": null,
            "justify_content": null,
            "_view_module": "@jupyter-widgets/base",
            "overflow": null,
            "_model_module_version": "1.2.0",
            "_view_count": null,
            "flex_flow": null,
            "width": null,
            "min_width": null,
            "border": null,
            "align_items": null,
            "bottom": null,
            "_model_module": "@jupyter-widgets/base",
            "top": null,
            "grid_column": null,
            "overflow_y": null,
            "overflow_x": null,
            "grid_auto_flow": null,
            "grid_area": null,
            "grid_template_columns": null,
            "flex": null,
            "_model_name": "LayoutModel",
            "justify_items": null,
            "grid_row": null,
            "max_height": null,
            "align_content": null,
            "visibility": null,
            "align_self": null,
            "height": null,
            "min_height": null,
            "padding": null,
            "grid_auto_rows": null,
            "grid_gap": null,
            "max_width": null,
            "order": null,
            "_view_module_version": "1.2.0",
            "grid_template_areas": null,
            "object_position": null,
            "object_fit": null,
            "grid_auto_columns": null,
            "margin": null,
            "display": null,
            "left": null
          }
        }
      }
    }
  },
  "cells": [
    {
      "cell_type": "code",
      "metadata": {
        "id": "b_IBL5U8Uwex"
      },
      "source": [
        "#Reference : https://www.tensorflow.org/tutorials/text/nmt_with_attention\n",
        "#Please upload Nirmala.ttf file to view the heatmap correctly"
      ],
      "execution_count": 5,
      "outputs": []
    },
    {
      "cell_type": "code",
      "metadata": {
        "id": "LNqw3m0DT8pC"
      },
      "source": [
        "#importing the required libraries\n",
        "import tensorflow as tf\n",
        "\n",
        "import matplotlib.pyplot as plt\n",
        "\n",
        "import matplotlib.ticker as ticker\n",
        "import numpy as np\n",
        "from random import randrange \n",
        "from google.colab import files\n",
        "import pandas as pd\n"
      ],
      "execution_count": 6,
      "outputs": []
    },
    {
      "cell_type": "code",
      "metadata": {
        "id": "e_ijR1sS0QaP"
      },
      "source": [
        "#To plot heatmap with Indic languages as ticks\n",
        "from matplotlib.font_manager import FontProperties\n",
        "tamil_font = FontProperties(fname = 'Nirmala.ttf')"
      ],
      "execution_count": 7,
      "outputs": []
    },
    {
      "cell_type": "code",
      "metadata": {
        "colab": {
          "base_uri": "https://localhost:8080/"
        },
        "id": "n_nLbQioT-R5",
        "outputId": "82076b87-7f95-4366-da1b-16675ee6983d"
      },
      "source": [
        "#get the data set \n",
        "!wget https://storage.googleapis.com/gresearch/dakshina/dakshina_dataset_v1.0.tar\n",
        "!tar -xf 'dakshina_dataset_v1.0.tar'"
      ],
      "execution_count": 8,
      "outputs": [
        {
          "output_type": "stream",
          "text": [
            "--2021-05-23 12:23:13--  https://storage.googleapis.com/gresearch/dakshina/dakshina_dataset_v1.0.tar\n",
            "Resolving storage.googleapis.com (storage.googleapis.com)... 142.250.157.128, 74.125.23.128, 74.125.203.128, ...\n",
            "Connecting to storage.googleapis.com (storage.googleapis.com)|142.250.157.128|:443... connected.\n",
            "HTTP request sent, awaiting response... 200 OK\n",
            "Length: 2008340480 (1.9G) [application/x-tar]\n",
            "Saving to: ‘dakshina_dataset_v1.0.tar’\n",
            "\n",
            "dakshina_dataset_v1 100%[===================>]   1.87G  75.8MB/s    in 27s     \n",
            "\n",
            "2021-05-23 12:23:40 (70.6 MB/s) - ‘dakshina_dataset_v1.0.tar’ saved [2008340480/2008340480]\n",
            "\n"
          ],
          "name": "stdout"
        }
      ]
    },
    {
      "cell_type": "code",
      "metadata": {
        "id": "zVyRqtP2VLui"
      },
      "source": [
        "#setting the path to tamil dataset\n",
        "train_tamil_path = \"/content/dakshina_dataset_v1.0/ta/lexicons/ta.translit.sampled.train.tsv\"\n",
        "val_tamil_path=\"/content/dakshina_dataset_v1.0/ta/lexicons/ta.translit.sampled.dev.tsv\"\n",
        "test_tamil_path=\"/content/dakshina_dataset_v1.0/ta/lexicons/ta.translit.sampled.test.tsv\"\n",
        "\n"
      ],
      "execution_count": 9,
      "outputs": []
    },
    {
      "cell_type": "code",
      "metadata": {
        "id": "45HBFAfFrP6d"
      },
      "source": [
        "#function to create dataset from the path\n",
        "def create_dataset(path):\n",
        "  input_texts = []\n",
        "  target_texts = []\n",
        "  with open(path, \"r\", encoding=\"utf-8\") as f:\n",
        "    data_lines = f.read().split(\"\\n\")\n",
        "  data_lines.pop()\n",
        "\n",
        "#go through the data(can be train,val or test) lines and split them into 3 and save input and target \n",
        "  for line in data_lines[: (len(data_lines) - 1)]:\n",
        "    #because we want english to devanagiri conversion \n",
        "    target_text, input_text, _ = line.split(\"\\t\")\n",
        "    # We use \"tab\" as the \"start sequence\" character\n",
        "    # for the targets, and \"\\n\" as \"end sequence\" character.\n",
        "    target_text = \"\\t\" + target_text + \"\\n\"\n",
        "    input_text = \"\\t\" +input_text + \"\\n\"\n",
        "    #append it to the main input texts list\n",
        "    input_texts.append(input_text)\n",
        "    #append it to the main target texts list \n",
        "    target_texts.append(target_text)\n",
        "  \n",
        "  return (input_texts,target_texts)\n",
        "\n"
      ],
      "execution_count": 10,
      "outputs": []
    },
    {
      "cell_type": "code",
      "metadata": {
        "id": "gRRupvuIqbxa"
      },
      "source": [
        "#function to tokenize the data \n",
        "def tokenize(lang):\n",
        "  #setting char_level parameter as true because by default it is word tokenizer, but \n",
        "  #we want character tokenizer\n",
        "  lang_tokenizer = tf.keras.preprocessing.text.Tokenizer(char_level=True)\n",
        "  lang_tokenizer.fit_on_texts(lang)\n",
        "  tensor = lang_tokenizer.texts_to_sequences(lang)\n",
        "\n",
        "  tensor = tf.keras.preprocessing.sequence.pad_sequences(tensor,padding='post')\n",
        "\n",
        "  return tensor, lang_tokenizer"
      ],
      "execution_count": 11,
      "outputs": []
    },
    {
      "cell_type": "code",
      "metadata": {
        "id": "P11ytVCSs1MX"
      },
      "source": [
        "#function that uses create_dataset function and tokenize function together to finally get\n",
        "#the processed data \n",
        "def load_dataset(path):\n",
        "  # creating cleaned input, output pairs\n",
        "  inp_lang,targ_lang = create_dataset(path)\n",
        "\n",
        "  input_tensor, inp_lang_tokenizer = tokenize(inp_lang)\n",
        "  target_tensor, targ_lang_tokenizer = tokenize(targ_lang)\n",
        "\n",
        "  return input_tensor, target_tensor, inp_lang_tokenizer, targ_lang_tokenizer"
      ],
      "execution_count": 12,
      "outputs": []
    },
    {
      "cell_type": "code",
      "metadata": {
        "id": "LOZ3f1G5hBOm"
      },
      "source": [
        "#function to check the token mapping\n",
        "def convert(lang, tensor):\n",
        "  for t in tensor:\n",
        "    if t != 0:\n",
        "      #print(t)\n",
        "      print(f'{t} ----> {lang.index_word[t]}')\n"
      ],
      "execution_count": 13,
      "outputs": []
    },
    {
      "cell_type": "code",
      "metadata": {
        "id": "X5GPRzTpxtj9"
      },
      "source": [
        "#encoder class\n",
        "class Encoder(tf.keras.Model):\n",
        "  def __init__(self, vocab_size, embedding_dim, enc_units, batch_sz,cell_type,drop):\n",
        "    super(Encoder, self).__init__()\n",
        "    self.batch_sz = batch_sz\n",
        "    self.enc_units = enc_units\n",
        "    self.cell_type=cell_type\n",
        "    self.embedding = tf.keras.layers.Embedding(vocab_size, embedding_dim)\n",
        "    self.dropout=drop\n",
        "    if(cell_type=='lstm'):\n",
        "      self.cell = tf.keras.layers.LSTM(self.enc_units,\n",
        "                                   return_sequences=True,\n",
        "                                   return_state=True,\n",
        "                                   recurrent_initializer='glorot_uniform',dropout=self.dropout)\n",
        "    elif(cell_type=='gru'):\n",
        "      self.cell = tf.keras.layers.GRU(self.enc_units,\n",
        "                                   return_sequences=True,\n",
        "                                   return_state=True,\n",
        "                                   recurrent_initializer='glorot_uniform',dropout=self.dropout)\n",
        "    elif(cell_type=='rnn'):\n",
        "      self.cell = tf.keras.layers.SimpleRNN(self.enc_units,\n",
        "                                   return_sequences=True,\n",
        "                                   return_state=True,\n",
        "                                   recurrent_initializer='glorot_uniform',dropout=self.dropout)\n",
        "\n",
        "  def call(self, x): \n",
        "    x = self.embedding(x)\n",
        "    if(self.cell_type=='lstm'):\n",
        "      output, state_h,state_c = self.cell(x)\n",
        "      return output, state_h,[state_h,state_c]\n",
        "    elif(self.cell_type=='gru'):\n",
        "      output, state = self.cell(x)\n",
        "      return output, state,state\n",
        "    elif(self.cell_type=='rnn'):\n",
        "      output, state = self.cell(x)\n",
        "      return output, state,state\n"
      ],
      "execution_count": 14,
      "outputs": []
    },
    {
      "cell_type": "code",
      "metadata": {
        "id": "zboPlWfvx2Xu"
      },
      "source": [
        "#Class for attention layer using Bahdanau Style \n",
        "class BahdanauAttention(tf.keras.layers.Layer):\n",
        "  def __init__(self, units):\n",
        "    super(BahdanauAttention, self).__init__()\n",
        "    self.W1 = tf.keras.layers.Dense(units)\n",
        "    self.W2 = tf.keras.layers.Dense(units)\n",
        "    self.V = tf.keras.layers.Dense(1)\n",
        "\n",
        "  def call(self, query, values):\n",
        "    # query hidden state shape == (batch_size, hidden size)\n",
        "    # query_with_time_axis shape == (batch_size, 1, hidden size)\n",
        "    # values shape == (batch_size, max_len, hidden size)\n",
        "    # we are doing this to broadcast addition along the time axis to calculate the score\n",
        "    query_with_time_axis = tf.expand_dims(query, 1)\n",
        "\n",
        "    # score shape == (batch_size, max_length, 1)\n",
        "    # we get 1 at the last axis because we are applying score to self.V\n",
        "    # the shape of the tensor before applying self.V is (batch_size, max_length, units)\n",
        "    score = self.V(tf.nn.tanh(\n",
        "        self.W1(query_with_time_axis) + self.W2(values)))\n",
        "\n",
        "    # attention_weights shape == (batch_size, max_length, 1)\n",
        "    attention_weights = tf.nn.softmax(score, axis=1)\n",
        "\n",
        "    # context_vector shape after sum == (batch_size, hidden_size)\n",
        "    context_vector = attention_weights * values\n",
        "    context_vector = tf.reduce_sum(context_vector, axis=1)\n",
        "\n",
        "    return context_vector, attention_weights"
      ],
      "execution_count": 15,
      "outputs": []
    },
    {
      "cell_type": "code",
      "metadata": {
        "id": "8QoBz9u3x_Yb"
      },
      "source": [
        "#Class for Decoder\n",
        "class Decoder(tf.keras.Model):\n",
        "  def __init__(self, vocab_size, embedding_dim, dec_units, batch_sz,cell_type,drop):\n",
        "    super(Decoder, self).__init__()\n",
        "    self.cell_type=cell_type\n",
        "    self.batch_sz = batch_sz\n",
        "    self.dec_units = dec_units\n",
        "    self.embedding = tf.keras.layers.Embedding(vocab_size, embedding_dim)\n",
        "    self.dropout=drop\n",
        "    if(cell_type=='lstm'):\n",
        "      self.cell = tf.keras.layers.LSTM(self.dec_units,\n",
        "                                   return_sequences=True,\n",
        "                                   return_state=True,\n",
        "                                   recurrent_initializer='glorot_uniform',dropout=self.dropout)\n",
        "    elif(cell_type=='gru'):\n",
        "      self.cell = tf.keras.layers.GRU(self.dec_units,\n",
        "                                   return_sequences=True,\n",
        "                                   return_state=True,\n",
        "                                   recurrent_initializer='glorot_uniform',dropout=self.dropout)\n",
        "    elif(cell_type=='rnn'):\n",
        "      self.cell = tf.keras.layers.SimpleRNN(self.dec_units,\n",
        "                                   return_sequences=True,\n",
        "                                   return_state=True,\n",
        "                                   recurrent_initializer='glorot_uniform',dropout=self.dropout)\n",
        "\n",
        "\n",
        "    self.fc = tf.keras.layers.Dense(vocab_size)\n",
        "\n",
        "    # used for attention\n",
        "    self.attention = BahdanauAttention(self.dec_units)\n",
        "\n",
        "  def call(self, x, hidden, enc_output,states):\n",
        "    # enc_output shape == (batch_size, max_length, hidden_size)\n",
        "    context_vector, attention_weights = self.attention(hidden, enc_output)\n",
        "\n",
        "    # x shape after passing through embedding == (batch_size, 1, embedding_dim)\n",
        "    x = self.embedding(x)\n",
        "    \n",
        "\n",
        "    # x shape after concatenation == (batch_size, 1, embedding_dim + hidden_size)\n",
        "    x = tf.concat([tf.expand_dims(context_vector, 1), x], axis=-1)\n",
        "    if(self.cell_type=='lstm'):\n",
        "    # passing the concatenated vector to the GRU\n",
        "      output, state,state_c = self.cell(x,initial_state=states)\n",
        "\n",
        "    # output shape == (batch_size * 1, hidden_size)\n",
        "      output = tf.reshape(output, (-1, output.shape[2]))\n",
        "\n",
        "    # output shape == (batch_size, vocab)\n",
        "      x = self.fc(output)\n",
        "\n",
        "      return x, state,[state,state_c], attention_weights\n",
        "    elif(self.cell_type=='gru'):\n",
        "      output, state = self.cell(x,initial_state=states)\n",
        "\n",
        "    # output shape == (batch_size * 1, hidden_size)\n",
        "      output = tf.reshape(output, (-1, output.shape[2]))\n",
        "\n",
        "    # output shape == (batch_size, vocab)\n",
        "      x = self.fc(output)\n",
        "\n",
        "      return x, state, state, attention_weights\n",
        "    elif(self.cell_type=='rnn'):\n",
        "      output, state = self.cell(x,initial_state=states)\n",
        "\n",
        "    # output shape == (batch_size * 1, hidden_size)\n",
        "      output = tf.reshape(output, (-1, output.shape[2]))\n",
        "\n",
        "    # output shape == (batch_size, vocab)\n",
        "      x = self.fc(output)\n",
        "\n",
        "      return x, state, state, attention_weights"
      ],
      "execution_count": 16,
      "outputs": []
    },
    {
      "cell_type": "code",
      "metadata": {
        "id": "p0YwDUuryDFt"
      },
      "source": [
        "#define optimizer and loss function\n",
        "optimizer = tf.keras.optimizers.Adam()\n",
        "loss_object = tf.keras.losses.SparseCategoricalCrossentropy(from_logits=True,\n",
        "                                                            reduction='none')\n",
        "\n",
        "\n",
        "def loss_function(real, pred):\n",
        "  mask = tf.math.logical_not(tf.math.equal(real, 0))\n",
        "  loss_ = loss_object(real, pred)\n",
        "\n",
        "  mask = tf.cast(mask, dtype=loss_.dtype)\n",
        "  loss_ *= mask\n",
        "\n",
        "  return tf.reduce_mean(loss_)\n"
      ],
      "execution_count": 17,
      "outputs": []
    },
    {
      "cell_type": "code",
      "metadata": {
        "id": "cJhG2amH7x3f"
      },
      "source": [
        "#Train function \n",
        "@tf.function\n",
        "def train_step(inp, targ):\n",
        "    loss = 0\n",
        "    #print(type(encoder))\n",
        "    with tf.GradientTape() as tape:\n",
        "      enc_output, enc_hidden,states = encoder(inp)\n",
        "      dec_hidden = enc_hidden\n",
        "\n",
        "      dec_input = tf.expand_dims([targ_lang.word_index['\\t']] * batchSize, 1)\n",
        "\n",
        "    # Teacher forcing - feeding the target as the next input\n",
        "      for t in range(1, targ.shape[1]):\n",
        "      # passing enc_output to the decoder\n",
        "        predictions, dec_hidden, states,_ = decoder(dec_input, dec_hidden, enc_output,states)\n",
        "      #states=[dec_hidden,enc_c]\n",
        "        loss += loss_function(targ[:, t], predictions)\n",
        "\n",
        "      # using teacher forcing\n",
        "        dec_input = tf.expand_dims(targ[:, t], 1)\n",
        "\n",
        "    batch_loss = (loss / int(targ.shape[1]))\n",
        "\n",
        "    variables = encoder.trainable_variables + decoder.trainable_variables\n",
        "\n",
        "    gradients = tape.gradient(loss, variables)\n",
        "\n",
        "    optimizer.apply_gradients(zip(gradients, variables))\n",
        "\n",
        "    return batch_loss\n"
      ],
      "execution_count": 18,
      "outputs": []
    },
    {
      "cell_type": "code",
      "metadata": {
        "id": "kqbk4C1k0AMV"
      },
      "source": [
        "#inference function\n",
        "def evaluate(word):\n",
        "    attention_plot = np.zeros((max_length_targ, max_length_inp))\n",
        "    #we are not adding \\t and \\n to the word here since the validation and test data\n",
        "    #already comes with the start and stop words \\t and \\n\n",
        "    #word = '\\t'+word+'\\n'\n",
        "\n",
        "    inputs = [inp_lang.word_index[i] for i in list(word)]\n",
        "    inputs = tf.keras.preprocessing.sequence.pad_sequences([inputs],\n",
        "                                                         maxlen=max_length_inp,\n",
        "                                                         padding='post')\n",
        "    inputs = tf.convert_to_tensor(inputs)\n",
        "\n",
        "    result = ''\n",
        "\n",
        "    enc_out, enc_hidden,states = encoder(inputs)\n",
        "\n",
        "    dec_hidden = enc_hidden\n",
        "    dec_input = tf.expand_dims([targ_lang.word_index['\\t']], 0)\n",
        "\n",
        "    for t in range(max_length_targ):\n",
        "      predictions, dec_hidden, states,attention_weights = decoder(dec_input,dec_hidden,enc_out,states)\n",
        "    \n",
        "    # storing the attention weights to plot later on\n",
        "      attention_weights = tf.reshape(attention_weights, (-1, ))\n",
        "      attention_plot[t] = attention_weights.numpy()\n",
        "\n",
        "      predicted_id = tf.argmax(predictions[0]).numpy()\n",
        "\n",
        "      result += targ_lang.index_word[predicted_id] \n",
        "\n",
        "      if targ_lang.index_word[predicted_id] == '\\n':\n",
        "        return result, word, attention_plot\n",
        "\n",
        "    # the predicted ID is fed back into the model\n",
        "      dec_input = tf.expand_dims([predicted_id], 0)\n",
        "\n",
        "    return result,word,attention_plot"
      ],
      "execution_count": 19,
      "outputs": []
    },
    {
      "cell_type": "code",
      "metadata": {
        "colab": {
          "base_uri": "https://localhost:8080/"
        },
        "id": "4MPD9vcbqfAT",
        "outputId": "792ad7bb-2827-4f73-adcc-4527e1947ceb"
      },
      "source": [
        "#Create the training tensor, validation tensor\n",
        "#calculate vocabulary size,maxlength\n",
        "input_tensor, target_tensor, inp_lang, targ_lang = load_dataset(train_tamil_path)\n",
        "input_tensor_val,target_tensor_val,_,_=load_dataset(val_tamil_path)\n",
        "\n",
        "word_val_input,word_val_target=create_dataset(val_tamil_path)\n",
        "word_test_input,word_test_target=create_dataset(test_tamil_path)\n",
        "vocab_inp_size = len(inp_lang.word_index)+1\n",
        "vocab_tar_size = len(targ_lang.word_index)+1\n",
        "BUFFER_SIZE = len(input_tensor)\n",
        "# Calculate max_length of the target and input tensor\n",
        "max_length_targ, max_length_inp = target_tensor.shape[1], input_tensor.shape[1]\n",
        "#check size of training and validation data both input and target \n",
        "print(len(input_tensor), len(target_tensor), len(input_tensor_val), len(target_tensor_val))\n",
        "\n"
      ],
      "execution_count": 20,
      "outputs": [
        {
          "output_type": "stream",
          "text": [
            "68217 68217 6826 6826\n"
          ],
          "name": "stdout"
        }
      ]
    },
    {
      "cell_type": "code",
      "metadata": {
        "colab": {
          "base_uri": "https://localhost:8080/"
        },
        "id": "2iDFoO1Kvaeh",
        "outputId": "07997334-a201-42ab-a7f4-d88cb5ef08e1"
      },
      "source": [
        "#check a random word\n",
        "print(\"Input Language; index to word mapping\")\n",
        "convert(inp_lang, input_tensor[3])\n",
        "print()\n",
        "print(\"Target Language; index to word mapping\")\n",
        "convert(targ_lang, target_tensor[3])\n"
      ],
      "execution_count": 24,
      "outputs": [
        {
          "output_type": "stream",
          "text": [
            "Input Language; index to word mapping\n",
            "2 ----> \t\n",
            "27 ----> f\n",
            "4 ----> i\n",
            "9 ----> r\n",
            "1 ----> a\n",
            "1 ----> a\n",
            "8 ----> n\n",
            "20 ----> s\n",
            "3 ----> \n",
            "\n",
            "\n",
            "Target Language; index to word mapping\n",
            "2 ----> \t\n",
            "48 ----> ஃ\n",
            "8 ----> ப\n",
            "5 ----> ி\n",
            "10 ----> ர\n",
            "9 ----> ா\n",
            "13 ----> ன\n",
            "1 ----> ்\n",
            "33 ----> ஸ\n",
            "1 ----> ்\n",
            "3 ----> \n",
            "\n"
          ],
          "name": "stdout"
        }
      ]
    },
    {
      "cell_type": "code",
      "metadata": {
        "id": "43NUit5u9jjB"
      },
      "source": [
        "#best model from sweep\n",
        "embedding_dim=256\n",
        "units=512\n",
        "batchSize=64\n",
        "EPOCHS=15\n",
        "cell_type='lstm'\n",
        "drop=0.2\n",
        "steps_per_epoch=len(input_tensor)//batchSize\n",
        "dataset = tf.data.Dataset.from_tensor_slices((input_tensor, target_tensor)).shuffle(BUFFER_SIZE)\n",
        "dataset = dataset.batch(batchSize, drop_remainder=True)\n"
      ],
      "execution_count": 25,
      "outputs": []
    },
    {
      "cell_type": "code",
      "metadata": {
        "id": "wgdU8Csq9Lkd"
      },
      "source": [
        "#define the encoder and decoder object\n",
        "encoder = Encoder(vocab_inp_size, embedding_dim, units, batchSize,cell_type,drop)\n",
        "decoder = Decoder(vocab_tar_size, embedding_dim, units, batchSize,cell_type,drop)\n"
      ],
      "execution_count": 26,
      "outputs": []
    },
    {
      "cell_type": "code",
      "metadata": {
        "colab": {
          "base_uri": "https://localhost:8080/"
        },
        "id": "yFl3HN1i73Ll",
        "outputId": "a351164b-b139-4d2c-a965-43ccc94e87c7"
      },
      "source": [
        "#Training\n",
        "for epoch in range(EPOCHS):\n",
        "  total_loss = 0\n",
        "\n",
        "  for (batch, (inp, targ)) in enumerate(dataset.take(steps_per_epoch)):\n",
        "    batch_loss = train_step(inp, targ)\n",
        "    total_loss += batch_loss\n",
        "\n",
        "    if batch % 100 == 0:\n",
        "      print(f'Epoch {epoch+1} Batch {batch} Loss {batch_loss.numpy():.4f}')\n",
        "\n",
        "\n",
        "  print(f'Epoch {epoch+1} Loss {total_loss/steps_per_epoch:.4f}')\n"
      ],
      "execution_count": 27,
      "outputs": [
        {
          "output_type": "stream",
          "text": [
            "Epoch 1 Batch 0 Loss 1.4206\n",
            "Epoch 1 Batch 100 Loss 0.7422\n",
            "Epoch 1 Batch 200 Loss 0.6681\n",
            "Epoch 1 Batch 300 Loss 0.4085\n",
            "Epoch 1 Batch 400 Loss 0.2732\n",
            "Epoch 1 Batch 500 Loss 0.1882\n",
            "Epoch 1 Batch 600 Loss 0.1061\n",
            "Epoch 1 Batch 700 Loss 0.1550\n",
            "Epoch 1 Batch 800 Loss 0.1156\n",
            "Epoch 1 Batch 900 Loss 0.0940\n",
            "Epoch 1 Batch 1000 Loss 0.1028\n",
            "Epoch 1 Loss 0.3163\n",
            "Epoch 2 Batch 0 Loss 0.0802\n",
            "Epoch 2 Batch 100 Loss 0.0663\n",
            "Epoch 2 Batch 200 Loss 0.1045\n",
            "Epoch 2 Batch 300 Loss 0.0666\n",
            "Epoch 2 Batch 400 Loss 0.0815\n",
            "Epoch 2 Batch 500 Loss 0.0866\n",
            "Epoch 2 Batch 600 Loss 0.0538\n",
            "Epoch 2 Batch 700 Loss 0.0801\n",
            "Epoch 2 Batch 800 Loss 0.0455\n",
            "Epoch 2 Batch 900 Loss 0.0551\n",
            "Epoch 2 Batch 1000 Loss 0.0678\n",
            "Epoch 2 Loss 0.0791\n",
            "Epoch 3 Batch 0 Loss 0.0788\n",
            "Epoch 3 Batch 100 Loss 0.0451\n",
            "Epoch 3 Batch 200 Loss 0.0428\n",
            "Epoch 3 Batch 300 Loss 0.0961\n",
            "Epoch 3 Batch 400 Loss 0.0400\n",
            "Epoch 3 Batch 500 Loss 0.0563\n",
            "Epoch 3 Batch 600 Loss 0.0525\n",
            "Epoch 3 Batch 700 Loss 0.0629\n",
            "Epoch 3 Batch 800 Loss 0.0743\n",
            "Epoch 3 Batch 900 Loss 0.0400\n",
            "Epoch 3 Batch 1000 Loss 0.0504\n",
            "Epoch 3 Loss 0.0541\n",
            "Epoch 4 Batch 0 Loss 0.0317\n",
            "Epoch 4 Batch 100 Loss 0.0476\n",
            "Epoch 4 Batch 200 Loss 0.0333\n",
            "Epoch 4 Batch 300 Loss 0.0257\n",
            "Epoch 4 Batch 400 Loss 0.0575\n",
            "Epoch 4 Batch 500 Loss 0.0417\n",
            "Epoch 4 Batch 600 Loss 0.0435\n",
            "Epoch 4 Batch 700 Loss 0.0360\n",
            "Epoch 4 Batch 800 Loss 0.0434\n",
            "Epoch 4 Batch 900 Loss 0.0419\n",
            "Epoch 4 Batch 1000 Loss 0.0500\n",
            "Epoch 4 Loss 0.0391\n",
            "Epoch 5 Batch 0 Loss 0.0320\n",
            "Epoch 5 Batch 100 Loss 0.0225\n",
            "Epoch 5 Batch 200 Loss 0.0265\n",
            "Epoch 5 Batch 300 Loss 0.0326\n",
            "Epoch 5 Batch 400 Loss 0.0196\n",
            "Epoch 5 Batch 500 Loss 0.0284\n",
            "Epoch 5 Batch 600 Loss 0.0328\n",
            "Epoch 5 Batch 700 Loss 0.0335\n",
            "Epoch 5 Batch 800 Loss 0.0629\n",
            "Epoch 5 Batch 900 Loss 0.0450\n",
            "Epoch 5 Batch 1000 Loss 0.0495\n",
            "Epoch 5 Loss 0.0315\n",
            "Epoch 6 Batch 0 Loss 0.0435\n",
            "Epoch 6 Batch 100 Loss 0.0316\n",
            "Epoch 6 Batch 200 Loss 0.0297\n",
            "Epoch 6 Batch 300 Loss 0.0253\n",
            "Epoch 6 Batch 400 Loss 0.0157\n",
            "Epoch 6 Batch 500 Loss 0.0150\n",
            "Epoch 6 Batch 600 Loss 0.0278\n",
            "Epoch 6 Batch 700 Loss 0.0243\n",
            "Epoch 6 Batch 800 Loss 0.0296\n",
            "Epoch 6 Batch 900 Loss 0.0235\n",
            "Epoch 6 Batch 1000 Loss 0.0194\n",
            "Epoch 6 Loss 0.0232\n",
            "Epoch 7 Batch 0 Loss 0.0202\n",
            "Epoch 7 Batch 100 Loss 0.0176\n",
            "Epoch 7 Batch 200 Loss 0.0196\n",
            "Epoch 7 Batch 300 Loss 0.0195\n",
            "Epoch 7 Batch 400 Loss 0.0158\n",
            "Epoch 7 Batch 500 Loss 0.0261\n",
            "Epoch 7 Batch 600 Loss 0.0204\n",
            "Epoch 7 Batch 700 Loss 0.0256\n",
            "Epoch 7 Batch 800 Loss 0.0303\n",
            "Epoch 7 Batch 900 Loss 0.0110\n",
            "Epoch 7 Batch 1000 Loss 0.0231\n",
            "Epoch 7 Loss 0.0195\n",
            "Epoch 8 Batch 0 Loss 0.0140\n",
            "Epoch 8 Batch 100 Loss 0.0149\n",
            "Epoch 8 Batch 200 Loss 0.0121\n",
            "Epoch 8 Batch 300 Loss 0.0153\n",
            "Epoch 8 Batch 400 Loss 0.0198\n",
            "Epoch 8 Batch 500 Loss 0.0124\n",
            "Epoch 8 Batch 600 Loss 0.0146\n",
            "Epoch 8 Batch 700 Loss 0.0209\n",
            "Epoch 8 Batch 800 Loss 0.0168\n",
            "Epoch 8 Batch 900 Loss 0.0137\n",
            "Epoch 8 Batch 1000 Loss 0.0096\n",
            "Epoch 8 Loss 0.0156\n",
            "Epoch 9 Batch 0 Loss 0.0126\n",
            "Epoch 9 Batch 100 Loss 0.0201\n",
            "Epoch 9 Batch 200 Loss 0.0223\n",
            "Epoch 9 Batch 300 Loss 0.0225\n",
            "Epoch 9 Batch 400 Loss 0.0052\n",
            "Epoch 9 Batch 500 Loss 0.0218\n",
            "Epoch 9 Batch 600 Loss 0.0106\n",
            "Epoch 9 Batch 700 Loss 0.0071\n",
            "Epoch 9 Batch 800 Loss 0.0337\n",
            "Epoch 9 Batch 900 Loss 0.0158\n",
            "Epoch 9 Batch 1000 Loss 0.0190\n",
            "Epoch 9 Loss 0.0155\n",
            "Epoch 10 Batch 0 Loss 0.0148\n",
            "Epoch 10 Batch 100 Loss 0.0066\n",
            "Epoch 10 Batch 200 Loss 0.0212\n",
            "Epoch 10 Batch 300 Loss 0.0147\n",
            "Epoch 10 Batch 400 Loss 0.0100\n",
            "Epoch 10 Batch 500 Loss 0.0089\n",
            "Epoch 10 Batch 600 Loss 0.0118\n",
            "Epoch 10 Batch 700 Loss 0.0082\n",
            "Epoch 10 Batch 800 Loss 0.0104\n",
            "Epoch 10 Batch 900 Loss 0.0149\n",
            "Epoch 10 Batch 1000 Loss 0.0158\n",
            "Epoch 10 Loss 0.0122\n",
            "Epoch 11 Batch 0 Loss 0.0112\n",
            "Epoch 11 Batch 100 Loss 0.0113\n",
            "Epoch 11 Batch 200 Loss 0.0098\n",
            "Epoch 11 Batch 300 Loss 0.0151\n",
            "Epoch 11 Batch 400 Loss 0.0078\n",
            "Epoch 11 Batch 500 Loss 0.0093\n",
            "Epoch 11 Batch 600 Loss 0.0073\n",
            "Epoch 11 Batch 700 Loss 0.0051\n",
            "Epoch 11 Batch 800 Loss 0.0159\n",
            "Epoch 11 Batch 900 Loss 0.0112\n",
            "Epoch 11 Batch 1000 Loss 0.0132\n",
            "Epoch 11 Loss 0.0112\n",
            "Epoch 12 Batch 0 Loss 0.0094\n",
            "Epoch 12 Batch 100 Loss 0.0111\n",
            "Epoch 12 Batch 200 Loss 0.0107\n",
            "Epoch 12 Batch 300 Loss 0.0163\n",
            "Epoch 12 Batch 400 Loss 0.0117\n",
            "Epoch 12 Batch 500 Loss 0.0099\n",
            "Epoch 12 Batch 600 Loss 0.0106\n",
            "Epoch 12 Batch 700 Loss 0.0187\n",
            "Epoch 12 Batch 800 Loss 0.0168\n",
            "Epoch 12 Batch 900 Loss 0.0138\n",
            "Epoch 12 Batch 1000 Loss 0.0083\n",
            "Epoch 12 Loss 0.0118\n",
            "Epoch 13 Batch 0 Loss 0.0094\n",
            "Epoch 13 Batch 100 Loss 0.0047\n",
            "Epoch 13 Batch 200 Loss 0.0121\n",
            "Epoch 13 Batch 300 Loss 0.0131\n",
            "Epoch 13 Batch 400 Loss 0.0086\n",
            "Epoch 13 Batch 500 Loss 0.0043\n",
            "Epoch 13 Batch 600 Loss 0.0135\n",
            "Epoch 13 Batch 700 Loss 0.0127\n",
            "Epoch 13 Batch 800 Loss 0.0161\n",
            "Epoch 13 Batch 900 Loss 0.0069\n",
            "Epoch 13 Batch 1000 Loss 0.0162\n",
            "Epoch 13 Loss 0.0117\n",
            "Epoch 14 Batch 0 Loss 0.0036\n",
            "Epoch 14 Batch 100 Loss 0.0049\n",
            "Epoch 14 Batch 200 Loss 0.0070\n",
            "Epoch 14 Batch 300 Loss 0.0187\n",
            "Epoch 14 Batch 400 Loss 0.0105\n",
            "Epoch 14 Batch 500 Loss 0.0059\n",
            "Epoch 14 Batch 600 Loss 0.0171\n",
            "Epoch 14 Batch 700 Loss 0.0078\n",
            "Epoch 14 Batch 800 Loss 0.0114\n",
            "Epoch 14 Batch 900 Loss 0.0048\n",
            "Epoch 14 Batch 1000 Loss 0.0097\n",
            "Epoch 14 Loss 0.0093\n",
            "Epoch 15 Batch 0 Loss 0.0133\n",
            "Epoch 15 Batch 100 Loss 0.0070\n",
            "Epoch 15 Batch 200 Loss 0.0089\n",
            "Epoch 15 Batch 300 Loss 0.0107\n",
            "Epoch 15 Batch 400 Loss 0.0112\n",
            "Epoch 15 Batch 500 Loss 0.0171\n",
            "Epoch 15 Batch 600 Loss 0.0181\n",
            "Epoch 15 Batch 700 Loss 0.0107\n",
            "Epoch 15 Batch 800 Loss 0.0099\n",
            "Epoch 15 Batch 900 Loss 0.0070\n",
            "Epoch 15 Batch 1000 Loss 0.0063\n",
            "Epoch 15 Loss 0.0098\n"
          ],
          "name": "stdout"
        }
      ]
    },
    {
      "cell_type": "code",
      "metadata": {
        "id": "1o7QXjok32YQ"
      },
      "source": [
        "def translate(word):\n",
        "  result, word, attention_plot = evaluate(word)\n",
        "  return result\n"
      ],
      "execution_count": 28,
      "outputs": []
    },
    {
      "cell_type": "code",
      "metadata": {
        "id": "NJdHYTLQGf9S",
        "colab": {
          "base_uri": "https://localhost:8080/",
          "height": 35
        },
        "outputId": "1a0b1646-3ab1-43c7-97e9-c11a05e5d7b3"
      },
      "source": [
        "#can change the word and check for other predictions \n",
        "#replace vanakkam with word of your choice within \\t and \\n\n",
        "translate('\\tvanakkam\\n')"
      ],
      "execution_count": 29,
      "outputs": [
        {
          "output_type": "execute_result",
          "data": {
            "application/vnd.google.colaboratory.intrinsic+json": {
              "type": "string"
            },
            "text/plain": [
              "'வணக்கம்\\n'"
            ]
          },
          "metadata": {
            "tags": []
          },
          "execution_count": 29
        }
      ]
    },
    {
      "cell_type": "code",
      "metadata": {
        "colab": {
          "base_uri": "https://localhost:8080/"
        },
        "id": "XO3x7DpqjznQ",
        "outputId": "5b14c481-8820-4be7-ccce-77cdd67e6981"
      },
      "source": [
        "#Calculate the validation accuracy  \n",
        "count=0\n",
        "for i in range(len(word_val_input)):\n",
        "  pred,_,_=evaluate(word_val_input[i])\n",
        "  pred=pred.strip('\\n')\n",
        "  actual=word_val_target[i]\n",
        "  actual=actual.strip('\\n''\\t')\n",
        "  if(pred==actual):\n",
        "    count+=1\n",
        "  \n",
        "val_acc=count/len(word_val_input)\n",
        "print(\"Validation accuracy\",val_acc)"
      ],
      "execution_count": 31,
      "outputs": [
        {
          "output_type": "stream",
          "text": [
            "Validation accuracy 0.5536185174333431\n"
          ],
          "name": "stdout"
        }
      ]
    },
    {
      "cell_type": "code",
      "metadata": {
        "colab": {
          "base_uri": "https://localhost:8080/",
          "height": 34
        },
        "id": "ACCPDLTOWX5N",
        "outputId": "298851b6-42ce-4789-808a-2703c89bb6c9"
      },
      "source": [
        "#test accuracy , also store it in a csv file\n",
        "count=0\n",
        "df = pd.DataFrame(columns=['SourceText', 'Prediction', 'GroundTruth'])\n",
        "\n",
        "for i in range(len(word_test_input)):\n",
        "  pred,_,_=evaluate(word_test_input[i])\n",
        "  pred=pred.strip('\\n')\n",
        "  actual=word_test_target[i]\n",
        "  actual=actual.strip()\n",
        "  if(pred==actual):\n",
        "    count+=1\n",
        "  row = {}\n",
        "  row['SourceText'] = word_test_input[i].strip()\n",
        "  row['GroundTruth'] = actual\n",
        "  row['Prediction'] = pred\n",
        "  df = df.append(row, ignore_index=True)\n",
        "\n",
        "df.to_csv('predictions_attention.csv', index=False)  \n",
        "files.download('predictions_attention.csv')\n",
        "test_acc=count/len(word_test_input)\n",
        "print(\"Test accuracy\",test_acc)"
      ],
      "execution_count": 33,
      "outputs": [
        {
          "output_type": "display_data",
          "data": {
            "application/javascript": [
              "\n",
              "    async function download(id, filename, size) {\n",
              "      if (!google.colab.kernel.accessAllowed) {\n",
              "        return;\n",
              "      }\n",
              "      const div = document.createElement('div');\n",
              "      const label = document.createElement('label');\n",
              "      label.textContent = `Downloading \"${filename}\": `;\n",
              "      div.appendChild(label);\n",
              "      const progress = document.createElement('progress');\n",
              "      progress.max = size;\n",
              "      div.appendChild(progress);\n",
              "      document.body.appendChild(div);\n",
              "\n",
              "      const buffers = [];\n",
              "      let downloaded = 0;\n",
              "\n",
              "      const channel = await google.colab.kernel.comms.open(id);\n",
              "      // Send a message to notify the kernel that we're ready.\n",
              "      channel.send({})\n",
              "\n",
              "      for await (const message of channel.messages) {\n",
              "        // Send a message to notify the kernel that we're ready.\n",
              "        channel.send({})\n",
              "        if (message.buffers) {\n",
              "          for (const buffer of message.buffers) {\n",
              "            buffers.push(buffer);\n",
              "            downloaded += buffer.byteLength;\n",
              "            progress.value = downloaded;\n",
              "          }\n",
              "        }\n",
              "      }\n",
              "      const blob = new Blob(buffers, {type: 'application/binary'});\n",
              "      const a = document.createElement('a');\n",
              "      a.href = window.URL.createObjectURL(blob);\n",
              "      a.download = filename;\n",
              "      div.appendChild(a);\n",
              "      a.click();\n",
              "      div.remove();\n",
              "    }\n",
              "  "
            ],
            "text/plain": [
              "<IPython.core.display.Javascript object>"
            ]
          },
          "metadata": {
            "tags": []
          }
        },
        {
          "output_type": "display_data",
          "data": {
            "application/javascript": [
              "download(\"download_66284f4b-e7a7-4765-8549-434568481db5\", \"predictions_attention.csv\", 432203)"
            ],
            "text/plain": [
              "<IPython.core.display.Javascript object>"
            ]
          },
          "metadata": {
            "tags": []
          }
        },
        {
          "output_type": "stream",
          "text": [
            "Test accuracy 0.5392685414541746\n"
          ],
          "name": "stdout"
        }
      ]
    },
    {
      "cell_type": "code",
      "metadata": {
        "id": "iHF0UpjdBSC9"
      },
      "source": [
        "#function to  plot the grid\n",
        "def plot_attention_grid():\n",
        "  fig=plt.figure(figsize=(20,20))\n",
        "  #fig.tight_layout()\n",
        "  plt.subplots_adjust(bottom=0, left=.01, right=.99, top=.90, hspace=0.6,wspace=0.1) \n",
        "  fontdict={'fontsize':15}\n",
        "  for i in range(1,11):\n",
        "    result,word,attention_plot = evaluate(word_val_input[randrange(len(word_val_input))])\n",
        "    attention_plot = attention_plot[:len(list(result)),:len(list(word))]\n",
        "    word=['<s>'] + list(word.strip()) + ['<e>']\n",
        "    result= list(result.strip()) + ['<e>']\n",
        "    ax = fig.add_subplot(4, 3, i)\n",
        "    ax.matshow(attention_plot,cmap='viridis')\n",
        "    ax.set_xticklabels([''] + word, fontdict=fontdict, rotation=45)\n",
        "    ax.set_yticklabels([''] + result, fontdict=fontdict,fontproperties=tamil_font)\n",
        "    ax.xaxis.set_major_locator(ticker.MultipleLocator(1)) \n",
        "    ax.yaxis.set_major_locator(ticker.MultipleLocator(1)) \n",
        "  \n",
        "  plt.show()\n",
        "\n",
        "  "
      ],
      "execution_count": 34,
      "outputs": []
    },
    {
      "cell_type": "code",
      "metadata": {
        "colab": {
          "base_uri": "https://localhost:8080/",
          "height": 907
        },
        "id": "gJDUzWNZDO_o",
        "outputId": "438986fe-7129-4990-fa8b-f8ad70703e47"
      },
      "source": [
        "plot_attention_grid()"
      ],
      "execution_count": 35,
      "outputs": [
        {
          "output_type": "display_data",
          "data": {
            "image/png": "[encoded data removed]",
            "text/plain": [
              "<Figure size 1440x1440 with 10 Axes>"
            ]
          },
          "metadata": {
            "tags": [],
            "needs_background": "light"
          }
        }
      ]
    },
    {
      "cell_type": "code",
      "metadata": {
        "id": "Of8WWBH0Yyna"
      },
      "source": [
        "def visualize(word):\n",
        "  pred, word, arr = evaluate(word)\n",
        "  arr = arr[:len(list(pred)),:len(list(word))]\n",
        "  with open(\"head.txt\") as h:\n",
        "    with open(\"tail.txt\") as t:\n",
        "      with open(\"output.html\",\"w\") as f:\n",
        "        for line in h:\n",
        "              f.write(line)\n",
        "        f.write('weight[0]=')\n",
        "        f.write(str(arr.tolist()))\n",
        "        f.write('\\n')\n",
        "        f.write('sourceText[0]=')\n",
        "        f.write(repr(word))\n",
        "        f.write('\\n')\n",
        "        f.write('targetText[0]=')\n",
        "        f.write(str(list(pred)))\n",
        "        f.write('\\n')\n",
        "        for line in t:\n",
        "          f.write(line)\n",
        "\n",
        "  f.close()\n",
        "  h.close()\n",
        "  t.close()\n"
      ],
      "execution_count": 38,
      "outputs": []
    },
    {
      "cell_type": "code",
      "metadata": {
        "id": "pDb1tYidZ-4g"
      },
      "source": [
        "#change to see other words visualization\n",
        "#upload head.txt,tail.txt\n",
        "#this will generate output.html which can be downloaded to see the visualization\n",
        "visualize('\\tchappathi\\n')"
      ],
      "execution_count": 39,
      "outputs": []
    },
    {
      "cell_type": "markdown",
      "metadata": {
        "id": "QaF5U7rCB640"
      },
      "source": [
        "For wandb sweeps please run the below blocks"
      ]
    },
    {
      "cell_type": "code",
      "metadata": {
        "colab": {
          "base_uri": "https://localhost:8080/"
        },
        "id": "ZuiUrS7Da0lW",
        "outputId": "6c63c0ae-2ef4-4f34-cfe6-2fd22592bbbd"
      },
      "source": [
        "%pip install wandb -q\n",
        "import wandb"
      ],
      "execution_count": 40,
      "outputs": [
        {
          "output_type": "stream",
          "text": [
            "\u001b[K     |████████████████████████████████| 1.8MB 3.0MB/s \n",
            "\u001b[K     |████████████████████████████████| 102kB 9.3MB/s \n",
            "\u001b[K     |████████████████████████████████| 133kB 18.4MB/s \n",
            "\u001b[K     |████████████████████████████████| 174kB 19.8MB/s \n",
            "\u001b[K     |████████████████████████████████| 71kB 7.4MB/s \n",
            "\u001b[?25h  Building wheel for subprocess32 (setup.py) ... \u001b[?25l\u001b[?25hdone\n",
            "  Building wheel for pathtools (setup.py) ... \u001b[?25l\u001b[?25hdone\n"
          ],
          "name": "stdout"
        }
      ]
    },
    {
      "cell_type": "code",
      "metadata": {
        "id": "iXt_Wpufa4pL"
      },
      "source": [
        "sweep_config = {\n",
        "    'method': 'bayes', #grid, random\n",
        "    'metric': {\n",
        "      'name': 'val_acc',\n",
        "      'goal': 'maximize'   \n",
        "    },\n",
        "    'early_terminate':{\n",
        "  'type': 'hyperband',\n",
        "  'min_iter': 5\n",
        "    },\n",
        "    'parameters': {\n",
        "        'epochs':{\n",
        "          'values':[10,15]  \n",
        "        },\n",
        "        #embedding\n",
        "        'embedding': {\n",
        "            'values': [32,64,256]\n",
        "        },\n",
        "        'hidden': {\n",
        "            'values': [128,256,512,1024]\n",
        "        },\n",
        "        #100% means no fine tuning, only pre training\n",
        "        'cell':{\n",
        "            'values': ['rnn','gru','lstm']\n",
        "        \n",
        "        },\n",
        "        'dropout': {\n",
        "            'values':[0,0.2,0.3]\n",
        "        },\n",
        "        'batch_size':{\n",
        "            'values':[32,64]\n",
        "        }\n",
        "\n",
        "    }\n",
        "}"
      ],
      "execution_count": 41,
      "outputs": []
    },
    {
      "cell_type": "code",
      "metadata": {
        "colab": {
          "base_uri": "https://localhost:8080/"
        },
        "id": "l9CEikwFsrx-",
        "outputId": "dfbe006b-0d5a-4870-f361-587f5dd85f4b"
      },
      "source": [
        "!wandb login 781ea05d3016dc46e417672b13ee6d7047c00562 "
      ],
      "execution_count": 42,
      "outputs": [
        {
          "output_type": "stream",
          "text": [
            "\u001b[34m\u001b[1mwandb\u001b[0m: Appending key for api.wandb.ai to your netrc file: /root/.netrc\n"
          ],
          "name": "stdout"
        }
      ]
    },
    {
      "cell_type": "code",
      "metadata": {
        "colab": {
          "base_uri": "https://localhost:8080/"
        },
        "id": "kbSiUgPvcIBX",
        "outputId": "c397e0c0-c4f6-49f5-aa94-d86abc7cd4db"
      },
      "source": [
        "sweep_id = wandb.sweep(sweep_config,entity='akceg', project=\"cs6910-assignment3-attention_testing\") "
      ],
      "execution_count": 43,
      "outputs": [
        {
          "output_type": "stream",
          "text": [
            "Create sweep with ID: 0epaeust\n",
            "Sweep URL: https://wandb.ai/akceg/cs6910-assignment3-attention_testing/sweeps/0epaeust\n"
          ],
          "name": "stdout"
        }
      ]
    },
    {
      "cell_type": "code",
      "metadata": {
        "id": "6ULhNyApyksQ"
      },
      "source": [
        "def evaluate(word,encoder,decoder):\n",
        "  #word = '\\t'+word+'\\n'\n",
        "\n",
        "    inputs = [inp_lang.word_index[i] for i in list(word)]\n",
        "    inputs = tf.keras.preprocessing.sequence.pad_sequences([inputs],\n",
        "                                                         maxlen=max_length_inp,\n",
        "                                                         padding='post')\n",
        "    inputs = tf.convert_to_tensor(inputs)\n",
        "\n",
        "    result = ''\n",
        "\n",
        "    enc_out, enc_hidden,states = encoder(inputs)\n",
        "\n",
        "    dec_hidden = enc_hidden\n",
        "    dec_input = tf.expand_dims([targ_lang.word_index['\\t']], 0)\n",
        "\n",
        "    for t in range(max_length_targ):\n",
        "\n",
        "      predictions, dec_hidden, states,_ = decoder(dec_input,dec_hidden,enc_out,states)\n",
        "\n",
        "      predicted_id = tf.argmax(predictions[0]).numpy()\n",
        "\n",
        "      result += targ_lang.index_word[predicted_id] \n",
        "\n",
        "      if targ_lang.index_word[predicted_id] == '\\n':\n",
        "        return result, word\n",
        "\n",
        "    # the predicted ID is fed back into the model\n",
        "      dec_input = tf.expand_dims([predicted_id], 0)\n",
        "\n",
        "    return result, word"
      ],
      "execution_count": 44,
      "outputs": []
    },
    {
      "cell_type": "code",
      "metadata": {
        "id": "TddEdtoqgRsG"
      },
      "source": [
        "def train():\n",
        "  \n",
        "  wandb.init()\n",
        "  config = wandb.config\n",
        "  n=str(config.cell)+\"_hidden\"+str(config.hidden)+\"_embed\"+str(config.embedding)+\"_drop\"+str(config.dropout)+\"_epoch\"+str(config.epochs)+\"_batch\"+str(config.batch_size)\n",
        "  wandb.run.name=n\n",
        "  BATCH_SIZE = config.batch_size\n",
        "  steps_per_epoch = len(input_tensor)//BATCH_SIZE\n",
        "  embedding_dim = config.embedding\n",
        "  units = config.hidden\n",
        "  drop=config.dropout\n",
        "  EPOCHS=config.epochs\n",
        "  cell=config.cell\n",
        "  dataset = tf.data.Dataset.from_tensor_slices((input_tensor, target_tensor)).shuffle(BUFFER_SIZE)\n",
        "  dataset = dataset.batch(BATCH_SIZE, drop_remainder=True)\n",
        "\n",
        "  encoder = Encoder(vocab_inp_size, embedding_dim, units, BATCH_SIZE,cell,drop)\n",
        "  decoder = Decoder(vocab_tar_size, embedding_dim, units, BATCH_SIZE,cell,drop)\n",
        "  @tf.function\n",
        "  def train_step(inp, targ):\n",
        "    loss = 0\n",
        "\n",
        "    with tf.GradientTape() as tape:\n",
        "      enc_output, enc_hidden,states = encoder(inp)\n",
        "      dec_hidden = enc_hidden\n",
        "\n",
        "      dec_input = tf.expand_dims([targ_lang.word_index['\\t']] * BATCH_SIZE, 1)\n",
        "\n",
        "    # Teacher forcing - feeding the target as the next input\n",
        "      for t in range(1, targ.shape[1]):\n",
        "      # passing enc_output to the decoder\n",
        "        predictions, dec_hidden, states,_ = decoder(dec_input, dec_hidden, enc_output,states)\n",
        "\n",
        "        loss += loss_function(targ[:, t], predictions)\n",
        "\n",
        "      # using teacher forcing\n",
        "        dec_input = tf.expand_dims(targ[:, t], 1)\n",
        "\n",
        "    batch_loss = (loss / int(targ.shape[1]))\n",
        "\n",
        "    variables = encoder.trainable_variables + decoder.trainable_variables\n",
        "\n",
        "    gradients = tape.gradient(loss, variables)\n",
        "\n",
        "    optimizer.apply_gradients(zip(gradients, variables))\n",
        "\n",
        "    return batch_loss\n",
        "  \n",
        "  for epoch in range(EPOCHS):\n",
        "\n",
        "    total_loss = 0\n",
        "\n",
        "    for (batch, (inp, targ)) in enumerate(dataset.take(steps_per_epoch)):\n",
        "      batch_loss = train_step(inp, targ)\n",
        "      total_loss += batch_loss\n",
        "\n",
        "      if batch % 100 == 0:\n",
        "        print(f'Epoch {epoch+1} Batch {batch} Loss {batch_loss.numpy():.4f}')\n",
        "\n",
        "\n",
        "    print(f'Epoch {epoch+1} Loss {total_loss/steps_per_epoch:.4f}')\n",
        "    wandb.log({'train_loss': total_loss/steps_per_epoch,'epochs':epoch+1 })\n",
        "\n",
        "  #validation accuracy\n",
        "  \n",
        "  count=0\n",
        "  for i in range(len(word_val_input)):\n",
        "    pred,_=evaluate(word_val_input[i],encoder,decoder)\n",
        "    pred=pred.strip('\\n')\n",
        "    actual=word_val_target[i]\n",
        "    actual=actual.strip('\\n''\\t')\n",
        "    if(pred==actual):\n",
        "      count+=1\n",
        "  \n",
        "  val_acc=count/len(word_val_input)\n",
        "  print(\"Validation accuracy\",val_acc)\n",
        "  wandb.log({'val_acc': val_acc})\n",
        "\n"
      ],
      "execution_count": 45,
      "outputs": []
    },
    {
      "cell_type": "code",
      "metadata": {
        "colab": {
          "base_uri": "https://localhost:8080/",
          "height": 411,
          "referenced_widgets": [
            "5c48e576341a4a8690480bfae8e6adf4",
            "3d127bcfddf242a5bf0825d5c548b905",
            "d738f27929d742db94a921ab4bc99389",
            "a2ff844284a743c19ef4b29202f28df0",
            "20acf27133fc4d9cad8063612ad1b493",
            "61d548ae8ba94952917fba1fde64ed4a",
            "a2c2960c62a44bab819fffc3999f4a7c",
            "cd58a50dbadc4a9bae121414dd8816df"
          ]
        },
        "id": "BenPcpp9ytJR",
        "outputId": "6b6753d7-11c7-4dd7-b9a4-43576b270c3e"
      },
      "source": [
        "wandb.agent(sweep_id, train,count=9,project=\"cs6910-assignment3-attention_testing\")"
      ],
      "execution_count": 46,
      "outputs": [
        {
          "output_type": "stream",
          "text": [
            "\u001b[34m\u001b[1mwandb\u001b[0m: Agent Starting Run: 4211zh3x with config:\n",
            "\u001b[34m\u001b[1mwandb\u001b[0m: \tbatch_size: 64\n",
            "\u001b[34m\u001b[1mwandb\u001b[0m: \tcell: gru\n",
            "\u001b[34m\u001b[1mwandb\u001b[0m: \tdropout: 0.3\n",
            "\u001b[34m\u001b[1mwandb\u001b[0m: \tembedding: 32\n",
            "\u001b[34m\u001b[1mwandb\u001b[0m: \tepochs: 10\n",
            "\u001b[34m\u001b[1mwandb\u001b[0m: \thidden: 1024\n",
            "\u001b[34m\u001b[1mwandb\u001b[0m: Currently logged in as: \u001b[33makceg\u001b[0m (use `wandb login --relogin` to force relogin)\n"
          ],
          "name": "stderr"
        },
        {
          "output_type": "display_data",
          "data": {
            "text/html": [
              "\n",
              "                Tracking run with wandb version 0.10.30<br/>\n",
              "                Syncing run <strong style=\"color:#cdcd00\">restful-sweep-1</strong> to <a href=\"https://wandb.ai\" target=\"_blank\">Weights & Biases</a> <a href=\"https://docs.wandb.com/integrations/jupyter.html\" target=\"_blank\">(Documentation)</a>.<br/>\n",
              "                Project page: <a href=\"https://wandb.ai/akceg/cs6910-assignment3-attention_testing\" target=\"_blank\">https://wandb.ai/akceg/cs6910-assignment3-attention_testing</a><br/>\n",
              "                Sweep page: <a href=\"https://wandb.ai/akceg/cs6910-assignment3-attention_testing/sweeps/0epaeust\" target=\"_blank\">https://wandb.ai/akceg/cs6910-assignment3-attention_testing/sweeps/0epaeust</a><br/>\n",
              "Run page: <a href=\"https://wandb.ai/akceg/cs6910-assignment3-attention_testing/runs/4211zh3x\" target=\"_blank\">https://wandb.ai/akceg/cs6910-assignment3-attention_testing/runs/4211zh3x</a><br/>\n",
              "                Run data is saved locally in <code>/content/wandb/run-20210523_140710-4211zh3x</code><br/><br/>\n",
              "            "
            ],
            "text/plain": [
              "<IPython.core.display.HTML object>"
            ]
          },
          "metadata": {
            "tags": []
          }
        },
        {
          "output_type": "stream",
          "text": [
            "\u001b[34m\u001b[1mwandb\u001b[0m: Ctrl + C detected. Stopping sweep.\n"
          ],
          "name": "stderr"
        },
        {
          "output_type": "display_data",
          "data": {
            "text/html": [
              "<br/>Waiting for W&B process to finish, PID 350<br/>Program failed with code 1.  Press ctrl-c to abort syncing."
            ],
            "text/plain": [
              "<IPython.core.display.HTML object>"
            ]
          },
          "metadata": {
            "tags": []
          }
        },
        {
          "output_type": "display_data",
          "data": {
            "application/vnd.jupyter.widget-view+json": {
              "model_id": "5c48e576341a4a8690480bfae8e6adf4",
              "version_minor": 0,
              "version_major": 2
            },
            "text/plain": [
              "VBox(children=(Label(value=' 0.00MB of 0.00MB uploaded (0.00MB deduped)\\r'), FloatProgress(value=1.0, max=1.0)…"
            ]
          },
          "metadata": {
            "tags": []
          }
        }
      ]
    }
  ]
}